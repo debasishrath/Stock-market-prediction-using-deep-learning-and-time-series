{
  "cells": [
    {
      "cell_type": "code",
      "execution_count": null,
      "metadata": {
        "id": "xnFp8eS55FcG",
        "colab": {
          "base_uri": "https://localhost:8080/"
        },
        "outputId": "bb79f993-b652-442b-f556-3354c4ecb281"
      },
      "outputs": [
        {
          "output_type": "stream",
          "name": "stderr",
          "text": [
            "/usr/local/lib/python3.7/dist-packages/statsmodels/tools/_testing.py:19: FutureWarning: pandas.util.testing is deprecated. Use the functions in the public API at pandas.testing instead.\n",
            "  import pandas.util.testing as tm\n"
          ]
        }
      ],
      "source": [
        "\n",
        "import numpy as np # linear algebra\n",
        "import pandas as pd # data processing, CSV file I/O (e.g. pd.read_csv)\n",
        "\n",
        "import pandas                             as      pd\n",
        "import numpy                              as      np\n",
        "import matplotlib.pyplot                  as      plt\n",
        "import seaborn                            as      sns\n",
        "from   IPython.display                    import  display\n",
        "from   pylab                              import  rcParams \n",
        "from   datetime                           import  datetime, timedelta\n",
        "from statsmodels.tsa.stattools            import  adfuller\n",
        "from statsmodels.tsa.stattools            import  pacf\n",
        "from statsmodels.tsa.stattools            import  acf\n",
        "from statsmodels.graphics.tsaplots        import  plot_pacf\n",
        "from statsmodels.graphics.tsaplots        import  plot_acf\n",
        "from statsmodels.graphics.gofplots        import  qqplot\n",
        "from statsmodels.tsa.seasonal             import  seasonal_decompose\n",
        "from statsmodels.tsa.arima_model          import  ARIMA\n",
        "from statsmodels.tsa.statespace.sarimax   import  SARIMAX\n",
        "from   statsmodels.tsa.api             import ExponentialSmoothing, SimpleExpSmoothing, Holt\n",
        "\n",
        "import numpy                      as np\n",
        "import pandas                     as pd\n",
        "import matplotlib.pyplot          as plt\n",
        "import seaborn as sns\n",
        "import warnings\n",
        "from statsmodels.tsa.seasonal  import seasonal_decompose\n",
        "from   sklearn.metrics                 import  mean_squared_error\n",
        "from   statsmodels.tsa.api             import ExponentialSmoothing, SimpleExpSmoothing, Holt\n",
        "from   IPython.display                 import display\n",
        "from   pylab                           import rcParams\n",
        "from   datetime                        import  datetime,timedelta\n",
        "from math import sqrt\n",
        "import warnings\n",
        "warnings.filterwarnings('ignore')\n",
        "from statsmodels.tsa.stattools         import  adfuller\n",
        "from statsmodels.tsa.stattools         import  pacf\n",
        "from statsmodels.tsa.stattools         import  acf\n",
        "from statsmodels.graphics.tsaplots     import  plot_pacf\n",
        "from statsmodels.graphics.tsaplots     import  plot_acf\n",
        "from   IPython.display                 import  display\n",
        "from   pylab   import  rcParams \n",
        "import warnings\n",
        "import statsmodels.tools.eval_measures as      em\n",
        "from   sklearn.metrics                 import  mean_squared_error\n",
        "from   statsmodels.tsa.api             import ExponentialSmoothing, SimpleExpSmoothing, Holt\n",
        "from   IPython.display                 import display\n",
        "from   pylab                           import rcParams\n",
        "from   datetime                        import  datetime,timedelta\n",
        "from math import sqrt\n",
        "%matplotlib inline\n",
        "from   pylab                           import  rcParams \n",
        "from   datetime                        import  datetime, timedelta\n",
        "from statsmodels.graphics.gofplots     import qqplot\n",
        "from statsmodels.tsa.seasonal          import seasonal_decompose\n",
        "from statsmodels.tsa.arima_model       import  ARMA, ARIMA\n",
        "import warnings\n",
        "import statsmodels.api as sm\n",
        "import statsmodels.tsa.api as smt\n",
        "import statsmodels.formula.api as smf\n",
        "\n",
        "import matplotlib.pyplot as plt\n",
        "%matplotlib inline\n",
        "from   IPython.display                    import  display\n",
        "from   pylab                              import  rcParams \n",
        "from   datetime                           import  datetime, timedelta\n",
        "from statsmodels.tsa.stattools            import  adfuller\n",
        "from statsmodels.tsa.stattools            import  pacf\n",
        "from statsmodels.tsa.stattools            import  acf\n",
        "from statsmodels.graphics.tsaplots        import  plot_pacf\n",
        "from statsmodels.graphics.tsaplots        import  plot_acf\n",
        "from statsmodels.graphics.gofplots        import  qqplot\n",
        "from statsmodels.tsa.seasonal             import  seasonal_decompose\n",
        "from statsmodels.tsa.arima_model          import  ARIMA\n",
        "from statsmodels.tsa.statespace.sarimax   import  SARIMAX\n",
        "from sklearn                              import  metrics\n",
        "from statsmodels.tsa.vector_ar.vecm       import  coint_johansen\n",
        "from statsmodels.tsa.stattools            import  adfuller\n",
        "from statsmodels.tsa.stattools            import  pacf\n",
        "from statsmodels.tsa.stattools            import  acf\n",
        "from statsmodels.graphics.tsaplots        import  plot_pacf\n",
        "from statsmodels.graphics.tsaplots        import  plot_acf\n",
        "from statsmodels.tsa.api                  import  VAR\n",
        "from statsmodels.tsa.statespace.varmax    import  VARMAX\n",
        "\n",
        "## Read Data.\n",
        "\n",
        "import matplotlib as mpl\n",
        "import matplotlib.pyplot as plt\n",
        "import seaborn as sns\n",
        "from datetime import datetime\n",
        "mpl.rcParams['figure.figsize'] = (15, 7)\n",
        "mpl.rcParams['axes.grid'] = False\n",
        "\n",
        "mpl.rcParams['figure.figsize'] = (20, 7)\n",
        "mpl.rcParams['axes.grid'] = False\n",
        "\n",
        "import pandas as pd \n",
        "import matplotlib.pyplot as plt\n",
        "import numpy as np\n",
        "from sklearn.preprocessing import MinMaxScaler\n",
        "from keras.models import Sequential\n",
        "from keras.layers import Dense, Dropout, LSTM\n",
        "from sklearn.metrics import mean_squared_error\n",
        "from sklearn.preprocessing import StandardScaler\n",
        "from sklearn.model_selection import train_test_split\n",
        "from statsmodels.tsa.vector_ar.var_model import VAR\n",
        "\n",
        "import tensorflow as tf\n",
        "from tensorflow.keras.layers import *\n",
        "from tensorflow.keras.models import *\n",
        "from tensorflow.keras.callbacks import *\n",
        "from tensorflow.keras.optimizers import *"
      ]
    },
    {
      "cell_type": "code",
      "execution_count": null,
      "metadata": {
        "colab": {
          "base_uri": "https://localhost:8080/"
        },
        "id": "rwLO63GK5vO9",
        "outputId": "12306f18-549d-4921-9420-e45f0d81df55"
      },
      "outputs": [
        {
          "output_type": "stream",
          "name": "stdout",
          "text": [
            "Mounted at /content/drive\n"
          ]
        }
      ],
      "source": [
        "from google.colab import drive\n",
        "drive.mount('/content/drive')"
      ]
    },
    {
      "cell_type": "code",
      "execution_count": null,
      "metadata": {
        "id": "63vnWCp45FcM"
      },
      "outputs": [],
      "source": [
        "from dateutil.parser import parse\n",
        "dateparse=lambda dates:parse(dates)"
      ]
    },
    {
      "cell_type": "code",
      "execution_count": null,
      "metadata": {
        "colab": {
          "base_uri": "https://localhost:8080/",
          "height": 206
        },
        "id": "if04U6e55FcN",
        "outputId": "fb763e42-61e3-4127-8024-cb98dbac59e5"
      },
      "outputs": [
        {
          "output_type": "execute_result",
          "data": {
            "text/plain": [
              "        Date      Close\n",
              "0 1996-01-01  15.917452\n",
              "1 1996-02-01  15.793671\n",
              "2 1996-03-01  15.913584\n",
              "3 1996-04-01  15.766594\n",
              "4 1996-05-01  15.658285"
            ],
            "text/html": [
              "\n",
              "  <div id=\"df-12eefac1-c8ba-47a0-a677-e20f7197c841\">\n",
              "    <div class=\"colab-df-container\">\n",
              "      <div>\n",
              "<style scoped>\n",
              "    .dataframe tbody tr th:only-of-type {\n",
              "        vertical-align: middle;\n",
              "    }\n",
              "\n",
              "    .dataframe tbody tr th {\n",
              "        vertical-align: top;\n",
              "    }\n",
              "\n",
              "    .dataframe thead th {\n",
              "        text-align: right;\n",
              "    }\n",
              "</style>\n",
              "<table border=\"1\" class=\"dataframe\">\n",
              "  <thead>\n",
              "    <tr style=\"text-align: right;\">\n",
              "      <th></th>\n",
              "      <th>Date</th>\n",
              "      <th>Close</th>\n",
              "    </tr>\n",
              "  </thead>\n",
              "  <tbody>\n",
              "    <tr>\n",
              "      <th>0</th>\n",
              "      <td>1996-01-01</td>\n",
              "      <td>15.917452</td>\n",
              "    </tr>\n",
              "    <tr>\n",
              "      <th>1</th>\n",
              "      <td>1996-02-01</td>\n",
              "      <td>15.793671</td>\n",
              "    </tr>\n",
              "    <tr>\n",
              "      <th>2</th>\n",
              "      <td>1996-03-01</td>\n",
              "      <td>15.913584</td>\n",
              "    </tr>\n",
              "    <tr>\n",
              "      <th>3</th>\n",
              "      <td>1996-04-01</td>\n",
              "      <td>15.766594</td>\n",
              "    </tr>\n",
              "    <tr>\n",
              "      <th>4</th>\n",
              "      <td>1996-05-01</td>\n",
              "      <td>15.658285</td>\n",
              "    </tr>\n",
              "  </tbody>\n",
              "</table>\n",
              "</div>\n",
              "      <button class=\"colab-df-convert\" onclick=\"convertToInteractive('df-12eefac1-c8ba-47a0-a677-e20f7197c841')\"\n",
              "              title=\"Convert this dataframe to an interactive table.\"\n",
              "              style=\"display:none;\">\n",
              "        \n",
              "  <svg xmlns=\"http://www.w3.org/2000/svg\" height=\"24px\"viewBox=\"0 0 24 24\"\n",
              "       width=\"24px\">\n",
              "    <path d=\"M0 0h24v24H0V0z\" fill=\"none\"/>\n",
              "    <path d=\"M18.56 5.44l.94 2.06.94-2.06 2.06-.94-2.06-.94-.94-2.06-.94 2.06-2.06.94zm-11 1L8.5 8.5l.94-2.06 2.06-.94-2.06-.94L8.5 2.5l-.94 2.06-2.06.94zm10 10l.94 2.06.94-2.06 2.06-.94-2.06-.94-.94-2.06-.94 2.06-2.06.94z\"/><path d=\"M17.41 7.96l-1.37-1.37c-.4-.4-.92-.59-1.43-.59-.52 0-1.04.2-1.43.59L10.3 9.45l-7.72 7.72c-.78.78-.78 2.05 0 2.83L4 21.41c.39.39.9.59 1.41.59.51 0 1.02-.2 1.41-.59l7.78-7.78 2.81-2.81c.8-.78.8-2.07 0-2.86zM5.41 20L4 18.59l7.72-7.72 1.47 1.35L5.41 20z\"/>\n",
              "  </svg>\n",
              "      </button>\n",
              "      \n",
              "  <style>\n",
              "    .colab-df-container {\n",
              "      display:flex;\n",
              "      flex-wrap:wrap;\n",
              "      gap: 12px;\n",
              "    }\n",
              "\n",
              "    .colab-df-convert {\n",
              "      background-color: #E8F0FE;\n",
              "      border: none;\n",
              "      border-radius: 50%;\n",
              "      cursor: pointer;\n",
              "      display: none;\n",
              "      fill: #1967D2;\n",
              "      height: 32px;\n",
              "      padding: 0 0 0 0;\n",
              "      width: 32px;\n",
              "    }\n",
              "\n",
              "    .colab-df-convert:hover {\n",
              "      background-color: #E2EBFA;\n",
              "      box-shadow: 0px 1px 2px rgba(60, 64, 67, 0.3), 0px 1px 3px 1px rgba(60, 64, 67, 0.15);\n",
              "      fill: #174EA6;\n",
              "    }\n",
              "\n",
              "    [theme=dark] .colab-df-convert {\n",
              "      background-color: #3B4455;\n",
              "      fill: #D2E3FC;\n",
              "    }\n",
              "\n",
              "    [theme=dark] .colab-df-convert:hover {\n",
              "      background-color: #434B5C;\n",
              "      box-shadow: 0px 1px 3px 1px rgba(0, 0, 0, 0.15);\n",
              "      filter: drop-shadow(0px 1px 2px rgba(0, 0, 0, 0.3));\n",
              "      fill: #FFFFFF;\n",
              "    }\n",
              "  </style>\n",
              "\n",
              "      <script>\n",
              "        const buttonEl =\n",
              "          document.querySelector('#df-12eefac1-c8ba-47a0-a677-e20f7197c841 button.colab-df-convert');\n",
              "        buttonEl.style.display =\n",
              "          google.colab.kernel.accessAllowed ? 'block' : 'none';\n",
              "\n",
              "        async function convertToInteractive(key) {\n",
              "          const element = document.querySelector('#df-12eefac1-c8ba-47a0-a677-e20f7197c841');\n",
              "          const dataTable =\n",
              "            await google.colab.kernel.invokeFunction('convertToInteractive',\n",
              "                                                     [key], {});\n",
              "          if (!dataTable) return;\n",
              "\n",
              "          const docLinkHtml = 'Like what you see? Visit the ' +\n",
              "            '<a target=\"_blank\" href=https://colab.research.google.com/notebooks/data_table.ipynb>data table notebook</a>'\n",
              "            + ' to learn more about interactive tables.';\n",
              "          element.innerHTML = '';\n",
              "          dataTable['output_type'] = 'display_data';\n",
              "          await google.colab.output.renderOutput(dataTable, element);\n",
              "          const docLink = document.createElement('div');\n",
              "          docLink.innerHTML = docLinkHtml;\n",
              "          element.appendChild(docLink);\n",
              "        }\n",
              "      </script>\n",
              "    </div>\n",
              "  </div>\n",
              "  "
            ]
          },
          "metadata": {},
          "execution_count": 6
        }
      ],
      "source": [
        "df =pd.read_csv('/content/drive/MyDrive/M-tech Thesis/Reliance india.csv',usecols=['Date','Close'],parse_dates=['Date'],date_parser=dateparse)\n",
        "df.head()"
      ]
    },
    {
      "cell_type": "code",
      "execution_count": null,
      "metadata": {
        "colab": {
          "base_uri": "https://localhost:8080/",
          "height": 206
        },
        "id": "BmNREDNq5FcO",
        "outputId": "b1fd9993-8d0a-4b4f-e508-57aa675834ba"
      },
      "outputs": [
        {
          "output_type": "execute_result",
          "data": {
            "text/plain": [
              "           Date        Close\n",
              "6564 2022-01-19  2521.600098\n",
              "6565 2022-01-20  2477.449951\n",
              "6566 2022-01-21  2477.850098\n",
              "6567 2022-01-24  2377.899902\n",
              "6568 2022-01-25  2373.250000"
            ],
            "text/html": [
              "\n",
              "  <div id=\"df-19deaa09-15f1-4a11-b23e-833e0924b70e\">\n",
              "    <div class=\"colab-df-container\">\n",
              "      <div>\n",
              "<style scoped>\n",
              "    .dataframe tbody tr th:only-of-type {\n",
              "        vertical-align: middle;\n",
              "    }\n",
              "\n",
              "    .dataframe tbody tr th {\n",
              "        vertical-align: top;\n",
              "    }\n",
              "\n",
              "    .dataframe thead th {\n",
              "        text-align: right;\n",
              "    }\n",
              "</style>\n",
              "<table border=\"1\" class=\"dataframe\">\n",
              "  <thead>\n",
              "    <tr style=\"text-align: right;\">\n",
              "      <th></th>\n",
              "      <th>Date</th>\n",
              "      <th>Close</th>\n",
              "    </tr>\n",
              "  </thead>\n",
              "  <tbody>\n",
              "    <tr>\n",
              "      <th>6564</th>\n",
              "      <td>2022-01-19</td>\n",
              "      <td>2521.600098</td>\n",
              "    </tr>\n",
              "    <tr>\n",
              "      <th>6565</th>\n",
              "      <td>2022-01-20</td>\n",
              "      <td>2477.449951</td>\n",
              "    </tr>\n",
              "    <tr>\n",
              "      <th>6566</th>\n",
              "      <td>2022-01-21</td>\n",
              "      <td>2477.850098</td>\n",
              "    </tr>\n",
              "    <tr>\n",
              "      <th>6567</th>\n",
              "      <td>2022-01-24</td>\n",
              "      <td>2377.899902</td>\n",
              "    </tr>\n",
              "    <tr>\n",
              "      <th>6568</th>\n",
              "      <td>2022-01-25</td>\n",
              "      <td>2373.250000</td>\n",
              "    </tr>\n",
              "  </tbody>\n",
              "</table>\n",
              "</div>\n",
              "      <button class=\"colab-df-convert\" onclick=\"convertToInteractive('df-19deaa09-15f1-4a11-b23e-833e0924b70e')\"\n",
              "              title=\"Convert this dataframe to an interactive table.\"\n",
              "              style=\"display:none;\">\n",
              "        \n",
              "  <svg xmlns=\"http://www.w3.org/2000/svg\" height=\"24px\"viewBox=\"0 0 24 24\"\n",
              "       width=\"24px\">\n",
              "    <path d=\"M0 0h24v24H0V0z\" fill=\"none\"/>\n",
              "    <path d=\"M18.56 5.44l.94 2.06.94-2.06 2.06-.94-2.06-.94-.94-2.06-.94 2.06-2.06.94zm-11 1L8.5 8.5l.94-2.06 2.06-.94-2.06-.94L8.5 2.5l-.94 2.06-2.06.94zm10 10l.94 2.06.94-2.06 2.06-.94-2.06-.94-.94-2.06-.94 2.06-2.06.94z\"/><path d=\"M17.41 7.96l-1.37-1.37c-.4-.4-.92-.59-1.43-.59-.52 0-1.04.2-1.43.59L10.3 9.45l-7.72 7.72c-.78.78-.78 2.05 0 2.83L4 21.41c.39.39.9.59 1.41.59.51 0 1.02-.2 1.41-.59l7.78-7.78 2.81-2.81c.8-.78.8-2.07 0-2.86zM5.41 20L4 18.59l7.72-7.72 1.47 1.35L5.41 20z\"/>\n",
              "  </svg>\n",
              "      </button>\n",
              "      \n",
              "  <style>\n",
              "    .colab-df-container {\n",
              "      display:flex;\n",
              "      flex-wrap:wrap;\n",
              "      gap: 12px;\n",
              "    }\n",
              "\n",
              "    .colab-df-convert {\n",
              "      background-color: #E8F0FE;\n",
              "      border: none;\n",
              "      border-radius: 50%;\n",
              "      cursor: pointer;\n",
              "      display: none;\n",
              "      fill: #1967D2;\n",
              "      height: 32px;\n",
              "      padding: 0 0 0 0;\n",
              "      width: 32px;\n",
              "    }\n",
              "\n",
              "    .colab-df-convert:hover {\n",
              "      background-color: #E2EBFA;\n",
              "      box-shadow: 0px 1px 2px rgba(60, 64, 67, 0.3), 0px 1px 3px 1px rgba(60, 64, 67, 0.15);\n",
              "      fill: #174EA6;\n",
              "    }\n",
              "\n",
              "    [theme=dark] .colab-df-convert {\n",
              "      background-color: #3B4455;\n",
              "      fill: #D2E3FC;\n",
              "    }\n",
              "\n",
              "    [theme=dark] .colab-df-convert:hover {\n",
              "      background-color: #434B5C;\n",
              "      box-shadow: 0px 1px 3px 1px rgba(0, 0, 0, 0.15);\n",
              "      filter: drop-shadow(0px 1px 2px rgba(0, 0, 0, 0.3));\n",
              "      fill: #FFFFFF;\n",
              "    }\n",
              "  </style>\n",
              "\n",
              "      <script>\n",
              "        const buttonEl =\n",
              "          document.querySelector('#df-19deaa09-15f1-4a11-b23e-833e0924b70e button.colab-df-convert');\n",
              "        buttonEl.style.display =\n",
              "          google.colab.kernel.accessAllowed ? 'block' : 'none';\n",
              "\n",
              "        async function convertToInteractive(key) {\n",
              "          const element = document.querySelector('#df-19deaa09-15f1-4a11-b23e-833e0924b70e');\n",
              "          const dataTable =\n",
              "            await google.colab.kernel.invokeFunction('convertToInteractive',\n",
              "                                                     [key], {});\n",
              "          if (!dataTable) return;\n",
              "\n",
              "          const docLinkHtml = 'Like what you see? Visit the ' +\n",
              "            '<a target=\"_blank\" href=https://colab.research.google.com/notebooks/data_table.ipynb>data table notebook</a>'\n",
              "            + ' to learn more about interactive tables.';\n",
              "          element.innerHTML = '';\n",
              "          dataTable['output_type'] = 'display_data';\n",
              "          await google.colab.output.renderOutput(dataTable, element);\n",
              "          const docLink = document.createElement('div');\n",
              "          docLink.innerHTML = docLinkHtml;\n",
              "          element.appendChild(docLink);\n",
              "        }\n",
              "      </script>\n",
              "    </div>\n",
              "  </div>\n",
              "  "
            ]
          },
          "metadata": {},
          "execution_count": 7
        }
      ],
      "source": [
        "df.tail()"
      ]
    },
    {
      "cell_type": "code",
      "execution_count": null,
      "metadata": {
        "id": "1IdT1x4c5FcO"
      },
      "outputs": [],
      "source": [
        "from pandas.tseries.offsets import BDay"
      ]
    },
    {
      "cell_type": "code",
      "execution_count": null,
      "metadata": {
        "colab": {
          "base_uri": "https://localhost:8080/"
        },
        "id": "PoQJCNjG5FcP",
        "outputId": "5fdc6408-b8da-46b5-b199-a9c66a0a4072"
      },
      "outputs": [
        {
          "output_type": "execute_result",
          "data": {
            "text/plain": [
              "DatetimeIndex(['1996-01-01', '1996-01-02', '1996-01-03', '1996-01-04',\n",
              "               '1996-01-05', '1996-01-08', '1996-01-09', '1996-01-10',\n",
              "               '1996-01-11', '1996-01-12',\n",
              "               ...\n",
              "               '2022-01-12', '2022-01-13', '2022-01-14', '2022-01-17',\n",
              "               '2022-01-18', '2022-01-19', '2022-01-20', '2022-01-21',\n",
              "               '2022-01-24', '2022-01-25'],\n",
              "              dtype='datetime64[ns]', length=6802, freq='B')"
            ]
          },
          "metadata": {},
          "execution_count": 9
        }
      ],
      "source": [
        "date= pd.date_range(start='01/01/1996', end ='25/01/2022',freq=BDay())\n",
        "date"
      ]
    },
    {
      "cell_type": "code",
      "execution_count": null,
      "metadata": {
        "colab": {
          "base_uri": "https://localhost:8080/"
        },
        "id": "lv8wwHvi5FcP",
        "outputId": "72ff1d9a-bde9-452e-f2ec-a9d2a38e853e"
      },
      "outputs": [
        {
          "output_type": "execute_result",
          "data": {
            "text/plain": [
              "6569"
            ]
          },
          "metadata": {},
          "execution_count": 10
        }
      ],
      "source": [
        "len(df)"
      ]
    },
    {
      "cell_type": "code",
      "execution_count": null,
      "metadata": {
        "colab": {
          "base_uri": "https://localhost:8080/"
        },
        "id": "HcUYpJIb5FcQ",
        "outputId": "ce4cff9a-2d11-4d80-de2a-6ec0aa483287"
      },
      "outputs": [
        {
          "output_type": "execute_result",
          "data": {
            "text/plain": [
              "6802"
            ]
          },
          "metadata": {},
          "execution_count": 11
        }
      ],
      "source": [
        "len(date)"
      ]
    },
    {
      "cell_type": "code",
      "execution_count": null,
      "metadata": {
        "colab": {
          "base_uri": "https://localhost:8080/",
          "height": 238
        },
        "id": "zt9y-wSu5FcR",
        "outputId": "6062a96e-7d80-4b80-e562-af564d38782c"
      },
      "outputs": [
        {
          "output_type": "execute_result",
          "data": {
            "text/plain": [
              "                Close\n",
              "Time_Stamp           \n",
              "1996-01-01  15.917452\n",
              "1996-01-02  15.793671\n",
              "1996-01-03  15.913584\n",
              "1996-01-04  15.766594\n",
              "1996-01-05  15.658285"
            ],
            "text/html": [
              "\n",
              "  <div id=\"df-efa90f98-3a04-4640-9daf-142fb2b40efa\">\n",
              "    <div class=\"colab-df-container\">\n",
              "      <div>\n",
              "<style scoped>\n",
              "    .dataframe tbody tr th:only-of-type {\n",
              "        vertical-align: middle;\n",
              "    }\n",
              "\n",
              "    .dataframe tbody tr th {\n",
              "        vertical-align: top;\n",
              "    }\n",
              "\n",
              "    .dataframe thead th {\n",
              "        text-align: right;\n",
              "    }\n",
              "</style>\n",
              "<table border=\"1\" class=\"dataframe\">\n",
              "  <thead>\n",
              "    <tr style=\"text-align: right;\">\n",
              "      <th></th>\n",
              "      <th>Close</th>\n",
              "    </tr>\n",
              "    <tr>\n",
              "      <th>Time_Stamp</th>\n",
              "      <th></th>\n",
              "    </tr>\n",
              "  </thead>\n",
              "  <tbody>\n",
              "    <tr>\n",
              "      <th>1996-01-01</th>\n",
              "      <td>15.917452</td>\n",
              "    </tr>\n",
              "    <tr>\n",
              "      <th>1996-01-02</th>\n",
              "      <td>15.793671</td>\n",
              "    </tr>\n",
              "    <tr>\n",
              "      <th>1996-01-03</th>\n",
              "      <td>15.913584</td>\n",
              "    </tr>\n",
              "    <tr>\n",
              "      <th>1996-01-04</th>\n",
              "      <td>15.766594</td>\n",
              "    </tr>\n",
              "    <tr>\n",
              "      <th>1996-01-05</th>\n",
              "      <td>15.658285</td>\n",
              "    </tr>\n",
              "  </tbody>\n",
              "</table>\n",
              "</div>\n",
              "      <button class=\"colab-df-convert\" onclick=\"convertToInteractive('df-efa90f98-3a04-4640-9daf-142fb2b40efa')\"\n",
              "              title=\"Convert this dataframe to an interactive table.\"\n",
              "              style=\"display:none;\">\n",
              "        \n",
              "  <svg xmlns=\"http://www.w3.org/2000/svg\" height=\"24px\"viewBox=\"0 0 24 24\"\n",
              "       width=\"24px\">\n",
              "    <path d=\"M0 0h24v24H0V0z\" fill=\"none\"/>\n",
              "    <path d=\"M18.56 5.44l.94 2.06.94-2.06 2.06-.94-2.06-.94-.94-2.06-.94 2.06-2.06.94zm-11 1L8.5 8.5l.94-2.06 2.06-.94-2.06-.94L8.5 2.5l-.94 2.06-2.06.94zm10 10l.94 2.06.94-2.06 2.06-.94-2.06-.94-.94-2.06-.94 2.06-2.06.94z\"/><path d=\"M17.41 7.96l-1.37-1.37c-.4-.4-.92-.59-1.43-.59-.52 0-1.04.2-1.43.59L10.3 9.45l-7.72 7.72c-.78.78-.78 2.05 0 2.83L4 21.41c.39.39.9.59 1.41.59.51 0 1.02-.2 1.41-.59l7.78-7.78 2.81-2.81c.8-.78.8-2.07 0-2.86zM5.41 20L4 18.59l7.72-7.72 1.47 1.35L5.41 20z\"/>\n",
              "  </svg>\n",
              "      </button>\n",
              "      \n",
              "  <style>\n",
              "    .colab-df-container {\n",
              "      display:flex;\n",
              "      flex-wrap:wrap;\n",
              "      gap: 12px;\n",
              "    }\n",
              "\n",
              "    .colab-df-convert {\n",
              "      background-color: #E8F0FE;\n",
              "      border: none;\n",
              "      border-radius: 50%;\n",
              "      cursor: pointer;\n",
              "      display: none;\n",
              "      fill: #1967D2;\n",
              "      height: 32px;\n",
              "      padding: 0 0 0 0;\n",
              "      width: 32px;\n",
              "    }\n",
              "\n",
              "    .colab-df-convert:hover {\n",
              "      background-color: #E2EBFA;\n",
              "      box-shadow: 0px 1px 2px rgba(60, 64, 67, 0.3), 0px 1px 3px 1px rgba(60, 64, 67, 0.15);\n",
              "      fill: #174EA6;\n",
              "    }\n",
              "\n",
              "    [theme=dark] .colab-df-convert {\n",
              "      background-color: #3B4455;\n",
              "      fill: #D2E3FC;\n",
              "    }\n",
              "\n",
              "    [theme=dark] .colab-df-convert:hover {\n",
              "      background-color: #434B5C;\n",
              "      box-shadow: 0px 1px 3px 1px rgba(0, 0, 0, 0.15);\n",
              "      filter: drop-shadow(0px 1px 2px rgba(0, 0, 0, 0.3));\n",
              "      fill: #FFFFFF;\n",
              "    }\n",
              "  </style>\n",
              "\n",
              "      <script>\n",
              "        const buttonEl =\n",
              "          document.querySelector('#df-efa90f98-3a04-4640-9daf-142fb2b40efa button.colab-df-convert');\n",
              "        buttonEl.style.display =\n",
              "          google.colab.kernel.accessAllowed ? 'block' : 'none';\n",
              "\n",
              "        async function convertToInteractive(key) {\n",
              "          const element = document.querySelector('#df-efa90f98-3a04-4640-9daf-142fb2b40efa');\n",
              "          const dataTable =\n",
              "            await google.colab.kernel.invokeFunction('convertToInteractive',\n",
              "                                                     [key], {});\n",
              "          if (!dataTable) return;\n",
              "\n",
              "          const docLinkHtml = 'Like what you see? Visit the ' +\n",
              "            '<a target=\"_blank\" href=https://colab.research.google.com/notebooks/data_table.ipynb>data table notebook</a>'\n",
              "            + ' to learn more about interactive tables.';\n",
              "          element.innerHTML = '';\n",
              "          dataTable['output_type'] = 'display_data';\n",
              "          await google.colab.output.renderOutput(dataTable, element);\n",
              "          const docLink = document.createElement('div');\n",
              "          docLink.innerHTML = docLinkHtml;\n",
              "          element.appendChild(docLink);\n",
              "        }\n",
              "      </script>\n",
              "    </div>\n",
              "  </div>\n",
              "  "
            ]
          },
          "metadata": {},
          "execution_count": 12
        }
      ],
      "source": [
        "df['Time_Stamp']=pd.DataFrame(date)\n",
        "df.drop('Date',axis=1,inplace=True)\n",
        "df=df.set_index('Time_Stamp')\n",
        "df.head()"
      ]
    },
    {
      "cell_type": "code",
      "execution_count": null,
      "metadata": {
        "colab": {
          "base_uri": "https://localhost:8080/",
          "height": 238
        },
        "id": "Ob48ciGN5FcR",
        "outputId": "c5834c32-5512-4f5e-dbb3-2b81320f4ef9"
      },
      "outputs": [
        {
          "output_type": "execute_result",
          "data": {
            "text/plain": [
              "                  Close\n",
              "Time_Stamp             \n",
              "2021-02-26  2521.600098\n",
              "2021-03-01  2477.449951\n",
              "2021-03-02  2477.850098\n",
              "2021-03-03  2377.899902\n",
              "2021-03-04  2373.250000"
            ],
            "text/html": [
              "\n",
              "  <div id=\"df-cad1d1c8-c8b9-4900-96a6-6ff258503ca3\">\n",
              "    <div class=\"colab-df-container\">\n",
              "      <div>\n",
              "<style scoped>\n",
              "    .dataframe tbody tr th:only-of-type {\n",
              "        vertical-align: middle;\n",
              "    }\n",
              "\n",
              "    .dataframe tbody tr th {\n",
              "        vertical-align: top;\n",
              "    }\n",
              "\n",
              "    .dataframe thead th {\n",
              "        text-align: right;\n",
              "    }\n",
              "</style>\n",
              "<table border=\"1\" class=\"dataframe\">\n",
              "  <thead>\n",
              "    <tr style=\"text-align: right;\">\n",
              "      <th></th>\n",
              "      <th>Close</th>\n",
              "    </tr>\n",
              "    <tr>\n",
              "      <th>Time_Stamp</th>\n",
              "      <th></th>\n",
              "    </tr>\n",
              "  </thead>\n",
              "  <tbody>\n",
              "    <tr>\n",
              "      <th>2021-02-26</th>\n",
              "      <td>2521.600098</td>\n",
              "    </tr>\n",
              "    <tr>\n",
              "      <th>2021-03-01</th>\n",
              "      <td>2477.449951</td>\n",
              "    </tr>\n",
              "    <tr>\n",
              "      <th>2021-03-02</th>\n",
              "      <td>2477.850098</td>\n",
              "    </tr>\n",
              "    <tr>\n",
              "      <th>2021-03-03</th>\n",
              "      <td>2377.899902</td>\n",
              "    </tr>\n",
              "    <tr>\n",
              "      <th>2021-03-04</th>\n",
              "      <td>2373.250000</td>\n",
              "    </tr>\n",
              "  </tbody>\n",
              "</table>\n",
              "</div>\n",
              "      <button class=\"colab-df-convert\" onclick=\"convertToInteractive('df-cad1d1c8-c8b9-4900-96a6-6ff258503ca3')\"\n",
              "              title=\"Convert this dataframe to an interactive table.\"\n",
              "              style=\"display:none;\">\n",
              "        \n",
              "  <svg xmlns=\"http://www.w3.org/2000/svg\" height=\"24px\"viewBox=\"0 0 24 24\"\n",
              "       width=\"24px\">\n",
              "    <path d=\"M0 0h24v24H0V0z\" fill=\"none\"/>\n",
              "    <path d=\"M18.56 5.44l.94 2.06.94-2.06 2.06-.94-2.06-.94-.94-2.06-.94 2.06-2.06.94zm-11 1L8.5 8.5l.94-2.06 2.06-.94-2.06-.94L8.5 2.5l-.94 2.06-2.06.94zm10 10l.94 2.06.94-2.06 2.06-.94-2.06-.94-.94-2.06-.94 2.06-2.06.94z\"/><path d=\"M17.41 7.96l-1.37-1.37c-.4-.4-.92-.59-1.43-.59-.52 0-1.04.2-1.43.59L10.3 9.45l-7.72 7.72c-.78.78-.78 2.05 0 2.83L4 21.41c.39.39.9.59 1.41.59.51 0 1.02-.2 1.41-.59l7.78-7.78 2.81-2.81c.8-.78.8-2.07 0-2.86zM5.41 20L4 18.59l7.72-7.72 1.47 1.35L5.41 20z\"/>\n",
              "  </svg>\n",
              "      </button>\n",
              "      \n",
              "  <style>\n",
              "    .colab-df-container {\n",
              "      display:flex;\n",
              "      flex-wrap:wrap;\n",
              "      gap: 12px;\n",
              "    }\n",
              "\n",
              "    .colab-df-convert {\n",
              "      background-color: #E8F0FE;\n",
              "      border: none;\n",
              "      border-radius: 50%;\n",
              "      cursor: pointer;\n",
              "      display: none;\n",
              "      fill: #1967D2;\n",
              "      height: 32px;\n",
              "      padding: 0 0 0 0;\n",
              "      width: 32px;\n",
              "    }\n",
              "\n",
              "    .colab-df-convert:hover {\n",
              "      background-color: #E2EBFA;\n",
              "      box-shadow: 0px 1px 2px rgba(60, 64, 67, 0.3), 0px 1px 3px 1px rgba(60, 64, 67, 0.15);\n",
              "      fill: #174EA6;\n",
              "    }\n",
              "\n",
              "    [theme=dark] .colab-df-convert {\n",
              "      background-color: #3B4455;\n",
              "      fill: #D2E3FC;\n",
              "    }\n",
              "\n",
              "    [theme=dark] .colab-df-convert:hover {\n",
              "      background-color: #434B5C;\n",
              "      box-shadow: 0px 1px 3px 1px rgba(0, 0, 0, 0.15);\n",
              "      filter: drop-shadow(0px 1px 2px rgba(0, 0, 0, 0.3));\n",
              "      fill: #FFFFFF;\n",
              "    }\n",
              "  </style>\n",
              "\n",
              "      <script>\n",
              "        const buttonEl =\n",
              "          document.querySelector('#df-cad1d1c8-c8b9-4900-96a6-6ff258503ca3 button.colab-df-convert');\n",
              "        buttonEl.style.display =\n",
              "          google.colab.kernel.accessAllowed ? 'block' : 'none';\n",
              "\n",
              "        async function convertToInteractive(key) {\n",
              "          const element = document.querySelector('#df-cad1d1c8-c8b9-4900-96a6-6ff258503ca3');\n",
              "          const dataTable =\n",
              "            await google.colab.kernel.invokeFunction('convertToInteractive',\n",
              "                                                     [key], {});\n",
              "          if (!dataTable) return;\n",
              "\n",
              "          const docLinkHtml = 'Like what you see? Visit the ' +\n",
              "            '<a target=\"_blank\" href=https://colab.research.google.com/notebooks/data_table.ipynb>data table notebook</a>'\n",
              "            + ' to learn more about interactive tables.';\n",
              "          element.innerHTML = '';\n",
              "          dataTable['output_type'] = 'display_data';\n",
              "          await google.colab.output.renderOutput(dataTable, element);\n",
              "          const docLink = document.createElement('div');\n",
              "          docLink.innerHTML = docLinkHtml;\n",
              "          element.appendChild(docLink);\n",
              "        }\n",
              "      </script>\n",
              "    </div>\n",
              "  </div>\n",
              "  "
            ]
          },
          "metadata": {},
          "execution_count": 13
        }
      ],
      "source": [
        "df.tail()"
      ]
    },
    {
      "cell_type": "code",
      "execution_count": null,
      "metadata": {
        "colab": {
          "base_uri": "https://localhost:8080/",
          "height": 444
        },
        "id": "itxKhkAJ5FcS",
        "outputId": "7a38a3ee-72f1-4a61-d0b8-59f4d7021ab9"
      },
      "outputs": [
        {
          "output_type": "display_data",
          "data": {
            "text/plain": [
              "<Figure size 1440x504 with 1 Axes>"
            ],
            "image/png": "[encoded data removed]"
          },
          "metadata": {
            "needs_background": "light"
          }
        }
      ],
      "source": [
        "rolling_mean=df.rolling(window=12).mean()\n",
        "rolling_std=df.rolling(window=12).std()\n",
        "plt.plot(df,color='blue',label='Original')\n",
        "plt.plot(rolling_mean,color='red',label='Rolling mean')\n",
        "plt.plot(rolling_std,color='black',label='Rolling_std' )\n",
        "plt.legend(loc='best')\n",
        "plt.title('Rolling mean and rolling std ')\n",
        "plt.show()"
      ]
    },
    {
      "cell_type": "markdown",
      "metadata": {
        "id": "APcfNObX5FcS"
      },
      "source": [
        "#### fill the missing values using interpolation"
      ]
    },
    {
      "cell_type": "code",
      "execution_count": null,
      "metadata": {
        "colab": {
          "base_uri": "https://localhost:8080/"
        },
        "id": "phgmXWwb5FcU",
        "outputId": "75bca841-b689-4505-d767-2c0c5fba6139"
      },
      "outputs": [
        {
          "output_type": "execute_result",
          "data": {
            "text/plain": [
              "Close    10\n",
              "dtype: int64"
            ]
          },
          "metadata": {},
          "execution_count": 15
        }
      ],
      "source": [
        "df.isnull().sum()"
      ]
    },
    {
      "cell_type": "code",
      "execution_count": null,
      "metadata": {
        "id": "F3IpfGcZ5FcV"
      },
      "outputs": [],
      "source": [
        "df= df.fillna(df.rolling(6,min_periods=1).mean())"
      ]
    },
    {
      "cell_type": "code",
      "execution_count": null,
      "metadata": {
        "colab": {
          "base_uri": "https://localhost:8080/"
        },
        "id": "54CpQHnX5FcV",
        "outputId": "dc2c6e0c-80ca-401a-8dc5-da74269aa8ac"
      },
      "outputs": [
        {
          "output_type": "execute_result",
          "data": {
            "text/plain": [
              "Close    0\n",
              "dtype: int64"
            ]
          },
          "metadata": {},
          "execution_count": 17
        }
      ],
      "source": [
        "df.isnull().sum()"
      ]
    },
    {
      "cell_type": "code",
      "execution_count": null,
      "metadata": {
        "colab": {
          "base_uri": "https://localhost:8080/",
          "height": 507
        },
        "id": "LdPLb_qX5FcW",
        "outputId": "f78cefc6-7f74-4f50-f70b-b75cd6991b54"
      },
      "outputs": [
        {
          "output_type": "display_data",
          "data": {
            "text/plain": [
              "<Figure size 1440x504 with 4 Axes>"
            ],
            "image/png": "[encoded data removed]"
          },
          "metadata": {
            "needs_background": "light"
          }
        }
      ],
      "source": [
        "decomposition= seasonal_decompose(df,model='additive')\n",
        "decomposition.plot();"
      ]
    },
    {
      "cell_type": "code",
      "execution_count": null,
      "metadata": {
        "id": "dBuF4F9e5FcW",
        "colab": {
          "base_uri": "https://localhost:8080/",
          "height": 507
        },
        "outputId": "b5b6f7f9-7414-4c72-dac0-83c798d26018"
      },
      "outputs": [
        {
          "output_type": "display_data",
          "data": {
            "text/plain": [
              "<Figure size 1440x504 with 4 Axes>"
            ],
            "image/png": "[encoded data removed]"
          },
          "metadata": {
            "needs_background": "light"
          }
        }
      ],
      "source": [
        "decomposition= seasonal_decompose(df,model='multiplicative')\n",
        "decomposition.plot();"
      ]
    },
    {
      "cell_type": "code",
      "execution_count": null,
      "metadata": {
        "id": "NVt8IC1W5FcW",
        "colab": {
          "base_uri": "https://localhost:8080/"
        },
        "outputId": "e8b97865-92dd-4139-d20a-78fa3649ca80"
      },
      "outputs": [
        {
          "output_type": "stream",
          "name": "stdout",
          "text": [
            "ADF Statistics : 1.4184785320933937\n",
            "P value : 0.997196491240064\n",
            "Critical values: \n",
            "\t1%: -3.431351204604243\n",
            "\t5%: -2.8619824470359596\n",
            "\t10%: -2.567005511157807\n"
          ]
        }
      ],
      "source": [
        "result=adfuller(df['Close'])\n",
        "print('ADF Statistics : {}'.format(result[0]))\n",
        "print('P value : {}'.format(result[1]))\n",
        "print('Critical values: ')\n",
        "for key ,value in result[4].items():\n",
        "    print('\\t{}: {}'.format(key,value))"
      ]
    },
    {
      "cell_type": "code",
      "execution_count": null,
      "metadata": {
        "id": "_-8vPSoP5FcX",
        "colab": {
          "base_uri": "https://localhost:8080/"
        },
        "outputId": "1e38e901-f6bd-4099-ede8-1f3150569116"
      },
      "outputs": [
        {
          "output_type": "stream",
          "name": "stdout",
          "text": [
            "ADF Statistics : -13.197744977298028\n",
            "P value : 1.1104379432076332e-24\n",
            "Critical values: \n",
            "\t1%: -3.431351204604243\n",
            "\t5%: -2.8619824470359596\n",
            "\t10%: -2.567005511157807\n"
          ]
        }
      ],
      "source": [
        "df_diff=df.diff(periods=1).dropna()\n",
        "result=adfuller(df_diff['Close'])\n",
        "print('ADF Statistics : {}'.format(result[0]))\n",
        "print('P value : {}'.format(result[1]))\n",
        "print('Critical values: ')\n",
        "for key ,value in result[4].items():\n",
        "    print('\\t{}: {}'.format(key,value))"
      ]
    },
    {
      "cell_type": "code",
      "execution_count": null,
      "metadata": {
        "id": "46Y_uUT35FcX",
        "colab": {
          "base_uri": "https://localhost:8080/",
          "height": 444
        },
        "outputId": "440f5dba-accc-47c0-dcd2-c9a6e031b8a7"
      },
      "outputs": [
        {
          "output_type": "display_data",
          "data": {
            "text/plain": [
              "<Figure size 1440x504 with 1 Axes>"
            ],
            "image/png": "[encoded data removed]"
          },
          "metadata": {
            "needs_background": "light"
          }
        }
      ],
      "source": [
        "plot_acf(df_diff,lags=30);"
      ]
    },
    {
      "cell_type": "code",
      "execution_count": null,
      "metadata": {
        "id": "AI1pJyMp5FcX",
        "colab": {
          "base_uri": "https://localhost:8080/",
          "height": 444
        },
        "outputId": "7e7c9b8d-524e-4907-8d12-e4fa871ec89d"
      },
      "outputs": [
        {
          "output_type": "display_data",
          "data": {
            "text/plain": [
              "<Figure size 1440x504 with 1 Axes>"
            ],
            "image/png": "[encoded data removed]"
          },
          "metadata": {
            "needs_background": "light"
          }
        }
      ],
      "source": [
        "plot_acf(df,lags=30);"
      ]
    },
    {
      "cell_type": "code",
      "execution_count": null,
      "metadata": {
        "id": "uWRyHsv25FcY",
        "colab": {
          "base_uri": "https://localhost:8080/",
          "height": 444
        },
        "outputId": "3b5b9e03-6130-4ae4-d8cc-1bcfc87625b7"
      },
      "outputs": [
        {
          "output_type": "display_data",
          "data": {
            "text/plain": [
              "<Figure size 1440x504 with 1 Axes>"
            ],
            "image/png": "[encoded data removed]"
          },
          "metadata": {
            "needs_background": "light"
          }
        }
      ],
      "source": [
        "plot_pacf(df_diff,lags=60);"
      ]
    },
    {
      "cell_type": "code",
      "execution_count": null,
      "metadata": {
        "id": "FvwxI4165FcY",
        "colab": {
          "base_uri": "https://localhost:8080/",
          "height": 444
        },
        "outputId": "61ba2214-e702-4fce-aedb-02a08853bcab"
      },
      "outputs": [
        {
          "output_type": "display_data",
          "data": {
            "text/plain": [
              "<Figure size 1440x504 with 1 Axes>"
            ],
            "image/png": "[encoded data removed]"
          },
          "metadata": {
            "needs_background": "light"
          }
        }
      ],
      "source": [
        "plot_pacf(df,lags=30);"
      ]
    },
    {
      "cell_type": "code",
      "execution_count": null,
      "metadata": {
        "id": "qk2FyhXE5FcY"
      },
      "outputs": [],
      "source": [
        "train_end=datetime(2018,12,31)\n",
        "test_end=datetime(2022,1,25)"
      ]
    },
    {
      "cell_type": "code",
      "execution_count": null,
      "metadata": {
        "id": "NEiFYW8Z5FcY"
      },
      "outputs": [],
      "source": [
        "train=df[:train_end]\n",
        "test=df[train_end+timedelta(days=1):test_end]"
      ]
    },
    {
      "cell_type": "code",
      "execution_count": null,
      "metadata": {
        "id": "5_9wfk6T5FcZ",
        "colab": {
          "base_uri": "https://localhost:8080/"
        },
        "outputId": "7b322996-19fc-4a84-a907-bc20c153940f"
      },
      "outputs": [
        {
          "output_type": "execute_result",
          "data": {
            "text/plain": [
              "(6001, 1)"
            ]
          },
          "metadata": {},
          "execution_count": 28
        }
      ],
      "source": [
        "train.shape"
      ]
    },
    {
      "cell_type": "code",
      "execution_count": null,
      "metadata": {
        "id": "cON4WIEB5FcZ",
        "colab": {
          "base_uri": "https://localhost:8080/"
        },
        "outputId": "c8b662a4-7b1d-4338-9bb1-f6729270bdb5"
      },
      "outputs": [
        {
          "output_type": "execute_result",
          "data": {
            "text/plain": [
              "(568, 1)"
            ]
          },
          "metadata": {},
          "execution_count": 29
        }
      ],
      "source": [
        "test.shape"
      ]
    },
    {
      "cell_type": "code",
      "execution_count": null,
      "metadata": {
        "id": "IvA7tTFV5FcZ",
        "colab": {
          "base_uri": "https://localhost:8080/",
          "height": 436
        },
        "outputId": "d3ec1f48-afea-44a0-bcb5-7030d742ecae"
      },
      "outputs": [
        {
          "output_type": "execute_result",
          "data": {
            "text/plain": [
              "<class 'statsmodels.iolib.summary.Summary'>\n",
              "\"\"\"\n",
              "                       ExponentialSmoothing Model Results                       \n",
              "================================================================================\n",
              "Dep. Variable:                    endog   No. Observations:                 6001\n",
              "Model:             ExponentialSmoothing   SSE                         520778.636\n",
              "Optimized:                         True   AIC                          26802.857\n",
              "Trend:                         Additive   BIC                          26863.154\n",
              "Seasonal:                Multiplicative   AICC                         26802.901\n",
              "Seasonal Periods:                     5   Date:                 Sat, 26 Mar 2022\n",
              "Box-Cox:                          False   Time:                         04:00:23\n",
              "Box-Cox Coeff.:                    None                                         \n",
              "=================================================================================\n",
              "                          coeff                 code              optimized      \n",
              "---------------------------------------------------------------------------------\n",
              "smoothing_level               0.9473684                alpha                 True\n",
              "smoothing_slope               0.0526316                 beta                 True\n",
              "smoothing_seasonal            0.0526320                gamma                 True\n",
              "initial_level                 334.30685                  l.0                 True\n",
              "initial_slope                  0.000000                  b.0                 True\n",
              "initial_seasons.0             0.0464194                  s.0                 True\n",
              "initial_seasons.1             0.0475174                  s.1                 True\n",
              "initial_seasons.2             0.0478468                  s.2                 True\n",
              "initial_seasons.3             0.0475741                  s.3                 True\n",
              "initial_seasons.4             0.0471868                  s.4                 True\n",
              "---------------------------------------------------------------------------------\n",
              "\"\"\""
            ],
            "text/html": [
              "<table class=\"simpletable\">\n",
              "<caption>ExponentialSmoothing Model Results</caption>\n",
              "<tr>\n",
              "  <th>Dep. Variable:</th>            <td>endog</td>        <th>  No. Observations:  </th>       <td>6001</td>      \n",
              "</tr>\n",
              "<tr>\n",
              "  <th>Model:</th>            <td>ExponentialSmoothing</td> <th>  SSE                </th>    <td>520778.636</td>   \n",
              "</tr>\n",
              "<tr>\n",
              "  <th>Optimized:</th>                <td>True</td>         <th>  AIC                </th>     <td>26802.857</td>   \n",
              "</tr>\n",
              "<tr>\n",
              "  <th>Trend:</th>                  <td>Additive</td>       <th>  BIC                </th>     <td>26863.154</td>   \n",
              "</tr>\n",
              "<tr>\n",
              "  <th>Seasonal:</th>            <td>Multiplicative</td>    <th>  AICC               </th>     <td>26802.901</td>   \n",
              "</tr>\n",
              "<tr>\n",
              "  <th>Seasonal Periods:</th>           <td>5</td>          <th>  Date:              </th> <td>Sat, 26 Mar 2022</td>\n",
              "</tr>\n",
              "<tr>\n",
              "  <th>Box-Cox:</th>                  <td>False</td>        <th>  Time:              </th>     <td>04:00:23</td>    \n",
              "</tr>\n",
              "<tr>\n",
              "  <th>Box-Cox Coeff.:</th>           <td>None</td>         <th>                     </th>         <td> </td>       \n",
              "</tr>\n",
              "</table>\n",
              "<table class=\"simpletable\">\n",
              "<tr>\n",
              "           <td></td>                  <th>coeff</th>                <th>code</th>               <th>optimized</th>     \n",
              "</tr>\n",
              "<tr>\n",
              "  <th>smoothing_level</th>    <td>           0.9473684</td> <td>               alpha</td> <td>                True</td>\n",
              "</tr>\n",
              "<tr>\n",
              "  <th>smoothing_slope</th>    <td>           0.0526316</td> <td>                beta</td> <td>                True</td>\n",
              "</tr>\n",
              "<tr>\n",
              "  <th>smoothing_seasonal</th> <td>           0.0526320</td> <td>               gamma</td> <td>                True</td>\n",
              "</tr>\n",
              "<tr>\n",
              "  <th>initial_level</th>      <td>           334.30685</td> <td>                 l.0</td> <td>                True</td>\n",
              "</tr>\n",
              "<tr>\n",
              "  <th>initial_slope</th>      <td>            0.000000</td> <td>                 b.0</td> <td>                True</td>\n",
              "</tr>\n",
              "<tr>\n",
              "  <th>initial_seasons.0</th>  <td>           0.0464194</td> <td>                 s.0</td> <td>                True</td>\n",
              "</tr>\n",
              "<tr>\n",
              "  <th>initial_seasons.1</th>  <td>           0.0475174</td> <td>                 s.1</td> <td>                True</td>\n",
              "</tr>\n",
              "<tr>\n",
              "  <th>initial_seasons.2</th>  <td>           0.0478468</td> <td>                 s.2</td> <td>                True</td>\n",
              "</tr>\n",
              "<tr>\n",
              "  <th>initial_seasons.3</th>  <td>           0.0475741</td> <td>                 s.3</td> <td>                True</td>\n",
              "</tr>\n",
              "<tr>\n",
              "  <th>initial_seasons.4</th>  <td>           0.0471868</td> <td>                 s.4</td> <td>                True</td>\n",
              "</tr>\n",
              "</table>"
            ]
          },
          "metadata": {},
          "execution_count": 30
        }
      ],
      "source": [
        "model_TES=ExponentialSmoothing(train,trend='additive',seasonal='multiplicative')\n",
        "model_TES=model_TES.fit(optimized=True)\n",
        "model_TES.summary()"
      ]
    },
    {
      "cell_type": "code",
      "execution_count": null,
      "metadata": {
        "id": "q204mPrR5FcZ"
      },
      "outputs": [],
      "source": [
        "def MAPE(y_true,y_pred):\n",
        "    return np.mean((np.abs(y_true-y_pred))/(y_true))*100"
      ]
    },
    {
      "cell_type": "code",
      "execution_count": null,
      "metadata": {
        "id": "MTTlwwsY5FcZ"
      },
      "outputs": [],
      "source": [
        "TSE_add_predict=model_TES.forecast(len(test))"
      ]
    },
    {
      "cell_type": "code",
      "execution_count": null,
      "metadata": {
        "id": "KEWEv1hG5Fca",
        "colab": {
          "base_uri": "https://localhost:8080/",
          "height": 592
        },
        "outputId": "814c1a70-ac98-4d93-df32-8db910d5a0e8"
      },
      "outputs": [
        {
          "output_type": "display_data",
          "data": {
            "text/plain": [
              "<Figure size 1080x720 with 1 Axes>"
            ],
            "image/png": "[encoded data removed]"
          },
          "metadata": {
            "needs_background": "light"
          }
        }
      ],
      "source": [
        "plt.figure(figsize=(15,10))\n",
        "plt.plot(train,label='Train')\n",
        "plt.plot(test,label='Test')\n",
        "plt.plot(TSE_add_predict,label='Forecast')\n",
        "plt.legend(loc='best')\n",
        "plt.grid()"
      ]
    },
    {
      "cell_type": "code",
      "execution_count": null,
      "metadata": {
        "id": "YpAqOEXb5Fca",
        "colab": {
          "base_uri": "https://localhost:8080/"
        },
        "outputId": "e4b6e910-01c6-4960-cb7a-00abc0e6bf22"
      },
      "outputs": [
        {
          "output_type": "execute_result",
          "data": {
            "text/plain": [
              "31.647988338208144"
            ]
          },
          "metadata": {},
          "execution_count": 34
        }
      ],
      "source": [
        "MAPE(test['Close'],TSE_add_predict)"
      ]
    },
    {
      "cell_type": "code",
      "execution_count": null,
      "metadata": {
        "id": "jmmm74225Fca",
        "colab": {
          "base_uri": "https://localhost:8080/"
        },
        "outputId": "953a6db5-9593-4406-e235-cf95fb8e5a27"
      },
      "outputs": [
        {
          "output_type": "stream",
          "name": "stdout",
          "text": [
            "739.6984143744763\n"
          ]
        }
      ],
      "source": [
        "rmse= np.sqrt(mean_squared_error(test['Close'],TSE_add_predict))\n",
        "print(rmse)"
      ]
    },
    {
      "cell_type": "markdown",
      "metadata": {
        "id": "tLCAUif15Fca"
      },
      "source": [
        "### ARIMA"
      ]
    },
    {
      "cell_type": "code",
      "execution_count": null,
      "metadata": {
        "id": "telpAR3S5Fcb",
        "colab": {
          "base_uri": "https://localhost:8080/"
        },
        "outputId": "2197d86e-e60e-4bae-ba46-91debf9084d2"
      },
      "outputs": [
        {
          "output_type": "stream",
          "name": "stdout",
          "text": [
            "parameter combinations for the Model\n",
            "Model: (0, 0, 1)\n",
            "Model: (0, 0, 2)\n",
            "Model: (0, 0, 3)\n",
            "Model: (0, 0, 4)\n",
            "Model: (0, 0, 5)\n",
            "Model: (0, 0, 6)\n",
            "Model: (0, 1, 0)\n",
            "Model: (0, 1, 1)\n",
            "Model: (0, 1, 2)\n",
            "Model: (0, 1, 3)\n",
            "Model: (0, 1, 4)\n",
            "Model: (0, 1, 5)\n",
            "Model: (0, 1, 6)\n",
            "Model: (1, 0, 0)\n",
            "Model: (1, 0, 1)\n",
            "Model: (1, 0, 2)\n",
            "Model: (1, 0, 3)\n",
            "Model: (1, 0, 4)\n",
            "Model: (1, 0, 5)\n",
            "Model: (1, 0, 6)\n",
            "Model: (1, 1, 0)\n",
            "Model: (1, 1, 1)\n",
            "Model: (1, 1, 2)\n",
            "Model: (1, 1, 3)\n",
            "Model: (1, 1, 4)\n",
            "Model: (1, 1, 5)\n",
            "Model: (1, 1, 6)\n",
            "Model: (2, 0, 0)\n",
            "Model: (2, 0, 1)\n",
            "Model: (2, 0, 2)\n",
            "Model: (2, 0, 3)\n",
            "Model: (2, 0, 4)\n",
            "Model: (2, 0, 5)\n",
            "Model: (2, 0, 6)\n",
            "Model: (2, 1, 0)\n",
            "Model: (2, 1, 1)\n",
            "Model: (2, 1, 2)\n",
            "Model: (2, 1, 3)\n",
            "Model: (2, 1, 4)\n",
            "Model: (2, 1, 5)\n",
            "Model: (2, 1, 6)\n",
            "Model: (3, 0, 0)\n",
            "Model: (3, 0, 1)\n",
            "Model: (3, 0, 2)\n",
            "Model: (3, 0, 3)\n",
            "Model: (3, 0, 4)\n",
            "Model: (3, 0, 5)\n",
            "Model: (3, 0, 6)\n",
            "Model: (3, 1, 0)\n",
            "Model: (3, 1, 1)\n",
            "Model: (3, 1, 2)\n",
            "Model: (3, 1, 3)\n",
            "Model: (3, 1, 4)\n",
            "Model: (3, 1, 5)\n",
            "Model: (3, 1, 6)\n",
            "Model: (4, 0, 0)\n",
            "Model: (4, 0, 1)\n",
            "Model: (4, 0, 2)\n",
            "Model: (4, 0, 3)\n",
            "Model: (4, 0, 4)\n",
            "Model: (4, 0, 5)\n",
            "Model: (4, 0, 6)\n",
            "Model: (4, 1, 0)\n",
            "Model: (4, 1, 1)\n",
            "Model: (4, 1, 2)\n",
            "Model: (4, 1, 3)\n",
            "Model: (4, 1, 4)\n",
            "Model: (4, 1, 5)\n",
            "Model: (4, 1, 6)\n",
            "Model: (5, 0, 0)\n",
            "Model: (5, 0, 1)\n",
            "Model: (5, 0, 2)\n",
            "Model: (5, 0, 3)\n",
            "Model: (5, 0, 4)\n",
            "Model: (5, 0, 5)\n",
            "Model: (5, 0, 6)\n",
            "Model: (5, 1, 0)\n",
            "Model: (5, 1, 1)\n",
            "Model: (5, 1, 2)\n",
            "Model: (5, 1, 3)\n",
            "Model: (5, 1, 4)\n",
            "Model: (5, 1, 5)\n",
            "Model: (5, 1, 6)\n",
            "Model: (6, 0, 0)\n",
            "Model: (6, 0, 1)\n",
            "Model: (6, 0, 2)\n",
            "Model: (6, 0, 3)\n",
            "Model: (6, 0, 4)\n",
            "Model: (6, 0, 5)\n",
            "Model: (6, 0, 6)\n",
            "Model: (6, 1, 0)\n",
            "Model: (6, 1, 1)\n",
            "Model: (6, 1, 2)\n",
            "Model: (6, 1, 3)\n",
            "Model: (6, 1, 4)\n",
            "Model: (6, 1, 5)\n",
            "Model: (6, 1, 6)\n"
          ]
        }
      ],
      "source": [
        "import itertools\n",
        "p = q = range(0, 7)\n",
        "d= range(0,2)\n",
        "pdq = list(itertools.product(p, d, q))\n",
        "print('parameter combinations for the Model')\n",
        "for i in range(1,len(pdq)):\n",
        "    print('Model: {}'.format(pdq[i]))"
      ]
    },
    {
      "cell_type": "code",
      "execution_count": null,
      "metadata": {
        "id": "AGm3h--55Fcb",
        "colab": {
          "base_uri": "https://localhost:8080/",
          "height": 50
        },
        "outputId": "e662db57-9137-4980-d3e3-125e91c8649b"
      },
      "outputs": [
        {
          "output_type": "execute_result",
          "data": {
            "text/plain": [
              "Empty DataFrame\n",
              "Columns: [param, AIC]\n",
              "Index: []"
            ],
            "text/html": [
              "\n",
              "  <div id=\"df-e9b1d67d-7135-440c-8aa5-5de3f94d80d3\">\n",
              "    <div class=\"colab-df-container\">\n",
              "      <div>\n",
              "<style scoped>\n",
              "    .dataframe tbody tr th:only-of-type {\n",
              "        vertical-align: middle;\n",
              "    }\n",
              "\n",
              "    .dataframe tbody tr th {\n",
              "        vertical-align: top;\n",
              "    }\n",
              "\n",
              "    .dataframe thead th {\n",
              "        text-align: right;\n",
              "    }\n",
              "</style>\n",
              "<table border=\"1\" class=\"dataframe\">\n",
              "  <thead>\n",
              "    <tr style=\"text-align: right;\">\n",
              "      <th></th>\n",
              "      <th>param</th>\n",
              "      <th>AIC</th>\n",
              "    </tr>\n",
              "  </thead>\n",
              "  <tbody>\n",
              "  </tbody>\n",
              "</table>\n",
              "</div>\n",
              "      <button class=\"colab-df-convert\" onclick=\"convertToInteractive('df-e9b1d67d-7135-440c-8aa5-5de3f94d80d3')\"\n",
              "              title=\"Convert this dataframe to an interactive table.\"\n",
              "              style=\"display:none;\">\n",
              "        \n",
              "  <svg xmlns=\"http://www.w3.org/2000/svg\" height=\"24px\"viewBox=\"0 0 24 24\"\n",
              "       width=\"24px\">\n",
              "    <path d=\"M0 0h24v24H0V0z\" fill=\"none\"/>\n",
              "    <path d=\"M18.56 5.44l.94 2.06.94-2.06 2.06-.94-2.06-.94-.94-2.06-.94 2.06-2.06.94zm-11 1L8.5 8.5l.94-2.06 2.06-.94-2.06-.94L8.5 2.5l-.94 2.06-2.06.94zm10 10l.94 2.06.94-2.06 2.06-.94-2.06-.94-.94-2.06-.94 2.06-2.06.94z\"/><path d=\"M17.41 7.96l-1.37-1.37c-.4-.4-.92-.59-1.43-.59-.52 0-1.04.2-1.43.59L10.3 9.45l-7.72 7.72c-.78.78-.78 2.05 0 2.83L4 21.41c.39.39.9.59 1.41.59.51 0 1.02-.2 1.41-.59l7.78-7.78 2.81-2.81c.8-.78.8-2.07 0-2.86zM5.41 20L4 18.59l7.72-7.72 1.47 1.35L5.41 20z\"/>\n",
              "  </svg>\n",
              "      </button>\n",
              "      \n",
              "  <style>\n",
              "    .colab-df-container {\n",
              "      display:flex;\n",
              "      flex-wrap:wrap;\n",
              "      gap: 12px;\n",
              "    }\n",
              "\n",
              "    .colab-df-convert {\n",
              "      background-color: #E8F0FE;\n",
              "      border: none;\n",
              "      border-radius: 50%;\n",
              "      cursor: pointer;\n",
              "      display: none;\n",
              "      fill: #1967D2;\n",
              "      height: 32px;\n",
              "      padding: 0 0 0 0;\n",
              "      width: 32px;\n",
              "    }\n",
              "\n",
              "    .colab-df-convert:hover {\n",
              "      background-color: #E2EBFA;\n",
              "      box-shadow: 0px 1px 2px rgba(60, 64, 67, 0.3), 0px 1px 3px 1px rgba(60, 64, 67, 0.15);\n",
              "      fill: #174EA6;\n",
              "    }\n",
              "\n",
              "    [theme=dark] .colab-df-convert {\n",
              "      background-color: #3B4455;\n",
              "      fill: #D2E3FC;\n",
              "    }\n",
              "\n",
              "    [theme=dark] .colab-df-convert:hover {\n",
              "      background-color: #434B5C;\n",
              "      box-shadow: 0px 1px 3px 1px rgba(0, 0, 0, 0.15);\n",
              "      filter: drop-shadow(0px 1px 2px rgba(0, 0, 0, 0.3));\n",
              "      fill: #FFFFFF;\n",
              "    }\n",
              "  </style>\n",
              "\n",
              "      <script>\n",
              "        const buttonEl =\n",
              "          document.querySelector('#df-e9b1d67d-7135-440c-8aa5-5de3f94d80d3 button.colab-df-convert');\n",
              "        buttonEl.style.display =\n",
              "          google.colab.kernel.accessAllowed ? 'block' : 'none';\n",
              "\n",
              "        async function convertToInteractive(key) {\n",
              "          const element = document.querySelector('#df-e9b1d67d-7135-440c-8aa5-5de3f94d80d3');\n",
              "          const dataTable =\n",
              "            await google.colab.kernel.invokeFunction('convertToInteractive',\n",
              "                                                     [key], {});\n",
              "          if (!dataTable) return;\n",
              "\n",
              "          const docLinkHtml = 'Like what you see? Visit the ' +\n",
              "            '<a target=\"_blank\" href=https://colab.research.google.com/notebooks/data_table.ipynb>data table notebook</a>'\n",
              "            + ' to learn more about interactive tables.';\n",
              "          element.innerHTML = '';\n",
              "          dataTable['output_type'] = 'display_data';\n",
              "          await google.colab.output.renderOutput(dataTable, element);\n",
              "          const docLink = document.createElement('div');\n",
              "          docLink.innerHTML = docLinkHtml;\n",
              "          element.appendChild(docLink);\n",
              "        }\n",
              "      </script>\n",
              "    </div>\n",
              "  </div>\n",
              "  "
            ]
          },
          "metadata": {},
          "execution_count": 35
        }
      ],
      "source": [
        "dfObj1 = pd.DataFrame(columns=['param', 'AIC'])\n",
        "dfObj1"
      ]
    },
    {
      "cell_type": "code",
      "execution_count": null,
      "metadata": {
        "id": "bk8TFpKC5Fcb",
        "colab": {
          "base_uri": "https://localhost:8080/"
        },
        "outputId": "d05607ca-e11d-4a4a-db45-53067dba60e3"
      },
      "outputs": [
        {
          "output_type": "stream",
          "name": "stdout",
          "text": [
            "ARIMA(0, 0, 0) - AIC:86191.21876621786\n",
            "ARIMA(0, 0, 1) - AIC:78132.78646222332\n",
            "ARIMA(0, 0, 4) - AIC:61808.27093773255\n",
            "ARIMA(0, 0, 6) - AIC:56455.82552348552\n",
            "ARIMA(0, 1, 0) - AIC:43375.74441700964\n",
            "ARIMA(0, 1, 1) - AIC:43370.024352460074\n",
            "ARIMA(0, 1, 2) - AIC:43365.28968474071\n",
            "ARIMA(0, 1, 3) - AIC:43349.2943445494\n",
            "ARIMA(0, 1, 4) - AIC:43345.44831916013\n",
            "ARIMA(0, 1, 5) - AIC:43318.68314155544\n",
            "ARIMA(0, 1, 6) - AIC:43318.65778432401\n",
            "ARIMA(1, 0, 0) - AIC:43396.802138863\n",
            "ARIMA(1, 1, 0) - AIC:43369.56766774836\n",
            "ARIMA(1, 1, 1) - AIC:43370.64049787348\n",
            "ARIMA(1, 1, 2) - AIC:43362.320091354166\n",
            "ARIMA(1, 1, 3) - AIC:43330.71641543279\n",
            "ARIMA(1, 1, 4) - AIC:43331.77389649264\n",
            "ARIMA(1, 1, 5) - AIC:43319.00983444453\n",
            "ARIMA(2, 0, 0) - AIC:43390.57209827182\n",
            "ARIMA(2, 1, 0) - AIC:43367.24727793511\n",
            "ARIMA(2, 1, 1) - AIC:43359.63179096082\n",
            "ARIMA(2, 1, 2) - AIC:43329.455112530406\n",
            "ARIMA(2, 1, 3) - AIC:43324.00338816624\n",
            "ARIMA(2, 1, 4) - AIC:43311.318690404514\n",
            "ARIMA(2, 1, 5) - AIC:43308.15976163175\n",
            "ARIMA(3, 0, 0) - AIC:43388.03955514894\n",
            "ARIMA(3, 1, 0) - AIC:43346.060209834\n",
            "ARIMA(3, 1, 1) - AIC:43325.47646106124\n",
            "ARIMA(3, 1, 2) - AIC:43323.28815871691\n",
            "ARIMA(3, 1, 3) - AIC:43318.229493361025\n",
            "ARIMA(3, 1, 4) - AIC:43311.57434147225\n",
            "ARIMA(3, 1, 5) - AIC:43303.765372783426\n",
            "ARIMA(4, 0, 0) - AIC:43367.352226539166\n",
            "ARIMA(4, 1, 0) - AIC:43341.37417023917\n",
            "ARIMA(4, 1, 1) - AIC:43326.80181941038\n",
            "ARIMA(4, 1, 2) - AIC:43328.199819263464\n",
            "ARIMA(4, 1, 3) - AIC:43309.87433229127\n",
            "ARIMA(4, 1, 4) - AIC:43311.43091354541\n",
            "ARIMA(4, 1, 5) - AIC:43305.39168769885\n",
            "ARIMA(4, 1, 6) - AIC:43304.62655874122\n",
            "ARIMA(5, 0, 0) - AIC:43362.94115130338\n",
            "ARIMA(5, 1, 0) - AIC:43316.22828037333\n",
            "ARIMA(5, 1, 1) - AIC:43316.691669987056\n",
            "ARIMA(5, 1, 2) - AIC:43318.38044764013\n",
            "ARIMA(5, 1, 3) - AIC:43320.29127020828\n",
            "ARIMA(5, 1, 4) - AIC:43304.225229749354\n",
            "ARIMA(5, 1, 5) - AIC:43302.86856322309\n",
            "ARIMA(6, 0, 0) - AIC:43345.672557056576\n",
            "ARIMA(6, 1, 0) - AIC:43316.45324757191\n",
            "ARIMA(6, 1, 1) - AIC:43318.31222827037\n",
            "ARIMA(6, 1, 2) - AIC:43320.237090184484\n",
            "ARIMA(6, 1, 3) - AIC:43313.15750378813\n",
            "ARIMA(6, 1, 4) - AIC:43293.44570890367\n",
            "ARIMA(6, 1, 5) - AIC:43294.357129939024\n",
            "ARIMA(6, 1, 6) - AIC:43296.34798004504\n"
          ]
        }
      ],
      "source": [
        "for param in pdq:\n",
        "            try:\n",
        "                mod = ARIMA(train, order=param)\n",
        "                results_Arima = mod.fit()\n",
        "                print('ARIMA{} - AIC:{}'.format(param, results_Arima.aic))\n",
        "                dfObj1 = dfObj1.append({'param':param, 'AIC': results_Arima.aic}, ignore_index=True)\n",
        "\n",
        "            except:\n",
        "                continue"
      ]
    },
    {
      "cell_type": "code",
      "execution_count": null,
      "metadata": {
        "id": "VBHLc7-t5Fcb",
        "colab": {
          "base_uri": "https://localhost:8080/",
          "height": 1000
        },
        "outputId": "f887d942-e984-4c00-815e-ce43a8e5b17b"
      },
      "outputs": [
        {
          "output_type": "execute_result",
          "data": {
            "text/plain": [
              "        param           AIC\n",
              "52  (6, 1, 4)  43293.445709\n",
              "53  (6, 1, 5)  43294.357130\n",
              "54  (6, 1, 6)  43296.347980\n",
              "46  (5, 1, 5)  43302.868563\n",
              "31  (3, 1, 5)  43303.765373\n",
              "45  (5, 1, 4)  43304.225230\n",
              "39  (4, 1, 6)  43304.626559\n",
              "38  (4, 1, 5)  43305.391688\n",
              "24  (2, 1, 5)  43308.159762\n",
              "36  (4, 1, 3)  43309.874332\n",
              "23  (2, 1, 4)  43311.318690\n",
              "37  (4, 1, 4)  43311.430914\n",
              "30  (3, 1, 4)  43311.574341\n",
              "51  (6, 1, 3)  43313.157504\n",
              "41  (5, 1, 0)  43316.228280\n",
              "48  (6, 1, 0)  43316.453248\n",
              "42  (5, 1, 1)  43316.691670\n",
              "29  (3, 1, 3)  43318.229493\n",
              "49  (6, 1, 1)  43318.312228\n",
              "43  (5, 1, 2)  43318.380448\n",
              "10  (0, 1, 6)  43318.657784\n",
              "9   (0, 1, 5)  43318.683142\n",
              "17  (1, 1, 5)  43319.009834\n",
              "50  (6, 1, 2)  43320.237090\n",
              "44  (5, 1, 3)  43320.291270\n",
              "28  (3, 1, 2)  43323.288159\n",
              "22  (2, 1, 3)  43324.003388\n",
              "27  (3, 1, 1)  43325.476461\n",
              "34  (4, 1, 1)  43326.801819\n",
              "35  (4, 1, 2)  43328.199819\n",
              "21  (2, 1, 2)  43329.455113\n",
              "15  (1, 1, 3)  43330.716415\n",
              "16  (1, 1, 4)  43331.773896\n",
              "33  (4, 1, 0)  43341.374170\n",
              "8   (0, 1, 4)  43345.448319\n",
              "47  (6, 0, 0)  43345.672557\n",
              "26  (3, 1, 0)  43346.060210\n",
              "7   (0, 1, 3)  43349.294345\n",
              "20  (2, 1, 1)  43359.631791\n",
              "14  (1, 1, 2)  43362.320091\n",
              "40  (5, 0, 0)  43362.941151\n",
              "6   (0, 1, 2)  43365.289685\n",
              "19  (2, 1, 0)  43367.247278\n",
              "32  (4, 0, 0)  43367.352227\n",
              "12  (1, 1, 0)  43369.567668\n",
              "5   (0, 1, 1)  43370.024352\n",
              "13  (1, 1, 1)  43370.640498\n",
              "4   (0, 1, 0)  43375.744417\n",
              "25  (3, 0, 0)  43388.039555\n",
              "18  (2, 0, 0)  43390.572098\n",
              "11  (1, 0, 0)  43396.802139\n",
              "3   (0, 0, 6)  56455.825523\n",
              "2   (0, 0, 4)  61808.270938\n",
              "1   (0, 0, 1)  78132.786462\n",
              "0   (0, 0, 0)  86191.218766"
            ],
            "text/html": [
              "\n",
              "  <div id=\"df-31b178a8-83f7-4eb8-99f2-da74fcbcfbed\">\n",
              "    <div class=\"colab-df-container\">\n",
              "      <div>\n",
              "<style scoped>\n",
              "    .dataframe tbody tr th:only-of-type {\n",
              "        vertical-align: middle;\n",
              "    }\n",
              "\n",
              "    .dataframe tbody tr th {\n",
              "        vertical-align: top;\n",
              "    }\n",
              "\n",
              "    .dataframe thead th {\n",
              "        text-align: right;\n",
              "    }\n",
              "</style>\n",
              "<table border=\"1\" class=\"dataframe\">\n",
              "  <thead>\n",
              "    <tr style=\"text-align: right;\">\n",
              "      <th></th>\n",
              "      <th>param</th>\n",
              "      <th>AIC</th>\n",
              "    </tr>\n",
              "  </thead>\n",
              "  <tbody>\n",
              "    <tr>\n",
              "      <th>52</th>\n",
              "      <td>(6, 1, 4)</td>\n",
              "      <td>43293.445709</td>\n",
              "    </tr>\n",
              "    <tr>\n",
              "      <th>53</th>\n",
              "      <td>(6, 1, 5)</td>\n",
              "      <td>43294.357130</td>\n",
              "    </tr>\n",
              "    <tr>\n",
              "      <th>54</th>\n",
              "      <td>(6, 1, 6)</td>\n",
              "      <td>43296.347980</td>\n",
              "    </tr>\n",
              "    <tr>\n",
              "      <th>46</th>\n",
              "      <td>(5, 1, 5)</td>\n",
              "      <td>43302.868563</td>\n",
              "    </tr>\n",
              "    <tr>\n",
              "      <th>31</th>\n",
              "      <td>(3, 1, 5)</td>\n",
              "      <td>43303.765373</td>\n",
              "    </tr>\n",
              "    <tr>\n",
              "      <th>45</th>\n",
              "      <td>(5, 1, 4)</td>\n",
              "      <td>43304.225230</td>\n",
              "    </tr>\n",
              "    <tr>\n",
              "      <th>39</th>\n",
              "      <td>(4, 1, 6)</td>\n",
              "      <td>43304.626559</td>\n",
              "    </tr>\n",
              "    <tr>\n",
              "      <th>38</th>\n",
              "      <td>(4, 1, 5)</td>\n",
              "      <td>43305.391688</td>\n",
              "    </tr>\n",
              "    <tr>\n",
              "      <th>24</th>\n",
              "      <td>(2, 1, 5)</td>\n",
              "      <td>43308.159762</td>\n",
              "    </tr>\n",
              "    <tr>\n",
              "      <th>36</th>\n",
              "      <td>(4, 1, 3)</td>\n",
              "      <td>43309.874332</td>\n",
              "    </tr>\n",
              "    <tr>\n",
              "      <th>23</th>\n",
              "      <td>(2, 1, 4)</td>\n",
              "      <td>43311.318690</td>\n",
              "    </tr>\n",
              "    <tr>\n",
              "      <th>37</th>\n",
              "      <td>(4, 1, 4)</td>\n",
              "      <td>43311.430914</td>\n",
              "    </tr>\n",
              "    <tr>\n",
              "      <th>30</th>\n",
              "      <td>(3, 1, 4)</td>\n",
              "      <td>43311.574341</td>\n",
              "    </tr>\n",
              "    <tr>\n",
              "      <th>51</th>\n",
              "      <td>(6, 1, 3)</td>\n",
              "      <td>43313.157504</td>\n",
              "    </tr>\n",
              "    <tr>\n",
              "      <th>41</th>\n",
              "      <td>(5, 1, 0)</td>\n",
              "      <td>43316.228280</td>\n",
              "    </tr>\n",
              "    <tr>\n",
              "      <th>48</th>\n",
              "      <td>(6, 1, 0)</td>\n",
              "      <td>43316.453248</td>\n",
              "    </tr>\n",
              "    <tr>\n",
              "      <th>42</th>\n",
              "      <td>(5, 1, 1)</td>\n",
              "      <td>43316.691670</td>\n",
              "    </tr>\n",
              "    <tr>\n",
              "      <th>29</th>\n",
              "      <td>(3, 1, 3)</td>\n",
              "      <td>43318.229493</td>\n",
              "    </tr>\n",
              "    <tr>\n",
              "      <th>49</th>\n",
              "      <td>(6, 1, 1)</td>\n",
              "      <td>43318.312228</td>\n",
              "    </tr>\n",
              "    <tr>\n",
              "      <th>43</th>\n",
              "      <td>(5, 1, 2)</td>\n",
              "      <td>43318.380448</td>\n",
              "    </tr>\n",
              "    <tr>\n",
              "      <th>10</th>\n",
              "      <td>(0, 1, 6)</td>\n",
              "      <td>43318.657784</td>\n",
              "    </tr>\n",
              "    <tr>\n",
              "      <th>9</th>\n",
              "      <td>(0, 1, 5)</td>\n",
              "      <td>43318.683142</td>\n",
              "    </tr>\n",
              "    <tr>\n",
              "      <th>17</th>\n",
              "      <td>(1, 1, 5)</td>\n",
              "      <td>43319.009834</td>\n",
              "    </tr>\n",
              "    <tr>\n",
              "      <th>50</th>\n",
              "      <td>(6, 1, 2)</td>\n",
              "      <td>43320.237090</td>\n",
              "    </tr>\n",
              "    <tr>\n",
              "      <th>44</th>\n",
              "      <td>(5, 1, 3)</td>\n",
              "      <td>43320.291270</td>\n",
              "    </tr>\n",
              "    <tr>\n",
              "      <th>28</th>\n",
              "      <td>(3, 1, 2)</td>\n",
              "      <td>43323.288159</td>\n",
              "    </tr>\n",
              "    <tr>\n",
              "      <th>22</th>\n",
              "      <td>(2, 1, 3)</td>\n",
              "      <td>43324.003388</td>\n",
              "    </tr>\n",
              "    <tr>\n",
              "      <th>27</th>\n",
              "      <td>(3, 1, 1)</td>\n",
              "      <td>43325.476461</td>\n",
              "    </tr>\n",
              "    <tr>\n",
              "      <th>34</th>\n",
              "      <td>(4, 1, 1)</td>\n",
              "      <td>43326.801819</td>\n",
              "    </tr>\n",
              "    <tr>\n",
              "      <th>35</th>\n",
              "      <td>(4, 1, 2)</td>\n",
              "      <td>43328.199819</td>\n",
              "    </tr>\n",
              "    <tr>\n",
              "      <th>21</th>\n",
              "      <td>(2, 1, 2)</td>\n",
              "      <td>43329.455113</td>\n",
              "    </tr>\n",
              "    <tr>\n",
              "      <th>15</th>\n",
              "      <td>(1, 1, 3)</td>\n",
              "      <td>43330.716415</td>\n",
              "    </tr>\n",
              "    <tr>\n",
              "      <th>16</th>\n",
              "      <td>(1, 1, 4)</td>\n",
              "      <td>43331.773896</td>\n",
              "    </tr>\n",
              "    <tr>\n",
              "      <th>33</th>\n",
              "      <td>(4, 1, 0)</td>\n",
              "      <td>43341.374170</td>\n",
              "    </tr>\n",
              "    <tr>\n",
              "      <th>8</th>\n",
              "      <td>(0, 1, 4)</td>\n",
              "      <td>43345.448319</td>\n",
              "    </tr>\n",
              "    <tr>\n",
              "      <th>47</th>\n",
              "      <td>(6, 0, 0)</td>\n",
              "      <td>43345.672557</td>\n",
              "    </tr>\n",
              "    <tr>\n",
              "      <th>26</th>\n",
              "      <td>(3, 1, 0)</td>\n",
              "      <td>43346.060210</td>\n",
              "    </tr>\n",
              "    <tr>\n",
              "      <th>7</th>\n",
              "      <td>(0, 1, 3)</td>\n",
              "      <td>43349.294345</td>\n",
              "    </tr>\n",
              "    <tr>\n",
              "      <th>20</th>\n",
              "      <td>(2, 1, 1)</td>\n",
              "      <td>43359.631791</td>\n",
              "    </tr>\n",
              "    <tr>\n",
              "      <th>14</th>\n",
              "      <td>(1, 1, 2)</td>\n",
              "      <td>43362.320091</td>\n",
              "    </tr>\n",
              "    <tr>\n",
              "      <th>40</th>\n",
              "      <td>(5, 0, 0)</td>\n",
              "      <td>43362.941151</td>\n",
              "    </tr>\n",
              "    <tr>\n",
              "      <th>6</th>\n",
              "      <td>(0, 1, 2)</td>\n",
              "      <td>43365.289685</td>\n",
              "    </tr>\n",
              "    <tr>\n",
              "      <th>19</th>\n",
              "      <td>(2, 1, 0)</td>\n",
              "      <td>43367.247278</td>\n",
              "    </tr>\n",
              "    <tr>\n",
              "      <th>32</th>\n",
              "      <td>(4, 0, 0)</td>\n",
              "      <td>43367.352227</td>\n",
              "    </tr>\n",
              "    <tr>\n",
              "      <th>12</th>\n",
              "      <td>(1, 1, 0)</td>\n",
              "      <td>43369.567668</td>\n",
              "    </tr>\n",
              "    <tr>\n",
              "      <th>5</th>\n",
              "      <td>(0, 1, 1)</td>\n",
              "      <td>43370.024352</td>\n",
              "    </tr>\n",
              "    <tr>\n",
              "      <th>13</th>\n",
              "      <td>(1, 1, 1)</td>\n",
              "      <td>43370.640498</td>\n",
              "    </tr>\n",
              "    <tr>\n",
              "      <th>4</th>\n",
              "      <td>(0, 1, 0)</td>\n",
              "      <td>43375.744417</td>\n",
              "    </tr>\n",
              "    <tr>\n",
              "      <th>25</th>\n",
              "      <td>(3, 0, 0)</td>\n",
              "      <td>43388.039555</td>\n",
              "    </tr>\n",
              "    <tr>\n",
              "      <th>18</th>\n",
              "      <td>(2, 0, 0)</td>\n",
              "      <td>43390.572098</td>\n",
              "    </tr>\n",
              "    <tr>\n",
              "      <th>11</th>\n",
              "      <td>(1, 0, 0)</td>\n",
              "      <td>43396.802139</td>\n",
              "    </tr>\n",
              "    <tr>\n",
              "      <th>3</th>\n",
              "      <td>(0, 0, 6)</td>\n",
              "      <td>56455.825523</td>\n",
              "    </tr>\n",
              "    <tr>\n",
              "      <th>2</th>\n",
              "      <td>(0, 0, 4)</td>\n",
              "      <td>61808.270938</td>\n",
              "    </tr>\n",
              "    <tr>\n",
              "      <th>1</th>\n",
              "      <td>(0, 0, 1)</td>\n",
              "      <td>78132.786462</td>\n",
              "    </tr>\n",
              "    <tr>\n",
              "      <th>0</th>\n",
              "      <td>(0, 0, 0)</td>\n",
              "      <td>86191.218766</td>\n",
              "    </tr>\n",
              "  </tbody>\n",
              "</table>\n",
              "</div>\n",
              "      <button class=\"colab-df-convert\" onclick=\"convertToInteractive('df-31b178a8-83f7-4eb8-99f2-da74fcbcfbed')\"\n",
              "              title=\"Convert this dataframe to an interactive table.\"\n",
              "              style=\"display:none;\">\n",
              "        \n",
              "  <svg xmlns=\"http://www.w3.org/2000/svg\" height=\"24px\"viewBox=\"0 0 24 24\"\n",
              "       width=\"24px\">\n",
              "    <path d=\"M0 0h24v24H0V0z\" fill=\"none\"/>\n",
              "    <path d=\"M18.56 5.44l.94 2.06.94-2.06 2.06-.94-2.06-.94-.94-2.06-.94 2.06-2.06.94zm-11 1L8.5 8.5l.94-2.06 2.06-.94-2.06-.94L8.5 2.5l-.94 2.06-2.06.94zm10 10l.94 2.06.94-2.06 2.06-.94-2.06-.94-.94-2.06-.94 2.06-2.06.94z\"/><path d=\"M17.41 7.96l-1.37-1.37c-.4-.4-.92-.59-1.43-.59-.52 0-1.04.2-1.43.59L10.3 9.45l-7.72 7.72c-.78.78-.78 2.05 0 2.83L4 21.41c.39.39.9.59 1.41.59.51 0 1.02-.2 1.41-.59l7.78-7.78 2.81-2.81c.8-.78.8-2.07 0-2.86zM5.41 20L4 18.59l7.72-7.72 1.47 1.35L5.41 20z\"/>\n",
              "  </svg>\n",
              "      </button>\n",
              "      \n",
              "  <style>\n",
              "    .colab-df-container {\n",
              "      display:flex;\n",
              "      flex-wrap:wrap;\n",
              "      gap: 12px;\n",
              "    }\n",
              "\n",
              "    .colab-df-convert {\n",
              "      background-color: #E8F0FE;\n",
              "      border: none;\n",
              "      border-radius: 50%;\n",
              "      cursor: pointer;\n",
              "      display: none;\n",
              "      fill: #1967D2;\n",
              "      height: 32px;\n",
              "      padding: 0 0 0 0;\n",
              "      width: 32px;\n",
              "    }\n",
              "\n",
              "    .colab-df-convert:hover {\n",
              "      background-color: #E2EBFA;\n",
              "      box-shadow: 0px 1px 2px rgba(60, 64, 67, 0.3), 0px 1px 3px 1px rgba(60, 64, 67, 0.15);\n",
              "      fill: #174EA6;\n",
              "    }\n",
              "\n",
              "    [theme=dark] .colab-df-convert {\n",
              "      background-color: #3B4455;\n",
              "      fill: #D2E3FC;\n",
              "    }\n",
              "\n",
              "    [theme=dark] .colab-df-convert:hover {\n",
              "      background-color: #434B5C;\n",
              "      box-shadow: 0px 1px 3px 1px rgba(0, 0, 0, 0.15);\n",
              "      filter: drop-shadow(0px 1px 2px rgba(0, 0, 0, 0.3));\n",
              "      fill: #FFFFFF;\n",
              "    }\n",
              "  </style>\n",
              "\n",
              "      <script>\n",
              "        const buttonEl =\n",
              "          document.querySelector('#df-31b178a8-83f7-4eb8-99f2-da74fcbcfbed button.colab-df-convert');\n",
              "        buttonEl.style.display =\n",
              "          google.colab.kernel.accessAllowed ? 'block' : 'none';\n",
              "\n",
              "        async function convertToInteractive(key) {\n",
              "          const element = document.querySelector('#df-31b178a8-83f7-4eb8-99f2-da74fcbcfbed');\n",
              "          const dataTable =\n",
              "            await google.colab.kernel.invokeFunction('convertToInteractive',\n",
              "                                                     [key], {});\n",
              "          if (!dataTable) return;\n",
              "\n",
              "          const docLinkHtml = 'Like what you see? Visit the ' +\n",
              "            '<a target=\"_blank\" href=https://colab.research.google.com/notebooks/data_table.ipynb>data table notebook</a>'\n",
              "            + ' to learn more about interactive tables.';\n",
              "          element.innerHTML = '';\n",
              "          dataTable['output_type'] = 'display_data';\n",
              "          await google.colab.output.renderOutput(dataTable, element);\n",
              "          const docLink = document.createElement('div');\n",
              "          docLink.innerHTML = docLinkHtml;\n",
              "          element.appendChild(docLink);\n",
              "        }\n",
              "      </script>\n",
              "    </div>\n",
              "  </div>\n",
              "  "
            ]
          },
          "metadata": {},
          "execution_count": 37
        }
      ],
      "source": [
        "dfObj1.sort_values(by=['AIC'])"
      ]
    },
    {
      "cell_type": "code",
      "execution_count": null,
      "metadata": {
        "id": "_D-0LNv65Fcc",
        "colab": {
          "base_uri": "https://localhost:8080/"
        },
        "outputId": "43de87b1-c167-4977-9f09-dd5552a827bd"
      },
      "outputs": [
        {
          "output_type": "stream",
          "name": "stdout",
          "text": [
            "                             ARIMA Model Results                              \n",
            "==============================================================================\n",
            "Dep. Variable:                D.Close   No. Observations:                 6000\n",
            "Model:                 ARIMA(6, 1, 4)   Log Likelihood              -21634.723\n",
            "Method:                       css-mle   S.D. of innovations              8.907\n",
            "Date:                Sat, 26 Mar 2022   AIC                          43293.446\n",
            "Time:                        02:38:07   BIC                          43373.840\n",
            "Sample:                    01-02-1996   HQIC                         43321.364\n",
            "                         - 12-31-2018                                         \n",
            "=================================================================================\n",
            "                    coef    std err          z      P>|z|      [0.025      0.975]\n",
            "---------------------------------------------------------------------------------\n",
            "const             0.2224      0.115      1.941      0.052      -0.002       0.447\n",
            "ar.L1.D.Close     0.7231      0.064     11.334      0.000       0.598       0.848\n",
            "ar.L2.D.Close    -0.0715      0.027     -2.651      0.008      -0.124      -0.019\n",
            "ar.L3.D.Close     0.7236      0.025     28.684      0.000       0.674       0.773\n",
            "ar.L4.D.Close    -0.8447      0.049    -17.301      0.000      -0.940      -0.749\n",
            "ar.L5.D.Close    -0.0250      0.018     -1.428      0.153      -0.059       0.009\n",
            "ar.L6.D.Close     0.0722      0.014      5.153      0.000       0.045       0.100\n",
            "ma.L1.D.Close    -0.6921      0.063    -10.992      0.000      -0.815      -0.569\n",
            "ma.L2.D.Close     0.0754      0.023      3.265      0.001       0.030       0.121\n",
            "ma.L3.D.Close    -0.7953      0.021    -37.045      0.000      -0.837      -0.753\n",
            "ma.L4.D.Close     0.8328      0.051     16.215      0.000       0.732       0.933\n",
            "                                    Roots                                    \n",
            "=============================================================================\n",
            "                  Real          Imaginary           Modulus         Frequency\n",
            "-----------------------------------------------------------------------------\n",
            "AR.1           -0.5194           -0.8735j            1.0163           -0.3354\n",
            "AR.2           -0.5194           +0.8735j            1.0163            0.3354\n",
            "AR.3            0.9963           -0.4439j            1.0907           -0.0667\n",
            "AR.4            0.9963           +0.4439j            1.0907            0.0667\n",
            "AR.5            3.0671           -0.0000j            3.0671           -0.0000\n",
            "AR.6           -3.6745           -0.0000j            3.6745           -0.5000\n",
            "MA.1           -0.5251           -0.8667j            1.0134           -0.3367\n",
            "MA.2           -0.5251           +0.8667j            1.0134            0.3367\n",
            "MA.3            1.0025           -0.4052j            1.0813           -0.0611\n",
            "MA.4            1.0025           +0.4052j            1.0813            0.0611\n",
            "-----------------------------------------------------------------------------\n"
          ]
        }
      ],
      "source": [
        "model = ARIMA(train, order=(6,1,4))\n",
        "\n",
        "results_Arima = model.fit()\n",
        "\n",
        "print(results_Arima.summary())"
      ]
    },
    {
      "cell_type": "code",
      "execution_count": null,
      "metadata": {
        "id": "3nazaxVd5Fcc"
      },
      "outputs": [],
      "source": [
        "pred_start=test.index[0]\n",
        "pred_end=test.index[-1]"
      ]
    },
    {
      "cell_type": "code",
      "execution_count": null,
      "metadata": {
        "id": "e7hfLFOE5Fcc"
      },
      "outputs": [],
      "source": [
        "ARIMA_predictions=results_Arima.predict(start=pred_start, end=pred_end)"
      ]
    },
    {
      "cell_type": "code",
      "execution_count": null,
      "metadata": {
        "id": "cAfC07JB5Fcc",
        "colab": {
          "base_uri": "https://localhost:8080/"
        },
        "outputId": "056d5442-a17d-4f6d-c6ff-59c095af8639"
      },
      "outputs": [
        {
          "output_type": "execute_result",
          "data": {
            "text/plain": [
              "2019-01-01    0.439570\n",
              "2019-01-02   -1.109378\n",
              "2019-01-03    0.325596\n",
              "2019-01-04   -0.253922\n",
              "2019-01-07   -1.053110\n",
              "                ...   \n",
              "2021-02-26    0.222550\n",
              "2021-03-01    0.222348\n",
              "2021-03-02    0.222408\n",
              "2021-03-03    0.222543\n",
              "2021-03-04    0.222349\n",
              "Freq: B, Length: 568, dtype: float64"
            ]
          },
          "metadata": {},
          "execution_count": 41
        }
      ],
      "source": [
        "ARIMA_predictions"
      ]
    },
    {
      "cell_type": "code",
      "execution_count": null,
      "metadata": {
        "id": "7PYf1Rj75Fcc",
        "colab": {
          "base_uri": "https://localhost:8080/"
        },
        "outputId": "0c42f85b-dc03-41ee-f66a-eb98e307a10b"
      },
      "outputs": [
        {
          "output_type": "execute_result",
          "data": {
            "text/plain": [
              "2019-01-01      0.439570\n",
              "2019-01-02     -0.669808\n",
              "2019-01-03     -0.344212\n",
              "2019-01-04     -0.598134\n",
              "2019-01-07     -1.651244\n",
              "                 ...    \n",
              "2021-02-26    124.633396\n",
              "2021-03-01    124.855743\n",
              "2021-03-02    125.078151\n",
              "2021-03-03    125.300695\n",
              "2021-03-04    125.523043\n",
              "Freq: B, Length: 568, dtype: float64"
            ]
          },
          "metadata": {},
          "execution_count": 42
        }
      ],
      "source": [
        "ARIMA_pred=ARIMA_predictions.cumsum()\n",
        "ARIMA_pred"
      ]
    },
    {
      "cell_type": "code",
      "execution_count": null,
      "metadata": {
        "id": "8gbo9diL5Fcc"
      },
      "outputs": [],
      "source": [
        "ARIMA_pred=pd.DataFrame(ARIMA_pred,columns=train.columns)"
      ]
    },
    {
      "cell_type": "code",
      "execution_count": null,
      "metadata": {
        "id": "7rGv9PTm5Fcd"
      },
      "outputs": [],
      "source": [
        "predict_fc = ARIMA_pred.copy()\n",
        "columns = train.columns\n",
        "for col in columns:        \n",
        "        predict_fc[str(col)+'_forecast'] = train[col].iloc[-1] + predict_fc[str(col)]"
      ]
    },
    {
      "cell_type": "code",
      "execution_count": null,
      "metadata": {
        "id": "6vz76m2S5Fcd",
        "colab": {
          "base_uri": "https://localhost:8080/",
          "height": 206
        },
        "outputId": "9caa98f4-8f38-449b-a23c-77ac80679064"
      },
      "outputs": [
        {
          "output_type": "execute_result",
          "data": {
            "text/plain": [
              "               Close  Close_forecast\n",
              "2019-01-01  0.439570     1351.780268\n",
              "2019-01-02 -0.669808     1350.670890\n",
              "2019-01-03 -0.344212     1350.996486\n",
              "2019-01-04 -0.598134     1350.742564\n",
              "2019-01-07 -1.651244     1349.689454"
            ],
            "text/html": [
              "\n",
              "  <div id=\"df-97524e6e-99a7-4b67-96a6-d32946c6f44f\">\n",
              "    <div class=\"colab-df-container\">\n",
              "      <div>\n",
              "<style scoped>\n",
              "    .dataframe tbody tr th:only-of-type {\n",
              "        vertical-align: middle;\n",
              "    }\n",
              "\n",
              "    .dataframe tbody tr th {\n",
              "        vertical-align: top;\n",
              "    }\n",
              "\n",
              "    .dataframe thead th {\n",
              "        text-align: right;\n",
              "    }\n",
              "</style>\n",
              "<table border=\"1\" class=\"dataframe\">\n",
              "  <thead>\n",
              "    <tr style=\"text-align: right;\">\n",
              "      <th></th>\n",
              "      <th>Close</th>\n",
              "      <th>Close_forecast</th>\n",
              "    </tr>\n",
              "  </thead>\n",
              "  <tbody>\n",
              "    <tr>\n",
              "      <th>2019-01-01</th>\n",
              "      <td>0.439570</td>\n",
              "      <td>1351.780268</td>\n",
              "    </tr>\n",
              "    <tr>\n",
              "      <th>2019-01-02</th>\n",
              "      <td>-0.669808</td>\n",
              "      <td>1350.670890</td>\n",
              "    </tr>\n",
              "    <tr>\n",
              "      <th>2019-01-03</th>\n",
              "      <td>-0.344212</td>\n",
              "      <td>1350.996486</td>\n",
              "    </tr>\n",
              "    <tr>\n",
              "      <th>2019-01-04</th>\n",
              "      <td>-0.598134</td>\n",
              "      <td>1350.742564</td>\n",
              "    </tr>\n",
              "    <tr>\n",
              "      <th>2019-01-07</th>\n",
              "      <td>-1.651244</td>\n",
              "      <td>1349.689454</td>\n",
              "    </tr>\n",
              "  </tbody>\n",
              "</table>\n",
              "</div>\n",
              "      <button class=\"colab-df-convert\" onclick=\"convertToInteractive('df-97524e6e-99a7-4b67-96a6-d32946c6f44f')\"\n",
              "              title=\"Convert this dataframe to an interactive table.\"\n",
              "              style=\"display:none;\">\n",
              "        \n",
              "  <svg xmlns=\"http://www.w3.org/2000/svg\" height=\"24px\"viewBox=\"0 0 24 24\"\n",
              "       width=\"24px\">\n",
              "    <path d=\"M0 0h24v24H0V0z\" fill=\"none\"/>\n",
              "    <path d=\"M18.56 5.44l.94 2.06.94-2.06 2.06-.94-2.06-.94-.94-2.06-.94 2.06-2.06.94zm-11 1L8.5 8.5l.94-2.06 2.06-.94-2.06-.94L8.5 2.5l-.94 2.06-2.06.94zm10 10l.94 2.06.94-2.06 2.06-.94-2.06-.94-.94-2.06-.94 2.06-2.06.94z\"/><path d=\"M17.41 7.96l-1.37-1.37c-.4-.4-.92-.59-1.43-.59-.52 0-1.04.2-1.43.59L10.3 9.45l-7.72 7.72c-.78.78-.78 2.05 0 2.83L4 21.41c.39.39.9.59 1.41.59.51 0 1.02-.2 1.41-.59l7.78-7.78 2.81-2.81c.8-.78.8-2.07 0-2.86zM5.41 20L4 18.59l7.72-7.72 1.47 1.35L5.41 20z\"/>\n",
              "  </svg>\n",
              "      </button>\n",
              "      \n",
              "  <style>\n",
              "    .colab-df-container {\n",
              "      display:flex;\n",
              "      flex-wrap:wrap;\n",
              "      gap: 12px;\n",
              "    }\n",
              "\n",
              "    .colab-df-convert {\n",
              "      background-color: #E8F0FE;\n",
              "      border: none;\n",
              "      border-radius: 50%;\n",
              "      cursor: pointer;\n",
              "      display: none;\n",
              "      fill: #1967D2;\n",
              "      height: 32px;\n",
              "      padding: 0 0 0 0;\n",
              "      width: 32px;\n",
              "    }\n",
              "\n",
              "    .colab-df-convert:hover {\n",
              "      background-color: #E2EBFA;\n",
              "      box-shadow: 0px 1px 2px rgba(60, 64, 67, 0.3), 0px 1px 3px 1px rgba(60, 64, 67, 0.15);\n",
              "      fill: #174EA6;\n",
              "    }\n",
              "\n",
              "    [theme=dark] .colab-df-convert {\n",
              "      background-color: #3B4455;\n",
              "      fill: #D2E3FC;\n",
              "    }\n",
              "\n",
              "    [theme=dark] .colab-df-convert:hover {\n",
              "      background-color: #434B5C;\n",
              "      box-shadow: 0px 1px 3px 1px rgba(0, 0, 0, 0.15);\n",
              "      filter: drop-shadow(0px 1px 2px rgba(0, 0, 0, 0.3));\n",
              "      fill: #FFFFFF;\n",
              "    }\n",
              "  </style>\n",
              "\n",
              "      <script>\n",
              "        const buttonEl =\n",
              "          document.querySelector('#df-97524e6e-99a7-4b67-96a6-d32946c6f44f button.colab-df-convert');\n",
              "        buttonEl.style.display =\n",
              "          google.colab.kernel.accessAllowed ? 'block' : 'none';\n",
              "\n",
              "        async function convertToInteractive(key) {\n",
              "          const element = document.querySelector('#df-97524e6e-99a7-4b67-96a6-d32946c6f44f');\n",
              "          const dataTable =\n",
              "            await google.colab.kernel.invokeFunction('convertToInteractive',\n",
              "                                                     [key], {});\n",
              "          if (!dataTable) return;\n",
              "\n",
              "          const docLinkHtml = 'Like what you see? Visit the ' +\n",
              "            '<a target=\"_blank\" href=https://colab.research.google.com/notebooks/data_table.ipynb>data table notebook</a>'\n",
              "            + ' to learn more about interactive tables.';\n",
              "          element.innerHTML = '';\n",
              "          dataTable['output_type'] = 'display_data';\n",
              "          await google.colab.output.renderOutput(dataTable, element);\n",
              "          const docLink = document.createElement('div');\n",
              "          docLink.innerHTML = docLinkHtml;\n",
              "          element.appendChild(docLink);\n",
              "        }\n",
              "      </script>\n",
              "    </div>\n",
              "  </div>\n",
              "  "
            ]
          },
          "metadata": {},
          "execution_count": 45
        }
      ],
      "source": [
        "predict_fc.head()"
      ]
    },
    {
      "cell_type": "code",
      "execution_count": null,
      "metadata": {
        "id": "NJSgXNXQ5Fcd",
        "colab": {
          "base_uri": "https://localhost:8080/",
          "height": 474
        },
        "outputId": "01dda92a-f25f-4466-9e5a-d4955bca362d"
      },
      "outputs": [
        {
          "output_type": "display_data",
          "data": {
            "text/plain": [
              "<Figure size 1800x576 with 1 Axes>"
            ],
            "image/png": "[encoded data removed]"
          },
          "metadata": {
            "needs_background": "light"
          }
        }
      ],
      "source": [
        "rcParams['figure.figsize'] = 25,8\n",
        "plt.plot(train,label='Training Data')\n",
        "plt.plot(test,label='Test Data')\n",
        "plt.plot(test.index,predict_fc['Close_forecast'],label='Predicted Data - ARIMA')\n",
        "plt.legend(loc='best')\n",
        "plt.grid();"
      ]
    },
    {
      "cell_type": "code",
      "execution_count": null,
      "metadata": {
        "id": "VCfiR_yH5Fcd",
        "colab": {
          "base_uri": "https://localhost:8080/"
        },
        "outputId": "39d93c2d-a3b5-4c95-b1d5-8452ccf7d118"
      },
      "outputs": [
        {
          "output_type": "stream",
          "name": "stdout",
          "text": [
            "26.60135909788818\n"
          ]
        }
      ],
      "source": [
        "mape=MAPE(test['Close'].values,predict_fc['Close_forecast'].values)\n",
        "print(mape)"
      ]
    },
    {
      "cell_type": "code",
      "execution_count": null,
      "metadata": {
        "id": "1L01fZKw6Ott",
        "colab": {
          "base_uri": "https://localhost:8080/"
        },
        "outputId": "80361e57-8c06-411a-c600-cea78d856105"
      },
      "outputs": [
        {
          "output_type": "stream",
          "name": "stdout",
          "text": [
            "640.5861873172574\n"
          ]
        }
      ],
      "source": [
        "rmse= np.sqrt(mean_squared_error(test['Close'],predict_fc['Close_forecast']))\n",
        "print(rmse)"
      ]
    },
    {
      "cell_type": "markdown",
      "metadata": {
        "id": "3ItNK3ey5Fcd"
      },
      "source": [
        "# Sarima"
      ]
    },
    {
      "cell_type": "code",
      "execution_count": null,
      "metadata": {
        "id": "Lqv24G8e5Fcd",
        "colab": {
          "base_uri": "https://localhost:8080/"
        },
        "outputId": "5c74cd83-822d-4dbd-fcdb-ea9ffeeb6d48"
      },
      "outputs": [
        {
          "output_type": "stream",
          "name": "stdout",
          "text": [
            "Examples of parameter combinations for Model...\n",
            "Model: (0, 1, 1)(0, 1, 1, 12)\n",
            "Model: (0, 1, 1)(0, 1, 2, 12)\n",
            "Model: (0, 1, 2)(1, 1, 0, 12)\n",
            "Model: (0, 1, 2)(1, 1, 1, 12)\n"
          ]
        }
      ],
      "source": [
        "import itertools\n",
        "p = q = range(0, 3)\n",
        "d= range(1,2)\n",
        "pdq = list(itertools.product(p, d, q))\n",
        "\n",
        "model_pdq = [(x[0], x[1], x[2], 12) for x in list(itertools.product(p, d, q))]\n",
        "print('Examples of parameter combinations for Model...')\n",
        "print('Model: {}{}'.format(pdq[1], model_pdq[1]))\n",
        "print('Model: {}{}'.format(pdq[1], model_pdq[2]))\n",
        "print('Model: {}{}'.format(pdq[2], model_pdq[3]))\n",
        "print('Model: {}{}'.format(pdq[2], model_pdq[4]))"
      ]
    },
    {
      "cell_type": "code",
      "execution_count": null,
      "metadata": {
        "id": "eCI7pR1P5Fce",
        "colab": {
          "base_uri": "https://localhost:8080/",
          "height": 50
        },
        "outputId": "97044ab6-9862-4673-ef73-3347dbdf6df4"
      },
      "outputs": [
        {
          "output_type": "execute_result",
          "data": {
            "text/plain": [
              "Empty DataFrame\n",
              "Columns: [param, seasonal, AIC]\n",
              "Index: []"
            ],
            "text/html": [
              "\n",
              "  <div id=\"df-02b602c2-650a-4716-965a-7bac0b643c81\">\n",
              "    <div class=\"colab-df-container\">\n",
              "      <div>\n",
              "<style scoped>\n",
              "    .dataframe tbody tr th:only-of-type {\n",
              "        vertical-align: middle;\n",
              "    }\n",
              "\n",
              "    .dataframe tbody tr th {\n",
              "        vertical-align: top;\n",
              "    }\n",
              "\n",
              "    .dataframe thead th {\n",
              "        text-align: right;\n",
              "    }\n",
              "</style>\n",
              "<table border=\"1\" class=\"dataframe\">\n",
              "  <thead>\n",
              "    <tr style=\"text-align: right;\">\n",
              "      <th></th>\n",
              "      <th>param</th>\n",
              "      <th>seasonal</th>\n",
              "      <th>AIC</th>\n",
              "    </tr>\n",
              "  </thead>\n",
              "  <tbody>\n",
              "  </tbody>\n",
              "</table>\n",
              "</div>\n",
              "      <button class=\"colab-df-convert\" onclick=\"convertToInteractive('df-02b602c2-650a-4716-965a-7bac0b643c81')\"\n",
              "              title=\"Convert this dataframe to an interactive table.\"\n",
              "              style=\"display:none;\">\n",
              "        \n",
              "  <svg xmlns=\"http://www.w3.org/2000/svg\" height=\"24px\"viewBox=\"0 0 24 24\"\n",
              "       width=\"24px\">\n",
              "    <path d=\"M0 0h24v24H0V0z\" fill=\"none\"/>\n",
              "    <path d=\"M18.56 5.44l.94 2.06.94-2.06 2.06-.94-2.06-.94-.94-2.06-.94 2.06-2.06.94zm-11 1L8.5 8.5l.94-2.06 2.06-.94-2.06-.94L8.5 2.5l-.94 2.06-2.06.94zm10 10l.94 2.06.94-2.06 2.06-.94-2.06-.94-.94-2.06-.94 2.06-2.06.94z\"/><path d=\"M17.41 7.96l-1.37-1.37c-.4-.4-.92-.59-1.43-.59-.52 0-1.04.2-1.43.59L10.3 9.45l-7.72 7.72c-.78.78-.78 2.05 0 2.83L4 21.41c.39.39.9.59 1.41.59.51 0 1.02-.2 1.41-.59l7.78-7.78 2.81-2.81c.8-.78.8-2.07 0-2.86zM5.41 20L4 18.59l7.72-7.72 1.47 1.35L5.41 20z\"/>\n",
              "  </svg>\n",
              "      </button>\n",
              "      \n",
              "  <style>\n",
              "    .colab-df-container {\n",
              "      display:flex;\n",
              "      flex-wrap:wrap;\n",
              "      gap: 12px;\n",
              "    }\n",
              "\n",
              "    .colab-df-convert {\n",
              "      background-color: #E8F0FE;\n",
              "      border: none;\n",
              "      border-radius: 50%;\n",
              "      cursor: pointer;\n",
              "      display: none;\n",
              "      fill: #1967D2;\n",
              "      height: 32px;\n",
              "      padding: 0 0 0 0;\n",
              "      width: 32px;\n",
              "    }\n",
              "\n",
              "    .colab-df-convert:hover {\n",
              "      background-color: #E2EBFA;\n",
              "      box-shadow: 0px 1px 2px rgba(60, 64, 67, 0.3), 0px 1px 3px 1px rgba(60, 64, 67, 0.15);\n",
              "      fill: #174EA6;\n",
              "    }\n",
              "\n",
              "    [theme=dark] .colab-df-convert {\n",
              "      background-color: #3B4455;\n",
              "      fill: #D2E3FC;\n",
              "    }\n",
              "\n",
              "    [theme=dark] .colab-df-convert:hover {\n",
              "      background-color: #434B5C;\n",
              "      box-shadow: 0px 1px 3px 1px rgba(0, 0, 0, 0.15);\n",
              "      filter: drop-shadow(0px 1px 2px rgba(0, 0, 0, 0.3));\n",
              "      fill: #FFFFFF;\n",
              "    }\n",
              "  </style>\n",
              "\n",
              "      <script>\n",
              "        const buttonEl =\n",
              "          document.querySelector('#df-02b602c2-650a-4716-965a-7bac0b643c81 button.colab-df-convert');\n",
              "        buttonEl.style.display =\n",
              "          google.colab.kernel.accessAllowed ? 'block' : 'none';\n",
              "\n",
              "        async function convertToInteractive(key) {\n",
              "          const element = document.querySelector('#df-02b602c2-650a-4716-965a-7bac0b643c81');\n",
              "          const dataTable =\n",
              "            await google.colab.kernel.invokeFunction('convertToInteractive',\n",
              "                                                     [key], {});\n",
              "          if (!dataTable) return;\n",
              "\n",
              "          const docLinkHtml = 'Like what you see? Visit the ' +\n",
              "            '<a target=\"_blank\" href=https://colab.research.google.com/notebooks/data_table.ipynb>data table notebook</a>'\n",
              "            + ' to learn more about interactive tables.';\n",
              "          element.innerHTML = '';\n",
              "          dataTable['output_type'] = 'display_data';\n",
              "          await google.colab.output.renderOutput(dataTable, element);\n",
              "          const docLink = document.createElement('div');\n",
              "          docLink.innerHTML = docLinkHtml;\n",
              "          element.appendChild(docLink);\n",
              "        }\n",
              "      </script>\n",
              "    </div>\n",
              "  </div>\n",
              "  "
            ]
          },
          "metadata": {},
          "execution_count": 50
        }
      ],
      "source": [
        "dfObj2 = pd.DataFrame(columns=['param','seasonal', 'AIC'])\n",
        "dfObj2"
      ]
    },
    {
      "cell_type": "code",
      "execution_count": null,
      "metadata": {
        "id": "AYq_6Ysx5Fce",
        "colab": {
          "base_uri": "https://localhost:8080/"
        },
        "outputId": "0705327f-2646-4e81-bd35-b2b8012f981f"
      },
      "outputs": [
        {
          "output_type": "stream",
          "name": "stdout",
          "text": [
            "SARIMA(0, 1, 0)x(0, 1, 0, 12)12 - AIC:47349.606822953545\n",
            "SARIMA(0, 1, 0)x(0, 1, 1, 12)12 - AIC:43279.1522900345\n",
            "SARIMA(0, 1, 0)x(0, 1, 2, 12)12 - AIC:43205.39760718066\n",
            "SARIMA(0, 1, 0)x(1, 1, 0, 12)12 - AIC:45574.620735095705\n",
            "SARIMA(0, 1, 0)x(1, 1, 1, 12)12 - AIC:43281.04375279366\n",
            "SARIMA(0, 1, 0)x(1, 1, 2, 12)12 - AIC:43205.396355438774\n",
            "SARIMA(0, 1, 0)x(2, 1, 0, 12)12 - AIC:44902.14521847492\n",
            "SARIMA(0, 1, 0)x(2, 1, 1, 12)12 - AIC:43213.87753759968\n",
            "SARIMA(0, 1, 0)x(2, 1, 2, 12)12 - AIC:43206.98820250909\n",
            "SARIMA(0, 1, 1)x(0, 1, 0, 12)12 - AIC:47340.56096309089\n",
            "SARIMA(0, 1, 1)x(0, 1, 1, 12)12 - AIC:43266.80494936643\n",
            "SARIMA(0, 1, 1)x(0, 1, 2, 12)12 - AIC:43193.169157428405\n",
            "SARIMA(0, 1, 1)x(1, 1, 0, 12)12 - AIC:45571.891377429034\n",
            "SARIMA(0, 1, 1)x(1, 1, 1, 12)12 - AIC:43268.70537444011\n",
            "SARIMA(0, 1, 1)x(1, 1, 2, 12)12 - AIC:43193.08667427305\n",
            "SARIMA(0, 1, 1)x(2, 1, 0, 12)12 - AIC:44893.63298910392\n",
            "SARIMA(0, 1, 1)x(2, 1, 1, 12)12 - AIC:43207.8771356591\n",
            "SARIMA(0, 1, 1)x(2, 1, 2, 12)12 - AIC:43194.70344378138\n",
            "SARIMA(0, 1, 2)x(0, 1, 0, 12)12 - AIC:47334.30249776895\n",
            "SARIMA(0, 1, 2)x(0, 1, 1, 12)12 - AIC:43256.06562788598\n",
            "SARIMA(0, 1, 2)x(0, 1, 2, 12)12 - AIC:43182.55616662376\n",
            "SARIMA(0, 1, 2)x(1, 1, 0, 12)12 - AIC:45572.67121678639\n",
            "SARIMA(0, 1, 2)x(1, 1, 1, 12)12 - AIC:43257.979144912395\n",
            "SARIMA(0, 1, 2)x(1, 1, 2, 12)12 - AIC:43182.37738723266\n",
            "SARIMA(0, 1, 2)x(2, 1, 0, 12)12 - AIC:44894.21538032\n",
            "SARIMA(0, 1, 2)x(2, 1, 1, 12)12 - AIC:43203.470068620765\n",
            "SARIMA(0, 1, 2)x(2, 1, 2, 12)12 - AIC:43184.03865613756\n",
            "SARIMA(1, 1, 0)x(0, 1, 0, 12)12 - AIC:47347.3709412633\n",
            "SARIMA(1, 1, 0)x(0, 1, 1, 12)12 - AIC:43272.92602803602\n",
            "SARIMA(1, 1, 0)x(0, 1, 2, 12)12 - AIC:43198.96661282237\n",
            "SARIMA(1, 1, 0)x(1, 1, 0, 12)12 - AIC:45565.13996288156\n",
            "SARIMA(1, 1, 0)x(1, 1, 1, 12)12 - AIC:43274.82378576153\n",
            "SARIMA(1, 1, 0)x(1, 1, 2, 12)12 - AIC:43199.10154201319\n",
            "SARIMA(1, 1, 0)x(2, 1, 0, 12)12 - AIC:44886.86974337561\n",
            "SARIMA(1, 1, 0)x(2, 1, 1, 12)12 - AIC:43201.08178578781\n",
            "SARIMA(1, 1, 0)x(2, 1, 2, 12)12 - AIC:43200.79135033283\n",
            "SARIMA(1, 1, 1)x(0, 1, 0, 12)12 - AIC:47346.66495762431\n",
            "SARIMA(1, 1, 1)x(0, 1, 1, 12)12 - AIC:43276.93024097456\n",
            "SARIMA(1, 1, 1)x(0, 1, 2, 12)12 - AIC:43201.75368283494\n",
            "SARIMA(1, 1, 1)x(1, 1, 0, 12)12 - AIC:45571.84707246627\n",
            "SARIMA(1, 1, 1)x(1, 1, 1, 12)12 - AIC:43278.81027051769\n",
            "SARIMA(1, 1, 1)x(1, 1, 2, 12)12 - AIC:43203.19937434084\n",
            "SARIMA(1, 1, 1)x(2, 1, 0, 12)12 - AIC:44888.79579756268\n",
            "SARIMA(1, 1, 1)x(2, 1, 1, 12)12 - AIC:43210.197832711216\n",
            "SARIMA(1, 1, 1)x(2, 1, 2, 12)12 - AIC:43202.980650110636\n",
            "SARIMA(1, 1, 2)x(0, 1, 0, 12)12 - AIC:47038.65617037511\n",
            "SARIMA(1, 1, 2)x(0, 1, 1, 12)12 - AIC:43247.46000956364\n",
            "SARIMA(1, 1, 2)x(0, 1, 2, 12)12 - AIC:43173.94795870662\n",
            "SARIMA(1, 1, 2)x(1, 1, 0, 12)12 - AIC:45391.43142590765\n",
            "SARIMA(1, 1, 2)x(1, 1, 1, 12)12 - AIC:43249.36439047629\n",
            "SARIMA(1, 1, 2)x(1, 1, 2, 12)12 - AIC:43173.73172449955\n",
            "SARIMA(1, 1, 2)x(2, 1, 0, 12)12 - AIC:44759.28782826649\n",
            "SARIMA(1, 1, 2)x(2, 1, 1, 12)12 - AIC:43188.589902791755\n",
            "SARIMA(1, 1, 2)x(2, 1, 2, 12)12 - AIC:43175.41090526922\n",
            "SARIMA(2, 1, 0)x(0, 1, 0, 12)12 - AIC:47341.93272889393\n",
            "SARIMA(2, 1, 0)x(0, 1, 1, 12)12 - AIC:43271.152407977876\n",
            "SARIMA(2, 1, 0)x(0, 1, 2, 12)12 - AIC:43196.96311052905\n",
            "SARIMA(2, 1, 0)x(1, 1, 0, 12)12 - AIC:45560.05368740029\n",
            "SARIMA(2, 1, 0)x(1, 1, 1, 12)12 - AIC:43266.43556466896\n",
            "SARIMA(2, 1, 0)x(1, 1, 2, 12)12 - AIC:43197.13404911077\n",
            "SARIMA(2, 1, 0)x(2, 1, 0, 12)12 - AIC:44882.00018918091\n",
            "SARIMA(2, 1, 0)x(2, 1, 1, 12)12 - AIC:43192.81850511719\n",
            "SARIMA(2, 1, 0)x(2, 1, 2, 12)12 - AIC:43192.307562799644\n",
            "SARIMA(2, 1, 1)x(0, 1, 0, 12)12 - AIC:47334.68496544281\n",
            "SARIMA(2, 1, 1)x(0, 1, 1, 12)12 - AIC:43255.31616229053\n",
            "SARIMA(2, 1, 1)x(0, 1, 2, 12)12 - AIC:43191.35573452649\n",
            "SARIMA(2, 1, 1)x(1, 1, 0, 12)12 - AIC:45553.110790066785\n",
            "SARIMA(2, 1, 1)x(1, 1, 1, 12)12 - AIC:43257.22450952369\n",
            "SARIMA(2, 1, 1)x(1, 1, 2, 12)12 - AIC:43181.44937623557\n",
            "SARIMA(2, 1, 1)x(2, 1, 0, 12)12 - AIC:44875.36824084827\n",
            "SARIMA(2, 1, 1)x(2, 1, 1, 12)12 - AIC:43183.9279958048\n",
            "SARIMA(2, 1, 1)x(2, 1, 2, 12)12 - AIC:43183.06824234492\n",
            "SARIMA(2, 1, 2)x(0, 1, 0, 12)12 - AIC:47161.96536780999\n",
            "SARIMA(2, 1, 2)x(0, 1, 1, 12)12 - AIC:43222.14453027198\n",
            "SARIMA(2, 1, 2)x(0, 1, 2, 12)12 - AIC:43153.80704376913\n",
            "SARIMA(2, 1, 2)x(1, 1, 0, 12)12 - AIC:45228.290065577174\n",
            "SARIMA(2, 1, 2)x(1, 1, 1, 12)12 - AIC:43239.37047560357\n",
            "SARIMA(2, 1, 2)x(1, 1, 2, 12)12 - AIC:43147.71151178022\n",
            "SARIMA(2, 1, 2)x(2, 1, 0, 12)12 - AIC:44629.95983599795\n",
            "SARIMA(2, 1, 2)x(2, 1, 1, 12)12 - AIC:43156.25763864113\n",
            "SARIMA(2, 1, 2)x(2, 1, 2, 12)12 - AIC:43144.23628532883\n"
          ]
        }
      ],
      "source": [
        "import statsmodels.api as sm\n",
        "for param in pdq:\n",
        "    for param_seasonal in model_pdq:\n",
        "        mod = sm.tsa.statespace.SARIMAX(train,\n",
        "                                            order=param,\n",
        "                                            seasonal_order=param_seasonal,\n",
        "                                            enforce_stationarity=False,\n",
        "                                            enforce_invertibility=False)\n",
        "            \n",
        "        results_SARIMA = mod.fit()\n",
        "        print('SARIMA{}x{}12 - AIC:{}'.format(param, param_seasonal, results_SARIMA.aic))\n",
        "        dfObj2 = dfObj2.append({'param':param,'seasonal':param_seasonal ,'AIC': results_SARIMA.aic}, ignore_index=True)"
      ]
    },
    {
      "cell_type": "code",
      "execution_count": null,
      "metadata": {
        "id": "3XY6D-y35Fce",
        "colab": {
          "base_uri": "https://localhost:8080/",
          "height": 423
        },
        "outputId": "801d2970-2776-4ac8-b914-3fd15173caca"
      },
      "outputs": [
        {
          "output_type": "execute_result",
          "data": {
            "text/plain": [
              "        param       seasonal           AIC\n",
              "80  (2, 1, 2)  (2, 1, 2, 12)  43144.236285\n",
              "77  (2, 1, 2)  (1, 1, 2, 12)  43147.711512\n",
              "74  (2, 1, 2)  (0, 1, 2, 12)  43153.807044\n",
              "79  (2, 1, 2)  (2, 1, 1, 12)  43156.257639\n",
              "50  (1, 1, 2)  (1, 1, 2, 12)  43173.731724\n",
              "..        ...            ...           ...\n",
              "9   (0, 1, 1)  (0, 1, 0, 12)  47340.560963\n",
              "54  (2, 1, 0)  (0, 1, 0, 12)  47341.932729\n",
              "36  (1, 1, 1)  (0, 1, 0, 12)  47346.664958\n",
              "27  (1, 1, 0)  (0, 1, 0, 12)  47347.370941\n",
              "0   (0, 1, 0)  (0, 1, 0, 12)  47349.606823\n",
              "\n",
              "[81 rows x 3 columns]"
            ],
            "text/html": [
              "\n",
              "  <div id=\"df-05bebd8a-515f-42a8-b602-7feb16dca62c\">\n",
              "    <div class=\"colab-df-container\">\n",
              "      <div>\n",
              "<style scoped>\n",
              "    .dataframe tbody tr th:only-of-type {\n",
              "        vertical-align: middle;\n",
              "    }\n",
              "\n",
              "    .dataframe tbody tr th {\n",
              "        vertical-align: top;\n",
              "    }\n",
              "\n",
              "    .dataframe thead th {\n",
              "        text-align: right;\n",
              "    }\n",
              "</style>\n",
              "<table border=\"1\" class=\"dataframe\">\n",
              "  <thead>\n",
              "    <tr style=\"text-align: right;\">\n",
              "      <th></th>\n",
              "      <th>param</th>\n",
              "      <th>seasonal</th>\n",
              "      <th>AIC</th>\n",
              "    </tr>\n",
              "  </thead>\n",
              "  <tbody>\n",
              "    <tr>\n",
              "      <th>80</th>\n",
              "      <td>(2, 1, 2)</td>\n",
              "      <td>(2, 1, 2, 12)</td>\n",
              "      <td>43144.236285</td>\n",
              "    </tr>\n",
              "    <tr>\n",
              "      <th>77</th>\n",
              "      <td>(2, 1, 2)</td>\n",
              "      <td>(1, 1, 2, 12)</td>\n",
              "      <td>43147.711512</td>\n",
              "    </tr>\n",
              "    <tr>\n",
              "      <th>74</th>\n",
              "      <td>(2, 1, 2)</td>\n",
              "      <td>(0, 1, 2, 12)</td>\n",
              "      <td>43153.807044</td>\n",
              "    </tr>\n",
              "    <tr>\n",
              "      <th>79</th>\n",
              "      <td>(2, 1, 2)</td>\n",
              "      <td>(2, 1, 1, 12)</td>\n",
              "      <td>43156.257639</td>\n",
              "    </tr>\n",
              "    <tr>\n",
              "      <th>50</th>\n",
              "      <td>(1, 1, 2)</td>\n",
              "      <td>(1, 1, 2, 12)</td>\n",
              "      <td>43173.731724</td>\n",
              "    </tr>\n",
              "    <tr>\n",
              "      <th>...</th>\n",
              "      <td>...</td>\n",
              "      <td>...</td>\n",
              "      <td>...</td>\n",
              "    </tr>\n",
              "    <tr>\n",
              "      <th>9</th>\n",
              "      <td>(0, 1, 1)</td>\n",
              "      <td>(0, 1, 0, 12)</td>\n",
              "      <td>47340.560963</td>\n",
              "    </tr>\n",
              "    <tr>\n",
              "      <th>54</th>\n",
              "      <td>(2, 1, 0)</td>\n",
              "      <td>(0, 1, 0, 12)</td>\n",
              "      <td>47341.932729</td>\n",
              "    </tr>\n",
              "    <tr>\n",
              "      <th>36</th>\n",
              "      <td>(1, 1, 1)</td>\n",
              "      <td>(0, 1, 0, 12)</td>\n",
              "      <td>47346.664958</td>\n",
              "    </tr>\n",
              "    <tr>\n",
              "      <th>27</th>\n",
              "      <td>(1, 1, 0)</td>\n",
              "      <td>(0, 1, 0, 12)</td>\n",
              "      <td>47347.370941</td>\n",
              "    </tr>\n",
              "    <tr>\n",
              "      <th>0</th>\n",
              "      <td>(0, 1, 0)</td>\n",
              "      <td>(0, 1, 0, 12)</td>\n",
              "      <td>47349.606823</td>\n",
              "    </tr>\n",
              "  </tbody>\n",
              "</table>\n",
              "<p>81 rows × 3 columns</p>\n",
              "</div>\n",
              "      <button class=\"colab-df-convert\" onclick=\"convertToInteractive('df-05bebd8a-515f-42a8-b602-7feb16dca62c')\"\n",
              "              title=\"Convert this dataframe to an interactive table.\"\n",
              "              style=\"display:none;\">\n",
              "        \n",
              "  <svg xmlns=\"http://www.w3.org/2000/svg\" height=\"24px\"viewBox=\"0 0 24 24\"\n",
              "       width=\"24px\">\n",
              "    <path d=\"M0 0h24v24H0V0z\" fill=\"none\"/>\n",
              "    <path d=\"M18.56 5.44l.94 2.06.94-2.06 2.06-.94-2.06-.94-.94-2.06-.94 2.06-2.06.94zm-11 1L8.5 8.5l.94-2.06 2.06-.94-2.06-.94L8.5 2.5l-.94 2.06-2.06.94zm10 10l.94 2.06.94-2.06 2.06-.94-2.06-.94-.94-2.06-.94 2.06-2.06.94z\"/><path d=\"M17.41 7.96l-1.37-1.37c-.4-.4-.92-.59-1.43-.59-.52 0-1.04.2-1.43.59L10.3 9.45l-7.72 7.72c-.78.78-.78 2.05 0 2.83L4 21.41c.39.39.9.59 1.41.59.51 0 1.02-.2 1.41-.59l7.78-7.78 2.81-2.81c.8-.78.8-2.07 0-2.86zM5.41 20L4 18.59l7.72-7.72 1.47 1.35L5.41 20z\"/>\n",
              "  </svg>\n",
              "      </button>\n",
              "      \n",
              "  <style>\n",
              "    .colab-df-container {\n",
              "      display:flex;\n",
              "      flex-wrap:wrap;\n",
              "      gap: 12px;\n",
              "    }\n",
              "\n",
              "    .colab-df-convert {\n",
              "      background-color: #E8F0FE;\n",
              "      border: none;\n",
              "      border-radius: 50%;\n",
              "      cursor: pointer;\n",
              "      display: none;\n",
              "      fill: #1967D2;\n",
              "      height: 32px;\n",
              "      padding: 0 0 0 0;\n",
              "      width: 32px;\n",
              "    }\n",
              "\n",
              "    .colab-df-convert:hover {\n",
              "      background-color: #E2EBFA;\n",
              "      box-shadow: 0px 1px 2px rgba(60, 64, 67, 0.3), 0px 1px 3px 1px rgba(60, 64, 67, 0.15);\n",
              "      fill: #174EA6;\n",
              "    }\n",
              "\n",
              "    [theme=dark] .colab-df-convert {\n",
              "      background-color: #3B4455;\n",
              "      fill: #D2E3FC;\n",
              "    }\n",
              "\n",
              "    [theme=dark] .colab-df-convert:hover {\n",
              "      background-color: #434B5C;\n",
              "      box-shadow: 0px 1px 3px 1px rgba(0, 0, 0, 0.15);\n",
              "      filter: drop-shadow(0px 1px 2px rgba(0, 0, 0, 0.3));\n",
              "      fill: #FFFFFF;\n",
              "    }\n",
              "  </style>\n",
              "\n",
              "      <script>\n",
              "        const buttonEl =\n",
              "          document.querySelector('#df-05bebd8a-515f-42a8-b602-7feb16dca62c button.colab-df-convert');\n",
              "        buttonEl.style.display =\n",
              "          google.colab.kernel.accessAllowed ? 'block' : 'none';\n",
              "\n",
              "        async function convertToInteractive(key) {\n",
              "          const element = document.querySelector('#df-05bebd8a-515f-42a8-b602-7feb16dca62c');\n",
              "          const dataTable =\n",
              "            await google.colab.kernel.invokeFunction('convertToInteractive',\n",
              "                                                     [key], {});\n",
              "          if (!dataTable) return;\n",
              "\n",
              "          const docLinkHtml = 'Like what you see? Visit the ' +\n",
              "            '<a target=\"_blank\" href=https://colab.research.google.com/notebooks/data_table.ipynb>data table notebook</a>'\n",
              "            + ' to learn more about interactive tables.';\n",
              "          element.innerHTML = '';\n",
              "          dataTable['output_type'] = 'display_data';\n",
              "          await google.colab.output.renderOutput(dataTable, element);\n",
              "          const docLink = document.createElement('div');\n",
              "          docLink.innerHTML = docLinkHtml;\n",
              "          element.appendChild(docLink);\n",
              "        }\n",
              "      </script>\n",
              "    </div>\n",
              "  </div>\n",
              "  "
            ]
          },
          "metadata": {},
          "execution_count": 52
        }
      ],
      "source": [
        "dfObj2.sort_values(by=['AIC'])"
      ]
    },
    {
      "cell_type": "code",
      "execution_count": null,
      "metadata": {
        "id": "hIfQyJmE5Fce",
        "colab": {
          "base_uri": "https://localhost:8080/"
        },
        "outputId": "03f350d6-e176-4c09-a14f-77ff77b7ac90"
      },
      "outputs": [
        {
          "output_type": "stream",
          "name": "stdout",
          "text": [
            "                                 Statespace Model Results                                 \n",
            "==========================================================================================\n",
            "Dep. Variable:                              Close   No. Observations:                 6569\n",
            "Model:             SARIMAX(2, 1, 2)x(0, 1, 2, 12)   Log Likelihood              -26557.563\n",
            "Date:                            Sat, 26 Mar 2022   AIC                          53129.126\n",
            "Time:                                    04:03:40   BIC                          53176.614\n",
            "Sample:                                01-01-1996   HQIC                         53145.547\n",
            "                                     - 03-04-2021                                         \n",
            "Covariance Type:                              opg                                         \n",
            "==============================================================================\n",
            "                 coef    std err          z      P>|z|      [0.025      0.975]\n",
            "------------------------------------------------------------------------------\n",
            "ar.L1          1.6045      0.052     31.101      0.000       1.503       1.706\n",
            "ar.L2         -0.8203      0.045    -18.258      0.000      -0.908      -0.732\n",
            "ma.L1         -1.5997      0.054    -29.742      0.000      -1.705      -1.494\n",
            "ma.L2          0.8038      0.047     16.971      0.000       0.711       0.897\n",
            "ma.S.L12      -0.9837      0.006   -165.627      0.000      -0.995      -0.972\n",
            "ma.S.L24      -0.0206      0.006     -3.706      0.000      -0.031      -0.010\n",
            "sigma2       194.2795      1.026    189.378      0.000     192.269     196.290\n",
            "===================================================================================\n",
            "Ljung-Box (Q):                      134.88   Jarque-Bera (JB):            198162.55\n",
            "Prob(Q):                              0.00   Prob(JB):                         0.00\n",
            "Heteroskedasticity (H):             274.64   Skew:                             0.24\n",
            "Prob(H) (two-sided):                  0.00   Kurtosis:                        29.99\n",
            "===================================================================================\n",
            "\n",
            "Warnings:\n",
            "[1] Covariance matrix calculated using the outer product of gradients (complex-step).\n"
          ]
        }
      ],
      "source": [
        "model = sm.tsa.statespace.SARIMAX(df,\n",
        "                                order=(2,1,2),\n",
        "                                seasonal_order=(0,1,2,12),\n",
        "                                enforce_stationarity=False,\n",
        "                                enforce_invertibility=False)\n",
        "model_Sarima = model.fit()\n",
        "print(model_Sarima.summary())"
      ]
    },
    {
      "cell_type": "code",
      "execution_count": null,
      "metadata": {
        "id": "oujXDBdv5Fce"
      },
      "outputs": [],
      "source": [
        "SARIMA_predictions=model_Sarima.predict(start=pred_start, end=pred_end)"
      ]
    },
    {
      "cell_type": "code",
      "execution_count": null,
      "metadata": {
        "id": "KCIL37qE5Fcf",
        "scrolled": true,
        "colab": {
          "base_uri": "https://localhost:8080/",
          "height": 474
        },
        "outputId": "e2d1f575-23ec-4811-e8ab-2621db60bebd"
      },
      "outputs": [
        {
          "output_type": "display_data",
          "data": {
            "text/plain": [
              "<Figure size 1800x576 with 1 Axes>"
            ],
            "image/png": "[encoded data removed]"
          },
          "metadata": {
            "needs_background": "light"
          }
        }
      ],
      "source": [
        "rcParams['figure.figsize'] = 25,8\n",
        "plt.plot(train,label='Training Data')\n",
        "plt.plot(test,label='Test Data')\n",
        "plt.plot(test.index,SARIMA_predictions,label='Predicted Data - SARIMA')\n",
        "plt.legend(loc='best')\n",
        "plt.grid();"
      ]
    },
    {
      "cell_type": "code",
      "execution_count": null,
      "metadata": {
        "id": "oF2JWEgk5Fcf",
        "colab": {
          "base_uri": "https://localhost:8080/"
        },
        "outputId": "bd2cbe17-c6f2-4796-d825-af814bdfe6e4"
      },
      "outputs": [
        {
          "output_type": "stream",
          "name": "stdout",
          "text": [
            "1.5091332448885064\n"
          ]
        }
      ],
      "source": [
        "mape = MAPE(test['Close'].values,SARIMA_predictions.values)\n",
        "print(mape)"
      ]
    },
    {
      "cell_type": "code",
      "execution_count": null,
      "metadata": {
        "id": "V-fiLcga5Fcf",
        "colab": {
          "base_uri": "https://localhost:8080/"
        },
        "outputId": "992a5de8-0bc9-4b2a-b53a-2b15aeeb4bc2"
      },
      "outputs": [
        {
          "output_type": "stream",
          "name": "stdout",
          "text": [
            "37.82885548596423\n"
          ]
        }
      ],
      "source": [
        "rmse= np.sqrt(mean_squared_error(test['Close'],SARIMA_predictions))\n",
        "print(rmse)"
      ]
    },
    {
      "cell_type": "code",
      "execution_count": null,
      "metadata": {
        "id": "hPU3sFL_5Fcf",
        "colab": {
          "base_uri": "https://localhost:8080/"
        },
        "outputId": "15fa7844-89e7-4b5e-9ca2-af23d5022f61"
      },
      "outputs": [
        {
          "output_type": "stream",
          "name": "stdout",
          "text": [
            "                                 Statespace Model Results                                 \n",
            "==========================================================================================\n",
            "Dep. Variable:                              Close   No. Observations:                 6569\n",
            "Model:             SARIMAX(2, 1, 2)x(0, 1, 2, 12)   Log Likelihood              -26557.563\n",
            "Date:                            Sat, 26 Mar 2022   AIC                          53129.126\n",
            "Time:                                    04:08:13   BIC                          53176.614\n",
            "Sample:                                01-01-1996   HQIC                         53145.547\n",
            "                                     - 03-04-2021                                         \n",
            "Covariance Type:                              opg                                         \n",
            "==============================================================================\n",
            "                 coef    std err          z      P>|z|      [0.025      0.975]\n",
            "------------------------------------------------------------------------------\n",
            "ar.L1          1.6045      0.052     31.101      0.000       1.503       1.706\n",
            "ar.L2         -0.8203      0.045    -18.258      0.000      -0.908      -0.732\n",
            "ma.L1         -1.5997      0.054    -29.742      0.000      -1.705      -1.494\n",
            "ma.L2          0.8038      0.047     16.971      0.000       0.711       0.897\n",
            "ma.S.L12      -0.9837      0.006   -165.627      0.000      -0.995      -0.972\n",
            "ma.S.L24      -0.0206      0.006     -3.706      0.000      -0.031      -0.010\n",
            "sigma2       194.2795      1.026    189.378      0.000     192.269     196.290\n",
            "===================================================================================\n",
            "Ljung-Box (Q):                      134.88   Jarque-Bera (JB):            198162.55\n",
            "Prob(Q):                              0.00   Prob(JB):                         0.00\n",
            "Heteroskedasticity (H):             274.64   Skew:                             0.24\n",
            "Prob(H) (two-sided):                  0.00   Kurtosis:                        29.99\n",
            "===================================================================================\n",
            "\n",
            "Warnings:\n",
            "[1] Covariance matrix calculated using the outer product of gradients (complex-step).\n"
          ]
        }
      ],
      "source": [
        "model = sm.tsa.statespace.SARIMAX(df,\n",
        "                                order=(2,1,2),\n",
        "                                seasonal_order=(0,1,2,12),\n",
        "                                enforce_stationarity=False,\n",
        "                                enforce_invertibility=False)\n",
        "model_Sarima = model.fit()\n",
        "print(model_Sarima.summary())"
      ]
    },
    {
      "cell_type": "code",
      "execution_count": null,
      "metadata": {
        "id": "-KgTx5a25Fcg",
        "colab": {
          "base_uri": "https://localhost:8080/",
          "height": 423
        },
        "outputId": "265a064a-bbc5-4e28-8948-b721de55bae6"
      },
      "outputs": [
        {
          "output_type": "execute_result",
          "data": {
            "text/plain": [
              "            lower Close  upper Close\n",
              "2021-03-05  2350.101760  2404.969494\n",
              "2021-03-08  2342.685749  2420.467944\n",
              "2021-03-09  2341.277316  2436.339205\n",
              "2021-03-10  2337.107458  2446.268664\n",
              "2021-03-11  2335.148660  2456.263711\n",
              "...                 ...          ...\n",
              "2023-05-03  2030.112421  3411.631555\n",
              "2023-05-04  2030.668344  3413.645070\n",
              "2023-05-05  2029.759846  3414.192767\n",
              "2023-05-08  2031.217236  3417.104747\n",
              "2023-05-09  2030.241644  3417.581990\n",
              "\n",
              "[568 rows x 2 columns]"
            ],
            "text/html": [
              "\n",
              "  <div id=\"df-820a5047-1590-4b26-bc12-660c2fdf1d33\">\n",
              "    <div class=\"colab-df-container\">\n",
              "      <div>\n",
              "<style scoped>\n",
              "    .dataframe tbody tr th:only-of-type {\n",
              "        vertical-align: middle;\n",
              "    }\n",
              "\n",
              "    .dataframe tbody tr th {\n",
              "        vertical-align: top;\n",
              "    }\n",
              "\n",
              "    .dataframe thead th {\n",
              "        text-align: right;\n",
              "    }\n",
              "</style>\n",
              "<table border=\"1\" class=\"dataframe\">\n",
              "  <thead>\n",
              "    <tr style=\"text-align: right;\">\n",
              "      <th></th>\n",
              "      <th>lower Close</th>\n",
              "      <th>upper Close</th>\n",
              "    </tr>\n",
              "  </thead>\n",
              "  <tbody>\n",
              "    <tr>\n",
              "      <th>2021-03-05</th>\n",
              "      <td>2350.101760</td>\n",
              "      <td>2404.969494</td>\n",
              "    </tr>\n",
              "    <tr>\n",
              "      <th>2021-03-08</th>\n",
              "      <td>2342.685749</td>\n",
              "      <td>2420.467944</td>\n",
              "    </tr>\n",
              "    <tr>\n",
              "      <th>2021-03-09</th>\n",
              "      <td>2341.277316</td>\n",
              "      <td>2436.339205</td>\n",
              "    </tr>\n",
              "    <tr>\n",
              "      <th>2021-03-10</th>\n",
              "      <td>2337.107458</td>\n",
              "      <td>2446.268664</td>\n",
              "    </tr>\n",
              "    <tr>\n",
              "      <th>2021-03-11</th>\n",
              "      <td>2335.148660</td>\n",
              "      <td>2456.263711</td>\n",
              "    </tr>\n",
              "    <tr>\n",
              "      <th>...</th>\n",
              "      <td>...</td>\n",
              "      <td>...</td>\n",
              "    </tr>\n",
              "    <tr>\n",
              "      <th>2023-05-03</th>\n",
              "      <td>2030.112421</td>\n",
              "      <td>3411.631555</td>\n",
              "    </tr>\n",
              "    <tr>\n",
              "      <th>2023-05-04</th>\n",
              "      <td>2030.668344</td>\n",
              "      <td>3413.645070</td>\n",
              "    </tr>\n",
              "    <tr>\n",
              "      <th>2023-05-05</th>\n",
              "      <td>2029.759846</td>\n",
              "      <td>3414.192767</td>\n",
              "    </tr>\n",
              "    <tr>\n",
              "      <th>2023-05-08</th>\n",
              "      <td>2031.217236</td>\n",
              "      <td>3417.104747</td>\n",
              "    </tr>\n",
              "    <tr>\n",
              "      <th>2023-05-09</th>\n",
              "      <td>2030.241644</td>\n",
              "      <td>3417.581990</td>\n",
              "    </tr>\n",
              "  </tbody>\n",
              "</table>\n",
              "<p>568 rows × 2 columns</p>\n",
              "</div>\n",
              "      <button class=\"colab-df-convert\" onclick=\"convertToInteractive('df-820a5047-1590-4b26-bc12-660c2fdf1d33')\"\n",
              "              title=\"Convert this dataframe to an interactive table.\"\n",
              "              style=\"display:none;\">\n",
              "        \n",
              "  <svg xmlns=\"http://www.w3.org/2000/svg\" height=\"24px\"viewBox=\"0 0 24 24\"\n",
              "       width=\"24px\">\n",
              "    <path d=\"M0 0h24v24H0V0z\" fill=\"none\"/>\n",
              "    <path d=\"M18.56 5.44l.94 2.06.94-2.06 2.06-.94-2.06-.94-.94-2.06-.94 2.06-2.06.94zm-11 1L8.5 8.5l.94-2.06 2.06-.94-2.06-.94L8.5 2.5l-.94 2.06-2.06.94zm10 10l.94 2.06.94-2.06 2.06-.94-2.06-.94-.94-2.06-.94 2.06-2.06.94z\"/><path d=\"M17.41 7.96l-1.37-1.37c-.4-.4-.92-.59-1.43-.59-.52 0-1.04.2-1.43.59L10.3 9.45l-7.72 7.72c-.78.78-.78 2.05 0 2.83L4 21.41c.39.39.9.59 1.41.59.51 0 1.02-.2 1.41-.59l7.78-7.78 2.81-2.81c.8-.78.8-2.07 0-2.86zM5.41 20L4 18.59l7.72-7.72 1.47 1.35L5.41 20z\"/>\n",
              "  </svg>\n",
              "      </button>\n",
              "      \n",
              "  <style>\n",
              "    .colab-df-container {\n",
              "      display:flex;\n",
              "      flex-wrap:wrap;\n",
              "      gap: 12px;\n",
              "    }\n",
              "\n",
              "    .colab-df-convert {\n",
              "      background-color: #E8F0FE;\n",
              "      border: none;\n",
              "      border-radius: 50%;\n",
              "      cursor: pointer;\n",
              "      display: none;\n",
              "      fill: #1967D2;\n",
              "      height: 32px;\n",
              "      padding: 0 0 0 0;\n",
              "      width: 32px;\n",
              "    }\n",
              "\n",
              "    .colab-df-convert:hover {\n",
              "      background-color: #E2EBFA;\n",
              "      box-shadow: 0px 1px 2px rgba(60, 64, 67, 0.3), 0px 1px 3px 1px rgba(60, 64, 67, 0.15);\n",
              "      fill: #174EA6;\n",
              "    }\n",
              "\n",
              "    [theme=dark] .colab-df-convert {\n",
              "      background-color: #3B4455;\n",
              "      fill: #D2E3FC;\n",
              "    }\n",
              "\n",
              "    [theme=dark] .colab-df-convert:hover {\n",
              "      background-color: #434B5C;\n",
              "      box-shadow: 0px 1px 3px 1px rgba(0, 0, 0, 0.15);\n",
              "      filter: drop-shadow(0px 1px 2px rgba(0, 0, 0, 0.3));\n",
              "      fill: #FFFFFF;\n",
              "    }\n",
              "  </style>\n",
              "\n",
              "      <script>\n",
              "        const buttonEl =\n",
              "          document.querySelector('#df-820a5047-1590-4b26-bc12-660c2fdf1d33 button.colab-df-convert');\n",
              "        buttonEl.style.display =\n",
              "          google.colab.kernel.accessAllowed ? 'block' : 'none';\n",
              "\n",
              "        async function convertToInteractive(key) {\n",
              "          const element = document.querySelector('#df-820a5047-1590-4b26-bc12-660c2fdf1d33');\n",
              "          const dataTable =\n",
              "            await google.colab.kernel.invokeFunction('convertToInteractive',\n",
              "                                                     [key], {});\n",
              "          if (!dataTable) return;\n",
              "\n",
              "          const docLinkHtml = 'Like what you see? Visit the ' +\n",
              "            '<a target=\"_blank\" href=https://colab.research.google.com/notebooks/data_table.ipynb>data table notebook</a>'\n",
              "            + ' to learn more about interactive tables.';\n",
              "          element.innerHTML = '';\n",
              "          dataTable['output_type'] = 'display_data';\n",
              "          await google.colab.output.renderOutput(dataTable, element);\n",
              "          const docLink = document.createElement('div');\n",
              "          docLink.innerHTML = docLinkHtml;\n",
              "          element.appendChild(docLink);\n",
              "        }\n",
              "      </script>\n",
              "    </div>\n",
              "  </div>\n",
              "  "
            ]
          },
          "metadata": {},
          "execution_count": 45
        }
      ],
      "source": [
        "forecast = model_Sarima.forecast(steps=len(test))\n",
        "\n",
        "pred95 = model_Sarima.get_forecast(steps=len(test))\n",
        "\n",
        "pred95=pred95.conf_int()\n",
        "\n",
        "pred95"
      ]
    },
    {
      "cell_type": "code",
      "execution_count": null,
      "metadata": {
        "id": "qr3eKwqO5Fcg",
        "colab": {
          "base_uri": "https://localhost:8080/",
          "height": 497
        },
        "outputId": "8d3e0188-5157-4732-a512-6013aa44f81f"
      },
      "outputs": [
        {
          "output_type": "display_data",
          "data": {
            "text/plain": [
              "<Figure size 1080x576 with 1 Axes>"
            ],
            "image/png": "[encoded data removed]"
          },
          "metadata": {
            "needs_background": "light"
          }
        }
      ],
      "source": [
        "axis = df.plot(label='Observed', figsize=(15, 8))\n",
        "forecast.plot(ax=axis, label='Forecast', alpha=0.7)\n",
        "axis.fill_between(forecast.index, pred95['lower Close'], pred95['upper Close'], color='b', alpha=.15)\n",
        "axis.set_xlabel('Year-Months')\n",
        "axis.set_ylabel('Close')\n",
        "plt.legend(loc='best')\n",
        "plt.show()"
      ]
    },
    {
      "cell_type": "markdown",
      "metadata": {
        "id": "r2mXnsjf58D_"
      },
      "source": [
        "*LSTM MODEL*"
      ]
    },
    {
      "cell_type": "code",
      "execution_count": null,
      "metadata": {
        "id": "bJ80kYag5Fcg"
      },
      "outputs": [],
      "source": [
        "# Load the Data\n",
        "\n",
        "data = pd.read_csv('/content/drive/MyDrive/M-tech Thesis/Reliance india.csv')"
      ]
    },
    {
      "cell_type": "code",
      "execution_count": null,
      "metadata": {
        "id": "8JQ4yWTy5Fcg",
        "colab": {
          "base_uri": "https://localhost:8080/",
          "height": 250
        },
        "outputId": "2d53762c-7352-486e-933b-23af7f9183bd"
      },
      "outputs": [
        {
          "output_type": "execute_result",
          "data": {
            "text/plain": [
              "         Date       Open       High        Low      Close  Adj Close  \\\n",
              "0  01-01-1996  15.859429  15.944529  15.754989  15.917452  10.509537   \n",
              "1  02-01-1996  15.878770  15.956133  15.677626  15.793671  10.427812   \n",
              "2  03-01-1996  16.052837  16.783918  15.878770  15.913584  10.506983   \n",
              "3  04-01-1996  15.762726  15.813012  15.553845  15.766594  10.409933   \n",
              "4  05-01-1996  15.704703  15.704703  15.522900  15.658285  10.338421   \n",
              "\n",
              "        Volume  \n",
              "0   48051995.0  \n",
              "1   77875009.0  \n",
              "2   96602936.0  \n",
              "3  100099436.0  \n",
              "4   76935930.0  "
            ],
            "text/html": [
              "\n",
              "  <div id=\"df-3b7e92fc-4e00-4582-add5-8fcdc68ef96d\">\n",
              "    <div class=\"colab-df-container\">\n",
              "      <div>\n",
              "<style scoped>\n",
              "    .dataframe tbody tr th:only-of-type {\n",
              "        vertical-align: middle;\n",
              "    }\n",
              "\n",
              "    .dataframe tbody tr th {\n",
              "        vertical-align: top;\n",
              "    }\n",
              "\n",
              "    .dataframe thead th {\n",
              "        text-align: right;\n",
              "    }\n",
              "</style>\n",
              "<table border=\"1\" class=\"dataframe\">\n",
              "  <thead>\n",
              "    <tr style=\"text-align: right;\">\n",
              "      <th></th>\n",
              "      <th>Date</th>\n",
              "      <th>Open</th>\n",
              "      <th>High</th>\n",
              "      <th>Low</th>\n",
              "      <th>Close</th>\n",
              "      <th>Adj Close</th>\n",
              "      <th>Volume</th>\n",
              "    </tr>\n",
              "  </thead>\n",
              "  <tbody>\n",
              "    <tr>\n",
              "      <th>0</th>\n",
              "      <td>01-01-1996</td>\n",
              "      <td>15.859429</td>\n",
              "      <td>15.944529</td>\n",
              "      <td>15.754989</td>\n",
              "      <td>15.917452</td>\n",
              "      <td>10.509537</td>\n",
              "      <td>48051995.0</td>\n",
              "    </tr>\n",
              "    <tr>\n",
              "      <th>1</th>\n",
              "      <td>02-01-1996</td>\n",
              "      <td>15.878770</td>\n",
              "      <td>15.956133</td>\n",
              "      <td>15.677626</td>\n",
              "      <td>15.793671</td>\n",
              "      <td>10.427812</td>\n",
              "      <td>77875009.0</td>\n",
              "    </tr>\n",
              "    <tr>\n",
              "      <th>2</th>\n",
              "      <td>03-01-1996</td>\n",
              "      <td>16.052837</td>\n",
              "      <td>16.783918</td>\n",
              "      <td>15.878770</td>\n",
              "      <td>15.913584</td>\n",
              "      <td>10.506983</td>\n",
              "      <td>96602936.0</td>\n",
              "    </tr>\n",
              "    <tr>\n",
              "      <th>3</th>\n",
              "      <td>04-01-1996</td>\n",
              "      <td>15.762726</td>\n",
              "      <td>15.813012</td>\n",
              "      <td>15.553845</td>\n",
              "      <td>15.766594</td>\n",
              "      <td>10.409933</td>\n",
              "      <td>100099436.0</td>\n",
              "    </tr>\n",
              "    <tr>\n",
              "      <th>4</th>\n",
              "      <td>05-01-1996</td>\n",
              "      <td>15.704703</td>\n",
              "      <td>15.704703</td>\n",
              "      <td>15.522900</td>\n",
              "      <td>15.658285</td>\n",
              "      <td>10.338421</td>\n",
              "      <td>76935930.0</td>\n",
              "    </tr>\n",
              "  </tbody>\n",
              "</table>\n",
              "</div>\n",
              "      <button class=\"colab-df-convert\" onclick=\"convertToInteractive('df-3b7e92fc-4e00-4582-add5-8fcdc68ef96d')\"\n",
              "              title=\"Convert this dataframe to an interactive table.\"\n",
              "              style=\"display:none;\">\n",
              "        \n",
              "  <svg xmlns=\"http://www.w3.org/2000/svg\" height=\"24px\"viewBox=\"0 0 24 24\"\n",
              "       width=\"24px\">\n",
              "    <path d=\"M0 0h24v24H0V0z\" fill=\"none\"/>\n",
              "    <path d=\"M18.56 5.44l.94 2.06.94-2.06 2.06-.94-2.06-.94-.94-2.06-.94 2.06-2.06.94zm-11 1L8.5 8.5l.94-2.06 2.06-.94-2.06-.94L8.5 2.5l-.94 2.06-2.06.94zm10 10l.94 2.06.94-2.06 2.06-.94-2.06-.94-.94-2.06-.94 2.06-2.06.94z\"/><path d=\"M17.41 7.96l-1.37-1.37c-.4-.4-.92-.59-1.43-.59-.52 0-1.04.2-1.43.59L10.3 9.45l-7.72 7.72c-.78.78-.78 2.05 0 2.83L4 21.41c.39.39.9.59 1.41.59.51 0 1.02-.2 1.41-.59l7.78-7.78 2.81-2.81c.8-.78.8-2.07 0-2.86zM5.41 20L4 18.59l7.72-7.72 1.47 1.35L5.41 20z\"/>\n",
              "  </svg>\n",
              "      </button>\n",
              "      \n",
              "  <style>\n",
              "    .colab-df-container {\n",
              "      display:flex;\n",
              "      flex-wrap:wrap;\n",
              "      gap: 12px;\n",
              "    }\n",
              "\n",
              "    .colab-df-convert {\n",
              "      background-color: #E8F0FE;\n",
              "      border: none;\n",
              "      border-radius: 50%;\n",
              "      cursor: pointer;\n",
              "      display: none;\n",
              "      fill: #1967D2;\n",
              "      height: 32px;\n",
              "      padding: 0 0 0 0;\n",
              "      width: 32px;\n",
              "    }\n",
              "\n",
              "    .colab-df-convert:hover {\n",
              "      background-color: #E2EBFA;\n",
              "      box-shadow: 0px 1px 2px rgba(60, 64, 67, 0.3), 0px 1px 3px 1px rgba(60, 64, 67, 0.15);\n",
              "      fill: #174EA6;\n",
              "    }\n",
              "\n",
              "    [theme=dark] .colab-df-convert {\n",
              "      background-color: #3B4455;\n",
              "      fill: #D2E3FC;\n",
              "    }\n",
              "\n",
              "    [theme=dark] .colab-df-convert:hover {\n",
              "      background-color: #434B5C;\n",
              "      box-shadow: 0px 1px 3px 1px rgba(0, 0, 0, 0.15);\n",
              "      filter: drop-shadow(0px 1px 2px rgba(0, 0, 0, 0.3));\n",
              "      fill: #FFFFFF;\n",
              "    }\n",
              "  </style>\n",
              "\n",
              "      <script>\n",
              "        const buttonEl =\n",
              "          document.querySelector('#df-3b7e92fc-4e00-4582-add5-8fcdc68ef96d button.colab-df-convert');\n",
              "        buttonEl.style.display =\n",
              "          google.colab.kernel.accessAllowed ? 'block' : 'none';\n",
              "\n",
              "        async function convertToInteractive(key) {\n",
              "          const element = document.querySelector('#df-3b7e92fc-4e00-4582-add5-8fcdc68ef96d');\n",
              "          const dataTable =\n",
              "            await google.colab.kernel.invokeFunction('convertToInteractive',\n",
              "                                                     [key], {});\n",
              "          if (!dataTable) return;\n",
              "\n",
              "          const docLinkHtml = 'Like what you see? Visit the ' +\n",
              "            '<a target=\"_blank\" href=https://colab.research.google.com/notebooks/data_table.ipynb>data table notebook</a>'\n",
              "            + ' to learn more about interactive tables.';\n",
              "          element.innerHTML = '';\n",
              "          dataTable['output_type'] = 'display_data';\n",
              "          await google.colab.output.renderOutput(dataTable, element);\n",
              "          const docLink = document.createElement('div');\n",
              "          docLink.innerHTML = docLinkHtml;\n",
              "          element.appendChild(docLink);\n",
              "        }\n",
              "      </script>\n",
              "    </div>\n",
              "  </div>\n",
              "  "
            ]
          },
          "metadata": {},
          "execution_count": 5
        }
      ],
      "source": [
        "# Showing the Data frame\n",
        "\n",
        "data.head()"
      ]
    },
    {
      "cell_type": "code",
      "execution_count": null,
      "metadata": {
        "id": "lpwYHabe5Fcg"
      },
      "outputs": [],
      "source": [
        "#setting index as date values\n",
        "\n",
        "data['Date'] = pd.to_datetime(data.Date,format='%d-%m-%Y')\n",
        "data.index = data['Date']\n",
        "data = data.drop('Date',axis=1)"
      ]
    },
    {
      "cell_type": "code",
      "execution_count": null,
      "metadata": {
        "id": "kv1-MBkS640x",
        "colab": {
          "base_uri": "https://localhost:8080/",
          "height": 238
        },
        "outputId": "82e2c809-0c2f-4837-9ca1-04142afd4bc2"
      },
      "outputs": [
        {
          "output_type": "execute_result",
          "data": {
            "text/plain": [
              "                 Open       High        Low      Close  Adj Close       Volume\n",
              "Date                                                                          \n",
              "1996-01-01  15.859429  15.944529  15.754989  15.917452  10.509537   48051995.0\n",
              "1996-01-02  15.878770  15.956133  15.677626  15.793671  10.427812   77875009.0\n",
              "1996-01-03  16.052837  16.783918  15.878770  15.913584  10.506983   96602936.0\n",
              "1996-01-04  15.762726  15.813012  15.553845  15.766594  10.409933  100099436.0\n",
              "1996-01-05  15.704703  15.704703  15.522900  15.658285  10.338421   76935930.0"
            ],
            "text/html": [
              "\n",
              "  <div id=\"df-3dedd72b-007c-4a3d-9134-81f1b49a9e39\">\n",
              "    <div class=\"colab-df-container\">\n",
              "      <div>\n",
              "<style scoped>\n",
              "    .dataframe tbody tr th:only-of-type {\n",
              "        vertical-align: middle;\n",
              "    }\n",
              "\n",
              "    .dataframe tbody tr th {\n",
              "        vertical-align: top;\n",
              "    }\n",
              "\n",
              "    .dataframe thead th {\n",
              "        text-align: right;\n",
              "    }\n",
              "</style>\n",
              "<table border=\"1\" class=\"dataframe\">\n",
              "  <thead>\n",
              "    <tr style=\"text-align: right;\">\n",
              "      <th></th>\n",
              "      <th>Open</th>\n",
              "      <th>High</th>\n",
              "      <th>Low</th>\n",
              "      <th>Close</th>\n",
              "      <th>Adj Close</th>\n",
              "      <th>Volume</th>\n",
              "    </tr>\n",
              "    <tr>\n",
              "      <th>Date</th>\n",
              "      <th></th>\n",
              "      <th></th>\n",
              "      <th></th>\n",
              "      <th></th>\n",
              "      <th></th>\n",
              "      <th></th>\n",
              "    </tr>\n",
              "  </thead>\n",
              "  <tbody>\n",
              "    <tr>\n",
              "      <th>1996-01-01</th>\n",
              "      <td>15.859429</td>\n",
              "      <td>15.944529</td>\n",
              "      <td>15.754989</td>\n",
              "      <td>15.917452</td>\n",
              "      <td>10.509537</td>\n",
              "      <td>48051995.0</td>\n",
              "    </tr>\n",
              "    <tr>\n",
              "      <th>1996-01-02</th>\n",
              "      <td>15.878770</td>\n",
              "      <td>15.956133</td>\n",
              "      <td>15.677626</td>\n",
              "      <td>15.793671</td>\n",
              "      <td>10.427812</td>\n",
              "      <td>77875009.0</td>\n",
              "    </tr>\n",
              "    <tr>\n",
              "      <th>1996-01-03</th>\n",
              "      <td>16.052837</td>\n",
              "      <td>16.783918</td>\n",
              "      <td>15.878770</td>\n",
              "      <td>15.913584</td>\n",
              "      <td>10.506983</td>\n",
              "      <td>96602936.0</td>\n",
              "    </tr>\n",
              "    <tr>\n",
              "      <th>1996-01-04</th>\n",
              "      <td>15.762726</td>\n",
              "      <td>15.813012</td>\n",
              "      <td>15.553845</td>\n",
              "      <td>15.766594</td>\n",
              "      <td>10.409933</td>\n",
              "      <td>100099436.0</td>\n",
              "    </tr>\n",
              "    <tr>\n",
              "      <th>1996-01-05</th>\n",
              "      <td>15.704703</td>\n",
              "      <td>15.704703</td>\n",
              "      <td>15.522900</td>\n",
              "      <td>15.658285</td>\n",
              "      <td>10.338421</td>\n",
              "      <td>76935930.0</td>\n",
              "    </tr>\n",
              "  </tbody>\n",
              "</table>\n",
              "</div>\n",
              "      <button class=\"colab-df-convert\" onclick=\"convertToInteractive('df-3dedd72b-007c-4a3d-9134-81f1b49a9e39')\"\n",
              "              title=\"Convert this dataframe to an interactive table.\"\n",
              "              style=\"display:none;\">\n",
              "        \n",
              "  <svg xmlns=\"http://www.w3.org/2000/svg\" height=\"24px\"viewBox=\"0 0 24 24\"\n",
              "       width=\"24px\">\n",
              "    <path d=\"M0 0h24v24H0V0z\" fill=\"none\"/>\n",
              "    <path d=\"M18.56 5.44l.94 2.06.94-2.06 2.06-.94-2.06-.94-.94-2.06-.94 2.06-2.06.94zm-11 1L8.5 8.5l.94-2.06 2.06-.94-2.06-.94L8.5 2.5l-.94 2.06-2.06.94zm10 10l.94 2.06.94-2.06 2.06-.94-2.06-.94-.94-2.06-.94 2.06-2.06.94z\"/><path d=\"M17.41 7.96l-1.37-1.37c-.4-.4-.92-.59-1.43-.59-.52 0-1.04.2-1.43.59L10.3 9.45l-7.72 7.72c-.78.78-.78 2.05 0 2.83L4 21.41c.39.39.9.59 1.41.59.51 0 1.02-.2 1.41-.59l7.78-7.78 2.81-2.81c.8-.78.8-2.07 0-2.86zM5.41 20L4 18.59l7.72-7.72 1.47 1.35L5.41 20z\"/>\n",
              "  </svg>\n",
              "      </button>\n",
              "      \n",
              "  <style>\n",
              "    .colab-df-container {\n",
              "      display:flex;\n",
              "      flex-wrap:wrap;\n",
              "      gap: 12px;\n",
              "    }\n",
              "\n",
              "    .colab-df-convert {\n",
              "      background-color: #E8F0FE;\n",
              "      border: none;\n",
              "      border-radius: 50%;\n",
              "      cursor: pointer;\n",
              "      display: none;\n",
              "      fill: #1967D2;\n",
              "      height: 32px;\n",
              "      padding: 0 0 0 0;\n",
              "      width: 32px;\n",
              "    }\n",
              "\n",
              "    .colab-df-convert:hover {\n",
              "      background-color: #E2EBFA;\n",
              "      box-shadow: 0px 1px 2px rgba(60, 64, 67, 0.3), 0px 1px 3px 1px rgba(60, 64, 67, 0.15);\n",
              "      fill: #174EA6;\n",
              "    }\n",
              "\n",
              "    [theme=dark] .colab-df-convert {\n",
              "      background-color: #3B4455;\n",
              "      fill: #D2E3FC;\n",
              "    }\n",
              "\n",
              "    [theme=dark] .colab-df-convert:hover {\n",
              "      background-color: #434B5C;\n",
              "      box-shadow: 0px 1px 3px 1px rgba(0, 0, 0, 0.15);\n",
              "      filter: drop-shadow(0px 1px 2px rgba(0, 0, 0, 0.3));\n",
              "      fill: #FFFFFF;\n",
              "    }\n",
              "  </style>\n",
              "\n",
              "      <script>\n",
              "        const buttonEl =\n",
              "          document.querySelector('#df-3dedd72b-007c-4a3d-9134-81f1b49a9e39 button.colab-df-convert');\n",
              "        buttonEl.style.display =\n",
              "          google.colab.kernel.accessAllowed ? 'block' : 'none';\n",
              "\n",
              "        async function convertToInteractive(key) {\n",
              "          const element = document.querySelector('#df-3dedd72b-007c-4a3d-9134-81f1b49a9e39');\n",
              "          const dataTable =\n",
              "            await google.colab.kernel.invokeFunction('convertToInteractive',\n",
              "                                                     [key], {});\n",
              "          if (!dataTable) return;\n",
              "\n",
              "          const docLinkHtml = 'Like what you see? Visit the ' +\n",
              "            '<a target=\"_blank\" href=https://colab.research.google.com/notebooks/data_table.ipynb>data table notebook</a>'\n",
              "            + ' to learn more about interactive tables.';\n",
              "          element.innerHTML = '';\n",
              "          dataTable['output_type'] = 'display_data';\n",
              "          await google.colab.output.renderOutput(dataTable, element);\n",
              "          const docLink = document.createElement('div');\n",
              "          docLink.innerHTML = docLinkHtml;\n",
              "          element.appendChild(docLink);\n",
              "        }\n",
              "      </script>\n",
              "    </div>\n",
              "  </div>\n",
              "  "
            ]
          },
          "metadata": {},
          "execution_count": 7
        }
      ],
      "source": [
        "data.head()"
      ]
    },
    {
      "cell_type": "code",
      "execution_count": null,
      "metadata": {
        "id": "5oS-eoec64x5",
        "colab": {
          "base_uri": "https://localhost:8080/"
        },
        "outputId": "0c87dfb8-4fcf-4d4c-9cb6-b3d2f3f0f349"
      },
      "outputs": [
        {
          "output_type": "execute_result",
          "data": {
            "text/plain": [
              "Open         float64\n",
              "High         float64\n",
              "Low          float64\n",
              "Close        float64\n",
              "Adj Close    float64\n",
              "Volume       float64\n",
              "dtype: object"
            ]
          },
          "metadata": {},
          "execution_count": 8
        }
      ],
      "source": [
        "# Checking the data types\n",
        "\n",
        "data.dtypes"
      ]
    },
    {
      "cell_type": "code",
      "execution_count": null,
      "metadata": {
        "id": "iq-EH72-64uT",
        "colab": {
          "base_uri": "https://localhost:8080/"
        },
        "outputId": "77765b73-cff7-492c-898d-53f3adf54c22"
      },
      "outputs": [
        {
          "output_type": "execute_result",
          "data": {
            "text/plain": [
              "Open         10\n",
              "High         10\n",
              "Low          10\n",
              "Close        10\n",
              "Adj Close    10\n",
              "Volume       10\n",
              "dtype: int64"
            ]
          },
          "metadata": {},
          "execution_count": 9
        }
      ],
      "source": [
        "# Checking the null values in the data\n",
        "\n",
        "data.isnull().sum()"
      ]
    },
    {
      "cell_type": "code",
      "execution_count": null,
      "metadata": {
        "id": "rmX4z1TW64oB"
      },
      "outputs": [],
      "source": [
        "# Filling the null values by back fill method\n",
        "\n",
        "data['Open'] = data['Open'].fillna(method = 'bfill')\n",
        "data['High'] = data['High'].fillna(method = 'bfill')\n",
        "data['Low'] = data['Low'].fillna(method = 'bfill')\n",
        "data['Close'] = data['Close'].fillna(method = 'bfill')\n",
        "data['Adj Close'] = data['Adj Close'].fillna(method = 'bfill')\n",
        "data['Volume'] = data['Volume'].fillna(method = 'bfill')"
      ]
    },
    {
      "cell_type": "code",
      "execution_count": null,
      "metadata": {
        "id": "syiYzFgI64k7",
        "colab": {
          "base_uri": "https://localhost:8080/"
        },
        "outputId": "4d660338-12c5-41fa-a952-21bb44914d35"
      },
      "outputs": [
        {
          "output_type": "execute_result",
          "data": {
            "text/plain": [
              "Open         0\n",
              "High         0\n",
              "Low          0\n",
              "Close        0\n",
              "Adj Close    0\n",
              "Volume       0\n",
              "dtype: int64"
            ]
          },
          "metadata": {},
          "execution_count": 11
        }
      ],
      "source": [
        "data.isnull().sum()"
      ]
    },
    {
      "cell_type": "code",
      "execution_count": null,
      "metadata": {
        "id": "oFD8X8AU64h9",
        "colab": {
          "base_uri": "https://localhost:8080/",
          "height": 282
        },
        "outputId": "9f2b924e-f781-49c1-c5bf-def90565b5db"
      },
      "outputs": [
        {
          "output_type": "execute_result",
          "data": {
            "text/plain": [
              "[<matplotlib.lines.Line2D at 0x7f9a18d4afd0>]"
            ]
          },
          "metadata": {},
          "execution_count": 12
        },
        {
          "output_type": "display_data",
          "data": {
            "text/plain": [
              "<Figure size 432x288 with 1 Axes>"
            ],
            "image/png": "[encoded data removed]"
          },
          "metadata": {
            "needs_background": "light"
          }
        }
      ],
      "source": [
        "# Ploting the data\n",
        "\n",
        "plt.plot(data['Close'])"
      ]
    },
    {
      "cell_type": "code",
      "execution_count": null,
      "metadata": {
        "id": "zRE5OMPv64en",
        "colab": {
          "base_uri": "https://localhost:8080/",
          "height": 294
        },
        "outputId": "ad78d4ce-f1ec-4ae4-9984-3dfe672a757b"
      },
      "outputs": [
        {
          "output_type": "execute_result",
          "data": {
            "text/plain": [
              "[<matplotlib.lines.Line2D at 0x7f9a18cc8150>]"
            ]
          },
          "metadata": {},
          "execution_count": 13
        },
        {
          "output_type": "display_data",
          "data": {
            "text/plain": [
              "<Figure size 432x288 with 1 Axes>"
            ],
            "image/png": "[encoded data removed]"
          },
          "metadata": {
            "needs_background": "light"
          }
        }
      ],
      "source": [
        "plt.plot(data['Volume'])"
      ]
    },
    {
      "cell_type": "code",
      "execution_count": null,
      "metadata": {
        "id": "XCCIgTGz64bL"
      },
      "outputs": [],
      "source": [
        "# Droping irrelevent columns before the model .\n",
        "\n",
        "n_data = data.drop(['Open','High','Low','Adj Close','Volume'],axis=1)"
      ]
    },
    {
      "cell_type": "code",
      "execution_count": null,
      "metadata": {
        "id": "cU876UoN64YX",
        "colab": {
          "base_uri": "https://localhost:8080/",
          "height": 238
        },
        "outputId": "dee3ff0a-851d-4a08-97c9-a1dfaf427dc0"
      },
      "outputs": [
        {
          "output_type": "execute_result",
          "data": {
            "text/plain": [
              "                Close\n",
              "Date                 \n",
              "1996-01-01  15.917452\n",
              "1996-01-02  15.793671\n",
              "1996-01-03  15.913584\n",
              "1996-01-04  15.766594\n",
              "1996-01-05  15.658285"
            ],
            "text/html": [
              "\n",
              "  <div id=\"df-18c801e7-d3b5-41f6-b817-20c953ad49ea\">\n",
              "    <div class=\"colab-df-container\">\n",
              "      <div>\n",
              "<style scoped>\n",
              "    .dataframe tbody tr th:only-of-type {\n",
              "        vertical-align: middle;\n",
              "    }\n",
              "\n",
              "    .dataframe tbody tr th {\n",
              "        vertical-align: top;\n",
              "    }\n",
              "\n",
              "    .dataframe thead th {\n",
              "        text-align: right;\n",
              "    }\n",
              "</style>\n",
              "<table border=\"1\" class=\"dataframe\">\n",
              "  <thead>\n",
              "    <tr style=\"text-align: right;\">\n",
              "      <th></th>\n",
              "      <th>Close</th>\n",
              "    </tr>\n",
              "    <tr>\n",
              "      <th>Date</th>\n",
              "      <th></th>\n",
              "    </tr>\n",
              "  </thead>\n",
              "  <tbody>\n",
              "    <tr>\n",
              "      <th>1996-01-01</th>\n",
              "      <td>15.917452</td>\n",
              "    </tr>\n",
              "    <tr>\n",
              "      <th>1996-01-02</th>\n",
              "      <td>15.793671</td>\n",
              "    </tr>\n",
              "    <tr>\n",
              "      <th>1996-01-03</th>\n",
              "      <td>15.913584</td>\n",
              "    </tr>\n",
              "    <tr>\n",
              "      <th>1996-01-04</th>\n",
              "      <td>15.766594</td>\n",
              "    </tr>\n",
              "    <tr>\n",
              "      <th>1996-01-05</th>\n",
              "      <td>15.658285</td>\n",
              "    </tr>\n",
              "  </tbody>\n",
              "</table>\n",
              "</div>\n",
              "      <button class=\"colab-df-convert\" onclick=\"convertToInteractive('df-18c801e7-d3b5-41f6-b817-20c953ad49ea')\"\n",
              "              title=\"Convert this dataframe to an interactive table.\"\n",
              "              style=\"display:none;\">\n",
              "        \n",
              "  <svg xmlns=\"http://www.w3.org/2000/svg\" height=\"24px\"viewBox=\"0 0 24 24\"\n",
              "       width=\"24px\">\n",
              "    <path d=\"M0 0h24v24H0V0z\" fill=\"none\"/>\n",
              "    <path d=\"M18.56 5.44l.94 2.06.94-2.06 2.06-.94-2.06-.94-.94-2.06-.94 2.06-2.06.94zm-11 1L8.5 8.5l.94-2.06 2.06-.94-2.06-.94L8.5 2.5l-.94 2.06-2.06.94zm10 10l.94 2.06.94-2.06 2.06-.94-2.06-.94-.94-2.06-.94 2.06-2.06.94z\"/><path d=\"M17.41 7.96l-1.37-1.37c-.4-.4-.92-.59-1.43-.59-.52 0-1.04.2-1.43.59L10.3 9.45l-7.72 7.72c-.78.78-.78 2.05 0 2.83L4 21.41c.39.39.9.59 1.41.59.51 0 1.02-.2 1.41-.59l7.78-7.78 2.81-2.81c.8-.78.8-2.07 0-2.86zM5.41 20L4 18.59l7.72-7.72 1.47 1.35L5.41 20z\"/>\n",
              "  </svg>\n",
              "      </button>\n",
              "      \n",
              "  <style>\n",
              "    .colab-df-container {\n",
              "      display:flex;\n",
              "      flex-wrap:wrap;\n",
              "      gap: 12px;\n",
              "    }\n",
              "\n",
              "    .colab-df-convert {\n",
              "      background-color: #E8F0FE;\n",
              "      border: none;\n",
              "      border-radius: 50%;\n",
              "      cursor: pointer;\n",
              "      display: none;\n",
              "      fill: #1967D2;\n",
              "      height: 32px;\n",
              "      padding: 0 0 0 0;\n",
              "      width: 32px;\n",
              "    }\n",
              "\n",
              "    .colab-df-convert:hover {\n",
              "      background-color: #E2EBFA;\n",
              "      box-shadow: 0px 1px 2px rgba(60, 64, 67, 0.3), 0px 1px 3px 1px rgba(60, 64, 67, 0.15);\n",
              "      fill: #174EA6;\n",
              "    }\n",
              "\n",
              "    [theme=dark] .colab-df-convert {\n",
              "      background-color: #3B4455;\n",
              "      fill: #D2E3FC;\n",
              "    }\n",
              "\n",
              "    [theme=dark] .colab-df-convert:hover {\n",
              "      background-color: #434B5C;\n",
              "      box-shadow: 0px 1px 3px 1px rgba(0, 0, 0, 0.15);\n",
              "      filter: drop-shadow(0px 1px 2px rgba(0, 0, 0, 0.3));\n",
              "      fill: #FFFFFF;\n",
              "    }\n",
              "  </style>\n",
              "\n",
              "      <script>\n",
              "        const buttonEl =\n",
              "          document.querySelector('#df-18c801e7-d3b5-41f6-b817-20c953ad49ea button.colab-df-convert');\n",
              "        buttonEl.style.display =\n",
              "          google.colab.kernel.accessAllowed ? 'block' : 'none';\n",
              "\n",
              "        async function convertToInteractive(key) {\n",
              "          const element = document.querySelector('#df-18c801e7-d3b5-41f6-b817-20c953ad49ea');\n",
              "          const dataTable =\n",
              "            await google.colab.kernel.invokeFunction('convertToInteractive',\n",
              "                                                     [key], {});\n",
              "          if (!dataTable) return;\n",
              "\n",
              "          const docLinkHtml = 'Like what you see? Visit the ' +\n",
              "            '<a target=\"_blank\" href=https://colab.research.google.com/notebooks/data_table.ipynb>data table notebook</a>'\n",
              "            + ' to learn more about interactive tables.';\n",
              "          element.innerHTML = '';\n",
              "          dataTable['output_type'] = 'display_data';\n",
              "          await google.colab.output.renderOutput(dataTable, element);\n",
              "          const docLink = document.createElement('div');\n",
              "          docLink.innerHTML = docLinkHtml;\n",
              "          element.appendChild(docLink);\n",
              "        }\n",
              "      </script>\n",
              "    </div>\n",
              "  </div>\n",
              "  "
            ]
          },
          "metadata": {},
          "execution_count": 15
        }
      ],
      "source": [
        "n_data.head()"
      ]
    },
    {
      "cell_type": "code",
      "execution_count": null,
      "metadata": {
        "id": "AL4S50T064Vi"
      },
      "outputs": [],
      "source": [
        "# Scaling the data using Min max Scaler\n",
        "\n",
        "scaler = MinMaxScaler(feature_range=(0, 1))\n",
        "scaled_data = scaler.fit_transform(n_data)"
      ]
    },
    {
      "cell_type": "code",
      "execution_count": null,
      "metadata": {
        "id": "mR69CiQD64Ss"
      },
      "outputs": [],
      "source": [
        "train = scaled_data[:,:]\n",
        "test = scaled_data[:,:]"
      ]
    },
    {
      "cell_type": "code",
      "execution_count": null,
      "metadata": {
        "id": "KofTarwh64QC",
        "colab": {
          "base_uri": "https://localhost:8080/"
        },
        "outputId": "92b98d9b-3227-47b4-c78c-be073bfed56f"
      },
      "outputs": [
        {
          "output_type": "execute_result",
          "data": {
            "text/plain": [
              "(6569, 1)"
            ]
          },
          "metadata": {},
          "execution_count": 18
        }
      ],
      "source": [
        "train.shape"
      ]
    },
    {
      "cell_type": "code",
      "execution_count": null,
      "metadata": {
        "id": "PGPdVwX064Na",
        "colab": {
          "base_uri": "https://localhost:8080/"
        },
        "outputId": "5b61f217-6495-4e8f-f364-345b04e3e3eb"
      },
      "outputs": [
        {
          "output_type": "execute_result",
          "data": {
            "text/plain": [
              "(6569, 1)"
            ]
          },
          "metadata": {},
          "execution_count": 19
        }
      ],
      "source": [
        "test.shape"
      ]
    },
    {
      "cell_type": "code",
      "execution_count": null,
      "metadata": {
        "id": "loOFUjCe64KR"
      },
      "outputs": [],
      "source": [
        "# Splitting the data \n",
        "\n",
        "split = int(0.9 * len(train))\n",
        "X_train = train[:split]\n",
        "y_train = test[:split]\n",
        "X_test = train[split:]\n",
        "y_test = test[split:]"
      ]
    },
    {
      "cell_type": "code",
      "execution_count": null,
      "metadata": {
        "id": "KDp2-LK364Hm",
        "colab": {
          "base_uri": "https://localhost:8080/"
        },
        "outputId": "8ba4264f-44e9-479d-9c71-469bdedc0f8d"
      },
      "outputs": [
        {
          "output_type": "execute_result",
          "data": {
            "text/plain": [
              "((5912, 1), (5912, 1))"
            ]
          },
          "metadata": {},
          "execution_count": 21
        }
      ],
      "source": [
        "X_train.shape, y_train.shape"
      ]
    },
    {
      "cell_type": "code",
      "execution_count": null,
      "metadata": {
        "id": "N8aM9iKx64Ez",
        "colab": {
          "base_uri": "https://localhost:8080/"
        },
        "outputId": "9da475a9-7175-4020-be9a-d4ccf761312f"
      },
      "outputs": [
        {
          "output_type": "execute_result",
          "data": {
            "text/plain": [
              "((657, 1), (657, 1))"
            ]
          },
          "metadata": {},
          "execution_count": 22
        }
      ],
      "source": [
        "X_test.shape, y_test.shape\n"
      ]
    },
    {
      "cell_type": "code",
      "execution_count": null,
      "metadata": {
        "id": "5E5z9p1964B4",
        "colab": {
          "base_uri": "https://localhost:8080/",
          "height": 557
        },
        "outputId": "b7b8100c-49e2-4bf1-cfb4-d91ac2820426"
      },
      "outputs": [
        {
          "output_type": "display_data",
          "data": {
            "text/plain": [
              "<Figure size 936x360 with 1 Axes>"
            ],
            "image/png": "[encoded data removed]"
          },
          "metadata": {
            "needs_background": "light"
          }
        },
        {
          "output_type": "display_data",
          "data": {
            "text/plain": [
              "<Figure size 936x360 with 1 Axes>"
            ],
            "image/png": "[encoded data removed]"
          },
          "metadata": {
            "needs_background": "light"
          }
        }
      ],
      "source": [
        "# Define a data plotting function\n",
        "def show_plot(data, title):\n",
        "  plt.figure(figsize = (13, 5))\n",
        "  plt.plot(data, linewidth = 3)\n",
        "  plt.title(title)\n",
        "  plt.grid()\n",
        "\n",
        "show_plot(X_train, 'Training Data')\n",
        "show_plot(X_test, 'Testing Data')"
      ]
    },
    {
      "cell_type": "code",
      "execution_count": null,
      "metadata": {
        "id": "UaXWWTFv638O"
      },
      "outputs": [],
      "source": [
        "# Creating another model with adding one lstm layer\n",
        "\n",
        "model1=Sequential()\n",
        "model1.add(LSTM(50,return_sequences=True,input_shape=(X_train.shape[1],1)))\n",
        "model1.add(LSTM(50,return_sequences=True))\n",
        "model1.add(LSTM(50))\n",
        "model1.add(Flatten())\n",
        "model1.add(Dense(128,activation ='relu'))\n",
        "model1.add(Dense(64,activation ='relu'))\n",
        "model1.add(Dense(32,activation ='relu'))\n",
        "model1.add(Dense(1,activation='linear'))\n",
        "model1.compile(loss='mean_squared_error',optimizer='adam')"
      ]
    },
    {
      "cell_type": "code",
      "execution_count": null,
      "metadata": {
        "id": "vSAShEPH635O",
        "colab": {
          "base_uri": "https://localhost:8080/"
        },
        "outputId": "6100bba3-4426-47f8-d517-f74881f805ab"
      },
      "outputs": [
        {
          "output_type": "stream",
          "name": "stdout",
          "text": [
            "Model: \"sequential\"\n",
            "_________________________________________________________________\n",
            " Layer (type)                Output Shape              Param #   \n",
            "=================================================================\n",
            " lstm (LSTM)                 (None, 1, 50)             10400     \n",
            "                                                                 \n",
            " lstm_1 (LSTM)               (None, 1, 50)             20200     \n",
            "                                                                 \n",
            " lstm_2 (LSTM)               (None, 50)                20200     \n",
            "                                                                 \n",
            " flatten (Flatten)           (None, 50)                0         \n",
            "                                                                 \n",
            " dense (Dense)               (None, 128)               6528      \n",
            "                                                                 \n",
            " dense_1 (Dense)             (None, 64)                8256      \n",
            "                                                                 \n",
            " dense_2 (Dense)             (None, 32)                2080      \n",
            "                                                                 \n",
            " dense_3 (Dense)             (None, 1)                 33        \n",
            "                                                                 \n",
            "=================================================================\n",
            "Total params: 67,697\n",
            "Trainable params: 67,697\n",
            "Non-trainable params: 0\n",
            "_________________________________________________________________\n"
          ]
        }
      ],
      "source": [
        "model1.summary()"
      ]
    },
    {
      "cell_type": "code",
      "execution_count": null,
      "metadata": {
        "id": "VFWw1zEZ632o",
        "colab": {
          "base_uri": "https://localhost:8080/"
        },
        "outputId": "0eac8858-de2e-41e0-fed4-2b6e08b64963"
      },
      "outputs": [
        {
          "output_type": "stream",
          "name": "stdout",
          "text": [
            "Epoch 1/200\n",
            "93/93 [==============================] - 8s 23ms/step - loss: 0.0101 - val_loss: 8.0174e-04\n",
            "Epoch 2/200\n",
            "93/93 [==============================] - 1s 7ms/step - loss: 3.5516e-05 - val_loss: 1.1341e-04\n",
            "Epoch 3/200\n",
            "93/93 [==============================] - 1s 7ms/step - loss: 2.9021e-07 - val_loss: 6.2762e-05\n",
            "Epoch 4/200\n",
            "93/93 [==============================] - 1s 7ms/step - loss: 6.6120e-08 - val_loss: 5.0857e-05\n",
            "Epoch 5/200\n",
            "93/93 [==============================] - 1s 7ms/step - loss: 2.7045e-08 - val_loss: 4.3354e-05\n",
            "Epoch 6/200\n",
            "93/93 [==============================] - 1s 7ms/step - loss: 1.4442e-08 - val_loss: 4.0520e-05\n",
            "Epoch 7/200\n",
            "93/93 [==============================] - 1s 7ms/step - loss: 9.9170e-09 - val_loss: 4.0467e-05\n",
            "Epoch 8/200\n",
            "93/93 [==============================] - 1s 7ms/step - loss: 7.7655e-09 - val_loss: 4.0641e-05\n",
            "Epoch 9/200\n",
            "93/93 [==============================] - 1s 7ms/step - loss: 6.3020e-09 - val_loss: 3.8023e-05\n",
            "Epoch 10/200\n",
            "93/93 [==============================] - 1s 7ms/step - loss: 6.7098e-09 - val_loss: 3.9604e-05\n",
            "Epoch 11/200\n",
            "93/93 [==============================] - 1s 7ms/step - loss: 5.2329e-09 - val_loss: 3.8300e-05\n",
            "Epoch 12/200\n",
            "93/93 [==============================] - 1s 7ms/step - loss: 4.3257e-09 - val_loss: 3.7483e-05\n",
            "Epoch 13/200\n",
            "93/93 [==============================] - 1s 7ms/step - loss: 4.3666e-09 - val_loss: 3.8538e-05\n",
            "Epoch 14/200\n",
            "93/93 [==============================] - 1s 7ms/step - loss: 4.7161e-09 - val_loss: 3.9050e-05\n",
            "Epoch 15/200\n",
            "93/93 [==============================] - 1s 7ms/step - loss: 6.2384e-09 - val_loss: 3.8559e-05\n",
            "Epoch 16/200\n",
            "93/93 [==============================] - 1s 6ms/step - loss: 4.6121e-09 - val_loss: 3.7104e-05\n",
            "Epoch 17/200\n",
            "93/93 [==============================] - 1s 7ms/step - loss: 3.9064e-09 - val_loss: 3.8184e-05\n",
            "Epoch 18/200\n",
            "93/93 [==============================] - 1s 7ms/step - loss: 5.3182e-09 - val_loss: 3.9290e-05\n",
            "Epoch 19/200\n",
            "93/93 [==============================] - 1s 7ms/step - loss: 5.0841e-09 - val_loss: 3.7932e-05\n",
            "Epoch 20/200\n",
            "93/93 [==============================] - 1s 7ms/step - loss: 3.9712e-09 - val_loss: 3.6235e-05\n",
            "Epoch 21/200\n",
            "93/93 [==============================] - 1s 7ms/step - loss: 5.4578e-09 - val_loss: 3.7961e-05\n",
            "Epoch 22/200\n",
            "93/93 [==============================] - 1s 7ms/step - loss: 1.2245e-08 - val_loss: 3.6566e-05\n",
            "Epoch 23/200\n",
            "93/93 [==============================] - 1s 7ms/step - loss: 9.8792e-09 - val_loss: 3.7822e-05\n",
            "Epoch 24/200\n",
            "93/93 [==============================] - 1s 7ms/step - loss: 1.9737e-08 - val_loss: 3.7320e-05\n",
            "Epoch 25/200\n",
            "93/93 [==============================] - 1s 7ms/step - loss: 2.2444e-07 - val_loss: 3.6087e-05\n",
            "Epoch 26/200\n",
            "93/93 [==============================] - 1s 7ms/step - loss: 9.7897e-08 - val_loss: 2.5118e-05\n",
            "Epoch 27/200\n",
            "93/93 [==============================] - 1s 7ms/step - loss: 2.8411e-07 - val_loss: 1.9042e-04\n",
            "Epoch 28/200\n",
            "93/93 [==============================] - 1s 7ms/step - loss: 6.2409e-06 - val_loss: 1.9182e-05\n",
            "Epoch 29/200\n",
            "93/93 [==============================] - 1s 7ms/step - loss: 8.9768e-08 - val_loss: 2.0103e-05\n",
            "Epoch 30/200\n",
            "93/93 [==============================] - 1s 7ms/step - loss: 1.6825e-08 - val_loss: 2.2985e-05\n",
            "Epoch 31/200\n",
            "93/93 [==============================] - 1s 7ms/step - loss: 1.1995e-08 - val_loss: 2.4937e-05\n",
            "Epoch 32/200\n",
            "93/93 [==============================] - 1s 7ms/step - loss: 2.9831e-08 - val_loss: 2.6985e-05\n",
            "Epoch 33/200\n",
            "93/93 [==============================] - 1s 6ms/step - loss: 1.8697e-08 - val_loss: 1.8042e-05\n",
            "Epoch 34/200\n",
            "93/93 [==============================] - 1s 7ms/step - loss: 1.1418e-07 - val_loss: 1.6211e-05\n",
            "Epoch 35/200\n",
            "93/93 [==============================] - 1s 7ms/step - loss: 2.4393e-06 - val_loss: 3.9332e-06\n",
            "Epoch 36/200\n",
            "93/93 [==============================] - 1s 7ms/step - loss: 9.5755e-08 - val_loss: 2.0865e-05\n",
            "Epoch 37/200\n",
            "93/93 [==============================] - 1s 7ms/step - loss: 5.3865e-08 - val_loss: 2.0121e-05\n",
            "Epoch 38/200\n",
            "93/93 [==============================] - 1s 7ms/step - loss: 1.2766e-06 - val_loss: 2.8989e-05\n",
            "Epoch 39/200\n",
            "93/93 [==============================] - 1s 7ms/step - loss: 9.5807e-07 - val_loss: 8.6374e-05\n",
            "Epoch 40/200\n",
            "93/93 [==============================] - 1s 8ms/step - loss: 4.7095e-07 - val_loss: 4.3707e-06\n",
            "Epoch 41/200\n",
            "93/93 [==============================] - 1s 15ms/step - loss: 3.5716e-07 - val_loss: 3.5576e-06\n",
            "Epoch 42/200\n",
            "93/93 [==============================] - 1s 7ms/step - loss: 7.9717e-07 - val_loss: 1.7605e-05\n",
            "Epoch 43/200\n",
            "93/93 [==============================] - 1s 6ms/step - loss: 3.7597e-07 - val_loss: 1.7054e-05\n",
            "Epoch 44/200\n",
            "93/93 [==============================] - 1s 7ms/step - loss: 1.5750e-06 - val_loss: 2.0067e-06\n",
            "Epoch 45/200\n",
            "93/93 [==============================] - 1s 7ms/step - loss: 5.5004e-07 - val_loss: 1.7748e-06\n",
            "Epoch 46/200\n",
            "93/93 [==============================] - 1s 6ms/step - loss: 1.3163e-05 - val_loss: 2.1777e-05\n",
            "Epoch 47/200\n",
            "93/93 [==============================] - 1s 7ms/step - loss: 2.8251e-06 - val_loss: 5.4442e-07\n",
            "Epoch 48/200\n",
            "93/93 [==============================] - 1s 7ms/step - loss: 2.2314e-08 - val_loss: 7.7066e-07\n",
            "Epoch 49/200\n",
            "93/93 [==============================] - 1s 7ms/step - loss: 7.1952e-09 - val_loss: 4.8422e-07\n",
            "Epoch 50/200\n",
            "93/93 [==============================] - 1s 7ms/step - loss: 6.8012e-09 - val_loss: 5.3225e-07\n",
            "Epoch 51/200\n",
            "93/93 [==============================] - 1s 7ms/step - loss: 6.0922e-09 - val_loss: 6.0822e-07\n",
            "Epoch 52/200\n",
            "93/93 [==============================] - 1s 7ms/step - loss: 4.8847e-09 - val_loss: 1.2485e-06\n",
            "Epoch 53/200\n",
            "93/93 [==============================] - 1s 7ms/step - loss: 6.5162e-09 - val_loss: 1.3008e-06\n",
            "Epoch 54/200\n",
            "93/93 [==============================] - 1s 7ms/step - loss: 8.3224e-09 - val_loss: 8.3152e-07\n",
            "Epoch 55/200\n",
            "93/93 [==============================] - 1s 7ms/step - loss: 4.8909e-09 - val_loss: 1.2319e-06\n",
            "Epoch 56/200\n",
            "93/93 [==============================] - 1s 7ms/step - loss: 1.5598e-08 - val_loss: 1.7570e-06\n",
            "Epoch 57/200\n",
            "93/93 [==============================] - 1s 7ms/step - loss: 1.5464e-08 - val_loss: 6.2726e-07\n",
            "Epoch 58/200\n",
            "93/93 [==============================] - 1s 7ms/step - loss: 1.7944e-06 - val_loss: 2.5787e-05\n",
            "Epoch 59/200\n",
            "93/93 [==============================] - 1s 7ms/step - loss: 6.0902e-07 - val_loss: 1.8219e-06\n",
            "Epoch 60/200\n",
            "93/93 [==============================] - 1s 7ms/step - loss: 3.9029e-07 - val_loss: 1.4973e-05\n",
            "Epoch 61/200\n",
            "93/93 [==============================] - 1s 7ms/step - loss: 3.1039e-07 - val_loss: 7.1814e-07\n",
            "Epoch 62/200\n",
            "93/93 [==============================] - 1s 7ms/step - loss: 1.8104e-06 - val_loss: 4.1475e-05\n",
            "Epoch 63/200\n",
            "93/93 [==============================] - 1s 7ms/step - loss: 3.6413e-06 - val_loss: 6.4008e-06\n",
            "Epoch 64/200\n",
            "93/93 [==============================] - 1s 7ms/step - loss: 6.7356e-08 - val_loss: 6.2141e-06\n",
            "Epoch 65/200\n",
            "93/93 [==============================] - 1s 7ms/step - loss: 7.3247e-07 - val_loss: 2.1427e-06\n",
            "Epoch 66/200\n",
            "93/93 [==============================] - 1s 7ms/step - loss: 7.3616e-08 - val_loss: 2.9474e-06\n",
            "Epoch 67/200\n",
            "93/93 [==============================] - 1s 7ms/step - loss: 2.4669e-08 - val_loss: 3.4545e-06\n",
            "Epoch 68/200\n",
            "93/93 [==============================] - 1s 7ms/step - loss: 2.8856e-07 - val_loss: 9.0942e-07\n",
            "Epoch 69/200\n",
            "93/93 [==============================] - 1s 7ms/step - loss: 5.1167e-07 - val_loss: 2.0805e-05\n",
            "Epoch 70/200\n",
            "93/93 [==============================] - 1s 7ms/step - loss: 6.3589e-07 - val_loss: 1.6106e-05\n",
            "Epoch 71/200\n",
            "93/93 [==============================] - 1s 7ms/step - loss: 9.0724e-06 - val_loss: 2.5096e-05\n",
            "Epoch 72/200\n",
            "93/93 [==============================] - 1s 7ms/step - loss: 7.4896e-08 - val_loss: 1.5759e-05\n",
            "Epoch 73/200\n",
            "93/93 [==============================] - 1s 7ms/step - loss: 3.2348e-08 - val_loss: 1.2368e-05\n",
            "Epoch 74/200\n",
            "93/93 [==============================] - 1s 7ms/step - loss: 1.6083e-08 - val_loss: 1.2045e-05\n",
            "Epoch 75/200\n",
            "93/93 [==============================] - 1s 7ms/step - loss: 2.7243e-08 - val_loss: 1.1295e-05\n",
            "Epoch 76/200\n",
            "93/93 [==============================] - 1s 7ms/step - loss: 9.9799e-09 - val_loss: 1.1770e-05\n",
            "Epoch 77/200\n",
            "93/93 [==============================] - 1s 7ms/step - loss: 9.7599e-09 - val_loss: 1.0138e-05\n",
            "Epoch 78/200\n",
            "93/93 [==============================] - 1s 7ms/step - loss: 1.1048e-08 - val_loss: 1.2089e-05\n",
            "Epoch 79/200\n",
            "93/93 [==============================] - 1s 7ms/step - loss: 2.5199e-06 - val_loss: 1.8353e-04\n",
            "Epoch 80/200\n",
            "93/93 [==============================] - 1s 7ms/step - loss: 1.7016e-06 - val_loss: 2.5104e-05\n",
            "Epoch 81/200\n",
            "93/93 [==============================] - 1s 7ms/step - loss: 2.8166e-08 - val_loss: 2.3193e-05\n",
            "Epoch 82/200\n",
            "93/93 [==============================] - 1s 7ms/step - loss: 7.8281e-09 - val_loss: 2.4649e-05\n",
            "Epoch 83/200\n",
            "93/93 [==============================] - 1s 7ms/step - loss: 4.0525e-08 - val_loss: 2.0822e-05\n",
            "Epoch 84/200\n",
            "93/93 [==============================] - 1s 7ms/step - loss: 1.8295e-06 - val_loss: 1.3710e-04\n",
            "Epoch 85/200\n",
            "93/93 [==============================] - 1s 7ms/step - loss: 4.6549e-06 - val_loss: 3.2659e-05\n",
            "Epoch 86/200\n",
            "93/93 [==============================] - 1s 7ms/step - loss: 4.6721e-08 - val_loss: 2.8468e-05\n",
            "Epoch 87/200\n",
            "93/93 [==============================] - 1s 7ms/step - loss: 2.0793e-08 - val_loss: 2.3679e-05\n",
            "Epoch 88/200\n",
            "93/93 [==============================] - 1s 7ms/step - loss: 3.7167e-08 - val_loss: 3.2365e-05\n",
            "Epoch 89/200\n",
            "93/93 [==============================] - 1s 7ms/step - loss: 3.8184e-08 - val_loss: 1.7087e-05\n",
            "Epoch 90/200\n",
            "93/93 [==============================] - 1s 6ms/step - loss: 4.1162e-08 - val_loss: 2.4195e-05\n",
            "Epoch 91/200\n",
            "93/93 [==============================] - 1s 7ms/step - loss: 2.8311e-08 - val_loss: 1.9028e-05\n",
            "Epoch 92/200\n",
            "93/93 [==============================] - 1s 7ms/step - loss: 1.1897e-07 - val_loss: 2.3448e-05\n",
            "Epoch 93/200\n",
            "93/93 [==============================] - 1s 7ms/step - loss: 3.3604e-06 - val_loss: 5.3342e-05\n",
            "Epoch 94/200\n",
            "93/93 [==============================] - 1s 7ms/step - loss: 1.7330e-06 - val_loss: 1.5679e-05\n",
            "Epoch 95/200\n",
            "93/93 [==============================] - 1s 7ms/step - loss: 1.8750e-08 - val_loss: 2.3939e-05\n",
            "Epoch 96/200\n",
            "93/93 [==============================] - 1s 6ms/step - loss: 8.0578e-08 - val_loss: 1.9341e-05\n",
            "Epoch 97/200\n",
            "93/93 [==============================] - 1s 7ms/step - loss: 3.1519e-08 - val_loss: 1.1838e-05\n",
            "Epoch 98/200\n",
            "93/93 [==============================] - 1s 7ms/step - loss: 1.6459e-07 - val_loss: 6.7666e-06\n",
            "Epoch 99/200\n",
            "93/93 [==============================] - 1s 6ms/step - loss: 2.2237e-06 - val_loss: 9.1476e-06\n",
            "Epoch 100/200\n",
            "93/93 [==============================] - 1s 7ms/step - loss: 1.1430e-07 - val_loss: 3.5943e-05\n",
            "Epoch 101/200\n",
            "93/93 [==============================] - 1s 7ms/step - loss: 1.1719e-07 - val_loss: 1.3776e-05\n",
            "Epoch 102/200\n",
            "93/93 [==============================] - 1s 7ms/step - loss: 1.3849e-06 - val_loss: 4.1829e-06\n",
            "Epoch 103/200\n",
            "93/93 [==============================] - 1s 7ms/step - loss: 2.5966e-07 - val_loss: 3.1728e-06\n",
            "Epoch 104/200\n",
            "93/93 [==============================] - 1s 6ms/step - loss: 6.4683e-08 - val_loss: 1.7535e-05\n",
            "Epoch 105/200\n",
            "93/93 [==============================] - 1s 7ms/step - loss: 4.1328e-07 - val_loss: 1.2024e-06\n",
            "Epoch 106/200\n",
            "93/93 [==============================] - 1s 7ms/step - loss: 9.6586e-07 - val_loss: 9.0369e-06\n",
            "Epoch 107/200\n",
            "93/93 [==============================] - 1s 6ms/step - loss: 2.2170e-07 - val_loss: 2.4843e-06\n",
            "Epoch 108/200\n",
            "93/93 [==============================] - 1s 7ms/step - loss: 4.3324e-06 - val_loss: 9.9069e-05\n",
            "Epoch 109/200\n",
            "93/93 [==============================] - 1s 7ms/step - loss: 1.7570e-06 - val_loss: 5.9438e-06\n",
            "Epoch 110/200\n",
            "93/93 [==============================] - 1s 6ms/step - loss: 3.9543e-08 - val_loss: 9.4767e-06\n",
            "Epoch 111/200\n",
            "93/93 [==============================] - 1s 7ms/step - loss: 2.6079e-08 - val_loss: 1.0355e-05\n",
            "Epoch 112/200\n",
            "93/93 [==============================] - 1s 7ms/step - loss: 1.3215e-08 - val_loss: 1.0417e-05\n",
            "Epoch 113/200\n",
            "93/93 [==============================] - 1s 7ms/step - loss: 4.2650e-08 - val_loss: 1.1828e-05\n",
            "Epoch 114/200\n",
            "93/93 [==============================] - 1s 7ms/step - loss: 3.7964e-08 - val_loss: 7.2237e-06\n",
            "Epoch 115/200\n",
            "93/93 [==============================] - 1s 7ms/step - loss: 3.4456e-07 - val_loss: 1.1093e-05\n",
            "Epoch 116/200\n",
            "93/93 [==============================] - 1s 7ms/step - loss: 3.7073e-07 - val_loss: 1.2172e-05\n",
            "Epoch 117/200\n",
            "93/93 [==============================] - 1s 7ms/step - loss: 2.0420e-07 - val_loss: 6.0156e-06\n",
            "Epoch 118/200\n",
            "93/93 [==============================] - 1s 7ms/step - loss: 1.7605e-06 - val_loss: 1.3638e-06\n",
            "Epoch 119/200\n",
            "93/93 [==============================] - 1s 7ms/step - loss: 8.1068e-07 - val_loss: 8.3387e-06\n",
            "Epoch 120/200\n",
            "93/93 [==============================] - 1s 7ms/step - loss: 2.2763e-07 - val_loss: 3.2933e-05\n",
            "Epoch 121/200\n",
            "93/93 [==============================] - 1s 7ms/step - loss: 5.2114e-07 - val_loss: 1.1433e-05\n",
            "Epoch 122/200\n",
            "93/93 [==============================] - 1s 7ms/step - loss: 3.5492e-07 - val_loss: 3.2165e-06\n",
            "Epoch 123/200\n",
            "93/93 [==============================] - 1s 6ms/step - loss: 1.0028e-06 - val_loss: 8.5843e-06\n",
            "Epoch 124/200\n",
            "93/93 [==============================] - 1s 6ms/step - loss: 6.3402e-08 - val_loss: 6.1841e-06\n",
            "Epoch 125/200\n",
            "93/93 [==============================] - 1s 7ms/step - loss: 1.3002e-05 - val_loss: 3.5728e-06\n",
            "Epoch 126/200\n",
            "93/93 [==============================] - 1s 7ms/step - loss: 6.7264e-07 - val_loss: 8.1950e-06\n",
            "Epoch 127/200\n",
            "93/93 [==============================] - 1s 7ms/step - loss: 2.3544e-08 - val_loss: 6.8018e-06\n",
            "Epoch 128/200\n",
            "93/93 [==============================] - 1s 7ms/step - loss: 1.8517e-08 - val_loss: 3.0731e-06\n",
            "Epoch 129/200\n",
            "93/93 [==============================] - 1s 7ms/step - loss: 1.6643e-08 - val_loss: 3.5152e-06\n",
            "Epoch 130/200\n",
            "93/93 [==============================] - 1s 7ms/step - loss: 1.9495e-08 - val_loss: 3.7743e-06\n",
            "Epoch 131/200\n",
            "93/93 [==============================] - 1s 7ms/step - loss: 1.2656e-08 - val_loss: 3.1629e-06\n",
            "Epoch 132/200\n",
            "93/93 [==============================] - 1s 7ms/step - loss: 1.9776e-08 - val_loss: 2.4782e-06\n",
            "Epoch 133/200\n",
            "93/93 [==============================] - 1s 7ms/step - loss: 1.1044e-08 - val_loss: 1.8095e-06\n",
            "Epoch 134/200\n",
            "93/93 [==============================] - 1s 7ms/step - loss: 3.3093e-08 - val_loss: 2.2813e-06\n",
            "Epoch 135/200\n",
            "93/93 [==============================] - 1s 7ms/step - loss: 2.8042e-08 - val_loss: 2.5344e-06\n",
            "Epoch 136/200\n",
            "93/93 [==============================] - 1s 7ms/step - loss: 9.0735e-08 - val_loss: 1.8163e-06\n",
            "Epoch 137/200\n",
            "93/93 [==============================] - 1s 6ms/step - loss: 2.4425e-06 - val_loss: 4.2967e-05\n",
            "Epoch 138/200\n",
            "93/93 [==============================] - 1s 7ms/step - loss: 1.5523e-06 - val_loss: 5.1255e-06\n",
            "Epoch 139/200\n",
            "93/93 [==============================] - 1s 7ms/step - loss: 3.9968e-08 - val_loss: 2.2657e-06\n",
            "Epoch 140/200\n",
            "93/93 [==============================] - 1s 7ms/step - loss: 1.2687e-07 - val_loss: 2.6894e-06\n",
            "Epoch 141/200\n",
            "93/93 [==============================] - 1s 7ms/step - loss: 1.2392e-08 - val_loss: 2.3922e-06\n",
            "Epoch 142/200\n",
            "93/93 [==============================] - 1s 7ms/step - loss: 6.7441e-08 - val_loss: 3.3346e-06\n",
            "Epoch 143/200\n",
            "93/93 [==============================] - 1s 7ms/step - loss: 1.3269e-06 - val_loss: 9.4788e-06\n",
            "Epoch 144/200\n",
            "93/93 [==============================] - 1s 7ms/step - loss: 1.0670e-07 - val_loss: 4.8651e-06\n",
            "Epoch 145/200\n",
            "93/93 [==============================] - 1s 7ms/step - loss: 1.1781e-06 - val_loss: 2.7992e-06\n",
            "Epoch 146/200\n",
            "93/93 [==============================] - 1s 7ms/step - loss: 5.3010e-07 - val_loss: 2.7989e-06\n",
            "Epoch 147/200\n",
            "93/93 [==============================] - 1s 7ms/step - loss: 2.4083e-07 - val_loss: 2.6244e-06\n",
            "Epoch 148/200\n",
            "93/93 [==============================] - 1s 7ms/step - loss: 6.3620e-08 - val_loss: 4.0588e-06\n",
            "Epoch 149/200\n",
            "93/93 [==============================] - 1s 7ms/step - loss: 1.8220e-06 - val_loss: 5.0286e-06\n",
            "Epoch 150/200\n",
            "93/93 [==============================] - 1s 7ms/step - loss: 4.6746e-07 - val_loss: 5.1867e-06\n",
            "Epoch 151/200\n",
            "93/93 [==============================] - 1s 7ms/step - loss: 2.4264e-06 - val_loss: 4.8372e-06\n",
            "Epoch 152/200\n",
            "93/93 [==============================] - 1s 7ms/step - loss: 8.1579e-08 - val_loss: 3.9058e-06\n",
            "Epoch 153/200\n",
            "93/93 [==============================] - 1s 7ms/step - loss: 1.0988e-07 - val_loss: 5.3989e-06\n",
            "Epoch 154/200\n",
            "93/93 [==============================] - 1s 7ms/step - loss: 2.2568e-08 - val_loss: 8.1598e-06\n",
            "Epoch 155/200\n",
            "93/93 [==============================] - 1s 7ms/step - loss: 3.8319e-08 - val_loss: 5.5397e-06\n",
            "Epoch 156/200\n",
            "93/93 [==============================] - 1s 7ms/step - loss: 5.6711e-08 - val_loss: 4.3201e-06\n",
            "Epoch 157/200\n",
            "93/93 [==============================] - 1s 7ms/step - loss: 7.0942e-06 - val_loss: 4.7871e-06\n",
            "Epoch 158/200\n",
            "93/93 [==============================] - 1s 7ms/step - loss: 3.2200e-08 - val_loss: 5.1741e-06\n",
            "Epoch 159/200\n",
            "93/93 [==============================] - 1s 7ms/step - loss: 1.6965e-08 - val_loss: 5.6069e-06\n",
            "Epoch 160/200\n",
            "93/93 [==============================] - 1s 7ms/step - loss: 2.0021e-08 - val_loss: 7.3955e-06\n",
            "Epoch 161/200\n",
            "93/93 [==============================] - 1s 7ms/step - loss: 1.6995e-08 - val_loss: 7.4443e-06\n",
            "Epoch 162/200\n",
            "93/93 [==============================] - 1s 7ms/step - loss: 5.0918e-09 - val_loss: 9.7525e-06\n",
            "Epoch 163/200\n",
            "93/93 [==============================] - 1s 7ms/step - loss: 3.4529e-08 - val_loss: 1.6266e-05\n",
            "Epoch 164/200\n",
            "93/93 [==============================] - 1s 7ms/step - loss: 3.3129e-07 - val_loss: 6.6631e-06\n",
            "Epoch 165/200\n",
            "93/93 [==============================] - 1s 7ms/step - loss: 4.5044e-07 - val_loss: 1.0930e-05\n",
            "Epoch 166/200\n",
            "93/93 [==============================] - 1s 7ms/step - loss: 5.4429e-08 - val_loss: 3.3905e-05\n",
            "Epoch 167/200\n",
            "93/93 [==============================] - 1s 7ms/step - loss: 3.7178e-07 - val_loss: 8.5566e-06\n",
            "Epoch 168/200\n",
            "93/93 [==============================] - 1s 7ms/step - loss: 1.3112e-06 - val_loss: 2.1910e-05\n",
            "Epoch 169/200\n",
            "93/93 [==============================] - 1s 7ms/step - loss: 1.7880e-06 - val_loss: 3.4800e-05\n",
            "Epoch 170/200\n",
            "93/93 [==============================] - 1s 7ms/step - loss: 1.5605e-07 - val_loss: 1.9705e-05\n",
            "Epoch 171/200\n",
            "93/93 [==============================] - 1s 7ms/step - loss: 5.8434e-08 - val_loss: 1.4418e-05\n",
            "Epoch 172/200\n",
            "93/93 [==============================] - 1s 7ms/step - loss: 1.2456e-07 - val_loss: 2.8790e-05\n",
            "Epoch 173/200\n",
            "93/93 [==============================] - 1s 7ms/step - loss: 2.3738e-08 - val_loss: 1.6142e-05\n",
            "Epoch 174/200\n",
            "93/93 [==============================] - 1s 7ms/step - loss: 1.6105e-06 - val_loss: 9.1377e-06\n",
            "Epoch 175/200\n",
            "93/93 [==============================] - 1s 7ms/step - loss: 9.0532e-08 - val_loss: 1.3151e-05\n",
            "Epoch 176/200\n",
            "93/93 [==============================] - 1s 7ms/step - loss: 5.0084e-08 - val_loss: 9.0748e-06\n",
            "Epoch 177/200\n",
            "93/93 [==============================] - 1s 7ms/step - loss: 5.1008e-07 - val_loss: 1.4946e-05\n",
            "Epoch 178/200\n",
            "93/93 [==============================] - 1s 7ms/step - loss: 2.9079e-07 - val_loss: 1.1254e-05\n",
            "Epoch 179/200\n",
            "93/93 [==============================] - 1s 7ms/step - loss: 4.0357e-06 - val_loss: 1.4291e-05\n",
            "Epoch 180/200\n",
            "93/93 [==============================] - 1s 7ms/step - loss: 1.1860e-06 - val_loss: 2.2018e-05\n",
            "Epoch 181/200\n",
            "93/93 [==============================] - 1s 7ms/step - loss: 1.3143e-08 - val_loss: 1.6632e-05\n",
            "Epoch 182/200\n",
            "93/93 [==============================] - 1s 7ms/step - loss: 6.9917e-09 - val_loss: 2.4527e-05\n",
            "Epoch 183/200\n",
            "93/93 [==============================] - 1s 7ms/step - loss: 1.3602e-08 - val_loss: 2.2156e-05\n",
            "Epoch 184/200\n",
            "93/93 [==============================] - 1s 7ms/step - loss: 3.9584e-08 - val_loss: 2.4764e-05\n",
            "Epoch 185/200\n",
            "93/93 [==============================] - 1s 7ms/step - loss: 6.1896e-08 - val_loss: 2.1477e-05\n",
            "Epoch 186/200\n",
            "93/93 [==============================] - 1s 7ms/step - loss: 1.0832e-08 - val_loss: 2.2842e-05\n",
            "Epoch 187/200\n",
            "93/93 [==============================] - 1s 7ms/step - loss: 4.2896e-07 - val_loss: 1.6516e-05\n",
            "Epoch 188/200\n",
            "93/93 [==============================] - 1s 7ms/step - loss: 1.5591e-06 - val_loss: 1.4951e-05\n",
            "Epoch 189/200\n",
            "93/93 [==============================] - 1s 7ms/step - loss: 2.6624e-07 - val_loss: 2.4072e-05\n",
            "Epoch 190/200\n",
            "93/93 [==============================] - 1s 7ms/step - loss: 6.2410e-08 - val_loss: 2.1332e-05\n",
            "Epoch 191/200\n",
            "93/93 [==============================] - 1s 8ms/step - loss: 9.6873e-07 - val_loss: 1.8127e-05\n",
            "Epoch 192/200\n",
            "93/93 [==============================] - 1s 7ms/step - loss: 8.5983e-07 - val_loss: 3.9057e-05\n",
            "Epoch 193/200\n",
            "93/93 [==============================] - 1s 7ms/step - loss: 6.5916e-08 - val_loss: 3.4487e-05\n",
            "Epoch 194/200\n",
            "93/93 [==============================] - 1s 7ms/step - loss: 2.6635e-07 - val_loss: 2.1169e-05\n",
            "Epoch 195/200\n",
            "93/93 [==============================] - 1s 7ms/step - loss: 3.9791e-06 - val_loss: 2.8422e-05\n",
            "Epoch 196/200\n",
            "93/93 [==============================] - 1s 7ms/step - loss: 3.0766e-08 - val_loss: 3.3147e-05\n",
            "Epoch 197/200\n",
            "93/93 [==============================] - 1s 7ms/step - loss: 5.6773e-09 - val_loss: 3.7766e-05\n",
            "Epoch 198/200\n",
            "93/93 [==============================] - 1s 7ms/step - loss: 6.6631e-09 - val_loss: 3.9352e-05\n",
            "Epoch 199/200\n",
            "93/93 [==============================] - 1s 7ms/step - loss: 1.1214e-08 - val_loss: 3.9098e-05\n",
            "Epoch 200/200\n",
            "93/93 [==============================] - 1s 7ms/step - loss: 1.3886e-08 - val_loss: 4.2334e-05\n"
          ]
        },
        {
          "output_type": "execute_result",
          "data": {
            "text/plain": [
              "<keras.callbacks.History at 0x7f9a14bc4990>"
            ]
          },
          "metadata": {},
          "execution_count": 26
        }
      ],
      "source": [
        "# Fitting the model\n",
        "\n",
        "model1.fit(X_train,y_train,validation_data=(X_test,y_test),epochs=200,batch_size=64,verbose=1)"
      ]
    },
    {
      "cell_type": "code",
      "execution_count": null,
      "metadata": {
        "id": "4ndlZ9o363z3",
        "colab": {
          "base_uri": "https://localhost:8080/"
        },
        "outputId": "7fabe574-1fb1-45b3-c009-1414f370953f"
      },
      "outputs": [
        {
          "output_type": "stream",
          "name": "stdout",
          "text": [
            "21/21 [==============================] - 1s 2ms/step - loss: 0.0000e+00\n"
          ]
        },
        {
          "output_type": "execute_result",
          "data": {
            "text/plain": [
              "0.0"
            ]
          },
          "metadata": {},
          "execution_count": 27
        }
      ],
      "source": [
        "# Evaluate the model\n",
        "\n",
        "model1.evaluate(X_test)"
      ]
    },
    {
      "cell_type": "code",
      "execution_count": null,
      "metadata": {
        "id": "FrN759dX63xX"
      },
      "outputs": [],
      "source": [
        "# Prediction of the model\n",
        "\n",
        "predicted = model1.predict(train)\n",
        "predicted = scaler.inverse_transform(predicted)"
      ]
    },
    {
      "cell_type": "code",
      "execution_count": null,
      "metadata": {
        "id": "Opyd1GTz63ua",
        "colab": {
          "base_uri": "https://localhost:8080/"
        },
        "outputId": "aebe9989-383e-4691-d98a-951a3650e95e"
      },
      "outputs": [
        {
          "output_type": "execute_result",
          "data": {
            "text/plain": [
              "6569"
            ]
          },
          "metadata": {},
          "execution_count": 29
        }
      ],
      "source": [
        "len(predicted)"
      ]
    },
    {
      "cell_type": "code",
      "execution_count": null,
      "metadata": {
        "id": "1As00Kig63rZ"
      },
      "outputs": [],
      "source": [
        "test_predicted = []\n",
        "\n",
        "for i in predicted:\n",
        "  test_predicted.append(i[0])"
      ]
    },
    {
      "cell_type": "code",
      "execution_count": null,
      "metadata": {
        "id": "V9yvdV0H63oc",
        "colab": {
          "base_uri": "https://localhost:8080/",
          "height": 455
        },
        "outputId": "60146049-3d3d-43a5-dbec-57622250baf3"
      },
      "outputs": [
        {
          "output_type": "execute_result",
          "data": {
            "text/plain": [
              "                  Close\n",
              "Date                   \n",
              "1996-01-01    15.917452\n",
              "1996-01-02    15.793671\n",
              "1996-01-03    15.913584\n",
              "1996-01-04    15.766594\n",
              "1996-01-05    15.658285\n",
              "...                 ...\n",
              "2022-01-19  2521.600098\n",
              "2022-01-20  2477.449951\n",
              "2022-01-21  2477.850098\n",
              "2022-01-24  2377.899902\n",
              "2022-01-25  2373.250000\n",
              "\n",
              "[6569 rows x 1 columns]"
            ],
            "text/html": [
              "\n",
              "  <div id=\"df-d56b71b9-f9d9-4109-a17e-5e9f86a43dbd\">\n",
              "    <div class=\"colab-df-container\">\n",
              "      <div>\n",
              "<style scoped>\n",
              "    .dataframe tbody tr th:only-of-type {\n",
              "        vertical-align: middle;\n",
              "    }\n",
              "\n",
              "    .dataframe tbody tr th {\n",
              "        vertical-align: top;\n",
              "    }\n",
              "\n",
              "    .dataframe thead th {\n",
              "        text-align: right;\n",
              "    }\n",
              "</style>\n",
              "<table border=\"1\" class=\"dataframe\">\n",
              "  <thead>\n",
              "    <tr style=\"text-align: right;\">\n",
              "      <th></th>\n",
              "      <th>Close</th>\n",
              "    </tr>\n",
              "    <tr>\n",
              "      <th>Date</th>\n",
              "      <th></th>\n",
              "    </tr>\n",
              "  </thead>\n",
              "  <tbody>\n",
              "    <tr>\n",
              "      <th>1996-01-01</th>\n",
              "      <td>15.917452</td>\n",
              "    </tr>\n",
              "    <tr>\n",
              "      <th>1996-01-02</th>\n",
              "      <td>15.793671</td>\n",
              "    </tr>\n",
              "    <tr>\n",
              "      <th>1996-01-03</th>\n",
              "      <td>15.913584</td>\n",
              "    </tr>\n",
              "    <tr>\n",
              "      <th>1996-01-04</th>\n",
              "      <td>15.766594</td>\n",
              "    </tr>\n",
              "    <tr>\n",
              "      <th>1996-01-05</th>\n",
              "      <td>15.658285</td>\n",
              "    </tr>\n",
              "    <tr>\n",
              "      <th>...</th>\n",
              "      <td>...</td>\n",
              "    </tr>\n",
              "    <tr>\n",
              "      <th>2022-01-19</th>\n",
              "      <td>2521.600098</td>\n",
              "    </tr>\n",
              "    <tr>\n",
              "      <th>2022-01-20</th>\n",
              "      <td>2477.449951</td>\n",
              "    </tr>\n",
              "    <tr>\n",
              "      <th>2022-01-21</th>\n",
              "      <td>2477.850098</td>\n",
              "    </tr>\n",
              "    <tr>\n",
              "      <th>2022-01-24</th>\n",
              "      <td>2377.899902</td>\n",
              "    </tr>\n",
              "    <tr>\n",
              "      <th>2022-01-25</th>\n",
              "      <td>2373.250000</td>\n",
              "    </tr>\n",
              "  </tbody>\n",
              "</table>\n",
              "<p>6569 rows × 1 columns</p>\n",
              "</div>\n",
              "      <button class=\"colab-df-convert\" onclick=\"convertToInteractive('df-d56b71b9-f9d9-4109-a17e-5e9f86a43dbd')\"\n",
              "              title=\"Convert this dataframe to an interactive table.\"\n",
              "              style=\"display:none;\">\n",
              "        \n",
              "  <svg xmlns=\"http://www.w3.org/2000/svg\" height=\"24px\"viewBox=\"0 0 24 24\"\n",
              "       width=\"24px\">\n",
              "    <path d=\"M0 0h24v24H0V0z\" fill=\"none\"/>\n",
              "    <path d=\"M18.56 5.44l.94 2.06.94-2.06 2.06-.94-2.06-.94-.94-2.06-.94 2.06-2.06.94zm-11 1L8.5 8.5l.94-2.06 2.06-.94-2.06-.94L8.5 2.5l-.94 2.06-2.06.94zm10 10l.94 2.06.94-2.06 2.06-.94-2.06-.94-.94-2.06-.94 2.06-2.06.94z\"/><path d=\"M17.41 7.96l-1.37-1.37c-.4-.4-.92-.59-1.43-.59-.52 0-1.04.2-1.43.59L10.3 9.45l-7.72 7.72c-.78.78-.78 2.05 0 2.83L4 21.41c.39.39.9.59 1.41.59.51 0 1.02-.2 1.41-.59l7.78-7.78 2.81-2.81c.8-.78.8-2.07 0-2.86zM5.41 20L4 18.59l7.72-7.72 1.47 1.35L5.41 20z\"/>\n",
              "  </svg>\n",
              "      </button>\n",
              "      \n",
              "  <style>\n",
              "    .colab-df-container {\n",
              "      display:flex;\n",
              "      flex-wrap:wrap;\n",
              "      gap: 12px;\n",
              "    }\n",
              "\n",
              "    .colab-df-convert {\n",
              "      background-color: #E8F0FE;\n",
              "      border: none;\n",
              "      border-radius: 50%;\n",
              "      cursor: pointer;\n",
              "      display: none;\n",
              "      fill: #1967D2;\n",
              "      height: 32px;\n",
              "      padding: 0 0 0 0;\n",
              "      width: 32px;\n",
              "    }\n",
              "\n",
              "    .colab-df-convert:hover {\n",
              "      background-color: #E2EBFA;\n",
              "      box-shadow: 0px 1px 2px rgba(60, 64, 67, 0.3), 0px 1px 3px 1px rgba(60, 64, 67, 0.15);\n",
              "      fill: #174EA6;\n",
              "    }\n",
              "\n",
              "    [theme=dark] .colab-df-convert {\n",
              "      background-color: #3B4455;\n",
              "      fill: #D2E3FC;\n",
              "    }\n",
              "\n",
              "    [theme=dark] .colab-df-convert:hover {\n",
              "      background-color: #434B5C;\n",
              "      box-shadow: 0px 1px 3px 1px rgba(0, 0, 0, 0.15);\n",
              "      filter: drop-shadow(0px 1px 2px rgba(0, 0, 0, 0.3));\n",
              "      fill: #FFFFFF;\n",
              "    }\n",
              "  </style>\n",
              "\n",
              "      <script>\n",
              "        const buttonEl =\n",
              "          document.querySelector('#df-d56b71b9-f9d9-4109-a17e-5e9f86a43dbd button.colab-df-convert');\n",
              "        buttonEl.style.display =\n",
              "          google.colab.kernel.accessAllowed ? 'block' : 'none';\n",
              "\n",
              "        async function convertToInteractive(key) {\n",
              "          const element = document.querySelector('#df-d56b71b9-f9d9-4109-a17e-5e9f86a43dbd');\n",
              "          const dataTable =\n",
              "            await google.colab.kernel.invokeFunction('convertToInteractive',\n",
              "                                                     [key], {});\n",
              "          if (!dataTable) return;\n",
              "\n",
              "          const docLinkHtml = 'Like what you see? Visit the ' +\n",
              "            '<a target=\"_blank\" href=https://colab.research.google.com/notebooks/data_table.ipynb>data table notebook</a>'\n",
              "            + ' to learn more about interactive tables.';\n",
              "          element.innerHTML = '';\n",
              "          dataTable['output_type'] = 'display_data';\n",
              "          await google.colab.output.renderOutput(dataTable, element);\n",
              "          const docLink = document.createElement('div');\n",
              "          docLink.innerHTML = docLinkHtml;\n",
              "          element.appendChild(docLink);\n",
              "        }\n",
              "      </script>\n",
              "    </div>\n",
              "  </div>\n",
              "  "
            ]
          },
          "metadata": {},
          "execution_count": 31
        }
      ],
      "source": [
        "df_predicted = n_data[0:][['Close']]\n",
        "df_predicted"
      ]
    },
    {
      "cell_type": "code",
      "execution_count": null,
      "metadata": {
        "id": "PKfwcqWS63lf"
      },
      "outputs": [],
      "source": [
        "df_predicted['predections']=test_predicted\n"
      ]
    },
    {
      "cell_type": "code",
      "execution_count": null,
      "metadata": {
        "id": "FaF90zTr63fd",
        "colab": {
          "base_uri": "https://localhost:8080/",
          "height": 455
        },
        "outputId": "f5369d61-61d4-427e-dea5-1304f5e811f4"
      },
      "outputs": [
        {
          "output_type": "execute_result",
          "data": {
            "text/plain": [
              "                  Close  predections\n",
              "Date                                \n",
              "1996-01-01    15.917452    16.129038\n",
              "1996-01-02    15.793671    16.005869\n",
              "1996-01-03    15.913584    16.125193\n",
              "1996-01-04    15.766594    15.978915\n",
              "1996-01-05    15.658285    15.871141\n",
              "...                 ...          ...\n",
              "2022-01-19  2521.600098  2479.500488\n",
              "2022-01-20  2477.449951  2439.497559\n",
              "2022-01-21  2477.850098  2439.861572\n",
              "2022-01-24  2377.899902  2348.331055\n",
              "2022-01-25  2373.250000  2344.041016\n",
              "\n",
              "[6569 rows x 2 columns]"
            ],
            "text/html": [
              "\n",
              "  <div id=\"df-dedcd811-8b4b-4d36-8d3f-4aa626791a44\">\n",
              "    <div class=\"colab-df-container\">\n",
              "      <div>\n",
              "<style scoped>\n",
              "    .dataframe tbody tr th:only-of-type {\n",
              "        vertical-align: middle;\n",
              "    }\n",
              "\n",
              "    .dataframe tbody tr th {\n",
              "        vertical-align: top;\n",
              "    }\n",
              "\n",
              "    .dataframe thead th {\n",
              "        text-align: right;\n",
              "    }\n",
              "</style>\n",
              "<table border=\"1\" class=\"dataframe\">\n",
              "  <thead>\n",
              "    <tr style=\"text-align: right;\">\n",
              "      <th></th>\n",
              "      <th>Close</th>\n",
              "      <th>predections</th>\n",
              "    </tr>\n",
              "    <tr>\n",
              "      <th>Date</th>\n",
              "      <th></th>\n",
              "      <th></th>\n",
              "    </tr>\n",
              "  </thead>\n",
              "  <tbody>\n",
              "    <tr>\n",
              "      <th>1996-01-01</th>\n",
              "      <td>15.917452</td>\n",
              "      <td>16.129038</td>\n",
              "    </tr>\n",
              "    <tr>\n",
              "      <th>1996-01-02</th>\n",
              "      <td>15.793671</td>\n",
              "      <td>16.005869</td>\n",
              "    </tr>\n",
              "    <tr>\n",
              "      <th>1996-01-03</th>\n",
              "      <td>15.913584</td>\n",
              "      <td>16.125193</td>\n",
              "    </tr>\n",
              "    <tr>\n",
              "      <th>1996-01-04</th>\n",
              "      <td>15.766594</td>\n",
              "      <td>15.978915</td>\n",
              "    </tr>\n",
              "    <tr>\n",
              "      <th>1996-01-05</th>\n",
              "      <td>15.658285</td>\n",
              "      <td>15.871141</td>\n",
              "    </tr>\n",
              "    <tr>\n",
              "      <th>...</th>\n",
              "      <td>...</td>\n",
              "      <td>...</td>\n",
              "    </tr>\n",
              "    <tr>\n",
              "      <th>2022-01-19</th>\n",
              "      <td>2521.600098</td>\n",
              "      <td>2479.500488</td>\n",
              "    </tr>\n",
              "    <tr>\n",
              "      <th>2022-01-20</th>\n",
              "      <td>2477.449951</td>\n",
              "      <td>2439.497559</td>\n",
              "    </tr>\n",
              "    <tr>\n",
              "      <th>2022-01-21</th>\n",
              "      <td>2477.850098</td>\n",
              "      <td>2439.861572</td>\n",
              "    </tr>\n",
              "    <tr>\n",
              "      <th>2022-01-24</th>\n",
              "      <td>2377.899902</td>\n",
              "      <td>2348.331055</td>\n",
              "    </tr>\n",
              "    <tr>\n",
              "      <th>2022-01-25</th>\n",
              "      <td>2373.250000</td>\n",
              "      <td>2344.041016</td>\n",
              "    </tr>\n",
              "  </tbody>\n",
              "</table>\n",
              "<p>6569 rows × 2 columns</p>\n",
              "</div>\n",
              "      <button class=\"colab-df-convert\" onclick=\"convertToInteractive('df-dedcd811-8b4b-4d36-8d3f-4aa626791a44')\"\n",
              "              title=\"Convert this dataframe to an interactive table.\"\n",
              "              style=\"display:none;\">\n",
              "        \n",
              "  <svg xmlns=\"http://www.w3.org/2000/svg\" height=\"24px\"viewBox=\"0 0 24 24\"\n",
              "       width=\"24px\">\n",
              "    <path d=\"M0 0h24v24H0V0z\" fill=\"none\"/>\n",
              "    <path d=\"M18.56 5.44l.94 2.06.94-2.06 2.06-.94-2.06-.94-.94-2.06-.94 2.06-2.06.94zm-11 1L8.5 8.5l.94-2.06 2.06-.94-2.06-.94L8.5 2.5l-.94 2.06-2.06.94zm10 10l.94 2.06.94-2.06 2.06-.94-2.06-.94-.94-2.06-.94 2.06-2.06.94z\"/><path d=\"M17.41 7.96l-1.37-1.37c-.4-.4-.92-.59-1.43-.59-.52 0-1.04.2-1.43.59L10.3 9.45l-7.72 7.72c-.78.78-.78 2.05 0 2.83L4 21.41c.39.39.9.59 1.41.59.51 0 1.02-.2 1.41-.59l7.78-7.78 2.81-2.81c.8-.78.8-2.07 0-2.86zM5.41 20L4 18.59l7.72-7.72 1.47 1.35L5.41 20z\"/>\n",
              "  </svg>\n",
              "      </button>\n",
              "      \n",
              "  <style>\n",
              "    .colab-df-container {\n",
              "      display:flex;\n",
              "      flex-wrap:wrap;\n",
              "      gap: 12px;\n",
              "    }\n",
              "\n",
              "    .colab-df-convert {\n",
              "      background-color: #E8F0FE;\n",
              "      border: none;\n",
              "      border-radius: 50%;\n",
              "      cursor: pointer;\n",
              "      display: none;\n",
              "      fill: #1967D2;\n",
              "      height: 32px;\n",
              "      padding: 0 0 0 0;\n",
              "      width: 32px;\n",
              "    }\n",
              "\n",
              "    .colab-df-convert:hover {\n",
              "      background-color: #E2EBFA;\n",
              "      box-shadow: 0px 1px 2px rgba(60, 64, 67, 0.3), 0px 1px 3px 1px rgba(60, 64, 67, 0.15);\n",
              "      fill: #174EA6;\n",
              "    }\n",
              "\n",
              "    [theme=dark] .colab-df-convert {\n",
              "      background-color: #3B4455;\n",
              "      fill: #D2E3FC;\n",
              "    }\n",
              "\n",
              "    [theme=dark] .colab-df-convert:hover {\n",
              "      background-color: #434B5C;\n",
              "      box-shadow: 0px 1px 3px 1px rgba(0, 0, 0, 0.15);\n",
              "      filter: drop-shadow(0px 1px 2px rgba(0, 0, 0, 0.3));\n",
              "      fill: #FFFFFF;\n",
              "    }\n",
              "  </style>\n",
              "\n",
              "      <script>\n",
              "        const buttonEl =\n",
              "          document.querySelector('#df-dedcd811-8b4b-4d36-8d3f-4aa626791a44 button.colab-df-convert');\n",
              "        buttonEl.style.display =\n",
              "          google.colab.kernel.accessAllowed ? 'block' : 'none';\n",
              "\n",
              "        async function convertToInteractive(key) {\n",
              "          const element = document.querySelector('#df-dedcd811-8b4b-4d36-8d3f-4aa626791a44');\n",
              "          const dataTable =\n",
              "            await google.colab.kernel.invokeFunction('convertToInteractive',\n",
              "                                                     [key], {});\n",
              "          if (!dataTable) return;\n",
              "\n",
              "          const docLinkHtml = 'Like what you see? Visit the ' +\n",
              "            '<a target=\"_blank\" href=https://colab.research.google.com/notebooks/data_table.ipynb>data table notebook</a>'\n",
              "            + ' to learn more about interactive tables.';\n",
              "          element.innerHTML = '';\n",
              "          dataTable['output_type'] = 'display_data';\n",
              "          await google.colab.output.renderOutput(dataTable, element);\n",
              "          const docLink = document.createElement('div');\n",
              "          docLink.innerHTML = docLinkHtml;\n",
              "          element.appendChild(docLink);\n",
              "        }\n",
              "      </script>\n",
              "    </div>\n",
              "  </div>\n",
              "  "
            ]
          },
          "metadata": {},
          "execution_count": 33
        }
      ],
      "source": [
        "df_predicted"
      ]
    },
    {
      "cell_type": "code",
      "execution_count": null,
      "metadata": {
        "id": "v7byoQcs63cw",
        "colab": {
          "base_uri": "https://localhost:8080/",
          "height": 398
        },
        "outputId": "be2a4bcf-463b-4688-bf8d-eccc1c1a8b33"
      },
      "outputs": [
        {
          "output_type": "execute_result",
          "data": {
            "text/plain": [
              "[<matplotlib.lines.Line2D at 0x7f9a14969c10>,\n",
              " <matplotlib.lines.Line2D at 0x7f9a14651550>]"
            ]
          },
          "metadata": {},
          "execution_count": 34
        },
        {
          "output_type": "display_data",
          "data": {
            "text/plain": [
              "<Figure size 1584x864 with 1 Axes>"
            ],
            "image/png": "[encoded data removed]"
          },
          "metadata": {
            "needs_background": "light"
          }
        }
      ],
      "source": [
        "plt.figure(figsize=(22,12))\n",
        "plt.plot(df_predicted)"
      ]
    },
    {
      "cell_type": "code",
      "execution_count": null,
      "metadata": {
        "id": "Zex6dIZW7z0A",
        "colab": {
          "base_uri": "https://localhost:8080/"
        },
        "outputId": "538cde72-cf6b-457a-a4bf-f7370a4b11bf"
      },
      "outputs": [
        {
          "output_type": "execute_result",
          "data": {
            "text/plain": [
              "5.599409009227139"
            ]
          },
          "metadata": {},
          "execution_count": 35
        }
      ],
      "source": [
        "from sklearn.metrics import mean_squared_error\n",
        "rmse =np.sqrt( mean_squared_error(df_predicted['Close'],df_predicted['predections']))\n",
        "rmse"
      ]
    },
    {
      "cell_type": "code",
      "execution_count": null,
      "metadata": {
        "id": "pGUNtnQR7zs3"
      },
      "outputs": [],
      "source": [
        "def MAPE(y_true, y_pred):\n",
        "    return np.mean((np.abs(y_true-y_pred))/(y_true))*100"
      ]
    },
    {
      "cell_type": "code",
      "execution_count": null,
      "metadata": {
        "id": "qm4_Qcbb7zpM",
        "colab": {
          "base_uri": "https://localhost:8080/"
        },
        "outputId": "b1373e73-0444-49c4-eee2-3bb329397b60"
      },
      "outputs": [
        {
          "output_type": "stream",
          "name": "stdout",
          "text": [
            "0.2706076450057351\n"
          ]
        }
      ],
      "source": [
        "mape=MAPE(df_predicted['Close'].values,df_predicted['predections'].values)\n",
        "print(mape)"
      ]
    },
    {
      "cell_type": "code",
      "source": [
        ""
      ],
      "metadata": {
        "id": "QlRUR2B20INb"
      },
      "execution_count": null,
      "outputs": []
    }
  ],
  "metadata": {
    "colab": {
      "collapsed_sections": [],
      "name": "Phase1_code.ipynb",
      "provenance": []
    },
    "kernelspec": {
      "display_name": "Python 3",
      "language": "python",
      "name": "python3"
    },
    "language_info": {
      "codemirror_mode": {
        "name": "ipython",
        "version": 3
      },
      "file_extension": ".py",
      "mimetype": "text/x-python",
      "name": "python",
      "nbconvert_exporter": "python",
      "pygments_lexer": "ipython3",
      "version": "3.7.6"
    }
  },
  "nbformat": 4,
  "nbformat_minor": 0
}