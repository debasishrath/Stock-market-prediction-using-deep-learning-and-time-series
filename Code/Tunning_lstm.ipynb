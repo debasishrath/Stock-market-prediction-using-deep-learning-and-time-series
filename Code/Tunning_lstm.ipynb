{
  "nbformat": 4,
  "nbformat_minor": 0,
  "metadata": {
    "colab": {
      "name": "tunning lstm.ipynb",
      "provenance": [],
      "collapsed_sections": []
    },
    "kernelspec": {
      "name": "python3",
      "display_name": "Python 3"
    },
    "language_info": {
      "name": "python"
    }
  },
  "cells": [
    {
      "cell_type": "code",
      "source": [
        "pip install --upgrade keras-hypetune"
      ],
      "metadata": {
        "colab": {
          "base_uri": "https://localhost:8080/"
        },
        "id": "JOe5FTUVPIUk",
        "outputId": "7bebbe62-9cb7-4964-dcaf-4d5287c298b2"
      },
      "execution_count": null,
      "outputs": [
        {
          "output_type": "stream",
          "name": "stdout",
          "text": [
            "Collecting keras-hypetune\n",
            "  Downloading keras_hypetune-0.2.1-py3-none-any.whl (12 kB)\n",
            "Requirement already satisfied: numpy in /usr/local/lib/python3.7/dist-packages (from keras-hypetune) (1.21.5)\n",
            "Collecting hyperopt==0.2.5\n",
            "  Downloading hyperopt-0.2.5-py2.py3-none-any.whl (965 kB)\n",
            "\u001b[K     |████████████████████████████████| 965 kB 10.7 MB/s \n",
            "\u001b[?25hRequirement already satisfied: six in /usr/local/lib/python3.7/dist-packages (from hyperopt==0.2.5->keras-hypetune) (1.15.0)\n",
            "Requirement already satisfied: cloudpickle in /usr/local/lib/python3.7/dist-packages (from hyperopt==0.2.5->keras-hypetune) (1.3.0)\n",
            "Requirement already satisfied: tqdm in /usr/local/lib/python3.7/dist-packages (from hyperopt==0.2.5->keras-hypetune) (4.64.0)\n",
            "Requirement already satisfied: networkx>=2.2 in /usr/local/lib/python3.7/dist-packages (from hyperopt==0.2.5->keras-hypetune) (2.6.3)\n",
            "Requirement already satisfied: future in /usr/local/lib/python3.7/dist-packages (from hyperopt==0.2.5->keras-hypetune) (0.16.0)\n",
            "Requirement already satisfied: scipy in /usr/local/lib/python3.7/dist-packages (from hyperopt==0.2.5->keras-hypetune) (1.4.1)\n",
            "Installing collected packages: hyperopt, keras-hypetune\n",
            "  Attempting uninstall: hyperopt\n",
            "    Found existing installation: hyperopt 0.1.2\n",
            "    Uninstalling hyperopt-0.1.2:\n",
            "      Successfully uninstalled hyperopt-0.1.2\n",
            "Successfully installed hyperopt-0.2.5 keras-hypetune-0.2.1\n"
          ]
        }
      ]
    },
    {
      "cell_type": "code",
      "execution_count": null,
      "metadata": {
        "id": "ddTJdKbO7BPy",
        "colab": {
          "base_uri": "https://localhost:8080/"
        },
        "outputId": "f6d4be88-c57a-446f-b308-999940db0952"
      },
      "outputs": [
        {
          "output_type": "stream",
          "name": "stderr",
          "text": [
            "/usr/local/lib/python3.7/dist-packages/statsmodels/tools/_testing.py:19: FutureWarning: pandas.util.testing is deprecated. Use the functions in the public API at pandas.testing instead.\n",
            "  import pandas.util.testing as tm\n"
          ]
        }
      ],
      "source": [
        "\n",
        "import numpy as np # linear algebra\n",
        "import pandas as pd # data processing, CSV file I/O (e.g. pd.read_csv)\n",
        "\n",
        "import pandas                             as      pd\n",
        "import numpy                              as      np\n",
        "import matplotlib.pyplot                  as      plt\n",
        "import seaborn                            as      sns\n",
        "from   IPython.display                    import  display\n",
        "from   pylab                              import  rcParams \n",
        "from   datetime                           import  datetime, timedelta\n",
        "from statsmodels.tsa.stattools            import  adfuller\n",
        "from statsmodels.tsa.stattools            import  pacf\n",
        "from statsmodels.tsa.stattools            import  acf\n",
        "from statsmodels.graphics.tsaplots        import  plot_pacf\n",
        "from statsmodels.graphics.tsaplots        import  plot_acf\n",
        "from statsmodels.graphics.gofplots        import  qqplot\n",
        "from statsmodels.tsa.seasonal             import  seasonal_decompose\n",
        "from statsmodels.tsa.arima_model          import  ARIMA\n",
        "from statsmodels.tsa.statespace.sarimax   import  SARIMAX\n",
        "from   statsmodels.tsa.api             import ExponentialSmoothing, SimpleExpSmoothing, Holt\n",
        "\n",
        "import numpy                      as np\n",
        "import pandas                     as pd\n",
        "import matplotlib.pyplot          as plt\n",
        "import seaborn as sns\n",
        "import warnings\n",
        "from statsmodels.tsa.seasonal  import seasonal_decompose\n",
        "from   sklearn.metrics                 import  mean_squared_error\n",
        "from   statsmodels.tsa.api             import ExponentialSmoothing, SimpleExpSmoothing, Holt\n",
        "from   IPython.display                 import display\n",
        "from   pylab                           import rcParams\n",
        "from   datetime                        import  datetime,timedelta\n",
        "from math import sqrt\n",
        "import warnings\n",
        "warnings.filterwarnings('ignore')\n",
        "from statsmodels.tsa.stattools         import  adfuller\n",
        "from statsmodels.tsa.stattools         import  pacf\n",
        "from statsmodels.tsa.stattools         import  acf\n",
        "from statsmodels.graphics.tsaplots     import  plot_pacf\n",
        "from statsmodels.graphics.tsaplots     import  plot_acf\n",
        "from   IPython.display                 import  display\n",
        "from   pylab   import  rcParams \n",
        "import warnings\n",
        "import statsmodels.tools.eval_measures as      em\n",
        "from   sklearn.metrics                 import  mean_squared_error\n",
        "from   statsmodels.tsa.api             import ExponentialSmoothing, SimpleExpSmoothing, Holt\n",
        "from   IPython.display                 import display\n",
        "from   pylab                           import rcParams\n",
        "from   datetime                        import  datetime,timedelta\n",
        "from math import sqrt\n",
        "%matplotlib inline\n",
        "from   pylab                           import  rcParams \n",
        "from   datetime                        import  datetime, timedelta\n",
        "from statsmodels.graphics.gofplots     import qqplot\n",
        "from statsmodels.tsa.seasonal          import seasonal_decompose\n",
        "from statsmodels.tsa.arima_model       import  ARMA, ARIMA\n",
        "import warnings\n",
        "import statsmodels.api as sm\n",
        "import statsmodels.tsa.api as smt\n",
        "import statsmodels.formula.api as smf\n",
        "\n",
        "import matplotlib.pyplot as plt\n",
        "%matplotlib inline\n",
        "from   IPython.display                    import  display\n",
        "from   pylab                              import  rcParams \n",
        "from   datetime                           import  datetime, timedelta\n",
        "from statsmodels.tsa.stattools            import  adfuller\n",
        "from statsmodels.tsa.stattools            import  pacf\n",
        "from statsmodels.tsa.stattools            import  acf\n",
        "from statsmodels.graphics.tsaplots        import  plot_pacf\n",
        "from statsmodels.graphics.tsaplots        import  plot_acf\n",
        "from statsmodels.graphics.gofplots        import  qqplot\n",
        "from statsmodels.tsa.seasonal             import  seasonal_decompose\n",
        "from statsmodels.tsa.arima_model          import  ARIMA\n",
        "from statsmodels.tsa.statespace.sarimax   import  SARIMAX\n",
        "from sklearn                              import  metrics\n",
        "from statsmodels.tsa.vector_ar.vecm       import  coint_johansen\n",
        "from statsmodels.tsa.stattools            import  adfuller\n",
        "from statsmodels.tsa.stattools            import  pacf\n",
        "from statsmodels.tsa.stattools            import  acf\n",
        "from statsmodels.graphics.tsaplots        import  plot_pacf\n",
        "from statsmodels.graphics.tsaplots        import  plot_acf\n",
        "from statsmodels.tsa.api                  import  VAR\n",
        "from statsmodels.tsa.statespace.varmax    import  VARMAX\n",
        "\n",
        "## Read Data.\n",
        "\n",
        "import matplotlib as mpl\n",
        "import matplotlib.pyplot as plt\n",
        "import seaborn as sns\n",
        "from datetime import datetime\n",
        "mpl.rcParams['figure.figsize'] = (15, 7)\n",
        "mpl.rcParams['axes.grid'] = False\n",
        "\n",
        "mpl.rcParams['figure.figsize'] = (20, 7)\n",
        "mpl.rcParams['axes.grid'] = False\n",
        "\n",
        "import pandas as pd \n",
        "import matplotlib.pyplot as plt\n",
        "import numpy as np\n",
        "from sklearn.preprocessing import MinMaxScaler\n",
        "from keras.models import Sequential\n",
        "from keras.layers import Dense, Dropout, LSTM\n",
        "from sklearn.metrics import mean_squared_error\n",
        "from sklearn.preprocessing import StandardScaler\n",
        "from sklearn.model_selection import train_test_split\n",
        "from statsmodels.tsa.vector_ar.var_model import VAR\n",
        "\n",
        "import tensorflow as tf\n",
        "from tensorflow.keras.layers import *\n",
        "from tensorflow.keras.models import *\n",
        "from tensorflow.keras.callbacks import *\n",
        "from tensorflow.keras.optimizers import *\n",
        "from kerashypetune import KerasRandomSearch, KerasGridSearch"
      ]
    },
    {
      "cell_type": "code",
      "source": [
        "from google.colab import drive\n",
        "drive.mount('/content/drive')"
      ],
      "metadata": {
        "colab": {
          "base_uri": "https://localhost:8080/"
        },
        "id": "nIzPiC9B7enE",
        "outputId": "0a264b89-0ff5-4298-e433-c773408c28e5"
      },
      "execution_count": null,
      "outputs": [
        {
          "output_type": "stream",
          "name": "stdout",
          "text": [
            "Mounted at /content/drive\n"
          ]
        }
      ]
    },
    {
      "cell_type": "code",
      "source": [
        "data = pd.read_csv('/content/drive/MyDrive/M-tech Thesis/Reliance india.csv')"
      ],
      "metadata": {
        "id": "DVDhkmX97g75"
      },
      "execution_count": null,
      "outputs": []
    },
    {
      "cell_type": "code",
      "source": [
        "data.head()"
      ],
      "metadata": {
        "colab": {
          "base_uri": "https://localhost:8080/",
          "height": 206
        },
        "id": "jxjfljbF7xHw",
        "outputId": "96bc9c5d-ede7-47e3-8e41-00b7da2fd032"
      },
      "execution_count": null,
      "outputs": [
        {
          "output_type": "execute_result",
          "data": {
            "text/plain": [
              "         Date       Open       High        Low      Close  Adj Close  \\\n",
              "0  01-01-1996  15.859429  15.944529  15.754989  15.917452  10.509537   \n",
              "1  02-01-1996  15.878770  15.956133  15.677626  15.793671  10.427812   \n",
              "2  03-01-1996  16.052837  16.783918  15.878770  15.913584  10.506983   \n",
              "3  04-01-1996  15.762726  15.813012  15.553845  15.766594  10.409933   \n",
              "4  05-01-1996  15.704703  15.704703  15.522900  15.658285  10.338421   \n",
              "\n",
              "        Volume  \n",
              "0   48051995.0  \n",
              "1   77875009.0  \n",
              "2   96602936.0  \n",
              "3  100099436.0  \n",
              "4   76935930.0  "
            ],
            "text/html": [
              "\n",
              "  <div id=\"df-311ac1a8-8e9d-41f5-8b24-443bb6e8f423\">\n",
              "    <div class=\"colab-df-container\">\n",
              "      <div>\n",
              "<style scoped>\n",
              "    .dataframe tbody tr th:only-of-type {\n",
              "        vertical-align: middle;\n",
              "    }\n",
              "\n",
              "    .dataframe tbody tr th {\n",
              "        vertical-align: top;\n",
              "    }\n",
              "\n",
              "    .dataframe thead th {\n",
              "        text-align: right;\n",
              "    }\n",
              "</style>\n",
              "<table border=\"1\" class=\"dataframe\">\n",
              "  <thead>\n",
              "    <tr style=\"text-align: right;\">\n",
              "      <th></th>\n",
              "      <th>Date</th>\n",
              "      <th>Open</th>\n",
              "      <th>High</th>\n",
              "      <th>Low</th>\n",
              "      <th>Close</th>\n",
              "      <th>Adj Close</th>\n",
              "      <th>Volume</th>\n",
              "    </tr>\n",
              "  </thead>\n",
              "  <tbody>\n",
              "    <tr>\n",
              "      <th>0</th>\n",
              "      <td>01-01-1996</td>\n",
              "      <td>15.859429</td>\n",
              "      <td>15.944529</td>\n",
              "      <td>15.754989</td>\n",
              "      <td>15.917452</td>\n",
              "      <td>10.509537</td>\n",
              "      <td>48051995.0</td>\n",
              "    </tr>\n",
              "    <tr>\n",
              "      <th>1</th>\n",
              "      <td>02-01-1996</td>\n",
              "      <td>15.878770</td>\n",
              "      <td>15.956133</td>\n",
              "      <td>15.677626</td>\n",
              "      <td>15.793671</td>\n",
              "      <td>10.427812</td>\n",
              "      <td>77875009.0</td>\n",
              "    </tr>\n",
              "    <tr>\n",
              "      <th>2</th>\n",
              "      <td>03-01-1996</td>\n",
              "      <td>16.052837</td>\n",
              "      <td>16.783918</td>\n",
              "      <td>15.878770</td>\n",
              "      <td>15.913584</td>\n",
              "      <td>10.506983</td>\n",
              "      <td>96602936.0</td>\n",
              "    </tr>\n",
              "    <tr>\n",
              "      <th>3</th>\n",
              "      <td>04-01-1996</td>\n",
              "      <td>15.762726</td>\n",
              "      <td>15.813012</td>\n",
              "      <td>15.553845</td>\n",
              "      <td>15.766594</td>\n",
              "      <td>10.409933</td>\n",
              "      <td>100099436.0</td>\n",
              "    </tr>\n",
              "    <tr>\n",
              "      <th>4</th>\n",
              "      <td>05-01-1996</td>\n",
              "      <td>15.704703</td>\n",
              "      <td>15.704703</td>\n",
              "      <td>15.522900</td>\n",
              "      <td>15.658285</td>\n",
              "      <td>10.338421</td>\n",
              "      <td>76935930.0</td>\n",
              "    </tr>\n",
              "  </tbody>\n",
              "</table>\n",
              "</div>\n",
              "      <button class=\"colab-df-convert\" onclick=\"convertToInteractive('df-311ac1a8-8e9d-41f5-8b24-443bb6e8f423')\"\n",
              "              title=\"Convert this dataframe to an interactive table.\"\n",
              "              style=\"display:none;\">\n",
              "        \n",
              "  <svg xmlns=\"http://www.w3.org/2000/svg\" height=\"24px\"viewBox=\"0 0 24 24\"\n",
              "       width=\"24px\">\n",
              "    <path d=\"M0 0h24v24H0V0z\" fill=\"none\"/>\n",
              "    <path d=\"M18.56 5.44l.94 2.06.94-2.06 2.06-.94-2.06-.94-.94-2.06-.94 2.06-2.06.94zm-11 1L8.5 8.5l.94-2.06 2.06-.94-2.06-.94L8.5 2.5l-.94 2.06-2.06.94zm10 10l.94 2.06.94-2.06 2.06-.94-2.06-.94-.94-2.06-.94 2.06-2.06.94z\"/><path d=\"M17.41 7.96l-1.37-1.37c-.4-.4-.92-.59-1.43-.59-.52 0-1.04.2-1.43.59L10.3 9.45l-7.72 7.72c-.78.78-.78 2.05 0 2.83L4 21.41c.39.39.9.59 1.41.59.51 0 1.02-.2 1.41-.59l7.78-7.78 2.81-2.81c.8-.78.8-2.07 0-2.86zM5.41 20L4 18.59l7.72-7.72 1.47 1.35L5.41 20z\"/>\n",
              "  </svg>\n",
              "      </button>\n",
              "      \n",
              "  <style>\n",
              "    .colab-df-container {\n",
              "      display:flex;\n",
              "      flex-wrap:wrap;\n",
              "      gap: 12px;\n",
              "    }\n",
              "\n",
              "    .colab-df-convert {\n",
              "      background-color: #E8F0FE;\n",
              "      border: none;\n",
              "      border-radius: 50%;\n",
              "      cursor: pointer;\n",
              "      display: none;\n",
              "      fill: #1967D2;\n",
              "      height: 32px;\n",
              "      padding: 0 0 0 0;\n",
              "      width: 32px;\n",
              "    }\n",
              "\n",
              "    .colab-df-convert:hover {\n",
              "      background-color: #E2EBFA;\n",
              "      box-shadow: 0px 1px 2px rgba(60, 64, 67, 0.3), 0px 1px 3px 1px rgba(60, 64, 67, 0.15);\n",
              "      fill: #174EA6;\n",
              "    }\n",
              "\n",
              "    [theme=dark] .colab-df-convert {\n",
              "      background-color: #3B4455;\n",
              "      fill: #D2E3FC;\n",
              "    }\n",
              "\n",
              "    [theme=dark] .colab-df-convert:hover {\n",
              "      background-color: #434B5C;\n",
              "      box-shadow: 0px 1px 3px 1px rgba(0, 0, 0, 0.15);\n",
              "      filter: drop-shadow(0px 1px 2px rgba(0, 0, 0, 0.3));\n",
              "      fill: #FFFFFF;\n",
              "    }\n",
              "  </style>\n",
              "\n",
              "      <script>\n",
              "        const buttonEl =\n",
              "          document.querySelector('#df-311ac1a8-8e9d-41f5-8b24-443bb6e8f423 button.colab-df-convert');\n",
              "        buttonEl.style.display =\n",
              "          google.colab.kernel.accessAllowed ? 'block' : 'none';\n",
              "\n",
              "        async function convertToInteractive(key) {\n",
              "          const element = document.querySelector('#df-311ac1a8-8e9d-41f5-8b24-443bb6e8f423');\n",
              "          const dataTable =\n",
              "            await google.colab.kernel.invokeFunction('convertToInteractive',\n",
              "                                                     [key], {});\n",
              "          if (!dataTable) return;\n",
              "\n",
              "          const docLinkHtml = 'Like what you see? Visit the ' +\n",
              "            '<a target=\"_blank\" href=https://colab.research.google.com/notebooks/data_table.ipynb>data table notebook</a>'\n",
              "            + ' to learn more about interactive tables.';\n",
              "          element.innerHTML = '';\n",
              "          dataTable['output_type'] = 'display_data';\n",
              "          await google.colab.output.renderOutput(dataTable, element);\n",
              "          const docLink = document.createElement('div');\n",
              "          docLink.innerHTML = docLinkHtml;\n",
              "          element.appendChild(docLink);\n",
              "        }\n",
              "      </script>\n",
              "    </div>\n",
              "  </div>\n",
              "  "
            ]
          },
          "metadata": {},
          "execution_count": 5
        }
      ]
    },
    {
      "cell_type": "code",
      "source": [
        "data['Date'] = pd.to_datetime(data.Date,format='%d-%m-%Y')\n",
        "data.index = data['Date']\n",
        "data = data.drop('Date',axis=1)"
      ],
      "metadata": {
        "id": "Z3CvOoSr7zUQ"
      },
      "execution_count": null,
      "outputs": []
    },
    {
      "cell_type": "code",
      "source": [
        "data.head()"
      ],
      "metadata": {
        "colab": {
          "base_uri": "https://localhost:8080/",
          "height": 238
        },
        "id": "0eWWQb-O71lR",
        "outputId": "9720ba1b-dc98-4cfe-9693-c536590e3001"
      },
      "execution_count": null,
      "outputs": [
        {
          "output_type": "execute_result",
          "data": {
            "text/plain": [
              "                 Open       High        Low      Close  Adj Close       Volume\n",
              "Date                                                                          \n",
              "1996-01-01  15.859429  15.944529  15.754989  15.917452  10.509537   48051995.0\n",
              "1996-01-02  15.878770  15.956133  15.677626  15.793671  10.427812   77875009.0\n",
              "1996-01-03  16.052837  16.783918  15.878770  15.913584  10.506983   96602936.0\n",
              "1996-01-04  15.762726  15.813012  15.553845  15.766594  10.409933  100099436.0\n",
              "1996-01-05  15.704703  15.704703  15.522900  15.658285  10.338421   76935930.0"
            ],
            "text/html": [
              "\n",
              "  <div id=\"df-e0a5dbbf-1f06-449c-bff4-7cfcee3f0d63\">\n",
              "    <div class=\"colab-df-container\">\n",
              "      <div>\n",
              "<style scoped>\n",
              "    .dataframe tbody tr th:only-of-type {\n",
              "        vertical-align: middle;\n",
              "    }\n",
              "\n",
              "    .dataframe tbody tr th {\n",
              "        vertical-align: top;\n",
              "    }\n",
              "\n",
              "    .dataframe thead th {\n",
              "        text-align: right;\n",
              "    }\n",
              "</style>\n",
              "<table border=\"1\" class=\"dataframe\">\n",
              "  <thead>\n",
              "    <tr style=\"text-align: right;\">\n",
              "      <th></th>\n",
              "      <th>Open</th>\n",
              "      <th>High</th>\n",
              "      <th>Low</th>\n",
              "      <th>Close</th>\n",
              "      <th>Adj Close</th>\n",
              "      <th>Volume</th>\n",
              "    </tr>\n",
              "    <tr>\n",
              "      <th>Date</th>\n",
              "      <th></th>\n",
              "      <th></th>\n",
              "      <th></th>\n",
              "      <th></th>\n",
              "      <th></th>\n",
              "      <th></th>\n",
              "    </tr>\n",
              "  </thead>\n",
              "  <tbody>\n",
              "    <tr>\n",
              "      <th>1996-01-01</th>\n",
              "      <td>15.859429</td>\n",
              "      <td>15.944529</td>\n",
              "      <td>15.754989</td>\n",
              "      <td>15.917452</td>\n",
              "      <td>10.509537</td>\n",
              "      <td>48051995.0</td>\n",
              "    </tr>\n",
              "    <tr>\n",
              "      <th>1996-01-02</th>\n",
              "      <td>15.878770</td>\n",
              "      <td>15.956133</td>\n",
              "      <td>15.677626</td>\n",
              "      <td>15.793671</td>\n",
              "      <td>10.427812</td>\n",
              "      <td>77875009.0</td>\n",
              "    </tr>\n",
              "    <tr>\n",
              "      <th>1996-01-03</th>\n",
              "      <td>16.052837</td>\n",
              "      <td>16.783918</td>\n",
              "      <td>15.878770</td>\n",
              "      <td>15.913584</td>\n",
              "      <td>10.506983</td>\n",
              "      <td>96602936.0</td>\n",
              "    </tr>\n",
              "    <tr>\n",
              "      <th>1996-01-04</th>\n",
              "      <td>15.762726</td>\n",
              "      <td>15.813012</td>\n",
              "      <td>15.553845</td>\n",
              "      <td>15.766594</td>\n",
              "      <td>10.409933</td>\n",
              "      <td>100099436.0</td>\n",
              "    </tr>\n",
              "    <tr>\n",
              "      <th>1996-01-05</th>\n",
              "      <td>15.704703</td>\n",
              "      <td>15.704703</td>\n",
              "      <td>15.522900</td>\n",
              "      <td>15.658285</td>\n",
              "      <td>10.338421</td>\n",
              "      <td>76935930.0</td>\n",
              "    </tr>\n",
              "  </tbody>\n",
              "</table>\n",
              "</div>\n",
              "      <button class=\"colab-df-convert\" onclick=\"convertToInteractive('df-e0a5dbbf-1f06-449c-bff4-7cfcee3f0d63')\"\n",
              "              title=\"Convert this dataframe to an interactive table.\"\n",
              "              style=\"display:none;\">\n",
              "        \n",
              "  <svg xmlns=\"http://www.w3.org/2000/svg\" height=\"24px\"viewBox=\"0 0 24 24\"\n",
              "       width=\"24px\">\n",
              "    <path d=\"M0 0h24v24H0V0z\" fill=\"none\"/>\n",
              "    <path d=\"M18.56 5.44l.94 2.06.94-2.06 2.06-.94-2.06-.94-.94-2.06-.94 2.06-2.06.94zm-11 1L8.5 8.5l.94-2.06 2.06-.94-2.06-.94L8.5 2.5l-.94 2.06-2.06.94zm10 10l.94 2.06.94-2.06 2.06-.94-2.06-.94-.94-2.06-.94 2.06-2.06.94z\"/><path d=\"M17.41 7.96l-1.37-1.37c-.4-.4-.92-.59-1.43-.59-.52 0-1.04.2-1.43.59L10.3 9.45l-7.72 7.72c-.78.78-.78 2.05 0 2.83L4 21.41c.39.39.9.59 1.41.59.51 0 1.02-.2 1.41-.59l7.78-7.78 2.81-2.81c.8-.78.8-2.07 0-2.86zM5.41 20L4 18.59l7.72-7.72 1.47 1.35L5.41 20z\"/>\n",
              "  </svg>\n",
              "      </button>\n",
              "      \n",
              "  <style>\n",
              "    .colab-df-container {\n",
              "      display:flex;\n",
              "      flex-wrap:wrap;\n",
              "      gap: 12px;\n",
              "    }\n",
              "\n",
              "    .colab-df-convert {\n",
              "      background-color: #E8F0FE;\n",
              "      border: none;\n",
              "      border-radius: 50%;\n",
              "      cursor: pointer;\n",
              "      display: none;\n",
              "      fill: #1967D2;\n",
              "      height: 32px;\n",
              "      padding: 0 0 0 0;\n",
              "      width: 32px;\n",
              "    }\n",
              "\n",
              "    .colab-df-convert:hover {\n",
              "      background-color: #E2EBFA;\n",
              "      box-shadow: 0px 1px 2px rgba(60, 64, 67, 0.3), 0px 1px 3px 1px rgba(60, 64, 67, 0.15);\n",
              "      fill: #174EA6;\n",
              "    }\n",
              "\n",
              "    [theme=dark] .colab-df-convert {\n",
              "      background-color: #3B4455;\n",
              "      fill: #D2E3FC;\n",
              "    }\n",
              "\n",
              "    [theme=dark] .colab-df-convert:hover {\n",
              "      background-color: #434B5C;\n",
              "      box-shadow: 0px 1px 3px 1px rgba(0, 0, 0, 0.15);\n",
              "      filter: drop-shadow(0px 1px 2px rgba(0, 0, 0, 0.3));\n",
              "      fill: #FFFFFF;\n",
              "    }\n",
              "  </style>\n",
              "\n",
              "      <script>\n",
              "        const buttonEl =\n",
              "          document.querySelector('#df-e0a5dbbf-1f06-449c-bff4-7cfcee3f0d63 button.colab-df-convert');\n",
              "        buttonEl.style.display =\n",
              "          google.colab.kernel.accessAllowed ? 'block' : 'none';\n",
              "\n",
              "        async function convertToInteractive(key) {\n",
              "          const element = document.querySelector('#df-e0a5dbbf-1f06-449c-bff4-7cfcee3f0d63');\n",
              "          const dataTable =\n",
              "            await google.colab.kernel.invokeFunction('convertToInteractive',\n",
              "                                                     [key], {});\n",
              "          if (!dataTable) return;\n",
              "\n",
              "          const docLinkHtml = 'Like what you see? Visit the ' +\n",
              "            '<a target=\"_blank\" href=https://colab.research.google.com/notebooks/data_table.ipynb>data table notebook</a>'\n",
              "            + ' to learn more about interactive tables.';\n",
              "          element.innerHTML = '';\n",
              "          dataTable['output_type'] = 'display_data';\n",
              "          await google.colab.output.renderOutput(dataTable, element);\n",
              "          const docLink = document.createElement('div');\n",
              "          docLink.innerHTML = docLinkHtml;\n",
              "          element.appendChild(docLink);\n",
              "        }\n",
              "      </script>\n",
              "    </div>\n",
              "  </div>\n",
              "  "
            ]
          },
          "metadata": {},
          "execution_count": 7
        }
      ]
    },
    {
      "cell_type": "code",
      "source": [
        "data.isnull().sum()"
      ],
      "metadata": {
        "colab": {
          "base_uri": "https://localhost:8080/"
        },
        "id": "k8-Dh4Zu73KY",
        "outputId": "29de7903-5488-4153-ca1e-5fa617c44bc5"
      },
      "execution_count": null,
      "outputs": [
        {
          "output_type": "execute_result",
          "data": {
            "text/plain": [
              "Open         10\n",
              "High         10\n",
              "Low          10\n",
              "Close        10\n",
              "Adj Close    10\n",
              "Volume       10\n",
              "dtype: int64"
            ]
          },
          "metadata": {},
          "execution_count": 8
        }
      ]
    },
    {
      "cell_type": "code",
      "source": [
        "data['Open'] = data['Open'].fillna(method = 'bfill')\n",
        "data['High'] = data['High'].fillna(method = 'bfill')\n",
        "data['Low'] = data['Low'].fillna(method = 'bfill')\n",
        "data['Close'] = data['Close'].fillna(method = 'bfill')\n",
        "data['Adj Close'] = data['Adj Close'].fillna(method = 'bfill')\n",
        "data['Volume'] = data['Volume'].fillna(method = 'bfill')"
      ],
      "metadata": {
        "id": "VE38g5S075j4"
      },
      "execution_count": null,
      "outputs": []
    },
    {
      "cell_type": "code",
      "source": [
        "data.isnull().sum()"
      ],
      "metadata": {
        "colab": {
          "base_uri": "https://localhost:8080/"
        },
        "id": "x19zOr6z77hg",
        "outputId": "14ab2988-ae3f-49e8-d8c8-16c74be93f24"
      },
      "execution_count": null,
      "outputs": [
        {
          "output_type": "execute_result",
          "data": {
            "text/plain": [
              "Open         0\n",
              "High         0\n",
              "Low          0\n",
              "Close        0\n",
              "Adj Close    0\n",
              "Volume       0\n",
              "dtype: int64"
            ]
          },
          "metadata": {},
          "execution_count": 10
        }
      ]
    },
    {
      "cell_type": "code",
      "source": [
        "plt.plot(data['Close'])"
      ],
      "metadata": {
        "colab": {
          "base_uri": "https://localhost:8080/",
          "height": 446
        },
        "id": "3zCpGCy179OA",
        "outputId": "609f006d-303d-4810-c780-56896f180dbb"
      },
      "execution_count": null,
      "outputs": [
        {
          "output_type": "execute_result",
          "data": {
            "text/plain": [
              "[<matplotlib.lines.Line2D at 0x7f5e46810290>]"
            ]
          },
          "metadata": {},
          "execution_count": 11
        },
        {
          "output_type": "display_data",
          "data": {
            "text/plain": [
              "<Figure size 1440x504 with 1 Axes>"
            ],
            "image/png": "[encoded data removed]"
          },
          "metadata": {
            "needs_background": "light"
          }
        }
      ]
    },
    {
      "cell_type": "code",
      "source": [
        "n_data = data.drop(['Open','High','Low','Adj Close','Volume'],axis=1)"
      ],
      "metadata": {
        "id": "doipGMNN7_Wo"
      },
      "execution_count": null,
      "outputs": []
    },
    {
      "cell_type": "code",
      "source": [
        "n_data.head()"
      ],
      "metadata": {
        "colab": {
          "base_uri": "https://localhost:8080/",
          "height": 238
        },
        "id": "WxI7j_D78Cu4",
        "outputId": "ea152ec9-388d-4d39-a5df-30a731e543ab"
      },
      "execution_count": null,
      "outputs": [
        {
          "output_type": "execute_result",
          "data": {
            "text/plain": [
              "                Close\n",
              "Date                 \n",
              "1996-01-01  15.917452\n",
              "1996-01-02  15.793671\n",
              "1996-01-03  15.913584\n",
              "1996-01-04  15.766594\n",
              "1996-01-05  15.658285"
            ],
            "text/html": [
              "\n",
              "  <div id=\"df-fa6218e6-e60c-4da4-95c0-a69f701e4a7c\">\n",
              "    <div class=\"colab-df-container\">\n",
              "      <div>\n",
              "<style scoped>\n",
              "    .dataframe tbody tr th:only-of-type {\n",
              "        vertical-align: middle;\n",
              "    }\n",
              "\n",
              "    .dataframe tbody tr th {\n",
              "        vertical-align: top;\n",
              "    }\n",
              "\n",
              "    .dataframe thead th {\n",
              "        text-align: right;\n",
              "    }\n",
              "</style>\n",
              "<table border=\"1\" class=\"dataframe\">\n",
              "  <thead>\n",
              "    <tr style=\"text-align: right;\">\n",
              "      <th></th>\n",
              "      <th>Close</th>\n",
              "    </tr>\n",
              "    <tr>\n",
              "      <th>Date</th>\n",
              "      <th></th>\n",
              "    </tr>\n",
              "  </thead>\n",
              "  <tbody>\n",
              "    <tr>\n",
              "      <th>1996-01-01</th>\n",
              "      <td>15.917452</td>\n",
              "    </tr>\n",
              "    <tr>\n",
              "      <th>1996-01-02</th>\n",
              "      <td>15.793671</td>\n",
              "    </tr>\n",
              "    <tr>\n",
              "      <th>1996-01-03</th>\n",
              "      <td>15.913584</td>\n",
              "    </tr>\n",
              "    <tr>\n",
              "      <th>1996-01-04</th>\n",
              "      <td>15.766594</td>\n",
              "    </tr>\n",
              "    <tr>\n",
              "      <th>1996-01-05</th>\n",
              "      <td>15.658285</td>\n",
              "    </tr>\n",
              "  </tbody>\n",
              "</table>\n",
              "</div>\n",
              "      <button class=\"colab-df-convert\" onclick=\"convertToInteractive('df-fa6218e6-e60c-4da4-95c0-a69f701e4a7c')\"\n",
              "              title=\"Convert this dataframe to an interactive table.\"\n",
              "              style=\"display:none;\">\n",
              "        \n",
              "  <svg xmlns=\"http://www.w3.org/2000/svg\" height=\"24px\"viewBox=\"0 0 24 24\"\n",
              "       width=\"24px\">\n",
              "    <path d=\"M0 0h24v24H0V0z\" fill=\"none\"/>\n",
              "    <path d=\"M18.56 5.44l.94 2.06.94-2.06 2.06-.94-2.06-.94-.94-2.06-.94 2.06-2.06.94zm-11 1L8.5 8.5l.94-2.06 2.06-.94-2.06-.94L8.5 2.5l-.94 2.06-2.06.94zm10 10l.94 2.06.94-2.06 2.06-.94-2.06-.94-.94-2.06-.94 2.06-2.06.94z\"/><path d=\"M17.41 7.96l-1.37-1.37c-.4-.4-.92-.59-1.43-.59-.52 0-1.04.2-1.43.59L10.3 9.45l-7.72 7.72c-.78.78-.78 2.05 0 2.83L4 21.41c.39.39.9.59 1.41.59.51 0 1.02-.2 1.41-.59l7.78-7.78 2.81-2.81c.8-.78.8-2.07 0-2.86zM5.41 20L4 18.59l7.72-7.72 1.47 1.35L5.41 20z\"/>\n",
              "  </svg>\n",
              "      </button>\n",
              "      \n",
              "  <style>\n",
              "    .colab-df-container {\n",
              "      display:flex;\n",
              "      flex-wrap:wrap;\n",
              "      gap: 12px;\n",
              "    }\n",
              "\n",
              "    .colab-df-convert {\n",
              "      background-color: #E8F0FE;\n",
              "      border: none;\n",
              "      border-radius: 50%;\n",
              "      cursor: pointer;\n",
              "      display: none;\n",
              "      fill: #1967D2;\n",
              "      height: 32px;\n",
              "      padding: 0 0 0 0;\n",
              "      width: 32px;\n",
              "    }\n",
              "\n",
              "    .colab-df-convert:hover {\n",
              "      background-color: #E2EBFA;\n",
              "      box-shadow: 0px 1px 2px rgba(60, 64, 67, 0.3), 0px 1px 3px 1px rgba(60, 64, 67, 0.15);\n",
              "      fill: #174EA6;\n",
              "    }\n",
              "\n",
              "    [theme=dark] .colab-df-convert {\n",
              "      background-color: #3B4455;\n",
              "      fill: #D2E3FC;\n",
              "    }\n",
              "\n",
              "    [theme=dark] .colab-df-convert:hover {\n",
              "      background-color: #434B5C;\n",
              "      box-shadow: 0px 1px 3px 1px rgba(0, 0, 0, 0.15);\n",
              "      filter: drop-shadow(0px 1px 2px rgba(0, 0, 0, 0.3));\n",
              "      fill: #FFFFFF;\n",
              "    }\n",
              "  </style>\n",
              "\n",
              "      <script>\n",
              "        const buttonEl =\n",
              "          document.querySelector('#df-fa6218e6-e60c-4da4-95c0-a69f701e4a7c button.colab-df-convert');\n",
              "        buttonEl.style.display =\n",
              "          google.colab.kernel.accessAllowed ? 'block' : 'none';\n",
              "\n",
              "        async function convertToInteractive(key) {\n",
              "          const element = document.querySelector('#df-fa6218e6-e60c-4da4-95c0-a69f701e4a7c');\n",
              "          const dataTable =\n",
              "            await google.colab.kernel.invokeFunction('convertToInteractive',\n",
              "                                                     [key], {});\n",
              "          if (!dataTable) return;\n",
              "\n",
              "          const docLinkHtml = 'Like what you see? Visit the ' +\n",
              "            '<a target=\"_blank\" href=https://colab.research.google.com/notebooks/data_table.ipynb>data table notebook</a>'\n",
              "            + ' to learn more about interactive tables.';\n",
              "          element.innerHTML = '';\n",
              "          dataTable['output_type'] = 'display_data';\n",
              "          await google.colab.output.renderOutput(dataTable, element);\n",
              "          const docLink = document.createElement('div');\n",
              "          docLink.innerHTML = docLinkHtml;\n",
              "          element.appendChild(docLink);\n",
              "        }\n",
              "      </script>\n",
              "    </div>\n",
              "  </div>\n",
              "  "
            ]
          },
          "metadata": {},
          "execution_count": 13
        }
      ]
    },
    {
      "cell_type": "code",
      "source": [
        "scaler = MinMaxScaler(feature_range=(0, 1))\n",
        "scaled_data = scaler.fit_transform(n_data)"
      ],
      "metadata": {
        "id": "PpVAPewN8FhJ"
      },
      "execution_count": null,
      "outputs": []
    },
    {
      "cell_type": "code",
      "source": [
        "train = scaled_data[:,:]\n",
        "test = scaled_data[:,:]"
      ],
      "metadata": {
        "id": "JlQqs48-8HpA"
      },
      "execution_count": null,
      "outputs": []
    },
    {
      "cell_type": "code",
      "source": [
        "train.shape"
      ],
      "metadata": {
        "colab": {
          "base_uri": "https://localhost:8080/"
        },
        "id": "bRNF9vAR8R6A",
        "outputId": "59536379-c66e-4122-d738-d7ab36cc9fed"
      },
      "execution_count": null,
      "outputs": [
        {
          "output_type": "execute_result",
          "data": {
            "text/plain": [
              "(6569, 1)"
            ]
          },
          "metadata": {},
          "execution_count": 16
        }
      ]
    },
    {
      "cell_type": "code",
      "source": [
        "test.shape"
      ],
      "metadata": {
        "colab": {
          "base_uri": "https://localhost:8080/"
        },
        "id": "FFjehbGB8Tbw",
        "outputId": "e3f4ad10-8b8d-4fe8-d9ba-5cb1dddb3fb8"
      },
      "execution_count": null,
      "outputs": [
        {
          "output_type": "execute_result",
          "data": {
            "text/plain": [
              "(6569, 1)"
            ]
          },
          "metadata": {},
          "execution_count": 17
        }
      ]
    },
    {
      "cell_type": "code",
      "source": [
        "split = int(0.9 * len(train))\n",
        "X_train = train[:split]\n",
        "y_train = test[:split]\n",
        "X_test = train[split:]\n",
        "y_test = test[split:]"
      ],
      "metadata": {
        "id": "ruePfgCn8VLY"
      },
      "execution_count": null,
      "outputs": []
    },
    {
      "cell_type": "code",
      "source": [
        "X_train.shape, y_train.shape"
      ],
      "metadata": {
        "colab": {
          "base_uri": "https://localhost:8080/"
        },
        "id": "BQp-AFoz8lnh",
        "outputId": "5f35c3e8-0422-45a1-94f4-0e5e5d66692a"
      },
      "execution_count": null,
      "outputs": [
        {
          "output_type": "execute_result",
          "data": {
            "text/plain": [
              "((5912, 1), (5912, 1))"
            ]
          },
          "metadata": {},
          "execution_count": 19
        }
      ]
    },
    {
      "cell_type": "code",
      "source": [
        "X_test.shape, y_test.shape"
      ],
      "metadata": {
        "colab": {
          "base_uri": "https://localhost:8080/"
        },
        "id": "f_qzc6PW8oGJ",
        "outputId": "5da85d61-36b6-4b90-cfd7-c361360f2cc0"
      },
      "execution_count": null,
      "outputs": [
        {
          "output_type": "execute_result",
          "data": {
            "text/plain": [
              "((657, 1), (657, 1))"
            ]
          },
          "metadata": {},
          "execution_count": 20
        }
      ]
    },
    {
      "cell_type": "code",
      "source": [
        "# Define a data plotting function\n",
        "def show_plot(data, title):\n",
        "  plt.figure(figsize = (13, 5))\n",
        "  plt.plot(data, linewidth = 3)\n",
        "  plt.title(title)\n",
        "  plt.grid()\n",
        "\n",
        "show_plot(X_train, 'Training Data')\n",
        "show_plot(X_test, 'Testing Data')"
      ],
      "metadata": {
        "colab": {
          "base_uri": "https://localhost:8080/",
          "height": 655
        },
        "id": "IhmUaXSc8pkB",
        "outputId": "84dd7025-c54e-4264-fd9e-9b4425bb5083"
      },
      "execution_count": null,
      "outputs": [
        {
          "output_type": "display_data",
          "data": {
            "text/plain": [
              "<Figure size 936x360 with 1 Axes>"
            ],
            "image/png": "[encoded data removed]"
          },
          "metadata": {
            "needs_background": "light"
          }
        },
        {
          "output_type": "display_data",
          "data": {
            "text/plain": [
              "<Figure size 936x360 with 1 Axes>"
            ],
            "image/png": "[encoded data removed]"
          },
          "metadata": {
            "needs_background": "light"
          }
        }
      ]
    },
    {
      "cell_type": "code",
      "source": [
        "from keras.layers.normalization.batch_normalization import BatchNormalization\n",
        "def get_model(param):\n",
        "  model = Sequential()\n",
        "  model.add(LSTM(param['n_units'],return_sequences=True,input_shape=(X_train.shape[1],1)))\n",
        "  model.add(Dropout(0.3))\n",
        "\n",
        "  model.add(LSTM(param['n_units'],return_sequences=True))\n",
        "  model.add(Dropout(0.3))\n",
        "\n",
        "  model.add(LSTM(param['n_units']))\n",
        "  model.add(Dropout(0.3))\n",
        "\n",
        "  model.add(BatchNormalization())\n",
        "\n",
        "  model.add(Dense(128,activation='relu'))\n",
        "  model.add(Dense(64,activation='relu'))\n",
        "\n",
        "  model.add(Dropout(0.3))\n",
        "\n",
        "  model.add(Dense(1,activation='linear'))\n",
        "\n",
        "  model.compile(loss='mean_squared_error',optimizer ='adam')\n",
        "\n",
        "  return model\n",
        "  \n"
      ],
      "metadata": {
        "id": "FkDe7qLo8u9Y"
      },
      "execution_count": null,
      "outputs": []
    },
    {
      "cell_type": "code",
      "source": [
        "batch_size = [32, 64,84]\n",
        "epochs = [ 50,100,200]\n",
        "learning_rate = [ 0.001, 0.02,0.01]\n",
        "n_units = [50, 100]"
      ],
      "metadata": {
        "id": "iwnoxGV3HnaY"
      },
      "execution_count": null,
      "outputs": []
    },
    {
      "cell_type": "code",
      "source": [
        "#create dictionary with hyper parameters\n",
        "parameters = dict(batch_size = batch_size,\n",
        "                  epochs = epochs,\n",
        "                  learning_rate=learning_rate,\n",
        "                  n_units = n_units)"
      ],
      "metadata": {
        "id": "XKJCUDJJIfEy"
      },
      "execution_count": null,
      "outputs": []
    },
    {
      "cell_type": "code",
      "source": [
        "es = EarlyStopping(patience=5, verbose=0, min_delta=0.001, monitor='val_loss', mode='auto', restore_best_weights=True)\n",
        "\n",
        "tuned_model = lambda x: get_model(param=x)  \n",
        "\n",
        "keras_grid = KerasGridSearch(tuned_model, parameters, \n",
        "                          monitor='val_loss', greater_is_better=False, tuner_verbose=1)\n",
        "keras_grid.search(X_train, y_train, validation_data=(X_test, y_test), callbacks=[es])"
      ],
      "metadata": {
        "id": "Xg0_siieItiv",
        "colab": {
          "base_uri": "https://localhost:8080/"
        },
        "outputId": "d521d3f3-c8e2-4468-d416-502f6c048674"
      },
      "execution_count": null,
      "outputs": [
        {
          "output_type": "stream",
          "name": "stdout",
          "text": [
            "\n",
            "54 trials detected for ('batch_size', 'epochs', 'learning_rate', 'n_units')\n",
            "\n",
            "***** (1/54) *****\n",
            "Search({'batch_size': 32, 'epochs': 200, 'learning_rate': 0.02, 'n_units': 50})\n",
            "SCORE: 0.0075 at epoch 10\n",
            "\n",
            "***** (2/54) *****\n",
            "Search({'batch_size': 32, 'epochs': 200, 'learning_rate': 0.02, 'n_units': 100})\n",
            "SCORE: 6e-05 at epoch 9\n",
            "\n",
            "***** (3/54) *****\n",
            "Search({'batch_size': 32, 'epochs': 200, 'learning_rate': 0.01, 'n_units': 50})\n",
            "SCORE: 0.00633 at epoch 6\n",
            "\n",
            "***** (4/54) *****\n",
            "Search({'batch_size': 32, 'epochs': 200, 'learning_rate': 0.01, 'n_units': 100})\n",
            "SCORE: 0.00019 at epoch 9\n",
            "\n",
            "***** (5/54) *****\n",
            "Search({'batch_size': 32, 'epochs': 200, 'learning_rate': 0.001, 'n_units': 50})\n",
            "SCORE: 0.00443 at epoch 7\n",
            "\n",
            "***** (6/54) *****\n",
            "Search({'batch_size': 32, 'epochs': 200, 'learning_rate': 0.001, 'n_units': 100})\n",
            "SCORE: 2e-05 at epoch 14\n",
            "\n",
            "***** (7/54) *****\n",
            "Search({'batch_size': 32, 'epochs': 50, 'learning_rate': 0.02, 'n_units': 50})\n",
            "SCORE: 0.00374 at epoch 9\n",
            "\n",
            "***** (8/54) *****\n",
            "Search({'batch_size': 32, 'epochs': 50, 'learning_rate': 0.02, 'n_units': 100})\n",
            "SCORE: 0.0015 at epoch 5\n",
            "\n",
            "***** (9/54) *****\n",
            "Search({'batch_size': 32, 'epochs': 50, 'learning_rate': 0.01, 'n_units': 50})\n",
            "SCORE: 0.0021 at epoch 7\n",
            "\n",
            "***** (10/54) *****\n",
            "Search({'batch_size': 32, 'epochs': 50, 'learning_rate': 0.01, 'n_units': 100})\n",
            "SCORE: 0.00166 at epoch 7\n",
            "\n",
            "***** (11/54) *****\n",
            "Search({'batch_size': 32, 'epochs': 50, 'learning_rate': 0.001, 'n_units': 50})\n",
            "SCORE: 0.01141 at epoch 7\n",
            "\n",
            "***** (12/54) *****\n",
            "Search({'batch_size': 32, 'epochs': 50, 'learning_rate': 0.001, 'n_units': 100})\n",
            "SCORE: 0.00043 at epoch 9\n",
            "\n",
            "***** (13/54) *****\n",
            "Search({'batch_size': 32, 'epochs': 100, 'learning_rate': 0.02, 'n_units': 50})\n",
            "SCORE: 0.00013 at epoch 8\n",
            "\n",
            "***** (14/54) *****\n",
            "Search({'batch_size': 32, 'epochs': 100, 'learning_rate': 0.02, 'n_units': 100})\n",
            "SCORE: 0.00049 at epoch 7\n",
            "\n",
            "***** (15/54) *****\n",
            "Search({'batch_size': 32, 'epochs': 100, 'learning_rate': 0.01, 'n_units': 50})\n",
            "SCORE: 0.00302 at epoch 5\n",
            "\n",
            "***** (16/54) *****\n",
            "Search({'batch_size': 32, 'epochs': 100, 'learning_rate': 0.01, 'n_units': 100})\n",
            "SCORE: 0.00137 at epoch 12\n",
            "\n",
            "***** (17/54) *****\n",
            "Search({'batch_size': 32, 'epochs': 100, 'learning_rate': 0.001, 'n_units': 50})\n",
            "SCORE: 0.00495 at epoch 8\n",
            "\n",
            "***** (18/54) *****\n",
            "Search({'batch_size': 32, 'epochs': 100, 'learning_rate': 0.001, 'n_units': 100})\n",
            "SCORE: 0.00034 at epoch 9\n",
            "\n",
            "***** (19/54) *****\n",
            "Search({'batch_size': 64, 'epochs': 200, 'learning_rate': 0.02, 'n_units': 50})\n",
            "SCORE: 0.00156 at epoch 9\n",
            "\n",
            "***** (20/54) *****\n",
            "Search({'batch_size': 64, 'epochs': 200, 'learning_rate': 0.02, 'n_units': 100})\n",
            "SCORE: 0.00022 at epoch 11\n",
            "\n",
            "***** (21/54) *****\n",
            "Search({'batch_size': 64, 'epochs': 200, 'learning_rate': 0.01, 'n_units': 50})\n",
            "SCORE: 0.01154 at epoch 10\n",
            "\n",
            "***** (22/54) *****\n",
            "Search({'batch_size': 64, 'epochs': 200, 'learning_rate': 0.01, 'n_units': 100})\n",
            "SCORE: 0.00053 at epoch 12\n",
            "\n",
            "***** (23/54) *****\n",
            "Search({'batch_size': 64, 'epochs': 200, 'learning_rate': 0.001, 'n_units': 50})\n",
            "SCORE: 3e-05 at epoch 11\n",
            "\n",
            "***** (24/54) *****\n",
            "Search({'batch_size': 64, 'epochs': 200, 'learning_rate': 0.001, 'n_units': 100})\n",
            "SCORE: 0.00056 at epoch 11\n",
            "\n",
            "***** (25/54) *****\n",
            "Search({'batch_size': 64, 'epochs': 50, 'learning_rate': 0.02, 'n_units': 50})\n",
            "SCORE: 0.00488 at epoch 16\n",
            "\n",
            "***** (26/54) *****\n",
            "Search({'batch_size': 64, 'epochs': 50, 'learning_rate': 0.02, 'n_units': 100})\n",
            "SCORE: 0.00213 at epoch 14\n",
            "\n",
            "***** (27/54) *****\n",
            "Search({'batch_size': 64, 'epochs': 50, 'learning_rate': 0.01, 'n_units': 50})\n",
            "SCORE: 0.00723 at epoch 12\n",
            "\n",
            "***** (28/54) *****\n",
            "Search({'batch_size': 64, 'epochs': 50, 'learning_rate': 0.01, 'n_units': 100})\n",
            "SCORE: 1e-05 at epoch 15\n",
            "\n",
            "***** (29/54) *****\n",
            "Search({'batch_size': 64, 'epochs': 50, 'learning_rate': 0.001, 'n_units': 50})\n",
            "SCORE: 0.00023 at epoch 11\n",
            "\n",
            "***** (30/54) *****\n",
            "Search({'batch_size': 64, 'epochs': 50, 'learning_rate': 0.001, 'n_units': 100})\n",
            "SCORE: 0.00394 at epoch 10\n",
            "\n",
            "***** (31/54) *****\n",
            "Search({'batch_size': 64, 'epochs': 100, 'learning_rate': 0.02, 'n_units': 50})\n",
            "SCORE: 0.02095 at epoch 11\n",
            "\n",
            "***** (32/54) *****\n",
            "Search({'batch_size': 64, 'epochs': 100, 'learning_rate': 0.02, 'n_units': 100})\n",
            "SCORE: 6e-05 at epoch 10\n",
            "\n",
            "***** (33/54) *****\n",
            "Search({'batch_size': 64, 'epochs': 100, 'learning_rate': 0.01, 'n_units': 50})\n",
            "SCORE: 0.00225 at epoch 12\n",
            "\n",
            "***** (34/54) *****\n",
            "Search({'batch_size': 64, 'epochs': 100, 'learning_rate': 0.01, 'n_units': 100})\n",
            "SCORE: 6e-05 at epoch 16\n",
            "\n",
            "***** (35/54) *****\n",
            "Search({'batch_size': 64, 'epochs': 100, 'learning_rate': 0.001, 'n_units': 50})\n",
            "SCORE: 0.01223 at epoch 14\n",
            "\n",
            "***** (36/54) *****\n",
            "Search({'batch_size': 64, 'epochs': 100, 'learning_rate': 0.001, 'n_units': 100})\n",
            "SCORE: 0.00175 at epoch 11\n",
            "\n",
            "***** (37/54) *****\n",
            "Search({'batch_size': 84, 'epochs': 200, 'learning_rate': 0.02, 'n_units': 50})\n",
            "SCORE: 0.0003 at epoch 15\n",
            "\n",
            "***** (38/54) *****\n",
            "Search({'batch_size': 84, 'epochs': 200, 'learning_rate': 0.02, 'n_units': 100})\n",
            "SCORE: 0.00111 at epoch 17\n",
            "\n",
            "***** (39/54) *****\n",
            "Search({'batch_size': 84, 'epochs': 200, 'learning_rate': 0.01, 'n_units': 50})\n",
            "SCORE: 0.00662 at epoch 13\n",
            "\n",
            "***** (40/54) *****\n",
            "Search({'batch_size': 84, 'epochs': 200, 'learning_rate': 0.01, 'n_units': 100})\n",
            "SCORE: 0.0 at epoch 17\n",
            "\n",
            "***** (41/54) *****\n",
            "Search({'batch_size': 84, 'epochs': 200, 'learning_rate': 0.001, 'n_units': 50})\n",
            "SCORE: 0.00479 at epoch 22\n",
            "\n",
            "***** (42/54) *****\n",
            "Search({'batch_size': 84, 'epochs': 200, 'learning_rate': 0.001, 'n_units': 100})\n",
            "SCORE: 1e-05 at epoch 20\n",
            "\n",
            "***** (43/54) *****\n",
            "Search({'batch_size': 84, 'epochs': 50, 'learning_rate': 0.02, 'n_units': 50})\n",
            "SCORE: 0.00963 at epoch 13\n",
            "\n",
            "***** (44/54) *****\n",
            "Search({'batch_size': 84, 'epochs': 50, 'learning_rate': 0.02, 'n_units': 100})\n",
            "SCORE: 1e-05 at epoch 20\n",
            "\n",
            "***** (45/54) *****\n",
            "Search({'batch_size': 84, 'epochs': 50, 'learning_rate': 0.01, 'n_units': 50})\n",
            "SCORE: 0.00198 at epoch 15\n",
            "\n",
            "***** (46/54) *****\n",
            "Search({'batch_size': 84, 'epochs': 50, 'learning_rate': 0.01, 'n_units': 100})\n",
            "SCORE: 0.00016 at epoch 19\n",
            "\n",
            "***** (47/54) *****\n",
            "Search({'batch_size': 84, 'epochs': 50, 'learning_rate': 0.001, 'n_units': 50})\n",
            "SCORE: 0.00459 at epoch 17\n",
            "\n",
            "***** (48/54) *****\n",
            "Search({'batch_size': 84, 'epochs': 50, 'learning_rate': 0.001, 'n_units': 100})\n",
            "SCORE: 2e-05 at epoch 23\n",
            "\n",
            "***** (49/54) *****\n",
            "Search({'batch_size': 84, 'epochs': 100, 'learning_rate': 0.02, 'n_units': 50})\n",
            "SCORE: 0.00817 at epoch 14\n",
            "\n",
            "***** (50/54) *****\n",
            "Search({'batch_size': 84, 'epochs': 100, 'learning_rate': 0.02, 'n_units': 100})\n",
            "SCORE: 1e-05 at epoch 18\n",
            "\n",
            "***** (51/54) *****\n",
            "Search({'batch_size': 84, 'epochs': 100, 'learning_rate': 0.01, 'n_units': 50})\n",
            "SCORE: 0.00467 at epoch 15\n",
            "\n",
            "***** (52/54) *****\n",
            "Search({'batch_size': 84, 'epochs': 100, 'learning_rate': 0.01, 'n_units': 100})\n",
            "SCORE: 4e-05 at epoch 18\n",
            "\n",
            "***** (53/54) *****\n",
            "Search({'batch_size': 84, 'epochs': 100, 'learning_rate': 0.001, 'n_units': 50})\n",
            "SCORE: 0.00353 at epoch 17\n",
            "\n",
            "***** (54/54) *****\n",
            "Search({'batch_size': 84, 'epochs': 100, 'learning_rate': 0.001, 'n_units': 100})\n",
            "SCORE: 0.00019 at epoch 20\n"
          ]
        },
        {
          "output_type": "execute_result",
          "data": {
            "text/plain": [
              "<kerashypetune.kerashypetune.KerasGridSearch at 0x7f5e46212e50>"
            ]
          },
          "metadata": {},
          "execution_count": 25
        }
      ]
    },
    {
      "cell_type": "code",
      "source": [
        "pred_lstm = keras_grid.best_model.predict(train)\n",
        "pred_lstm = scaler.inverse_transform(pred_lstm.reshape(-1, pred_lstm.shape[-1])).reshape(pred_lstm.shape)"
      ],
      "metadata": {
        "id": "3XF-xJsWqE2w"
      },
      "execution_count": null,
      "outputs": []
    },
    {
      "cell_type": "code",
      "source": [
        "test_predicted = []\n",
        "\n",
        "for i in pred_lstm:\n",
        "  test_predicted.append(i[0])"
      ],
      "metadata": {
        "id": "Gle0TMl9qgo8"
      },
      "execution_count": null,
      "outputs": []
    },
    {
      "cell_type": "code",
      "source": [
        "df_predicted = n_data[0:][['Close']]\n",
        "df_predicted"
      ],
      "metadata": {
        "colab": {
          "base_uri": "https://localhost:8080/",
          "height": 455
        },
        "id": "qmgKsz7RqoJW",
        "outputId": "b1cac157-e7b2-4078-ec1e-4f94f86be488"
      },
      "execution_count": null,
      "outputs": [
        {
          "output_type": "execute_result",
          "data": {
            "text/plain": [
              "                  Close\n",
              "Date                   \n",
              "1996-01-01    15.917452\n",
              "1996-01-02    15.793671\n",
              "1996-01-03    15.913584\n",
              "1996-01-04    15.766594\n",
              "1996-01-05    15.658285\n",
              "...                 ...\n",
              "2022-01-19  2521.600098\n",
              "2022-01-20  2477.449951\n",
              "2022-01-21  2477.850098\n",
              "2022-01-24  2377.899902\n",
              "2022-01-25  2373.250000\n",
              "\n",
              "[6569 rows x 1 columns]"
            ],
            "text/html": [
              "\n",
              "  <div id=\"df-43b9df25-809e-4091-8b48-4d986c1f225f\">\n",
              "    <div class=\"colab-df-container\">\n",
              "      <div>\n",
              "<style scoped>\n",
              "    .dataframe tbody tr th:only-of-type {\n",
              "        vertical-align: middle;\n",
              "    }\n",
              "\n",
              "    .dataframe tbody tr th {\n",
              "        vertical-align: top;\n",
              "    }\n",
              "\n",
              "    .dataframe thead th {\n",
              "        text-align: right;\n",
              "    }\n",
              "</style>\n",
              "<table border=\"1\" class=\"dataframe\">\n",
              "  <thead>\n",
              "    <tr style=\"text-align: right;\">\n",
              "      <th></th>\n",
              "      <th>Close</th>\n",
              "    </tr>\n",
              "    <tr>\n",
              "      <th>Date</th>\n",
              "      <th></th>\n",
              "    </tr>\n",
              "  </thead>\n",
              "  <tbody>\n",
              "    <tr>\n",
              "      <th>1996-01-01</th>\n",
              "      <td>15.917452</td>\n",
              "    </tr>\n",
              "    <tr>\n",
              "      <th>1996-01-02</th>\n",
              "      <td>15.793671</td>\n",
              "    </tr>\n",
              "    <tr>\n",
              "      <th>1996-01-03</th>\n",
              "      <td>15.913584</td>\n",
              "    </tr>\n",
              "    <tr>\n",
              "      <th>1996-01-04</th>\n",
              "      <td>15.766594</td>\n",
              "    </tr>\n",
              "    <tr>\n",
              "      <th>1996-01-05</th>\n",
              "      <td>15.658285</td>\n",
              "    </tr>\n",
              "    <tr>\n",
              "      <th>...</th>\n",
              "      <td>...</td>\n",
              "    </tr>\n",
              "    <tr>\n",
              "      <th>2022-01-19</th>\n",
              "      <td>2521.600098</td>\n",
              "    </tr>\n",
              "    <tr>\n",
              "      <th>2022-01-20</th>\n",
              "      <td>2477.449951</td>\n",
              "    </tr>\n",
              "    <tr>\n",
              "      <th>2022-01-21</th>\n",
              "      <td>2477.850098</td>\n",
              "    </tr>\n",
              "    <tr>\n",
              "      <th>2022-01-24</th>\n",
              "      <td>2377.899902</td>\n",
              "    </tr>\n",
              "    <tr>\n",
              "      <th>2022-01-25</th>\n",
              "      <td>2373.250000</td>\n",
              "    </tr>\n",
              "  </tbody>\n",
              "</table>\n",
              "<p>6569 rows × 1 columns</p>\n",
              "</div>\n",
              "      <button class=\"colab-df-convert\" onclick=\"convertToInteractive('df-43b9df25-809e-4091-8b48-4d986c1f225f')\"\n",
              "              title=\"Convert this dataframe to an interactive table.\"\n",
              "              style=\"display:none;\">\n",
              "        \n",
              "  <svg xmlns=\"http://www.w3.org/2000/svg\" height=\"24px\"viewBox=\"0 0 24 24\"\n",
              "       width=\"24px\">\n",
              "    <path d=\"M0 0h24v24H0V0z\" fill=\"none\"/>\n",
              "    <path d=\"M18.56 5.44l.94 2.06.94-2.06 2.06-.94-2.06-.94-.94-2.06-.94 2.06-2.06.94zm-11 1L8.5 8.5l.94-2.06 2.06-.94-2.06-.94L8.5 2.5l-.94 2.06-2.06.94zm10 10l.94 2.06.94-2.06 2.06-.94-2.06-.94-.94-2.06-.94 2.06-2.06.94z\"/><path d=\"M17.41 7.96l-1.37-1.37c-.4-.4-.92-.59-1.43-.59-.52 0-1.04.2-1.43.59L10.3 9.45l-7.72 7.72c-.78.78-.78 2.05 0 2.83L4 21.41c.39.39.9.59 1.41.59.51 0 1.02-.2 1.41-.59l7.78-7.78 2.81-2.81c.8-.78.8-2.07 0-2.86zM5.41 20L4 18.59l7.72-7.72 1.47 1.35L5.41 20z\"/>\n",
              "  </svg>\n",
              "      </button>\n",
              "      \n",
              "  <style>\n",
              "    .colab-df-container {\n",
              "      display:flex;\n",
              "      flex-wrap:wrap;\n",
              "      gap: 12px;\n",
              "    }\n",
              "\n",
              "    .colab-df-convert {\n",
              "      background-color: #E8F0FE;\n",
              "      border: none;\n",
              "      border-radius: 50%;\n",
              "      cursor: pointer;\n",
              "      display: none;\n",
              "      fill: #1967D2;\n",
              "      height: 32px;\n",
              "      padding: 0 0 0 0;\n",
              "      width: 32px;\n",
              "    }\n",
              "\n",
              "    .colab-df-convert:hover {\n",
              "      background-color: #E2EBFA;\n",
              "      box-shadow: 0px 1px 2px rgba(60, 64, 67, 0.3), 0px 1px 3px 1px rgba(60, 64, 67, 0.15);\n",
              "      fill: #174EA6;\n",
              "    }\n",
              "\n",
              "    [theme=dark] .colab-df-convert {\n",
              "      background-color: #3B4455;\n",
              "      fill: #D2E3FC;\n",
              "    }\n",
              "\n",
              "    [theme=dark] .colab-df-convert:hover {\n",
              "      background-color: #434B5C;\n",
              "      box-shadow: 0px 1px 3px 1px rgba(0, 0, 0, 0.15);\n",
              "      filter: drop-shadow(0px 1px 2px rgba(0, 0, 0, 0.3));\n",
              "      fill: #FFFFFF;\n",
              "    }\n",
              "  </style>\n",
              "\n",
              "      <script>\n",
              "        const buttonEl =\n",
              "          document.querySelector('#df-43b9df25-809e-4091-8b48-4d986c1f225f button.colab-df-convert');\n",
              "        buttonEl.style.display =\n",
              "          google.colab.kernel.accessAllowed ? 'block' : 'none';\n",
              "\n",
              "        async function convertToInteractive(key) {\n",
              "          const element = document.querySelector('#df-43b9df25-809e-4091-8b48-4d986c1f225f');\n",
              "          const dataTable =\n",
              "            await google.colab.kernel.invokeFunction('convertToInteractive',\n",
              "                                                     [key], {});\n",
              "          if (!dataTable) return;\n",
              "\n",
              "          const docLinkHtml = 'Like what you see? Visit the ' +\n",
              "            '<a target=\"_blank\" href=https://colab.research.google.com/notebooks/data_table.ipynb>data table notebook</a>'\n",
              "            + ' to learn more about interactive tables.';\n",
              "          element.innerHTML = '';\n",
              "          dataTable['output_type'] = 'display_data';\n",
              "          await google.colab.output.renderOutput(dataTable, element);\n",
              "          const docLink = document.createElement('div');\n",
              "          docLink.innerHTML = docLinkHtml;\n",
              "          element.appendChild(docLink);\n",
              "        }\n",
              "      </script>\n",
              "    </div>\n",
              "  </div>\n",
              "  "
            ]
          },
          "metadata": {},
          "execution_count": 28
        }
      ]
    },
    {
      "cell_type": "code",
      "source": [
        "df_predicted['predections']=test_predicted"
      ],
      "metadata": {
        "id": "kKXqj17Bqqsm"
      },
      "execution_count": null,
      "outputs": []
    },
    {
      "cell_type": "code",
      "source": [
        "from sklearn.metrics import mean_squared_error\n",
        "rmse =np.sqrt( mean_squared_error(df_predicted['Close'],df_predicted['predections']))\n",
        "rmse"
      ],
      "metadata": {
        "colab": {
          "base_uri": "https://localhost:8080/"
        },
        "id": "Xo6Y2FBpqvL9",
        "outputId": "f70ac6b7-bd25-4a94-cf7f-ada434db7454"
      },
      "execution_count": null,
      "outputs": [
        {
          "output_type": "execute_result",
          "data": {
            "text/plain": [
              "36.59276689582112"
            ]
          },
          "metadata": {},
          "execution_count": 30
        }
      ]
    },
    {
      "cell_type": "code",
      "execution_count": null,
      "metadata": {
        "id": "pGUNtnQR7zs3"
      },
      "outputs": [],
      "source": [
        "def MAPE(y_true, y_pred):\n",
        "    return np.mean((np.abs(y_true-y_pred))/(y_true))*100"
      ]
    },
    {
      "cell_type": "code",
      "source": [
        "mape=MAPE(df_predicted['Close'].values,df_predicted['predections'].values)\n",
        "print(mape)"
      ],
      "metadata": {
        "colab": {
          "base_uri": "https://localhost:8080/"
        },
        "id": "R0E9D3ijqyGt",
        "outputId": "fa0d9542-03fe-49ea-d591-86851d44a874"
      },
      "execution_count": null,
      "outputs": [
        {
          "output_type": "stream",
          "name": "stdout",
          "text": [
            "38.05897937903021\n"
          ]
        }
      ]
    },
    {
      "cell_type": "code",
      "source": [
        ""
      ],
      "metadata": {
        "id": "EDO-NqYgvOaJ"
      },
      "execution_count": null,
      "outputs": []
    }
  ]
}