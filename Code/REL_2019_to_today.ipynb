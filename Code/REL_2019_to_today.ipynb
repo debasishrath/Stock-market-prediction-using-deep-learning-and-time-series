{
  "nbformat": 4,
  "nbformat_minor": 0,
  "metadata": {
    "colab": {
      "name": "REL_2019_to_today.ipynb",
      "provenance": [],
      "collapsed_sections": []
    },
    "kernelspec": {
      "name": "python3",
      "display_name": "Python 3"
    },
    "language_info": {
      "name": "python"
    }
  },
  "cells": [
    {
      "cell_type": "code",
      "execution_count": null,
      "metadata": {
        "colab": {
          "base_uri": "https://localhost:8080/"
        },
        "id": "E297wBejuLXU",
        "outputId": "6ce261da-42cf-44f4-e602-0bb5a1032422"
      },
      "outputs": [
        {
          "output_type": "stream",
          "name": "stderr",
          "text": [
            "/usr/local/lib/python3.7/dist-packages/statsmodels/tools/_testing.py:19: FutureWarning: pandas.util.testing is deprecated. Use the functions in the public API at pandas.testing instead.\n",
            "  import pandas.util.testing as tm\n"
          ]
        }
      ],
      "source": [
        "\n",
        "import numpy as np # linear algebra\n",
        "import pandas as pd # data processing, CSV file I/O (e.g. pd.read_csv)\n",
        "\n",
        "import pandas                             as      pd\n",
        "import numpy                              as      np\n",
        "import matplotlib.pyplot                  as      plt\n",
        "import seaborn                            as      sns\n",
        "from   IPython.display                    import  display\n",
        "from   pylab                              import  rcParams \n",
        "from   datetime                           import  datetime, timedelta\n",
        "from statsmodels.tsa.stattools            import  adfuller\n",
        "from statsmodels.tsa.stattools            import  pacf\n",
        "from statsmodels.tsa.stattools            import  acf\n",
        "from statsmodels.graphics.tsaplots        import  plot_pacf\n",
        "from statsmodels.graphics.tsaplots        import  plot_acf\n",
        "from statsmodels.graphics.gofplots        import  qqplot\n",
        "from statsmodels.tsa.seasonal             import  seasonal_decompose\n",
        "from statsmodels.tsa.arima_model          import  ARIMA\n",
        "from statsmodels.tsa.statespace.sarimax   import  SARIMAX\n",
        "from   statsmodels.tsa.api             import ExponentialSmoothing, SimpleExpSmoothing, Holt\n",
        "\n",
        "import numpy                      as np\n",
        "import pandas                     as pd\n",
        "import matplotlib.pyplot          as plt\n",
        "import seaborn as sns\n",
        "import warnings\n",
        "from statsmodels.tsa.seasonal  import seasonal_decompose\n",
        "from   sklearn.metrics                 import  mean_squared_error\n",
        "from   statsmodels.tsa.api             import ExponentialSmoothing, SimpleExpSmoothing, Holt\n",
        "from   IPython.display                 import display\n",
        "from   pylab                           import rcParams\n",
        "from   datetime                        import  datetime,timedelta\n",
        "from math import sqrt\n",
        "import warnings\n",
        "warnings.filterwarnings('ignore')\n",
        "from statsmodels.tsa.stattools         import  adfuller\n",
        "from statsmodels.tsa.stattools         import  pacf\n",
        "from statsmodels.tsa.stattools         import  acf\n",
        "from statsmodels.graphics.tsaplots     import  plot_pacf\n",
        "from statsmodels.graphics.tsaplots     import  plot_acf\n",
        "from   IPython.display                 import  display\n",
        "from   pylab   import  rcParams \n",
        "import warnings\n",
        "import statsmodels.tools.eval_measures as      em\n",
        "from   sklearn.metrics                 import  mean_squared_error\n",
        "from   statsmodels.tsa.api             import ExponentialSmoothing, SimpleExpSmoothing, Holt\n",
        "from   IPython.display                 import display\n",
        "from   pylab                           import rcParams\n",
        "from   datetime                        import  datetime,timedelta\n",
        "from math import sqrt\n",
        "%matplotlib inline\n",
        "from   pylab                           import  rcParams \n",
        "from   datetime                        import  datetime, timedelta\n",
        "from statsmodels.graphics.gofplots     import qqplot\n",
        "from statsmodels.tsa.seasonal          import seasonal_decompose\n",
        "from statsmodels.tsa.arima_model       import  ARMA, ARIMA\n",
        "import warnings\n",
        "import statsmodels.api as sm\n",
        "import statsmodels.tsa.api as smt\n",
        "import statsmodels.formula.api as smf\n",
        "\n",
        "import matplotlib.pyplot as plt\n",
        "%matplotlib inline\n",
        "from   IPython.display                    import  display\n",
        "from   pylab                              import  rcParams \n",
        "from   datetime                           import  datetime, timedelta\n",
        "from statsmodels.tsa.stattools            import  adfuller\n",
        "from statsmodels.tsa.stattools            import  pacf\n",
        "from statsmodels.tsa.stattools            import  acf\n",
        "from statsmodels.graphics.tsaplots        import  plot_pacf\n",
        "from statsmodels.graphics.tsaplots        import  plot_acf\n",
        "from statsmodels.graphics.gofplots        import  qqplot\n",
        "from statsmodels.tsa.seasonal             import  seasonal_decompose\n",
        "from statsmodels.tsa.arima_model          import  ARIMA\n",
        "from statsmodels.tsa.statespace.sarimax   import  SARIMAX\n",
        "from sklearn                              import  metrics\n",
        "from statsmodels.tsa.vector_ar.vecm       import  coint_johansen\n",
        "from statsmodels.tsa.stattools            import  adfuller\n",
        "from statsmodels.tsa.stattools            import  pacf\n",
        "from statsmodels.tsa.stattools            import  acf\n",
        "from statsmodels.graphics.tsaplots        import  plot_pacf\n",
        "from statsmodels.graphics.tsaplots        import  plot_acf\n",
        "from statsmodels.tsa.api                  import  VAR\n",
        "from statsmodels.tsa.statespace.varmax    import  VARMAX\n",
        "\n",
        "## Read Data.\n",
        "\n",
        "import matplotlib as mpl\n",
        "import matplotlib.pyplot as plt\n",
        "import seaborn as sns\n",
        "from datetime import datetime\n",
        "mpl.rcParams['figure.figsize'] = (15, 7)\n",
        "mpl.rcParams['axes.grid'] = False\n",
        "\n",
        "mpl.rcParams['figure.figsize'] = (20, 7)\n",
        "mpl.rcParams['axes.grid'] = False\n",
        "\n",
        "import pandas as pd \n",
        "import matplotlib.pyplot as plt\n",
        "import numpy as np\n",
        "from sklearn.preprocessing import MinMaxScaler\n",
        "from keras.models import Sequential\n",
        "from keras.layers import Dense, Dropout, LSTM\n",
        "from sklearn.metrics import mean_squared_error\n",
        "from sklearn.preprocessing import StandardScaler\n",
        "from sklearn.model_selection import train_test_split\n",
        "from statsmodels.tsa.vector_ar.var_model import VAR\n",
        "\n",
        "import tensorflow as tf\n",
        "from tensorflow.keras.layers import *\n",
        "from tensorflow.keras.models import *\n",
        "from tensorflow.keras.callbacks import *\n",
        "from tensorflow.keras.optimizers import *"
      ]
    },
    {
      "cell_type": "code",
      "source": [
        "from google.colab import drive\n",
        "drive.mount('/content/drive')"
      ],
      "metadata": {
        "colab": {
          "base_uri": "https://localhost:8080/"
        },
        "id": "xqXYVZ2Qusu8",
        "outputId": "efe89046-f589-4835-d50e-88157d3846a5"
      },
      "execution_count": null,
      "outputs": [
        {
          "output_type": "stream",
          "name": "stdout",
          "text": [
            "Mounted at /content/drive\n"
          ]
        }
      ]
    },
    {
      "cell_type": "code",
      "source": [
        "from dateutil.parser import parse\n",
        "dateparse=lambda dates:parse(dates)"
      ],
      "metadata": {
        "id": "iYJVIOYXutd7"
      },
      "execution_count": null,
      "outputs": []
    },
    {
      "cell_type": "code",
      "source": [
        "df =pd.read_csv('/content/drive/MyDrive/M-tech Thesis/Reliance_2019.csv',usecols=['Date','Close'],parse_dates=['Date'],date_parser=dateparse)\n",
        "df.head()"
      ],
      "metadata": {
        "colab": {
          "base_uri": "https://localhost:8080/",
          "height": 206
        },
        "id": "lril25E7vFHK",
        "outputId": "6ec88b43-965a-4c41-feb2-d99b47de7e49"
      },
      "execution_count": null,
      "outputs": [
        {
          "output_type": "execute_result",
          "data": {
            "text/plain": [
              "        Date        Close\n",
              "0 2019-01-28  1218.004517\n",
              "1 2019-01-29  1199.281982\n",
              "2 2019-01-30  1184.472412\n",
              "3 2019-01-31  1215.627075\n",
              "4 2019-02-01  1238.213013"
            ],
            "text/html": [
              "\n",
              "  <div id=\"df-bc08b3a2-1957-4b42-b4c3-f2a6bac61611\">\n",
              "    <div class=\"colab-df-container\">\n",
              "      <div>\n",
              "<style scoped>\n",
              "    .dataframe tbody tr th:only-of-type {\n",
              "        vertical-align: middle;\n",
              "    }\n",
              "\n",
              "    .dataframe tbody tr th {\n",
              "        vertical-align: top;\n",
              "    }\n",
              "\n",
              "    .dataframe thead th {\n",
              "        text-align: right;\n",
              "    }\n",
              "</style>\n",
              "<table border=\"1\" class=\"dataframe\">\n",
              "  <thead>\n",
              "    <tr style=\"text-align: right;\">\n",
              "      <th></th>\n",
              "      <th>Date</th>\n",
              "      <th>Close</th>\n",
              "    </tr>\n",
              "  </thead>\n",
              "  <tbody>\n",
              "    <tr>\n",
              "      <th>0</th>\n",
              "      <td>2019-01-28</td>\n",
              "      <td>1218.004517</td>\n",
              "    </tr>\n",
              "    <tr>\n",
              "      <th>1</th>\n",
              "      <td>2019-01-29</td>\n",
              "      <td>1199.281982</td>\n",
              "    </tr>\n",
              "    <tr>\n",
              "      <th>2</th>\n",
              "      <td>2019-01-30</td>\n",
              "      <td>1184.472412</td>\n",
              "    </tr>\n",
              "    <tr>\n",
              "      <th>3</th>\n",
              "      <td>2019-01-31</td>\n",
              "      <td>1215.627075</td>\n",
              "    </tr>\n",
              "    <tr>\n",
              "      <th>4</th>\n",
              "      <td>2019-02-01</td>\n",
              "      <td>1238.213013</td>\n",
              "    </tr>\n",
              "  </tbody>\n",
              "</table>\n",
              "</div>\n",
              "      <button class=\"colab-df-convert\" onclick=\"convertToInteractive('df-bc08b3a2-1957-4b42-b4c3-f2a6bac61611')\"\n",
              "              title=\"Convert this dataframe to an interactive table.\"\n",
              "              style=\"display:none;\">\n",
              "        \n",
              "  <svg xmlns=\"http://www.w3.org/2000/svg\" height=\"24px\"viewBox=\"0 0 24 24\"\n",
              "       width=\"24px\">\n",
              "    <path d=\"M0 0h24v24H0V0z\" fill=\"none\"/>\n",
              "    <path d=\"M18.56 5.44l.94 2.06.94-2.06 2.06-.94-2.06-.94-.94-2.06-.94 2.06-2.06.94zm-11 1L8.5 8.5l.94-2.06 2.06-.94-2.06-.94L8.5 2.5l-.94 2.06-2.06.94zm10 10l.94 2.06.94-2.06 2.06-.94-2.06-.94-.94-2.06-.94 2.06-2.06.94z\"/><path d=\"M17.41 7.96l-1.37-1.37c-.4-.4-.92-.59-1.43-.59-.52 0-1.04.2-1.43.59L10.3 9.45l-7.72 7.72c-.78.78-.78 2.05 0 2.83L4 21.41c.39.39.9.59 1.41.59.51 0 1.02-.2 1.41-.59l7.78-7.78 2.81-2.81c.8-.78.8-2.07 0-2.86zM5.41 20L4 18.59l7.72-7.72 1.47 1.35L5.41 20z\"/>\n",
              "  </svg>\n",
              "      </button>\n",
              "      \n",
              "  <style>\n",
              "    .colab-df-container {\n",
              "      display:flex;\n",
              "      flex-wrap:wrap;\n",
              "      gap: 12px;\n",
              "    }\n",
              "\n",
              "    .colab-df-convert {\n",
              "      background-color: #E8F0FE;\n",
              "      border: none;\n",
              "      border-radius: 50%;\n",
              "      cursor: pointer;\n",
              "      display: none;\n",
              "      fill: #1967D2;\n",
              "      height: 32px;\n",
              "      padding: 0 0 0 0;\n",
              "      width: 32px;\n",
              "    }\n",
              "\n",
              "    .colab-df-convert:hover {\n",
              "      background-color: #E2EBFA;\n",
              "      box-shadow: 0px 1px 2px rgba(60, 64, 67, 0.3), 0px 1px 3px 1px rgba(60, 64, 67, 0.15);\n",
              "      fill: #174EA6;\n",
              "    }\n",
              "\n",
              "    [theme=dark] .colab-df-convert {\n",
              "      background-color: #3B4455;\n",
              "      fill: #D2E3FC;\n",
              "    }\n",
              "\n",
              "    [theme=dark] .colab-df-convert:hover {\n",
              "      background-color: #434B5C;\n",
              "      box-shadow: 0px 1px 3px 1px rgba(0, 0, 0, 0.15);\n",
              "      filter: drop-shadow(0px 1px 2px rgba(0, 0, 0, 0.3));\n",
              "      fill: #FFFFFF;\n",
              "    }\n",
              "  </style>\n",
              "\n",
              "      <script>\n",
              "        const buttonEl =\n",
              "          document.querySelector('#df-bc08b3a2-1957-4b42-b4c3-f2a6bac61611 button.colab-df-convert');\n",
              "        buttonEl.style.display =\n",
              "          google.colab.kernel.accessAllowed ? 'block' : 'none';\n",
              "\n",
              "        async function convertToInteractive(key) {\n",
              "          const element = document.querySelector('#df-bc08b3a2-1957-4b42-b4c3-f2a6bac61611');\n",
              "          const dataTable =\n",
              "            await google.colab.kernel.invokeFunction('convertToInteractive',\n",
              "                                                     [key], {});\n",
              "          if (!dataTable) return;\n",
              "\n",
              "          const docLinkHtml = 'Like what you see? Visit the ' +\n",
              "            '<a target=\"_blank\" href=https://colab.research.google.com/notebooks/data_table.ipynb>data table notebook</a>'\n",
              "            + ' to learn more about interactive tables.';\n",
              "          element.innerHTML = '';\n",
              "          dataTable['output_type'] = 'display_data';\n",
              "          await google.colab.output.renderOutput(dataTable, element);\n",
              "          const docLink = document.createElement('div');\n",
              "          docLink.innerHTML = docLinkHtml;\n",
              "          element.appendChild(docLink);\n",
              "        }\n",
              "      </script>\n",
              "    </div>\n",
              "  </div>\n",
              "  "
            ]
          },
          "metadata": {},
          "execution_count": 4
        }
      ]
    },
    {
      "cell_type": "code",
      "source": [
        "df.tail()"
      ],
      "metadata": {
        "colab": {
          "base_uri": "https://localhost:8080/",
          "height": 206
        },
        "id": "xXLIv3EIvJHf",
        "outputId": "0565bdd8-2537-4b51-e519-0239fce226ed"
      },
      "execution_count": null,
      "outputs": [
        {
          "output_type": "execute_result",
          "data": {
            "text/plain": [
              "          Date        Close\n",
              "775 2022-03-21  2467.399902\n",
              "776 2022-03-22  2531.149902\n",
              "777 2022-03-23  2539.199951\n",
              "778 2022-03-24  2578.649902\n",
              "779 2022-03-25  2595.850098"
            ],
            "text/html": [
              "\n",
              "  <div id=\"df-79ecd182-4c1b-4dd6-8a3d-965e80323d15\">\n",
              "    <div class=\"colab-df-container\">\n",
              "      <div>\n",
              "<style scoped>\n",
              "    .dataframe tbody tr th:only-of-type {\n",
              "        vertical-align: middle;\n",
              "    }\n",
              "\n",
              "    .dataframe tbody tr th {\n",
              "        vertical-align: top;\n",
              "    }\n",
              "\n",
              "    .dataframe thead th {\n",
              "        text-align: right;\n",
              "    }\n",
              "</style>\n",
              "<table border=\"1\" class=\"dataframe\">\n",
              "  <thead>\n",
              "    <tr style=\"text-align: right;\">\n",
              "      <th></th>\n",
              "      <th>Date</th>\n",
              "      <th>Close</th>\n",
              "    </tr>\n",
              "  </thead>\n",
              "  <tbody>\n",
              "    <tr>\n",
              "      <th>775</th>\n",
              "      <td>2022-03-21</td>\n",
              "      <td>2467.399902</td>\n",
              "    </tr>\n",
              "    <tr>\n",
              "      <th>776</th>\n",
              "      <td>2022-03-22</td>\n",
              "      <td>2531.149902</td>\n",
              "    </tr>\n",
              "    <tr>\n",
              "      <th>777</th>\n",
              "      <td>2022-03-23</td>\n",
              "      <td>2539.199951</td>\n",
              "    </tr>\n",
              "    <tr>\n",
              "      <th>778</th>\n",
              "      <td>2022-03-24</td>\n",
              "      <td>2578.649902</td>\n",
              "    </tr>\n",
              "    <tr>\n",
              "      <th>779</th>\n",
              "      <td>2022-03-25</td>\n",
              "      <td>2595.850098</td>\n",
              "    </tr>\n",
              "  </tbody>\n",
              "</table>\n",
              "</div>\n",
              "      <button class=\"colab-df-convert\" onclick=\"convertToInteractive('df-79ecd182-4c1b-4dd6-8a3d-965e80323d15')\"\n",
              "              title=\"Convert this dataframe to an interactive table.\"\n",
              "              style=\"display:none;\">\n",
              "        \n",
              "  <svg xmlns=\"http://www.w3.org/2000/svg\" height=\"24px\"viewBox=\"0 0 24 24\"\n",
              "       width=\"24px\">\n",
              "    <path d=\"M0 0h24v24H0V0z\" fill=\"none\"/>\n",
              "    <path d=\"M18.56 5.44l.94 2.06.94-2.06 2.06-.94-2.06-.94-.94-2.06-.94 2.06-2.06.94zm-11 1L8.5 8.5l.94-2.06 2.06-.94-2.06-.94L8.5 2.5l-.94 2.06-2.06.94zm10 10l.94 2.06.94-2.06 2.06-.94-2.06-.94-.94-2.06-.94 2.06-2.06.94z\"/><path d=\"M17.41 7.96l-1.37-1.37c-.4-.4-.92-.59-1.43-.59-.52 0-1.04.2-1.43.59L10.3 9.45l-7.72 7.72c-.78.78-.78 2.05 0 2.83L4 21.41c.39.39.9.59 1.41.59.51 0 1.02-.2 1.41-.59l7.78-7.78 2.81-2.81c.8-.78.8-2.07 0-2.86zM5.41 20L4 18.59l7.72-7.72 1.47 1.35L5.41 20z\"/>\n",
              "  </svg>\n",
              "      </button>\n",
              "      \n",
              "  <style>\n",
              "    .colab-df-container {\n",
              "      display:flex;\n",
              "      flex-wrap:wrap;\n",
              "      gap: 12px;\n",
              "    }\n",
              "\n",
              "    .colab-df-convert {\n",
              "      background-color: #E8F0FE;\n",
              "      border: none;\n",
              "      border-radius: 50%;\n",
              "      cursor: pointer;\n",
              "      display: none;\n",
              "      fill: #1967D2;\n",
              "      height: 32px;\n",
              "      padding: 0 0 0 0;\n",
              "      width: 32px;\n",
              "    }\n",
              "\n",
              "    .colab-df-convert:hover {\n",
              "      background-color: #E2EBFA;\n",
              "      box-shadow: 0px 1px 2px rgba(60, 64, 67, 0.3), 0px 1px 3px 1px rgba(60, 64, 67, 0.15);\n",
              "      fill: #174EA6;\n",
              "    }\n",
              "\n",
              "    [theme=dark] .colab-df-convert {\n",
              "      background-color: #3B4455;\n",
              "      fill: #D2E3FC;\n",
              "    }\n",
              "\n",
              "    [theme=dark] .colab-df-convert:hover {\n",
              "      background-color: #434B5C;\n",
              "      box-shadow: 0px 1px 3px 1px rgba(0, 0, 0, 0.15);\n",
              "      filter: drop-shadow(0px 1px 2px rgba(0, 0, 0, 0.3));\n",
              "      fill: #FFFFFF;\n",
              "    }\n",
              "  </style>\n",
              "\n",
              "      <script>\n",
              "        const buttonEl =\n",
              "          document.querySelector('#df-79ecd182-4c1b-4dd6-8a3d-965e80323d15 button.colab-df-convert');\n",
              "        buttonEl.style.display =\n",
              "          google.colab.kernel.accessAllowed ? 'block' : 'none';\n",
              "\n",
              "        async function convertToInteractive(key) {\n",
              "          const element = document.querySelector('#df-79ecd182-4c1b-4dd6-8a3d-965e80323d15');\n",
              "          const dataTable =\n",
              "            await google.colab.kernel.invokeFunction('convertToInteractive',\n",
              "                                                     [key], {});\n",
              "          if (!dataTable) return;\n",
              "\n",
              "          const docLinkHtml = 'Like what you see? Visit the ' +\n",
              "            '<a target=\"_blank\" href=https://colab.research.google.com/notebooks/data_table.ipynb>data table notebook</a>'\n",
              "            + ' to learn more about interactive tables.';\n",
              "          element.innerHTML = '';\n",
              "          dataTable['output_type'] = 'display_data';\n",
              "          await google.colab.output.renderOutput(dataTable, element);\n",
              "          const docLink = document.createElement('div');\n",
              "          docLink.innerHTML = docLinkHtml;\n",
              "          element.appendChild(docLink);\n",
              "        }\n",
              "      </script>\n",
              "    </div>\n",
              "  </div>\n",
              "  "
            ]
          },
          "metadata": {},
          "execution_count": 5
        }
      ]
    },
    {
      "cell_type": "code",
      "source": [
        ""
      ],
      "metadata": {
        "id": "ygH625rBvJEp"
      },
      "execution_count": null,
      "outputs": []
    },
    {
      "cell_type": "code",
      "execution_count": null,
      "metadata": {
        "id": "1IdT1x4c5FcO"
      },
      "outputs": [],
      "source": [
        "from pandas.tseries.offsets import BDay"
      ]
    },
    {
      "cell_type": "code",
      "execution_count": null,
      "metadata": {
        "colab": {
          "base_uri": "https://localhost:8080/"
        },
        "id": "PoQJCNjG5FcP",
        "outputId": "3ef37a1f-54a2-448d-8ea4-9eeed66bf7f8"
      },
      "outputs": [
        {
          "output_type": "execute_result",
          "data": {
            "text/plain": [
              "DatetimeIndex(['2019-01-28', '2019-01-29', '2019-01-30', '2019-01-31',\n",
              "               '2019-02-01', '2019-02-04', '2019-02-05', '2019-02-06',\n",
              "               '2019-02-07', '2019-02-08',\n",
              "               ...\n",
              "               '2022-03-14', '2022-03-15', '2022-03-16', '2022-03-17',\n",
              "               '2022-03-18', '2022-03-21', '2022-03-22', '2022-03-23',\n",
              "               '2022-03-24', '2022-03-25'],\n",
              "              dtype='datetime64[ns]', length=825, freq='B')"
            ]
          },
          "metadata": {},
          "execution_count": 7
        }
      ],
      "source": [
        "date= pd.date_range(start='28/01/2019', end ='25/03/2022',freq=BDay())\n",
        "date"
      ]
    },
    {
      "cell_type": "code",
      "execution_count": null,
      "metadata": {
        "colab": {
          "base_uri": "https://localhost:8080/"
        },
        "id": "lv8wwHvi5FcP",
        "outputId": "6d975f73-e6cb-4e9a-8d38-789b67714752"
      },
      "outputs": [
        {
          "output_type": "execute_result",
          "data": {
            "text/plain": [
              "780"
            ]
          },
          "metadata": {},
          "execution_count": 8
        }
      ],
      "source": [
        "len(df)"
      ]
    },
    {
      "cell_type": "code",
      "execution_count": null,
      "metadata": {
        "colab": {
          "base_uri": "https://localhost:8080/"
        },
        "id": "HcUYpJIb5FcQ",
        "outputId": "e606e2d0-48f6-4e92-8f0a-04e26954be0c"
      },
      "outputs": [
        {
          "output_type": "execute_result",
          "data": {
            "text/plain": [
              "825"
            ]
          },
          "metadata": {},
          "execution_count": 9
        }
      ],
      "source": [
        "len(date)"
      ]
    },
    {
      "cell_type": "code",
      "execution_count": null,
      "metadata": {
        "colab": {
          "base_uri": "https://localhost:8080/",
          "height": 238
        },
        "id": "zt9y-wSu5FcR",
        "outputId": "50300cc7-5d71-487a-91a7-730fb06c0fb3"
      },
      "outputs": [
        {
          "output_type": "execute_result",
          "data": {
            "text/plain": [
              "                  Close\n",
              "Time_Stamp             \n",
              "2019-01-28  1218.004517\n",
              "2019-01-29  1199.281982\n",
              "2019-01-30  1184.472412\n",
              "2019-01-31  1215.627075\n",
              "2019-02-01  1238.213013"
            ],
            "text/html": [
              "\n",
              "  <div id=\"df-e47e9a56-2119-4938-aacd-10956728fdfb\">\n",
              "    <div class=\"colab-df-container\">\n",
              "      <div>\n",
              "<style scoped>\n",
              "    .dataframe tbody tr th:only-of-type {\n",
              "        vertical-align: middle;\n",
              "    }\n",
              "\n",
              "    .dataframe tbody tr th {\n",
              "        vertical-align: top;\n",
              "    }\n",
              "\n",
              "    .dataframe thead th {\n",
              "        text-align: right;\n",
              "    }\n",
              "</style>\n",
              "<table border=\"1\" class=\"dataframe\">\n",
              "  <thead>\n",
              "    <tr style=\"text-align: right;\">\n",
              "      <th></th>\n",
              "      <th>Close</th>\n",
              "    </tr>\n",
              "    <tr>\n",
              "      <th>Time_Stamp</th>\n",
              "      <th></th>\n",
              "    </tr>\n",
              "  </thead>\n",
              "  <tbody>\n",
              "    <tr>\n",
              "      <th>2019-01-28</th>\n",
              "      <td>1218.004517</td>\n",
              "    </tr>\n",
              "    <tr>\n",
              "      <th>2019-01-29</th>\n",
              "      <td>1199.281982</td>\n",
              "    </tr>\n",
              "    <tr>\n",
              "      <th>2019-01-30</th>\n",
              "      <td>1184.472412</td>\n",
              "    </tr>\n",
              "    <tr>\n",
              "      <th>2019-01-31</th>\n",
              "      <td>1215.627075</td>\n",
              "    </tr>\n",
              "    <tr>\n",
              "      <th>2019-02-01</th>\n",
              "      <td>1238.213013</td>\n",
              "    </tr>\n",
              "  </tbody>\n",
              "</table>\n",
              "</div>\n",
              "      <button class=\"colab-df-convert\" onclick=\"convertToInteractive('df-e47e9a56-2119-4938-aacd-10956728fdfb')\"\n",
              "              title=\"Convert this dataframe to an interactive table.\"\n",
              "              style=\"display:none;\">\n",
              "        \n",
              "  <svg xmlns=\"http://www.w3.org/2000/svg\" height=\"24px\"viewBox=\"0 0 24 24\"\n",
              "       width=\"24px\">\n",
              "    <path d=\"M0 0h24v24H0V0z\" fill=\"none\"/>\n",
              "    <path d=\"M18.56 5.44l.94 2.06.94-2.06 2.06-.94-2.06-.94-.94-2.06-.94 2.06-2.06.94zm-11 1L8.5 8.5l.94-2.06 2.06-.94-2.06-.94L8.5 2.5l-.94 2.06-2.06.94zm10 10l.94 2.06.94-2.06 2.06-.94-2.06-.94-.94-2.06-.94 2.06-2.06.94z\"/><path d=\"M17.41 7.96l-1.37-1.37c-.4-.4-.92-.59-1.43-.59-.52 0-1.04.2-1.43.59L10.3 9.45l-7.72 7.72c-.78.78-.78 2.05 0 2.83L4 21.41c.39.39.9.59 1.41.59.51 0 1.02-.2 1.41-.59l7.78-7.78 2.81-2.81c.8-.78.8-2.07 0-2.86zM5.41 20L4 18.59l7.72-7.72 1.47 1.35L5.41 20z\"/>\n",
              "  </svg>\n",
              "      </button>\n",
              "      \n",
              "  <style>\n",
              "    .colab-df-container {\n",
              "      display:flex;\n",
              "      flex-wrap:wrap;\n",
              "      gap: 12px;\n",
              "    }\n",
              "\n",
              "    .colab-df-convert {\n",
              "      background-color: #E8F0FE;\n",
              "      border: none;\n",
              "      border-radius: 50%;\n",
              "      cursor: pointer;\n",
              "      display: none;\n",
              "      fill: #1967D2;\n",
              "      height: 32px;\n",
              "      padding: 0 0 0 0;\n",
              "      width: 32px;\n",
              "    }\n",
              "\n",
              "    .colab-df-convert:hover {\n",
              "      background-color: #E2EBFA;\n",
              "      box-shadow: 0px 1px 2px rgba(60, 64, 67, 0.3), 0px 1px 3px 1px rgba(60, 64, 67, 0.15);\n",
              "      fill: #174EA6;\n",
              "    }\n",
              "\n",
              "    [theme=dark] .colab-df-convert {\n",
              "      background-color: #3B4455;\n",
              "      fill: #D2E3FC;\n",
              "    }\n",
              "\n",
              "    [theme=dark] .colab-df-convert:hover {\n",
              "      background-color: #434B5C;\n",
              "      box-shadow: 0px 1px 3px 1px rgba(0, 0, 0, 0.15);\n",
              "      filter: drop-shadow(0px 1px 2px rgba(0, 0, 0, 0.3));\n",
              "      fill: #FFFFFF;\n",
              "    }\n",
              "  </style>\n",
              "\n",
              "      <script>\n",
              "        const buttonEl =\n",
              "          document.querySelector('#df-e47e9a56-2119-4938-aacd-10956728fdfb button.colab-df-convert');\n",
              "        buttonEl.style.display =\n",
              "          google.colab.kernel.accessAllowed ? 'block' : 'none';\n",
              "\n",
              "        async function convertToInteractive(key) {\n",
              "          const element = document.querySelector('#df-e47e9a56-2119-4938-aacd-10956728fdfb');\n",
              "          const dataTable =\n",
              "            await google.colab.kernel.invokeFunction('convertToInteractive',\n",
              "                                                     [key], {});\n",
              "          if (!dataTable) return;\n",
              "\n",
              "          const docLinkHtml = 'Like what you see? Visit the ' +\n",
              "            '<a target=\"_blank\" href=https://colab.research.google.com/notebooks/data_table.ipynb>data table notebook</a>'\n",
              "            + ' to learn more about interactive tables.';\n",
              "          element.innerHTML = '';\n",
              "          dataTable['output_type'] = 'display_data';\n",
              "          await google.colab.output.renderOutput(dataTable, element);\n",
              "          const docLink = document.createElement('div');\n",
              "          docLink.innerHTML = docLinkHtml;\n",
              "          element.appendChild(docLink);\n",
              "        }\n",
              "      </script>\n",
              "    </div>\n",
              "  </div>\n",
              "  "
            ]
          },
          "metadata": {},
          "execution_count": 10
        }
      ],
      "source": [
        "df['Time_Stamp']=pd.DataFrame(date)\n",
        "df.drop('Date',axis=1,inplace=True)\n",
        "df=df.set_index('Time_Stamp')\n",
        "df.head()"
      ]
    },
    {
      "cell_type": "code",
      "execution_count": null,
      "metadata": {
        "colab": {
          "base_uri": "https://localhost:8080/",
          "height": 238
        },
        "id": "Ob48ciGN5FcR",
        "outputId": "2d9beaca-01b0-43a8-8eab-7071c86f6a25"
      },
      "outputs": [
        {
          "output_type": "execute_result",
          "data": {
            "text/plain": [
              "                  Close\n",
              "Time_Stamp             \n",
              "2022-01-17  2467.399902\n",
              "2022-01-18  2531.149902\n",
              "2022-01-19  2539.199951\n",
              "2022-01-20  2578.649902\n",
              "2022-01-21  2595.850098"
            ],
            "text/html": [
              "\n",
              "  <div id=\"df-d6693c84-42b1-4df8-a9c6-caaa9c0ea758\">\n",
              "    <div class=\"colab-df-container\">\n",
              "      <div>\n",
              "<style scoped>\n",
              "    .dataframe tbody tr th:only-of-type {\n",
              "        vertical-align: middle;\n",
              "    }\n",
              "\n",
              "    .dataframe tbody tr th {\n",
              "        vertical-align: top;\n",
              "    }\n",
              "\n",
              "    .dataframe thead th {\n",
              "        text-align: right;\n",
              "    }\n",
              "</style>\n",
              "<table border=\"1\" class=\"dataframe\">\n",
              "  <thead>\n",
              "    <tr style=\"text-align: right;\">\n",
              "      <th></th>\n",
              "      <th>Close</th>\n",
              "    </tr>\n",
              "    <tr>\n",
              "      <th>Time_Stamp</th>\n",
              "      <th></th>\n",
              "    </tr>\n",
              "  </thead>\n",
              "  <tbody>\n",
              "    <tr>\n",
              "      <th>2022-01-17</th>\n",
              "      <td>2467.399902</td>\n",
              "    </tr>\n",
              "    <tr>\n",
              "      <th>2022-01-18</th>\n",
              "      <td>2531.149902</td>\n",
              "    </tr>\n",
              "    <tr>\n",
              "      <th>2022-01-19</th>\n",
              "      <td>2539.199951</td>\n",
              "    </tr>\n",
              "    <tr>\n",
              "      <th>2022-01-20</th>\n",
              "      <td>2578.649902</td>\n",
              "    </tr>\n",
              "    <tr>\n",
              "      <th>2022-01-21</th>\n",
              "      <td>2595.850098</td>\n",
              "    </tr>\n",
              "  </tbody>\n",
              "</table>\n",
              "</div>\n",
              "      <button class=\"colab-df-convert\" onclick=\"convertToInteractive('df-d6693c84-42b1-4df8-a9c6-caaa9c0ea758')\"\n",
              "              title=\"Convert this dataframe to an interactive table.\"\n",
              "              style=\"display:none;\">\n",
              "        \n",
              "  <svg xmlns=\"http://www.w3.org/2000/svg\" height=\"24px\"viewBox=\"0 0 24 24\"\n",
              "       width=\"24px\">\n",
              "    <path d=\"M0 0h24v24H0V0z\" fill=\"none\"/>\n",
              "    <path d=\"M18.56 5.44l.94 2.06.94-2.06 2.06-.94-2.06-.94-.94-2.06-.94 2.06-2.06.94zm-11 1L8.5 8.5l.94-2.06 2.06-.94-2.06-.94L8.5 2.5l-.94 2.06-2.06.94zm10 10l.94 2.06.94-2.06 2.06-.94-2.06-.94-.94-2.06-.94 2.06-2.06.94z\"/><path d=\"M17.41 7.96l-1.37-1.37c-.4-.4-.92-.59-1.43-.59-.52 0-1.04.2-1.43.59L10.3 9.45l-7.72 7.72c-.78.78-.78 2.05 0 2.83L4 21.41c.39.39.9.59 1.41.59.51 0 1.02-.2 1.41-.59l7.78-7.78 2.81-2.81c.8-.78.8-2.07 0-2.86zM5.41 20L4 18.59l7.72-7.72 1.47 1.35L5.41 20z\"/>\n",
              "  </svg>\n",
              "      </button>\n",
              "      \n",
              "  <style>\n",
              "    .colab-df-container {\n",
              "      display:flex;\n",
              "      flex-wrap:wrap;\n",
              "      gap: 12px;\n",
              "    }\n",
              "\n",
              "    .colab-df-convert {\n",
              "      background-color: #E8F0FE;\n",
              "      border: none;\n",
              "      border-radius: 50%;\n",
              "      cursor: pointer;\n",
              "      display: none;\n",
              "      fill: #1967D2;\n",
              "      height: 32px;\n",
              "      padding: 0 0 0 0;\n",
              "      width: 32px;\n",
              "    }\n",
              "\n",
              "    .colab-df-convert:hover {\n",
              "      background-color: #E2EBFA;\n",
              "      box-shadow: 0px 1px 2px rgba(60, 64, 67, 0.3), 0px 1px 3px 1px rgba(60, 64, 67, 0.15);\n",
              "      fill: #174EA6;\n",
              "    }\n",
              "\n",
              "    [theme=dark] .colab-df-convert {\n",
              "      background-color: #3B4455;\n",
              "      fill: #D2E3FC;\n",
              "    }\n",
              "\n",
              "    [theme=dark] .colab-df-convert:hover {\n",
              "      background-color: #434B5C;\n",
              "      box-shadow: 0px 1px 3px 1px rgba(0, 0, 0, 0.15);\n",
              "      filter: drop-shadow(0px 1px 2px rgba(0, 0, 0, 0.3));\n",
              "      fill: #FFFFFF;\n",
              "    }\n",
              "  </style>\n",
              "\n",
              "      <script>\n",
              "        const buttonEl =\n",
              "          document.querySelector('#df-d6693c84-42b1-4df8-a9c6-caaa9c0ea758 button.colab-df-convert');\n",
              "        buttonEl.style.display =\n",
              "          google.colab.kernel.accessAllowed ? 'block' : 'none';\n",
              "\n",
              "        async function convertToInteractive(key) {\n",
              "          const element = document.querySelector('#df-d6693c84-42b1-4df8-a9c6-caaa9c0ea758');\n",
              "          const dataTable =\n",
              "            await google.colab.kernel.invokeFunction('convertToInteractive',\n",
              "                                                     [key], {});\n",
              "          if (!dataTable) return;\n",
              "\n",
              "          const docLinkHtml = 'Like what you see? Visit the ' +\n",
              "            '<a target=\"_blank\" href=https://colab.research.google.com/notebooks/data_table.ipynb>data table notebook</a>'\n",
              "            + ' to learn more about interactive tables.';\n",
              "          element.innerHTML = '';\n",
              "          dataTable['output_type'] = 'display_data';\n",
              "          await google.colab.output.renderOutput(dataTable, element);\n",
              "          const docLink = document.createElement('div');\n",
              "          docLink.innerHTML = docLinkHtml;\n",
              "          element.appendChild(docLink);\n",
              "        }\n",
              "      </script>\n",
              "    </div>\n",
              "  </div>\n",
              "  "
            ]
          },
          "metadata": {},
          "execution_count": 11
        }
      ],
      "source": [
        "df.tail()"
      ]
    },
    {
      "cell_type": "code",
      "execution_count": null,
      "metadata": {
        "colab": {
          "base_uri": "https://localhost:8080/",
          "height": 281
        },
        "id": "itxKhkAJ5FcS",
        "outputId": "62273327-1296-4e58-9ff7-37440b808c58"
      },
      "outputs": [
        {
          "output_type": "display_data",
          "data": {
            "text/plain": [
              "<Figure size 432x288 with 1 Axes>"
            ],
            "image/png": "[encoded data removed]"
          },
          "metadata": {
            "needs_background": "light"
          }
        }
      ],
      "source": [
        "rolling_mean=df.rolling(window=12).mean()\n",
        "rolling_std=df.rolling(window=12).std()\n",
        "plt.plot(df,color='blue',label='Original')\n",
        "plt.plot(rolling_mean,color='red',label='Rolling mean')\n",
        "plt.plot(rolling_std,color='black',label='Rolling_std' )\n",
        "plt.legend(loc='best')\n",
        "plt.title('Rolling mean and rolling std ')\n",
        "plt.show()"
      ]
    },
    {
      "cell_type": "markdown",
      "metadata": {
        "id": "APcfNObX5FcS"
      },
      "source": [
        "#### fill the missing values using interpolation"
      ]
    },
    {
      "cell_type": "code",
      "execution_count": null,
      "metadata": {
        "colab": {
          "base_uri": "https://localhost:8080/"
        },
        "id": "phgmXWwb5FcU",
        "outputId": "de991edf-4875-4733-8f0f-edc1057b7183"
      },
      "outputs": [
        {
          "output_type": "execute_result",
          "data": {
            "text/plain": [
              "Close    0\n",
              "dtype: int64"
            ]
          },
          "metadata": {},
          "execution_count": 13
        }
      ],
      "source": [
        "df.isnull().sum()"
      ]
    },
    {
      "cell_type": "code",
      "execution_count": null,
      "metadata": {
        "colab": {
          "base_uri": "https://localhost:8080/",
          "height": 300
        },
        "id": "LdPLb_qX5FcW",
        "outputId": "2b243c2e-2b8f-426f-af23-fec80bb37c54"
      },
      "outputs": [
        {
          "output_type": "display_data",
          "data": {
            "text/plain": [
              "<Figure size 432x288 with 4 Axes>"
            ],
            "image/png": "[encoded data removed]"
          },
          "metadata": {
            "needs_background": "light"
          }
        }
      ],
      "source": [
        "decomposition= seasonal_decompose(df,model='additive')\n",
        "decomposition.plot();"
      ]
    },
    {
      "cell_type": "code",
      "execution_count": null,
      "metadata": {
        "id": "dBuF4F9e5FcW",
        "colab": {
          "base_uri": "https://localhost:8080/",
          "height": 298
        },
        "outputId": "69b04c22-1538-4f2f-ae4b-9b20e1a6520f"
      },
      "outputs": [
        {
          "output_type": "display_data",
          "data": {
            "text/plain": [
              "<Figure size 432x288 with 4 Axes>"
            ],
            "image/png": "[encoded data removed]"
          },
          "metadata": {
            "needs_background": "light"
          }
        }
      ],
      "source": [
        "decomposition= seasonal_decompose(df,model='multiplicative')\n",
        "decomposition.plot();"
      ]
    },
    {
      "cell_type": "code",
      "execution_count": null,
      "metadata": {
        "id": "NVt8IC1W5FcW",
        "colab": {
          "base_uri": "https://localhost:8080/"
        },
        "outputId": "657e7491-efb9-491b-b52a-cdcedc1f5802"
      },
      "outputs": [
        {
          "output_type": "stream",
          "name": "stdout",
          "text": [
            "ADF Statistics : -0.8057192496369115\n",
            "P value : 0.8174363057505543\n",
            "Critical values: \n",
            "\t1%: -3.4387723094153286\n",
            "\t5%: -2.8652573313919625\n",
            "\t10%: -2.5687494684274794\n"
          ]
        }
      ],
      "source": [
        "result=adfuller(df['Close'])\n",
        "print('ADF Statistics : {}'.format(result[0]))\n",
        "print('P value : {}'.format(result[1]))\n",
        "print('Critical values: ')\n",
        "for key ,value in result[4].items():\n",
        "    print('\\t{}: {}'.format(key,value))"
      ]
    },
    {
      "cell_type": "code",
      "execution_count": null,
      "metadata": {
        "id": "_-8vPSoP5FcX",
        "colab": {
          "base_uri": "https://localhost:8080/"
        },
        "outputId": "102693b6-2eb2-456b-cbc5-0019fc867a64"
      },
      "outputs": [
        {
          "output_type": "stream",
          "name": "stdout",
          "text": [
            "ADF Statistics : -27.812262485181428\n",
            "P value : 0.0\n",
            "Critical values: \n",
            "\t1%: -3.438783171038672\n",
            "\t5%: -2.865262118650577\n",
            "\t10%: -2.568752018688748\n"
          ]
        }
      ],
      "source": [
        "df_diff=df.diff(periods=1).dropna()\n",
        "result=adfuller(df_diff['Close'])\n",
        "print('ADF Statistics : {}'.format(result[0]))\n",
        "print('P value : {}'.format(result[1]))\n",
        "print('Critical values: ')\n",
        "for key ,value in result[4].items():\n",
        "    print('\\t{}: {}'.format(key,value))"
      ]
    },
    {
      "cell_type": "code",
      "execution_count": null,
      "metadata": {
        "id": "46Y_uUT35FcX",
        "colab": {
          "base_uri": "https://localhost:8080/",
          "height": 281
        },
        "outputId": "07810d55-9da0-427d-d041-f93f2f8eae6c"
      },
      "outputs": [
        {
          "output_type": "display_data",
          "data": {
            "text/plain": [
              "<Figure size 432x288 with 1 Axes>"
            ],
            "image/png": "[encoded data removed]"
          },
          "metadata": {
            "needs_background": "light"
          }
        }
      ],
      "source": [
        "plot_acf(df_diff,lags=30);"
      ]
    },
    {
      "cell_type": "code",
      "source": [
        "plot_acf(df,lags=30);"
      ],
      "metadata": {
        "colab": {
          "base_uri": "https://localhost:8080/",
          "height": 281
        },
        "id": "WS02qhNgvJBp",
        "outputId": "fe4b84ea-ca9f-41f4-dd07-6c1ff81c73b3"
      },
      "execution_count": null,
      "outputs": [
        {
          "output_type": "display_data",
          "data": {
            "text/plain": [
              "<Figure size 432x288 with 1 Axes>"
            ],
            "image/png": "[encoded data removed]"
          },
          "metadata": {
            "needs_background": "light"
          }
        }
      ]
    },
    {
      "cell_type": "code",
      "source": [
        "plot_pacf(df_diff,lags=60);"
      ],
      "metadata": {
        "colab": {
          "base_uri": "https://localhost:8080/",
          "height": 281
        },
        "id": "3uNZqf_xvI-o",
        "outputId": "852bf852-1511-4492-dd21-f9f1444fee32"
      },
      "execution_count": null,
      "outputs": [
        {
          "output_type": "display_data",
          "data": {
            "text/plain": [
              "<Figure size 432x288 with 1 Axes>"
            ],
            "image/png": "[encoded data removed]"
          },
          "metadata": {
            "needs_background": "light"
          }
        }
      ]
    },
    {
      "cell_type": "code",
      "source": [
        "plot_pacf(df,lags=30);"
      ],
      "metadata": {
        "colab": {
          "base_uri": "https://localhost:8080/",
          "height": 281
        },
        "id": "s8DAjtmXvI7t",
        "outputId": "2e338f57-12a9-4750-a4fb-5d78c6ce57d4"
      },
      "execution_count": null,
      "outputs": [
        {
          "output_type": "display_data",
          "data": {
            "text/plain": [
              "<Figure size 432x288 with 1 Axes>"
            ],
            "image/png": "[encoded data removed]"
          },
          "metadata": {
            "needs_background": "light"
          }
        }
      ]
    },
    {
      "cell_type": "code",
      "source": [
        "train_end=datetime(2021,10,31)\n",
        "test_end=datetime(2022,3,25)"
      ],
      "metadata": {
        "id": "aBLtD_vTvI4Z"
      },
      "execution_count": null,
      "outputs": []
    },
    {
      "cell_type": "code",
      "source": [
        "train=df[:train_end]\n",
        "test=df[train_end+timedelta(days=1):test_end]"
      ],
      "metadata": {
        "id": "eYopZptBvI1i"
      },
      "execution_count": null,
      "outputs": []
    },
    {
      "cell_type": "code",
      "source": [
        "train.shape"
      ],
      "metadata": {
        "colab": {
          "base_uri": "https://localhost:8080/"
        },
        "id": "HCTnTAPqvIya",
        "outputId": "fd8b4e3f-0b80-4dc7-cc72-b732dd6de7fd"
      },
      "execution_count": null,
      "outputs": [
        {
          "output_type": "execute_result",
          "data": {
            "text/plain": [
              "(720, 1)"
            ]
          },
          "metadata": {},
          "execution_count": 28
        }
      ]
    },
    {
      "cell_type": "code",
      "source": [
        "test.shape"
      ],
      "metadata": {
        "colab": {
          "base_uri": "https://localhost:8080/"
        },
        "id": "utSt93OTvIvs",
        "outputId": "bd725a92-5ff1-482e-f47b-b6fbde1c56d4"
      },
      "execution_count": null,
      "outputs": [
        {
          "output_type": "execute_result",
          "data": {
            "text/plain": [
              "(60, 1)"
            ]
          },
          "metadata": {},
          "execution_count": 29
        }
      ]
    },
    {
      "cell_type": "code",
      "source": [
        "import itertools\n",
        "p = q = range(0, 3)\n",
        "d= range(1,2)\n",
        "pdq = list(itertools.product(p, d, q))\n",
        "\n",
        "model_pdq = [(x[0], x[1], x[2], 12) for x in list(itertools.product(p, d, q))]\n",
        "print('Examples of parameter combinations for Model...')\n",
        "print('Model: {}{}'.format(pdq[1], model_pdq[1]))\n",
        "print('Model: {}{}'.format(pdq[1], model_pdq[2]))\n",
        "print('Model: {}{}'.format(pdq[2], model_pdq[3]))\n",
        "print('Model: {}{}'.format(pdq[2], model_pdq[4]))"
      ],
      "metadata": {
        "colab": {
          "base_uri": "https://localhost:8080/"
        },
        "id": "c52_1WCIvIso",
        "outputId": "a2f8af6d-fcc8-4f4b-bdf3-dbcfe7d8215a"
      },
      "execution_count": null,
      "outputs": [
        {
          "output_type": "stream",
          "name": "stdout",
          "text": [
            "Examples of parameter combinations for Model...\n",
            "Model: (0, 1, 1)(0, 1, 1, 12)\n",
            "Model: (0, 1, 1)(0, 1, 2, 12)\n",
            "Model: (0, 1, 2)(1, 1, 0, 12)\n",
            "Model: (0, 1, 2)(1, 1, 1, 12)\n"
          ]
        }
      ]
    },
    {
      "cell_type": "code",
      "source": [
        "dfObj2 = pd.DataFrame(columns=['param','seasonal', 'AIC'])\n",
        "dfObj2"
      ],
      "metadata": {
        "colab": {
          "base_uri": "https://localhost:8080/",
          "height": 50
        },
        "id": "Lr3-CqTevIp3",
        "outputId": "65d5b2a1-05c7-43a6-8586-0d4e9ed8cce2"
      },
      "execution_count": null,
      "outputs": [
        {
          "output_type": "execute_result",
          "data": {
            "text/plain": [
              "Empty DataFrame\n",
              "Columns: [param, seasonal, AIC]\n",
              "Index: []"
            ],
            "text/html": [
              "\n",
              "  <div id=\"df-68034803-12c9-414a-a93a-8e1df7474623\">\n",
              "    <div class=\"colab-df-container\">\n",
              "      <div>\n",
              "<style scoped>\n",
              "    .dataframe tbody tr th:only-of-type {\n",
              "        vertical-align: middle;\n",
              "    }\n",
              "\n",
              "    .dataframe tbody tr th {\n",
              "        vertical-align: top;\n",
              "    }\n",
              "\n",
              "    .dataframe thead th {\n",
              "        text-align: right;\n",
              "    }\n",
              "</style>\n",
              "<table border=\"1\" class=\"dataframe\">\n",
              "  <thead>\n",
              "    <tr style=\"text-align: right;\">\n",
              "      <th></th>\n",
              "      <th>param</th>\n",
              "      <th>seasonal</th>\n",
              "      <th>AIC</th>\n",
              "    </tr>\n",
              "  </thead>\n",
              "  <tbody>\n",
              "  </tbody>\n",
              "</table>\n",
              "</div>\n",
              "      <button class=\"colab-df-convert\" onclick=\"convertToInteractive('df-68034803-12c9-414a-a93a-8e1df7474623')\"\n",
              "              title=\"Convert this dataframe to an interactive table.\"\n",
              "              style=\"display:none;\">\n",
              "        \n",
              "  <svg xmlns=\"http://www.w3.org/2000/svg\" height=\"24px\"viewBox=\"0 0 24 24\"\n",
              "       width=\"24px\">\n",
              "    <path d=\"M0 0h24v24H0V0z\" fill=\"none\"/>\n",
              "    <path d=\"M18.56 5.44l.94 2.06.94-2.06 2.06-.94-2.06-.94-.94-2.06-.94 2.06-2.06.94zm-11 1L8.5 8.5l.94-2.06 2.06-.94-2.06-.94L8.5 2.5l-.94 2.06-2.06.94zm10 10l.94 2.06.94-2.06 2.06-.94-2.06-.94-.94-2.06-.94 2.06-2.06.94z\"/><path d=\"M17.41 7.96l-1.37-1.37c-.4-.4-.92-.59-1.43-.59-.52 0-1.04.2-1.43.59L10.3 9.45l-7.72 7.72c-.78.78-.78 2.05 0 2.83L4 21.41c.39.39.9.59 1.41.59.51 0 1.02-.2 1.41-.59l7.78-7.78 2.81-2.81c.8-.78.8-2.07 0-2.86zM5.41 20L4 18.59l7.72-7.72 1.47 1.35L5.41 20z\"/>\n",
              "  </svg>\n",
              "      </button>\n",
              "      \n",
              "  <style>\n",
              "    .colab-df-container {\n",
              "      display:flex;\n",
              "      flex-wrap:wrap;\n",
              "      gap: 12px;\n",
              "    }\n",
              "\n",
              "    .colab-df-convert {\n",
              "      background-color: #E8F0FE;\n",
              "      border: none;\n",
              "      border-radius: 50%;\n",
              "      cursor: pointer;\n",
              "      display: none;\n",
              "      fill: #1967D2;\n",
              "      height: 32px;\n",
              "      padding: 0 0 0 0;\n",
              "      width: 32px;\n",
              "    }\n",
              "\n",
              "    .colab-df-convert:hover {\n",
              "      background-color: #E2EBFA;\n",
              "      box-shadow: 0px 1px 2px rgba(60, 64, 67, 0.3), 0px 1px 3px 1px rgba(60, 64, 67, 0.15);\n",
              "      fill: #174EA6;\n",
              "    }\n",
              "\n",
              "    [theme=dark] .colab-df-convert {\n",
              "      background-color: #3B4455;\n",
              "      fill: #D2E3FC;\n",
              "    }\n",
              "\n",
              "    [theme=dark] .colab-df-convert:hover {\n",
              "      background-color: #434B5C;\n",
              "      box-shadow: 0px 1px 3px 1px rgba(0, 0, 0, 0.15);\n",
              "      filter: drop-shadow(0px 1px 2px rgba(0, 0, 0, 0.3));\n",
              "      fill: #FFFFFF;\n",
              "    }\n",
              "  </style>\n",
              "\n",
              "      <script>\n",
              "        const buttonEl =\n",
              "          document.querySelector('#df-68034803-12c9-414a-a93a-8e1df7474623 button.colab-df-convert');\n",
              "        buttonEl.style.display =\n",
              "          google.colab.kernel.accessAllowed ? 'block' : 'none';\n",
              "\n",
              "        async function convertToInteractive(key) {\n",
              "          const element = document.querySelector('#df-68034803-12c9-414a-a93a-8e1df7474623');\n",
              "          const dataTable =\n",
              "            await google.colab.kernel.invokeFunction('convertToInteractive',\n",
              "                                                     [key], {});\n",
              "          if (!dataTable) return;\n",
              "\n",
              "          const docLinkHtml = 'Like what you see? Visit the ' +\n",
              "            '<a target=\"_blank\" href=https://colab.research.google.com/notebooks/data_table.ipynb>data table notebook</a>'\n",
              "            + ' to learn more about interactive tables.';\n",
              "          element.innerHTML = '';\n",
              "          dataTable['output_type'] = 'display_data';\n",
              "          await google.colab.output.renderOutput(dataTable, element);\n",
              "          const docLink = document.createElement('div');\n",
              "          docLink.innerHTML = docLinkHtml;\n",
              "          element.appendChild(docLink);\n",
              "        }\n",
              "      </script>\n",
              "    </div>\n",
              "  </div>\n",
              "  "
            ]
          },
          "metadata": {},
          "execution_count": 31
        }
      ]
    },
    {
      "cell_type": "code",
      "source": [
        "import statsmodels.api as sm\n",
        "for param in pdq:\n",
        "    for param_seasonal in model_pdq:\n",
        "        mod = sm.tsa.statespace.SARIMAX(train,\n",
        "                                            order=param,\n",
        "                                            seasonal_order=param_seasonal,\n",
        "                                            enforce_stationarity=False,\n",
        "                                            enforce_invertibility=False)\n",
        "            \n",
        "        results_SARIMA = mod.fit()\n",
        "        print('SARIMA{}x{}12 - AIC:{}'.format(param, param_seasonal, results_SARIMA.aic))\n",
        "        dfObj2 = dfObj2.append({'param':param,'seasonal':param_seasonal ,'AIC': results_SARIMA.aic}, ignore_index=True)"
      ],
      "metadata": {
        "colab": {
          "base_uri": "https://localhost:8080/"
        },
        "id": "k98lwU0zvIm8",
        "outputId": "fa9d000e-2e09-452e-9bb3-7e9f71fef7f3"
      },
      "execution_count": null,
      "outputs": [
        {
          "output_type": "stream",
          "name": "stdout",
          "text": [
            "SARIMA(0, 1, 0)x(0, 1, 0, 12)12 - AIC:7480.946153845491\n",
            "SARIMA(0, 1, 0)x(0, 1, 1, 12)12 - AIC:6953.067013106368\n",
            "SARIMA(0, 1, 0)x(0, 1, 2, 12)12 - AIC:6840.912169016627\n",
            "SARIMA(0, 1, 0)x(1, 1, 0, 12)12 - AIC:7192.726212573987\n",
            "SARIMA(0, 1, 0)x(1, 1, 1, 12)12 - AIC:6954.92162705509\n",
            "SARIMA(0, 1, 0)x(1, 1, 2, 12)12 - AIC:6841.178151299204\n",
            "SARIMA(0, 1, 0)x(2, 1, 0, 12)12 - AIC:7005.934642348497\n",
            "SARIMA(0, 1, 0)x(2, 1, 1, 12)12 - AIC:6854.443417846076\n",
            "SARIMA(0, 1, 0)x(2, 1, 2, 12)12 - AIC:6843.171964811629\n",
            "SARIMA(0, 1, 1)x(0, 1, 0, 12)12 - AIC:7473.310533939678\n",
            "SARIMA(0, 1, 1)x(0, 1, 1, 12)12 - AIC:6946.308347718164\n",
            "SARIMA(0, 1, 1)x(0, 1, 2, 12)12 - AIC:6832.277828003318\n",
            "SARIMA(0, 1, 1)x(1, 1, 0, 12)12 - AIC:7194.705352170004\n",
            "SARIMA(0, 1, 1)x(1, 1, 1, 12)12 - AIC:6948.12317189317\n",
            "SARIMA(0, 1, 1)x(1, 1, 2, 12)12 - AIC:6832.530413891999\n",
            "SARIMA(0, 1, 1)x(2, 1, 0, 12)12 - AIC:7007.860389057641\n",
            "SARIMA(0, 1, 1)x(2, 1, 1, 12)12 - AIC:6856.331811369988\n",
            "SARIMA(0, 1, 1)x(2, 1, 2, 12)12 - AIC:6834.524733261278\n",
            "SARIMA(0, 1, 2)x(0, 1, 0, 12)12 - AIC:7465.005726214411\n",
            "SARIMA(0, 1, 2)x(0, 1, 1, 12)12 - AIC:6938.572048912625\n",
            "SARIMA(0, 1, 2)x(0, 1, 2, 12)12 - AIC:6825.543448864639\n",
            "SARIMA(0, 1, 2)x(1, 1, 0, 12)12 - AIC:7196.692026622518\n",
            "SARIMA(0, 1, 2)x(1, 1, 1, 12)12 - AIC:6940.437014837695\n",
            "SARIMA(0, 1, 2)x(1, 1, 2, 12)12 - AIC:6825.295599690481\n",
            "SARIMA(0, 1, 2)x(2, 1, 0, 12)12 - AIC:7009.860364100141\n",
            "SARIMA(0, 1, 2)x(2, 1, 1, 12)12 - AIC:6858.068489875541\n",
            "SARIMA(0, 1, 2)x(2, 1, 2, 12)12 - AIC:6827.288608024046\n",
            "SARIMA(1, 1, 0)x(0, 1, 0, 12)12 - AIC:7482.9410902174195\n",
            "SARIMA(1, 1, 0)x(0, 1, 1, 12)12 - AIC:6955.047896978438\n",
            "SARIMA(1, 1, 0)x(0, 1, 2, 12)12 - AIC:6842.791590823822\n",
            "SARIMA(1, 1, 0)x(1, 1, 0, 12)12 - AIC:7184.990092311904\n",
            "SARIMA(1, 1, 0)x(1, 1, 1, 12)12 - AIC:6956.905685288068\n",
            "SARIMA(1, 1, 0)x(1, 1, 2, 12)12 - AIC:6843.076142386051\n",
            "SARIMA(1, 1, 0)x(2, 1, 0, 12)12 - AIC:6998.182830926837\n",
            "SARIMA(1, 1, 0)x(2, 1, 1, 12)12 - AIC:6845.03056333661\n",
            "SARIMA(1, 1, 0)x(2, 1, 2, 12)12 - AIC:6845.070957894032\n",
            "SARIMA(1, 1, 1)x(0, 1, 0, 12)12 - AIC:7452.849175554805\n",
            "SARIMA(1, 1, 1)x(0, 1, 1, 12)12 - AIC:6947.292138618994\n",
            "SARIMA(1, 1, 1)x(0, 1, 2, 12)12 - AIC:6834.1942739731185\n",
            "SARIMA(1, 1, 1)x(1, 1, 0, 12)12 - AIC:7177.433543163121\n",
            "SARIMA(1, 1, 1)x(1, 1, 1, 12)12 - AIC:6954.181443291327\n",
            "SARIMA(1, 1, 1)x(1, 1, 2, 12)12 - AIC:6834.105594165853\n",
            "SARIMA(1, 1, 1)x(2, 1, 0, 12)12 - AIC:7000.252902967001\n",
            "SARIMA(1, 1, 1)x(2, 1, 1, 12)12 - AIC:6852.167558199132\n",
            "SARIMA(1, 1, 1)x(2, 1, 2, 12)12 - AIC:6836.890996641592\n",
            "SARIMA(1, 1, 2)x(0, 1, 0, 12)12 - AIC:7442.8394441740265\n",
            "SARIMA(1, 1, 2)x(0, 1, 1, 12)12 - AIC:6939.943808471081\n",
            "SARIMA(1, 1, 2)x(0, 1, 2, 12)12 - AIC:6827.348024755158\n",
            "SARIMA(1, 1, 2)x(1, 1, 0, 12)12 - AIC:7188.817282556022\n",
            "SARIMA(1, 1, 2)x(1, 1, 1, 12)12 - AIC:6941.8342403013485\n",
            "SARIMA(1, 1, 2)x(1, 1, 2, 12)12 - AIC:6827.066372129504\n",
            "SARIMA(1, 1, 2)x(2, 1, 0, 12)12 - AIC:7001.942390336348\n",
            "SARIMA(1, 1, 2)x(2, 1, 1, 12)12 - AIC:6848.1485570832465\n",
            "SARIMA(1, 1, 2)x(2, 1, 2, 12)12 - AIC:6829.056164879312\n",
            "SARIMA(2, 1, 0)x(0, 1, 0, 12)12 - AIC:7475.125217496586\n",
            "SARIMA(2, 1, 0)x(0, 1, 1, 12)12 - AIC:6956.986019688121\n",
            "SARIMA(2, 1, 0)x(0, 1, 2, 12)12 - AIC:6844.543845361\n",
            "SARIMA(2, 1, 0)x(1, 1, 0, 12)12 - AIC:7177.298063472286\n",
            "SARIMA(2, 1, 0)x(1, 1, 1, 12)12 - AIC:6949.857299483205\n",
            "SARIMA(2, 1, 0)x(1, 1, 2, 12)12 - AIC:6844.822133692331\n",
            "SARIMA(2, 1, 0)x(2, 1, 0, 12)12 - AIC:6989.211101051274\n",
            "SARIMA(2, 1, 0)x(2, 1, 1, 12)12 - AIC:6836.240837539504\n",
            "SARIMA(2, 1, 0)x(2, 1, 2, 12)12 - AIC:6836.171797547118\n",
            "SARIMA(2, 1, 1)x(0, 1, 0, 12)12 - AIC:7453.329244072674\n",
            "SARIMA(2, 1, 1)x(0, 1, 1, 12)12 - AIC:6949.250889133883\n",
            "SARIMA(2, 1, 1)x(0, 1, 2, 12)12 - AIC:6835.773367581539\n",
            "SARIMA(2, 1, 1)x(1, 1, 0, 12)12 - AIC:7179.115880072284\n",
            "SARIMA(2, 1, 1)x(1, 1, 1, 12)12 - AIC:6955.513527401443\n",
            "SARIMA(2, 1, 1)x(1, 1, 2, 12)12 - AIC:6835.704963726627\n",
            "SARIMA(2, 1, 1)x(2, 1, 0, 12)12 - AIC:6991.015535087299\n",
            "SARIMA(2, 1, 1)x(2, 1, 1, 12)12 - AIC:6839.064914205133\n",
            "SARIMA(2, 1, 1)x(2, 1, 2, 12)12 - AIC:6837.683900275774\n",
            "SARIMA(2, 1, 2)x(0, 1, 0, 12)12 - AIC:7454.829268458061\n",
            "SARIMA(2, 1, 2)x(0, 1, 1, 12)12 - AIC:6939.373129035678\n",
            "SARIMA(2, 1, 2)x(0, 1, 2, 12)12 - AIC:6826.049063151684\n",
            "SARIMA(2, 1, 2)x(1, 1, 0, 12)12 - AIC:7152.557115657134\n",
            "SARIMA(2, 1, 2)x(1, 1, 1, 12)12 - AIC:6935.291841298895\n",
            "SARIMA(2, 1, 2)x(1, 1, 2, 12)12 - AIC:6823.564679307823\n",
            "SARIMA(2, 1, 2)x(2, 1, 0, 12)12 - AIC:6987.669583191429\n",
            "SARIMA(2, 1, 2)x(2, 1, 1, 12)12 - AIC:6832.327492412078\n",
            "SARIMA(2, 1, 2)x(2, 1, 2, 12)12 - AIC:6829.550904945217\n"
          ]
        }
      ]
    },
    {
      "cell_type": "code",
      "source": [
        "dfObj2.sort_values(by=['AIC'])"
      ],
      "metadata": {
        "colab": {
          "base_uri": "https://localhost:8080/",
          "height": 423
        },
        "id": "_eqzbCYNvIj8",
        "outputId": "fcd2b34a-0f76-49a9-f7fd-e85c80822b30"
      },
      "execution_count": null,
      "outputs": [
        {
          "output_type": "execute_result",
          "data": {
            "text/plain": [
              "        param       seasonal          AIC\n",
              "77  (2, 1, 2)  (1, 1, 2, 12)  6823.564679\n",
              "23  (0, 1, 2)  (1, 1, 2, 12)  6825.295600\n",
              "20  (0, 1, 2)  (0, 1, 2, 12)  6825.543449\n",
              "74  (2, 1, 2)  (0, 1, 2, 12)  6826.049063\n",
              "50  (1, 1, 2)  (1, 1, 2, 12)  6827.066372\n",
              "..        ...            ...          ...\n",
              "18  (0, 1, 2)  (0, 1, 0, 12)  7465.005726\n",
              "9   (0, 1, 1)  (0, 1, 0, 12)  7473.310534\n",
              "54  (2, 1, 0)  (0, 1, 0, 12)  7475.125217\n",
              "0   (0, 1, 0)  (0, 1, 0, 12)  7480.946154\n",
              "27  (1, 1, 0)  (0, 1, 0, 12)  7482.941090\n",
              "\n",
              "[81 rows x 3 columns]"
            ],
            "text/html": [
              "\n",
              "  <div id=\"df-ef500af8-6e7b-4621-9122-a6d9b260de8a\">\n",
              "    <div class=\"colab-df-container\">\n",
              "      <div>\n",
              "<style scoped>\n",
              "    .dataframe tbody tr th:only-of-type {\n",
              "        vertical-align: middle;\n",
              "    }\n",
              "\n",
              "    .dataframe tbody tr th {\n",
              "        vertical-align: top;\n",
              "    }\n",
              "\n",
              "    .dataframe thead th {\n",
              "        text-align: right;\n",
              "    }\n",
              "</style>\n",
              "<table border=\"1\" class=\"dataframe\">\n",
              "  <thead>\n",
              "    <tr style=\"text-align: right;\">\n",
              "      <th></th>\n",
              "      <th>param</th>\n",
              "      <th>seasonal</th>\n",
              "      <th>AIC</th>\n",
              "    </tr>\n",
              "  </thead>\n",
              "  <tbody>\n",
              "    <tr>\n",
              "      <th>77</th>\n",
              "      <td>(2, 1, 2)</td>\n",
              "      <td>(1, 1, 2, 12)</td>\n",
              "      <td>6823.564679</td>\n",
              "    </tr>\n",
              "    <tr>\n",
              "      <th>23</th>\n",
              "      <td>(0, 1, 2)</td>\n",
              "      <td>(1, 1, 2, 12)</td>\n",
              "      <td>6825.295600</td>\n",
              "    </tr>\n",
              "    <tr>\n",
              "      <th>20</th>\n",
              "      <td>(0, 1, 2)</td>\n",
              "      <td>(0, 1, 2, 12)</td>\n",
              "      <td>6825.543449</td>\n",
              "    </tr>\n",
              "    <tr>\n",
              "      <th>74</th>\n",
              "      <td>(2, 1, 2)</td>\n",
              "      <td>(0, 1, 2, 12)</td>\n",
              "      <td>6826.049063</td>\n",
              "    </tr>\n",
              "    <tr>\n",
              "      <th>50</th>\n",
              "      <td>(1, 1, 2)</td>\n",
              "      <td>(1, 1, 2, 12)</td>\n",
              "      <td>6827.066372</td>\n",
              "    </tr>\n",
              "    <tr>\n",
              "      <th>...</th>\n",
              "      <td>...</td>\n",
              "      <td>...</td>\n",
              "      <td>...</td>\n",
              "    </tr>\n",
              "    <tr>\n",
              "      <th>18</th>\n",
              "      <td>(0, 1, 2)</td>\n",
              "      <td>(0, 1, 0, 12)</td>\n",
              "      <td>7465.005726</td>\n",
              "    </tr>\n",
              "    <tr>\n",
              "      <th>9</th>\n",
              "      <td>(0, 1, 1)</td>\n",
              "      <td>(0, 1, 0, 12)</td>\n",
              "      <td>7473.310534</td>\n",
              "    </tr>\n",
              "    <tr>\n",
              "      <th>54</th>\n",
              "      <td>(2, 1, 0)</td>\n",
              "      <td>(0, 1, 0, 12)</td>\n",
              "      <td>7475.125217</td>\n",
              "    </tr>\n",
              "    <tr>\n",
              "      <th>0</th>\n",
              "      <td>(0, 1, 0)</td>\n",
              "      <td>(0, 1, 0, 12)</td>\n",
              "      <td>7480.946154</td>\n",
              "    </tr>\n",
              "    <tr>\n",
              "      <th>27</th>\n",
              "      <td>(1, 1, 0)</td>\n",
              "      <td>(0, 1, 0, 12)</td>\n",
              "      <td>7482.941090</td>\n",
              "    </tr>\n",
              "  </tbody>\n",
              "</table>\n",
              "<p>81 rows × 3 columns</p>\n",
              "</div>\n",
              "      <button class=\"colab-df-convert\" onclick=\"convertToInteractive('df-ef500af8-6e7b-4621-9122-a6d9b260de8a')\"\n",
              "              title=\"Convert this dataframe to an interactive table.\"\n",
              "              style=\"display:none;\">\n",
              "        \n",
              "  <svg xmlns=\"http://www.w3.org/2000/svg\" height=\"24px\"viewBox=\"0 0 24 24\"\n",
              "       width=\"24px\">\n",
              "    <path d=\"M0 0h24v24H0V0z\" fill=\"none\"/>\n",
              "    <path d=\"M18.56 5.44l.94 2.06.94-2.06 2.06-.94-2.06-.94-.94-2.06-.94 2.06-2.06.94zm-11 1L8.5 8.5l.94-2.06 2.06-.94-2.06-.94L8.5 2.5l-.94 2.06-2.06.94zm10 10l.94 2.06.94-2.06 2.06-.94-2.06-.94-.94-2.06-.94 2.06-2.06.94z\"/><path d=\"M17.41 7.96l-1.37-1.37c-.4-.4-.92-.59-1.43-.59-.52 0-1.04.2-1.43.59L10.3 9.45l-7.72 7.72c-.78.78-.78 2.05 0 2.83L4 21.41c.39.39.9.59 1.41.59.51 0 1.02-.2 1.41-.59l7.78-7.78 2.81-2.81c.8-.78.8-2.07 0-2.86zM5.41 20L4 18.59l7.72-7.72 1.47 1.35L5.41 20z\"/>\n",
              "  </svg>\n",
              "      </button>\n",
              "      \n",
              "  <style>\n",
              "    .colab-df-container {\n",
              "      display:flex;\n",
              "      flex-wrap:wrap;\n",
              "      gap: 12px;\n",
              "    }\n",
              "\n",
              "    .colab-df-convert {\n",
              "      background-color: #E8F0FE;\n",
              "      border: none;\n",
              "      border-radius: 50%;\n",
              "      cursor: pointer;\n",
              "      display: none;\n",
              "      fill: #1967D2;\n",
              "      height: 32px;\n",
              "      padding: 0 0 0 0;\n",
              "      width: 32px;\n",
              "    }\n",
              "\n",
              "    .colab-df-convert:hover {\n",
              "      background-color: #E2EBFA;\n",
              "      box-shadow: 0px 1px 2px rgba(60, 64, 67, 0.3), 0px 1px 3px 1px rgba(60, 64, 67, 0.15);\n",
              "      fill: #174EA6;\n",
              "    }\n",
              "\n",
              "    [theme=dark] .colab-df-convert {\n",
              "      background-color: #3B4455;\n",
              "      fill: #D2E3FC;\n",
              "    }\n",
              "\n",
              "    [theme=dark] .colab-df-convert:hover {\n",
              "      background-color: #434B5C;\n",
              "      box-shadow: 0px 1px 3px 1px rgba(0, 0, 0, 0.15);\n",
              "      filter: drop-shadow(0px 1px 2px rgba(0, 0, 0, 0.3));\n",
              "      fill: #FFFFFF;\n",
              "    }\n",
              "  </style>\n",
              "\n",
              "      <script>\n",
              "        const buttonEl =\n",
              "          document.querySelector('#df-ef500af8-6e7b-4621-9122-a6d9b260de8a button.colab-df-convert');\n",
              "        buttonEl.style.display =\n",
              "          google.colab.kernel.accessAllowed ? 'block' : 'none';\n",
              "\n",
              "        async function convertToInteractive(key) {\n",
              "          const element = document.querySelector('#df-ef500af8-6e7b-4621-9122-a6d9b260de8a');\n",
              "          const dataTable =\n",
              "            await google.colab.kernel.invokeFunction('convertToInteractive',\n",
              "                                                     [key], {});\n",
              "          if (!dataTable) return;\n",
              "\n",
              "          const docLinkHtml = 'Like what you see? Visit the ' +\n",
              "            '<a target=\"_blank\" href=https://colab.research.google.com/notebooks/data_table.ipynb>data table notebook</a>'\n",
              "            + ' to learn more about interactive tables.';\n",
              "          element.innerHTML = '';\n",
              "          dataTable['output_type'] = 'display_data';\n",
              "          await google.colab.output.renderOutput(dataTable, element);\n",
              "          const docLink = document.createElement('div');\n",
              "          docLink.innerHTML = docLinkHtml;\n",
              "          element.appendChild(docLink);\n",
              "        }\n",
              "      </script>\n",
              "    </div>\n",
              "  </div>\n",
              "  "
            ]
          },
          "metadata": {},
          "execution_count": 33
        }
      ]
    },
    {
      "cell_type": "code",
      "source": [
        "model = sm.tsa.statespace.SARIMAX(df,\n",
        "                                order=(2,1,2),\n",
        "                                seasonal_order=(0,1,2,12),\n",
        "                                enforce_stationarity=False,\n",
        "                                enforce_invertibility=False)\n",
        "model_Sarima = model.fit()\n",
        "print(model_Sarima.summary())"
      ],
      "metadata": {
        "colab": {
          "base_uri": "https://localhost:8080/"
        },
        "id": "iFdNZAA9vIg-",
        "outputId": "1e14bd4f-1d58-4aff-e22c-dcb2b900a8a9"
      },
      "execution_count": null,
      "outputs": [
        {
          "output_type": "stream",
          "name": "stdout",
          "text": [
            "                                 Statespace Model Results                                 \n",
            "==========================================================================================\n",
            "Dep. Variable:                              Close   No. Observations:                  780\n",
            "Model:             SARIMAX(2, 1, 2)x(0, 1, 2, 12)   Log Likelihood               -3719.564\n",
            "Date:                            Mon, 28 Mar 2022   AIC                           7453.128\n",
            "Time:                                    04:38:49   BIC                           7485.375\n",
            "Sample:                                01-28-2019   HQIC                          7465.561\n",
            "                                     - 01-21-2022                                         \n",
            "Covariance Type:                              opg                                         \n",
            "==============================================================================\n",
            "                 coef    std err          z      P>|z|      [0.025      0.975]\n",
            "------------------------------------------------------------------------------\n",
            "ar.L1         -1.2740      0.378     -3.371      0.001      -2.015      -0.533\n",
            "ar.L2         -0.7796      0.267     -2.919      0.004      -1.303      -0.256\n",
            "ma.L1          1.2614      0.369      3.420      0.001       0.539       1.984\n",
            "ma.L2          0.7870      0.259      3.039      0.002       0.279       1.295\n",
            "ma.S.L12      -0.9680      0.255     -3.803      0.000      -1.467      -0.469\n",
            "ma.S.L24      -0.0298      0.039     -0.762      0.446      -0.106       0.047\n",
            "sigma2      1291.8026    333.978      3.868      0.000     637.217    1946.388\n",
            "===================================================================================\n",
            "Ljung-Box (Q):                       25.31   Jarque-Bera (JB):               249.92\n",
            "Prob(Q):                              0.97   Prob(JB):                         0.00\n",
            "Heteroskedasticity (H):               1.55   Skew:                             0.07\n",
            "Prob(H) (two-sided):                  0.00   Kurtosis:                         5.84\n",
            "===================================================================================\n",
            "\n",
            "Warnings:\n",
            "[1] Covariance matrix calculated using the outer product of gradients (complex-step).\n"
          ]
        }
      ]
    },
    {
      "cell_type": "code",
      "source": [
        "pred_start=test.index[0]\n",
        "pred_end=test.index[-1]"
      ],
      "metadata": {
        "id": "dd5fxBrBvIeE"
      },
      "execution_count": null,
      "outputs": []
    },
    {
      "cell_type": "code",
      "source": [
        "SARIMA_predictions=model_Sarima.predict(start=pred_start, end=pred_end)"
      ],
      "metadata": {
        "id": "cJcYUUYbvIa9"
      },
      "execution_count": null,
      "outputs": []
    },
    {
      "cell_type": "code",
      "source": [
        "rcParams['figure.figsize'] = 25,8\n",
        "plt.plot(train,label='Training Data')\n",
        "plt.plot(test,label='Test Data')\n",
        "plt.plot(test.index,SARIMA_predictions,label='Predicted Data - SARIMA')\n",
        "plt.legend(loc='best')\n",
        "plt.grid();"
      ],
      "metadata": {
        "colab": {
          "base_uri": "https://localhost:8080/",
          "height": 474
        },
        "id": "os4-rQoYvIYE",
        "outputId": "0bf61d60-4cf9-4c51-b6de-79651f78910d"
      },
      "execution_count": null,
      "outputs": [
        {
          "output_type": "display_data",
          "data": {
            "text/plain": [
              "<Figure size 1800x576 with 1 Axes>"
            ],
            "image/png": "[encoded data removed]"
          },
          "metadata": {
            "needs_background": "light"
          }
        }
      ]
    },
    {
      "cell_type": "code",
      "source": [
        "def MAPE(y_true, y_pred):\n",
        "    return np.mean((np.abs(y_true-y_pred))/(y_true))*100\n"
      ],
      "metadata": {
        "id": "5v1e8oOX0-40"
      },
      "execution_count": null,
      "outputs": []
    },
    {
      "cell_type": "code",
      "source": [
        "mape = MAPE(test['Close'].values,SARIMA_predictions.values)\n",
        "print(mape)"
      ],
      "metadata": {
        "colab": {
          "base_uri": "https://localhost:8080/"
        },
        "id": "TMFIaS8QvIVB",
        "outputId": "150e9f6a-f6e4-4036-c9f2-4a57a5e8b269"
      },
      "execution_count": null,
      "outputs": [
        {
          "output_type": "stream",
          "name": "stdout",
          "text": [
            "1.3480013116497078\n"
          ]
        }
      ]
    },
    {
      "cell_type": "code",
      "source": [
        "forecast = model_Sarima.forecast(steps=len(test))\n",
        "\n",
        "pred95 = model_Sarima.get_forecast(steps=len(test))\n",
        "\n",
        "pred95=pred95.conf_int()\n",
        "\n",
        "pred95"
      ],
      "metadata": {
        "colab": {
          "base_uri": "https://localhost:8080/",
          "height": 1000
        },
        "id": "NP0n6BPuvISj",
        "outputId": "ad45e94d-cf5c-4173-effe-9a9a5f13eb74"
      },
      "execution_count": null,
      "outputs": [
        {
          "output_type": "execute_result",
          "data": {
            "text/plain": [
              "            lower Close  upper Close\n",
              "2022-01-24  2539.915308  2681.768516\n",
              "2022-01-25  2514.256775  2713.595129\n",
              "2022-01-26  2490.852782  2736.399738\n",
              "2022-01-27  2475.609401  2758.521915\n",
              "2022-01-28  2456.152227  2772.506769\n",
              "2022-01-31  2444.209061  2791.161230\n",
              "2022-02-01  2431.881785  2806.204673\n",
              "2022-02-02  2415.620211  2816.078454\n",
              "2022-02-03  2406.336129  2831.071669\n",
              "2022-02-04  2396.247697  2843.810083\n",
              "2022-02-07  2393.085555  2862.710059\n",
              "2022-02-08  2383.848753  2874.221529\n",
              "2022-02-09  2384.191283  2896.448616\n",
              "2022-02-10  2373.746055  2907.010182\n",
              "2022-02-11  2366.016003  2919.350506\n",
              "2022-02-14  2357.071797  2929.917084\n",
              "2022-02-15  2346.931087  2938.569104\n",
              "2022-02-16  2341.119273  2950.958874\n",
              "2022-02-17  2329.615332  2957.199252\n",
              "2022-02-18  2319.562203  2964.324152\n",
              "2022-02-21  2311.736548  2973.275579\n",
              "2022-02-22  2304.079124  2981.982160\n",
              "2022-02-23  2303.923643  2997.768940\n",
              "2022-02-24  2295.893156  3005.365845\n",
              "2022-02-25  2299.603029  3024.811302\n",
              "2022-02-28  2292.186492  3032.778763\n",
              "2022-03-01  2286.438739  3042.126515\n",
              "2022-03-02  2280.341797  3050.794151\n",
              "2022-03-03  2272.130960  3057.095689\n",
              "2022-03-04  2268.196514  3067.404679\n",
              "2022-03-07  2258.867398  3072.057274\n",
              "2022-03-08  2250.226163  3077.180949\n",
              "2022-03-09  2244.173513  3084.652554\n",
              "2022-03-10  2238.083844  3091.877281\n",
              "2022-03-11  2239.172487  3106.081941\n",
              "2022-03-14  2232.682722  3112.501772\n",
              "2022-03-15  2237.599710  3130.540308\n",
              "2022-03-16  2231.406558  3137.255455\n",
              "2022-03-17  2226.939105  3145.515525\n",
              "2022-03-18  2221.837822  3152.964654\n",
              "2022-03-21  2214.756608  3158.270323\n",
              "2022-03-22  2211.833332  3167.571462\n",
              "2022-03-23  2203.405867  3171.213909\n",
              "2022-03-24  2195.753464  3175.484393\n",
              "2022-03-25  2190.530066  3182.038516\n",
              "2022-03-28  2185.280676  3188.429629\n",
              "2022-03-29  2187.204009  3201.859889\n",
              "2022-03-30  2181.439540  3207.472418\n",
              "2022-03-31  2187.149222  3224.775738\n",
              "2022-04-01  2181.683795  3230.753860\n",
              "2022-04-04  2177.902577  3238.294736\n",
              "2022-04-05  2173.503887  3245.090512\n",
              "2022-04-06  2167.054022  3249.727793\n",
              "2022-04-07  2164.762261  3258.406220\n",
              "2022-04-08  2156.948288  3261.452835\n",
              "2022-04-11  2149.863057  3265.126784\n",
              "2022-04-12  2145.214550  3271.129658\n",
              "2022-04-13  2140.504539  3276.974163\n",
              "2022-04-14  2142.947986  3289.875089\n",
              "2022-04-15  2137.700393  3294.988123"
            ],
            "text/html": [
              "\n",
              "  <div id=\"df-35a22966-33a8-498f-965b-750d66f75921\">\n",
              "    <div class=\"colab-df-container\">\n",
              "      <div>\n",
              "<style scoped>\n",
              "    .dataframe tbody tr th:only-of-type {\n",
              "        vertical-align: middle;\n",
              "    }\n",
              "\n",
              "    .dataframe tbody tr th {\n",
              "        vertical-align: top;\n",
              "    }\n",
              "\n",
              "    .dataframe thead th {\n",
              "        text-align: right;\n",
              "    }\n",
              "</style>\n",
              "<table border=\"1\" class=\"dataframe\">\n",
              "  <thead>\n",
              "    <tr style=\"text-align: right;\">\n",
              "      <th></th>\n",
              "      <th>lower Close</th>\n",
              "      <th>upper Close</th>\n",
              "    </tr>\n",
              "  </thead>\n",
              "  <tbody>\n",
              "    <tr>\n",
              "      <th>2022-01-24</th>\n",
              "      <td>2539.915308</td>\n",
              "      <td>2681.768516</td>\n",
              "    </tr>\n",
              "    <tr>\n",
              "      <th>2022-01-25</th>\n",
              "      <td>2514.256775</td>\n",
              "      <td>2713.595129</td>\n",
              "    </tr>\n",
              "    <tr>\n",
              "      <th>2022-01-26</th>\n",
              "      <td>2490.852782</td>\n",
              "      <td>2736.399738</td>\n",
              "    </tr>\n",
              "    <tr>\n",
              "      <th>2022-01-27</th>\n",
              "      <td>2475.609401</td>\n",
              "      <td>2758.521915</td>\n",
              "    </tr>\n",
              "    <tr>\n",
              "      <th>2022-01-28</th>\n",
              "      <td>2456.152227</td>\n",
              "      <td>2772.506769</td>\n",
              "    </tr>\n",
              "    <tr>\n",
              "      <th>2022-01-31</th>\n",
              "      <td>2444.209061</td>\n",
              "      <td>2791.161230</td>\n",
              "    </tr>\n",
              "    <tr>\n",
              "      <th>2022-02-01</th>\n",
              "      <td>2431.881785</td>\n",
              "      <td>2806.204673</td>\n",
              "    </tr>\n",
              "    <tr>\n",
              "      <th>2022-02-02</th>\n",
              "      <td>2415.620211</td>\n",
              "      <td>2816.078454</td>\n",
              "    </tr>\n",
              "    <tr>\n",
              "      <th>2022-02-03</th>\n",
              "      <td>2406.336129</td>\n",
              "      <td>2831.071669</td>\n",
              "    </tr>\n",
              "    <tr>\n",
              "      <th>2022-02-04</th>\n",
              "      <td>2396.247697</td>\n",
              "      <td>2843.810083</td>\n",
              "    </tr>\n",
              "    <tr>\n",
              "      <th>2022-02-07</th>\n",
              "      <td>2393.085555</td>\n",
              "      <td>2862.710059</td>\n",
              "    </tr>\n",
              "    <tr>\n",
              "      <th>2022-02-08</th>\n",
              "      <td>2383.848753</td>\n",
              "      <td>2874.221529</td>\n",
              "    </tr>\n",
              "    <tr>\n",
              "      <th>2022-02-09</th>\n",
              "      <td>2384.191283</td>\n",
              "      <td>2896.448616</td>\n",
              "    </tr>\n",
              "    <tr>\n",
              "      <th>2022-02-10</th>\n",
              "      <td>2373.746055</td>\n",
              "      <td>2907.010182</td>\n",
              "    </tr>\n",
              "    <tr>\n",
              "      <th>2022-02-11</th>\n",
              "      <td>2366.016003</td>\n",
              "      <td>2919.350506</td>\n",
              "    </tr>\n",
              "    <tr>\n",
              "      <th>2022-02-14</th>\n",
              "      <td>2357.071797</td>\n",
              "      <td>2929.917084</td>\n",
              "    </tr>\n",
              "    <tr>\n",
              "      <th>2022-02-15</th>\n",
              "      <td>2346.931087</td>\n",
              "      <td>2938.569104</td>\n",
              "    </tr>\n",
              "    <tr>\n",
              "      <th>2022-02-16</th>\n",
              "      <td>2341.119273</td>\n",
              "      <td>2950.958874</td>\n",
              "    </tr>\n",
              "    <tr>\n",
              "      <th>2022-02-17</th>\n",
              "      <td>2329.615332</td>\n",
              "      <td>2957.199252</td>\n",
              "    </tr>\n",
              "    <tr>\n",
              "      <th>2022-02-18</th>\n",
              "      <td>2319.562203</td>\n",
              "      <td>2964.324152</td>\n",
              "    </tr>\n",
              "    <tr>\n",
              "      <th>2022-02-21</th>\n",
              "      <td>2311.736548</td>\n",
              "      <td>2973.275579</td>\n",
              "    </tr>\n",
              "    <tr>\n",
              "      <th>2022-02-22</th>\n",
              "      <td>2304.079124</td>\n",
              "      <td>2981.982160</td>\n",
              "    </tr>\n",
              "    <tr>\n",
              "      <th>2022-02-23</th>\n",
              "      <td>2303.923643</td>\n",
              "      <td>2997.768940</td>\n",
              "    </tr>\n",
              "    <tr>\n",
              "      <th>2022-02-24</th>\n",
              "      <td>2295.893156</td>\n",
              "      <td>3005.365845</td>\n",
              "    </tr>\n",
              "    <tr>\n",
              "      <th>2022-02-25</th>\n",
              "      <td>2299.603029</td>\n",
              "      <td>3024.811302</td>\n",
              "    </tr>\n",
              "    <tr>\n",
              "      <th>2022-02-28</th>\n",
              "      <td>2292.186492</td>\n",
              "      <td>3032.778763</td>\n",
              "    </tr>\n",
              "    <tr>\n",
              "      <th>2022-03-01</th>\n",
              "      <td>2286.438739</td>\n",
              "      <td>3042.126515</td>\n",
              "    </tr>\n",
              "    <tr>\n",
              "      <th>2022-03-02</th>\n",
              "      <td>2280.341797</td>\n",
              "      <td>3050.794151</td>\n",
              "    </tr>\n",
              "    <tr>\n",
              "      <th>2022-03-03</th>\n",
              "      <td>2272.130960</td>\n",
              "      <td>3057.095689</td>\n",
              "    </tr>\n",
              "    <tr>\n",
              "      <th>2022-03-04</th>\n",
              "      <td>2268.196514</td>\n",
              "      <td>3067.404679</td>\n",
              "    </tr>\n",
              "    <tr>\n",
              "      <th>2022-03-07</th>\n",
              "      <td>2258.867398</td>\n",
              "      <td>3072.057274</td>\n",
              "    </tr>\n",
              "    <tr>\n",
              "      <th>2022-03-08</th>\n",
              "      <td>2250.226163</td>\n",
              "      <td>3077.180949</td>\n",
              "    </tr>\n",
              "    <tr>\n",
              "      <th>2022-03-09</th>\n",
              "      <td>2244.173513</td>\n",
              "      <td>3084.652554</td>\n",
              "    </tr>\n",
              "    <tr>\n",
              "      <th>2022-03-10</th>\n",
              "      <td>2238.083844</td>\n",
              "      <td>3091.877281</td>\n",
              "    </tr>\n",
              "    <tr>\n",
              "      <th>2022-03-11</th>\n",
              "      <td>2239.172487</td>\n",
              "      <td>3106.081941</td>\n",
              "    </tr>\n",
              "    <tr>\n",
              "      <th>2022-03-14</th>\n",
              "      <td>2232.682722</td>\n",
              "      <td>3112.501772</td>\n",
              "    </tr>\n",
              "    <tr>\n",
              "      <th>2022-03-15</th>\n",
              "      <td>2237.599710</td>\n",
              "      <td>3130.540308</td>\n",
              "    </tr>\n",
              "    <tr>\n",
              "      <th>2022-03-16</th>\n",
              "      <td>2231.406558</td>\n",
              "      <td>3137.255455</td>\n",
              "    </tr>\n",
              "    <tr>\n",
              "      <th>2022-03-17</th>\n",
              "      <td>2226.939105</td>\n",
              "      <td>3145.515525</td>\n",
              "    </tr>\n",
              "    <tr>\n",
              "      <th>2022-03-18</th>\n",
              "      <td>2221.837822</td>\n",
              "      <td>3152.964654</td>\n",
              "    </tr>\n",
              "    <tr>\n",
              "      <th>2022-03-21</th>\n",
              "      <td>2214.756608</td>\n",
              "      <td>3158.270323</td>\n",
              "    </tr>\n",
              "    <tr>\n",
              "      <th>2022-03-22</th>\n",
              "      <td>2211.833332</td>\n",
              "      <td>3167.571462</td>\n",
              "    </tr>\n",
              "    <tr>\n",
              "      <th>2022-03-23</th>\n",
              "      <td>2203.405867</td>\n",
              "      <td>3171.213909</td>\n",
              "    </tr>\n",
              "    <tr>\n",
              "      <th>2022-03-24</th>\n",
              "      <td>2195.753464</td>\n",
              "      <td>3175.484393</td>\n",
              "    </tr>\n",
              "    <tr>\n",
              "      <th>2022-03-25</th>\n",
              "      <td>2190.530066</td>\n",
              "      <td>3182.038516</td>\n",
              "    </tr>\n",
              "    <tr>\n",
              "      <th>2022-03-28</th>\n",
              "      <td>2185.280676</td>\n",
              "      <td>3188.429629</td>\n",
              "    </tr>\n",
              "    <tr>\n",
              "      <th>2022-03-29</th>\n",
              "      <td>2187.204009</td>\n",
              "      <td>3201.859889</td>\n",
              "    </tr>\n",
              "    <tr>\n",
              "      <th>2022-03-30</th>\n",
              "      <td>2181.439540</td>\n",
              "      <td>3207.472418</td>\n",
              "    </tr>\n",
              "    <tr>\n",
              "      <th>2022-03-31</th>\n",
              "      <td>2187.149222</td>\n",
              "      <td>3224.775738</td>\n",
              "    </tr>\n",
              "    <tr>\n",
              "      <th>2022-04-01</th>\n",
              "      <td>2181.683795</td>\n",
              "      <td>3230.753860</td>\n",
              "    </tr>\n",
              "    <tr>\n",
              "      <th>2022-04-04</th>\n",
              "      <td>2177.902577</td>\n",
              "      <td>3238.294736</td>\n",
              "    </tr>\n",
              "    <tr>\n",
              "      <th>2022-04-05</th>\n",
              "      <td>2173.503887</td>\n",
              "      <td>3245.090512</td>\n",
              "    </tr>\n",
              "    <tr>\n",
              "      <th>2022-04-06</th>\n",
              "      <td>2167.054022</td>\n",
              "      <td>3249.727793</td>\n",
              "    </tr>\n",
              "    <tr>\n",
              "      <th>2022-04-07</th>\n",
              "      <td>2164.762261</td>\n",
              "      <td>3258.406220</td>\n",
              "    </tr>\n",
              "    <tr>\n",
              "      <th>2022-04-08</th>\n",
              "      <td>2156.948288</td>\n",
              "      <td>3261.452835</td>\n",
              "    </tr>\n",
              "    <tr>\n",
              "      <th>2022-04-11</th>\n",
              "      <td>2149.863057</td>\n",
              "      <td>3265.126784</td>\n",
              "    </tr>\n",
              "    <tr>\n",
              "      <th>2022-04-12</th>\n",
              "      <td>2145.214550</td>\n",
              "      <td>3271.129658</td>\n",
              "    </tr>\n",
              "    <tr>\n",
              "      <th>2022-04-13</th>\n",
              "      <td>2140.504539</td>\n",
              "      <td>3276.974163</td>\n",
              "    </tr>\n",
              "    <tr>\n",
              "      <th>2022-04-14</th>\n",
              "      <td>2142.947986</td>\n",
              "      <td>3289.875089</td>\n",
              "    </tr>\n",
              "    <tr>\n",
              "      <th>2022-04-15</th>\n",
              "      <td>2137.700393</td>\n",
              "      <td>3294.988123</td>\n",
              "    </tr>\n",
              "  </tbody>\n",
              "</table>\n",
              "</div>\n",
              "      <button class=\"colab-df-convert\" onclick=\"convertToInteractive('df-35a22966-33a8-498f-965b-750d66f75921')\"\n",
              "              title=\"Convert this dataframe to an interactive table.\"\n",
              "              style=\"display:none;\">\n",
              "        \n",
              "  <svg xmlns=\"http://www.w3.org/2000/svg\" height=\"24px\"viewBox=\"0 0 24 24\"\n",
              "       width=\"24px\">\n",
              "    <path d=\"M0 0h24v24H0V0z\" fill=\"none\"/>\n",
              "    <path d=\"M18.56 5.44l.94 2.06.94-2.06 2.06-.94-2.06-.94-.94-2.06-.94 2.06-2.06.94zm-11 1L8.5 8.5l.94-2.06 2.06-.94-2.06-.94L8.5 2.5l-.94 2.06-2.06.94zm10 10l.94 2.06.94-2.06 2.06-.94-2.06-.94-.94-2.06-.94 2.06-2.06.94z\"/><path d=\"M17.41 7.96l-1.37-1.37c-.4-.4-.92-.59-1.43-.59-.52 0-1.04.2-1.43.59L10.3 9.45l-7.72 7.72c-.78.78-.78 2.05 0 2.83L4 21.41c.39.39.9.59 1.41.59.51 0 1.02-.2 1.41-.59l7.78-7.78 2.81-2.81c.8-.78.8-2.07 0-2.86zM5.41 20L4 18.59l7.72-7.72 1.47 1.35L5.41 20z\"/>\n",
              "  </svg>\n",
              "      </button>\n",
              "      \n",
              "  <style>\n",
              "    .colab-df-container {\n",
              "      display:flex;\n",
              "      flex-wrap:wrap;\n",
              "      gap: 12px;\n",
              "    }\n",
              "\n",
              "    .colab-df-convert {\n",
              "      background-color: #E8F0FE;\n",
              "      border: none;\n",
              "      border-radius: 50%;\n",
              "      cursor: pointer;\n",
              "      display: none;\n",
              "      fill: #1967D2;\n",
              "      height: 32px;\n",
              "      padding: 0 0 0 0;\n",
              "      width: 32px;\n",
              "    }\n",
              "\n",
              "    .colab-df-convert:hover {\n",
              "      background-color: #E2EBFA;\n",
              "      box-shadow: 0px 1px 2px rgba(60, 64, 67, 0.3), 0px 1px 3px 1px rgba(60, 64, 67, 0.15);\n",
              "      fill: #174EA6;\n",
              "    }\n",
              "\n",
              "    [theme=dark] .colab-df-convert {\n",
              "      background-color: #3B4455;\n",
              "      fill: #D2E3FC;\n",
              "    }\n",
              "\n",
              "    [theme=dark] .colab-df-convert:hover {\n",
              "      background-color: #434B5C;\n",
              "      box-shadow: 0px 1px 3px 1px rgba(0, 0, 0, 0.15);\n",
              "      filter: drop-shadow(0px 1px 2px rgba(0, 0, 0, 0.3));\n",
              "      fill: #FFFFFF;\n",
              "    }\n",
              "  </style>\n",
              "\n",
              "      <script>\n",
              "        const buttonEl =\n",
              "          document.querySelector('#df-35a22966-33a8-498f-965b-750d66f75921 button.colab-df-convert');\n",
              "        buttonEl.style.display =\n",
              "          google.colab.kernel.accessAllowed ? 'block' : 'none';\n",
              "\n",
              "        async function convertToInteractive(key) {\n",
              "          const element = document.querySelector('#df-35a22966-33a8-498f-965b-750d66f75921');\n",
              "          const dataTable =\n",
              "            await google.colab.kernel.invokeFunction('convertToInteractive',\n",
              "                                                     [key], {});\n",
              "          if (!dataTable) return;\n",
              "\n",
              "          const docLinkHtml = 'Like what you see? Visit the ' +\n",
              "            '<a target=\"_blank\" href=https://colab.research.google.com/notebooks/data_table.ipynb>data table notebook</a>'\n",
              "            + ' to learn more about interactive tables.';\n",
              "          element.innerHTML = '';\n",
              "          dataTable['output_type'] = 'display_data';\n",
              "          await google.colab.output.renderOutput(dataTable, element);\n",
              "          const docLink = document.createElement('div');\n",
              "          docLink.innerHTML = docLinkHtml;\n",
              "          element.appendChild(docLink);\n",
              "        }\n",
              "      </script>\n",
              "    </div>\n",
              "  </div>\n",
              "  "
            ]
          },
          "metadata": {},
          "execution_count": 41
        }
      ]
    },
    {
      "cell_type": "code",
      "source": [
        "axis = df.plot(label='Observed', figsize=(15, 8))\n",
        "forecast.plot(ax=axis, label='Forecast', alpha=0.7)\n",
        "axis.fill_between(forecast.index, pred95['lower Close'], pred95['upper Close'], color='b', alpha=.15)\n",
        "axis.set_xlabel('Year-Months')\n",
        "axis.set_ylabel('Close')\n",
        "plt.legend(loc='best')\n",
        "plt.show()"
      ],
      "metadata": {
        "colab": {
          "base_uri": "https://localhost:8080/",
          "height": 508
        },
        "id": "sf3f0Z8avIPS",
        "outputId": "e58750f2-a968-4378-a7ee-3707478fefdf"
      },
      "execution_count": null,
      "outputs": [
        {
          "output_type": "display_data",
          "data": {
            "text/plain": [
              "<Figure size 1080x576 with 1 Axes>"
            ],
            "image/png": "[encoded data removed]"
          },
          "metadata": {
            "needs_background": "light"
          }
        }
      ]
    },
    {
      "cell_type": "markdown",
      "source": [
        "**LSTM**"
      ],
      "metadata": {
        "id": "6NwsmrEzya4E"
      }
    },
    {
      "cell_type": "code",
      "source": [
        "data =pd.read_csv('/content/drive/MyDrive/M-tech Thesis/Reliance_2019.csv',usecols=['Date','Close'],parse_dates=['Date'],date_parser=dateparse)\n",
        "data.head()"
      ],
      "metadata": {
        "colab": {
          "base_uri": "https://localhost:8080/",
          "height": 206
        },
        "id": "9AN2PGWQvIMT",
        "outputId": "c5673c0c-902b-43fa-eff9-1f69521575df"
      },
      "execution_count": null,
      "outputs": [
        {
          "output_type": "execute_result",
          "data": {
            "text/plain": [
              "        Date        Close\n",
              "0 2019-01-28  1218.004517\n",
              "1 2019-01-29  1199.281982\n",
              "2 2019-01-30  1184.472412\n",
              "3 2019-01-31  1215.627075\n",
              "4 2019-02-01  1238.213013"
            ],
            "text/html": [
              "\n",
              "  <div id=\"df-dc2bc040-e30e-44ed-8409-9895eeae079c\">\n",
              "    <div class=\"colab-df-container\">\n",
              "      <div>\n",
              "<style scoped>\n",
              "    .dataframe tbody tr th:only-of-type {\n",
              "        vertical-align: middle;\n",
              "    }\n",
              "\n",
              "    .dataframe tbody tr th {\n",
              "        vertical-align: top;\n",
              "    }\n",
              "\n",
              "    .dataframe thead th {\n",
              "        text-align: right;\n",
              "    }\n",
              "</style>\n",
              "<table border=\"1\" class=\"dataframe\">\n",
              "  <thead>\n",
              "    <tr style=\"text-align: right;\">\n",
              "      <th></th>\n",
              "      <th>Date</th>\n",
              "      <th>Close</th>\n",
              "    </tr>\n",
              "  </thead>\n",
              "  <tbody>\n",
              "    <tr>\n",
              "      <th>0</th>\n",
              "      <td>2019-01-28</td>\n",
              "      <td>1218.004517</td>\n",
              "    </tr>\n",
              "    <tr>\n",
              "      <th>1</th>\n",
              "      <td>2019-01-29</td>\n",
              "      <td>1199.281982</td>\n",
              "    </tr>\n",
              "    <tr>\n",
              "      <th>2</th>\n",
              "      <td>2019-01-30</td>\n",
              "      <td>1184.472412</td>\n",
              "    </tr>\n",
              "    <tr>\n",
              "      <th>3</th>\n",
              "      <td>2019-01-31</td>\n",
              "      <td>1215.627075</td>\n",
              "    </tr>\n",
              "    <tr>\n",
              "      <th>4</th>\n",
              "      <td>2019-02-01</td>\n",
              "      <td>1238.213013</td>\n",
              "    </tr>\n",
              "  </tbody>\n",
              "</table>\n",
              "</div>\n",
              "      <button class=\"colab-df-convert\" onclick=\"convertToInteractive('df-dc2bc040-e30e-44ed-8409-9895eeae079c')\"\n",
              "              title=\"Convert this dataframe to an interactive table.\"\n",
              "              style=\"display:none;\">\n",
              "        \n",
              "  <svg xmlns=\"http://www.w3.org/2000/svg\" height=\"24px\"viewBox=\"0 0 24 24\"\n",
              "       width=\"24px\">\n",
              "    <path d=\"M0 0h24v24H0V0z\" fill=\"none\"/>\n",
              "    <path d=\"M18.56 5.44l.94 2.06.94-2.06 2.06-.94-2.06-.94-.94-2.06-.94 2.06-2.06.94zm-11 1L8.5 8.5l.94-2.06 2.06-.94-2.06-.94L8.5 2.5l-.94 2.06-2.06.94zm10 10l.94 2.06.94-2.06 2.06-.94-2.06-.94-.94-2.06-.94 2.06-2.06.94z\"/><path d=\"M17.41 7.96l-1.37-1.37c-.4-.4-.92-.59-1.43-.59-.52 0-1.04.2-1.43.59L10.3 9.45l-7.72 7.72c-.78.78-.78 2.05 0 2.83L4 21.41c.39.39.9.59 1.41.59.51 0 1.02-.2 1.41-.59l7.78-7.78 2.81-2.81c.8-.78.8-2.07 0-2.86zM5.41 20L4 18.59l7.72-7.72 1.47 1.35L5.41 20z\"/>\n",
              "  </svg>\n",
              "      </button>\n",
              "      \n",
              "  <style>\n",
              "    .colab-df-container {\n",
              "      display:flex;\n",
              "      flex-wrap:wrap;\n",
              "      gap: 12px;\n",
              "    }\n",
              "\n",
              "    .colab-df-convert {\n",
              "      background-color: #E8F0FE;\n",
              "      border: none;\n",
              "      border-radius: 50%;\n",
              "      cursor: pointer;\n",
              "      display: none;\n",
              "      fill: #1967D2;\n",
              "      height: 32px;\n",
              "      padding: 0 0 0 0;\n",
              "      width: 32px;\n",
              "    }\n",
              "\n",
              "    .colab-df-convert:hover {\n",
              "      background-color: #E2EBFA;\n",
              "      box-shadow: 0px 1px 2px rgba(60, 64, 67, 0.3), 0px 1px 3px 1px rgba(60, 64, 67, 0.15);\n",
              "      fill: #174EA6;\n",
              "    }\n",
              "\n",
              "    [theme=dark] .colab-df-convert {\n",
              "      background-color: #3B4455;\n",
              "      fill: #D2E3FC;\n",
              "    }\n",
              "\n",
              "    [theme=dark] .colab-df-convert:hover {\n",
              "      background-color: #434B5C;\n",
              "      box-shadow: 0px 1px 3px 1px rgba(0, 0, 0, 0.15);\n",
              "      filter: drop-shadow(0px 1px 2px rgba(0, 0, 0, 0.3));\n",
              "      fill: #FFFFFF;\n",
              "    }\n",
              "  </style>\n",
              "\n",
              "      <script>\n",
              "        const buttonEl =\n",
              "          document.querySelector('#df-dc2bc040-e30e-44ed-8409-9895eeae079c button.colab-df-convert');\n",
              "        buttonEl.style.display =\n",
              "          google.colab.kernel.accessAllowed ? 'block' : 'none';\n",
              "\n",
              "        async function convertToInteractive(key) {\n",
              "          const element = document.querySelector('#df-dc2bc040-e30e-44ed-8409-9895eeae079c');\n",
              "          const dataTable =\n",
              "            await google.colab.kernel.invokeFunction('convertToInteractive',\n",
              "                                                     [key], {});\n",
              "          if (!dataTable) return;\n",
              "\n",
              "          const docLinkHtml = 'Like what you see? Visit the ' +\n",
              "            '<a target=\"_blank\" href=https://colab.research.google.com/notebooks/data_table.ipynb>data table notebook</a>'\n",
              "            + ' to learn more about interactive tables.';\n",
              "          element.innerHTML = '';\n",
              "          dataTable['output_type'] = 'display_data';\n",
              "          await google.colab.output.renderOutput(dataTable, element);\n",
              "          const docLink = document.createElement('div');\n",
              "          docLink.innerHTML = docLinkHtml;\n",
              "          element.appendChild(docLink);\n",
              "        }\n",
              "      </script>\n",
              "    </div>\n",
              "  </div>\n",
              "  "
            ]
          },
          "metadata": {},
          "execution_count": 5
        }
      ]
    },
    {
      "cell_type": "code",
      "source": [
        "\n",
        "data['Date'] = pd.to_datetime(data.Date,format='%d-%m-%Y')\n",
        "data.index = data['Date']\n",
        "data = data.drop('Date',axis=1)"
      ],
      "metadata": {
        "id": "3hXY9iKfvIJO"
      },
      "execution_count": null,
      "outputs": []
    },
    {
      "cell_type": "code",
      "source": [
        "data.isnull().sum()"
      ],
      "metadata": {
        "colab": {
          "base_uri": "https://localhost:8080/"
        },
        "id": "tcCEYl0IvIGY",
        "outputId": "177068da-35b8-4c85-cf13-17d6c593f358"
      },
      "execution_count": null,
      "outputs": [
        {
          "output_type": "execute_result",
          "data": {
            "text/plain": [
              "Close    0\n",
              "dtype: int64"
            ]
          },
          "metadata": {},
          "execution_count": 7
        }
      ]
    },
    {
      "cell_type": "code",
      "source": [
        "# Scaling the data using Min max Scaler\n",
        "\n",
        "scaler = MinMaxScaler(feature_range=(0, 1))\n",
        "scaled_data = scaler.fit_transform(data)"
      ],
      "metadata": {
        "id": "umjiKdl7vH9o"
      },
      "execution_count": null,
      "outputs": []
    },
    {
      "cell_type": "code",
      "source": [
        "train = scaled_data[:,:]\n",
        "test = scaled_data[:,:]"
      ],
      "metadata": {
        "id": "-HfwHgx4vH6p"
      },
      "execution_count": null,
      "outputs": []
    },
    {
      "cell_type": "code",
      "source": [
        ""
      ],
      "metadata": {
        "id": "E1lRjV2QvH3r"
      },
      "execution_count": null,
      "outputs": []
    },
    {
      "cell_type": "code",
      "execution_count": null,
      "metadata": {
        "id": "KofTarwh64QC",
        "colab": {
          "base_uri": "https://localhost:8080/"
        },
        "outputId": "7d851fd0-fc03-4f0e-9db7-865a6e0a4684"
      },
      "outputs": [
        {
          "output_type": "execute_result",
          "data": {
            "text/plain": [
              "(780, 1)"
            ]
          },
          "metadata": {},
          "execution_count": 10
        }
      ],
      "source": [
        "train.shape"
      ]
    },
    {
      "cell_type": "code",
      "execution_count": null,
      "metadata": {
        "id": "PGPdVwX064Na",
        "colab": {
          "base_uri": "https://localhost:8080/"
        },
        "outputId": "183ca290-eaca-4802-c750-ff6234417938"
      },
      "outputs": [
        {
          "output_type": "execute_result",
          "data": {
            "text/plain": [
              "(780, 1)"
            ]
          },
          "metadata": {},
          "execution_count": 11
        }
      ],
      "source": [
        "test.shape"
      ]
    },
    {
      "cell_type": "code",
      "execution_count": null,
      "metadata": {
        "id": "loOFUjCe64KR"
      },
      "outputs": [],
      "source": [
        "# Splitting the data \n",
        "\n",
        "split = int(0.9 * len(train))\n",
        "X_train = train[:split]\n",
        "y_train = test[:split]\n",
        "X_test = train[split:]\n",
        "y_test = test[split:]"
      ]
    },
    {
      "cell_type": "code",
      "execution_count": null,
      "metadata": {
        "id": "KDp2-LK364Hm",
        "colab": {
          "base_uri": "https://localhost:8080/"
        },
        "outputId": "5060fe8a-5971-41db-9c33-cca10f8ecd96"
      },
      "outputs": [
        {
          "output_type": "execute_result",
          "data": {
            "text/plain": [
              "((702, 1), (702, 1))"
            ]
          },
          "metadata": {},
          "execution_count": 13
        }
      ],
      "source": [
        "X_train.shape, y_train.shape"
      ]
    },
    {
      "cell_type": "code",
      "execution_count": null,
      "metadata": {
        "id": "N8aM9iKx64Ez",
        "colab": {
          "base_uri": "https://localhost:8080/"
        },
        "outputId": "82efdecc-e89f-4fdd-c2bb-9776a6a059a2"
      },
      "outputs": [
        {
          "output_type": "execute_result",
          "data": {
            "text/plain": [
              "((78, 1), (78, 1))"
            ]
          },
          "metadata": {},
          "execution_count": 14
        }
      ],
      "source": [
        "X_test.shape, y_test.shape\n"
      ]
    },
    {
      "cell_type": "code",
      "execution_count": null,
      "metadata": {
        "id": "5E5z9p1964B4",
        "colab": {
          "base_uri": "https://localhost:8080/",
          "height": 655
        },
        "outputId": "4971898a-ba30-4764-ce5b-2f4400503098"
      },
      "outputs": [
        {
          "output_type": "display_data",
          "data": {
            "text/plain": [
              "<Figure size 936x360 with 1 Axes>"
            ],
            "image/png": "[encoded data removed]"
          },
          "metadata": {
            "needs_background": "light"
          }
        },
        {
          "output_type": "display_data",
          "data": {
            "text/plain": [
              "<Figure size 936x360 with 1 Axes>"
            ],
            "image/png": "[encoded data removed]"
          },
          "metadata": {
            "needs_background": "light"
          }
        }
      ],
      "source": [
        "# Define a data plotting function\n",
        "def show_plot(data, title):\n",
        "  plt.figure(figsize = (13, 5))\n",
        "  plt.plot(data, linewidth = 3)\n",
        "  plt.title(title)\n",
        "  plt.grid()\n",
        "\n",
        "show_plot(X_train, 'Training Data')\n",
        "show_plot(X_test, 'Testing Data')"
      ]
    },
    {
      "cell_type": "code",
      "execution_count": null,
      "metadata": {
        "id": "UaXWWTFv638O"
      },
      "outputs": [],
      "source": [
        "# Creating another model with adding one lstm layer\n",
        "\n",
        "model1=Sequential()\n",
        "model1.add(LSTM(50,return_sequences=True,input_shape=(X_train.shape[1],1)))\n",
        "model1.add(LSTM(50,return_sequences=True))\n",
        "model1.add(LSTM(50))\n",
        "model1.add(Flatten())\n",
        "model1.add(Dense(128,activation ='relu'))\n",
        "model1.add(Dense(64,activation ='relu'))\n",
        "model1.add(Dense(32,activation ='relu'))\n",
        "model1.add(Dense(1,activation='linear'))\n",
        "model1.compile(loss='mean_squared_error',optimizer='adam')"
      ]
    },
    {
      "cell_type": "code",
      "execution_count": null,
      "metadata": {
        "id": "vSAShEPH635O",
        "colab": {
          "base_uri": "https://localhost:8080/"
        },
        "outputId": "a97a0e5d-4555-4c64-8d63-5bc7b31c265a"
      },
      "outputs": [
        {
          "output_type": "stream",
          "name": "stdout",
          "text": [
            "Model: \"sequential\"\n",
            "_________________________________________________________________\n",
            " Layer (type)                Output Shape              Param #   \n",
            "=================================================================\n",
            " lstm (LSTM)                 (None, 1, 50)             10400     \n",
            "                                                                 \n",
            " lstm_1 (LSTM)               (None, 1, 50)             20200     \n",
            "                                                                 \n",
            " lstm_2 (LSTM)               (None, 50)                20200     \n",
            "                                                                 \n",
            " flatten (Flatten)           (None, 50)                0         \n",
            "                                                                 \n",
            " dense (Dense)               (None, 128)               6528      \n",
            "                                                                 \n",
            " dense_1 (Dense)             (None, 64)                8256      \n",
            "                                                                 \n",
            " dense_2 (Dense)             (None, 32)                2080      \n",
            "                                                                 \n",
            " dense_3 (Dense)             (None, 1)                 33        \n",
            "                                                                 \n",
            "=================================================================\n",
            "Total params: 67,697\n",
            "Trainable params: 67,697\n",
            "Non-trainable params: 0\n",
            "_________________________________________________________________\n"
          ]
        }
      ],
      "source": [
        "model1.summary()"
      ]
    },
    {
      "cell_type": "code",
      "execution_count": null,
      "metadata": {
        "id": "VFWw1zEZ632o",
        "colab": {
          "base_uri": "https://localhost:8080/"
        },
        "outputId": "cfbeeca7-6756-4a55-8987-210a71f0f5f8"
      },
      "outputs": [
        {
          "output_type": "stream",
          "name": "stdout",
          "text": [
            "Epoch 1/200\n",
            "11/11 [==============================] - 8s 159ms/step - loss: 0.2310 - val_loss: 0.4701\n",
            "Epoch 2/200\n",
            "11/11 [==============================] - 0s 10ms/step - loss: 0.1072 - val_loss: 0.1333\n",
            "Epoch 3/200\n",
            "11/11 [==============================] - 0s 9ms/step - loss: 0.0576 - val_loss: 0.0660\n",
            "Epoch 4/200\n",
            "11/11 [==============================] - 0s 10ms/step - loss: 0.0475 - val_loss: 0.1277\n",
            "Epoch 5/200\n",
            "11/11 [==============================] - 0s 10ms/step - loss: 0.0438 - val_loss: 0.0625\n",
            "Epoch 6/200\n",
            "11/11 [==============================] - 0s 12ms/step - loss: 0.0349 - val_loss: 0.0468\n",
            "Epoch 7/200\n",
            "11/11 [==============================] - 0s 17ms/step - loss: 0.0210 - val_loss: 0.0108\n",
            "Epoch 8/200\n",
            "11/11 [==============================] - 0s 30ms/step - loss: 0.0050 - val_loss: 3.9561e-04\n",
            "Epoch 9/200\n",
            "11/11 [==============================] - 0s 26ms/step - loss: 0.0010 - val_loss: 0.0023\n",
            "Epoch 10/200\n",
            "11/11 [==============================] - 0s 12ms/step - loss: 6.6319e-04 - val_loss: 3.3699e-04\n",
            "Epoch 11/200\n",
            "11/11 [==============================] - 0s 12ms/step - loss: 3.0615e-04 - val_loss: 1.6522e-04\n",
            "Epoch 12/200\n",
            "11/11 [==============================] - 0s 9ms/step - loss: 1.1875e-04 - val_loss: 1.2912e-04\n",
            "Epoch 13/200\n",
            "11/11 [==============================] - 0s 10ms/step - loss: 5.4055e-05 - val_loss: 2.3658e-05\n",
            "Epoch 14/200\n",
            "11/11 [==============================] - 0s 24ms/step - loss: 2.8949e-05 - val_loss: 1.0354e-05\n",
            "Epoch 15/200\n",
            "11/11 [==============================] - 0s 31ms/step - loss: 1.5848e-05 - val_loss: 1.3463e-05\n",
            "Epoch 16/200\n",
            "11/11 [==============================] - 0s 23ms/step - loss: 9.5016e-06 - val_loss: 8.4821e-06\n",
            "Epoch 17/200\n",
            "11/11 [==============================] - 0s 10ms/step - loss: 6.7429e-06 - val_loss: 5.5997e-06\n",
            "Epoch 18/200\n",
            "11/11 [==============================] - 0s 10ms/step - loss: 4.5994e-06 - val_loss: 3.1809e-06\n",
            "Epoch 19/200\n",
            "11/11 [==============================] - 0s 10ms/step - loss: 3.7088e-06 - val_loss: 4.5478e-06\n",
            "Epoch 20/200\n",
            "11/11 [==============================] - 0s 9ms/step - loss: 2.8813e-06 - val_loss: 5.8776e-06\n",
            "Epoch 21/200\n",
            "11/11 [==============================] - 0s 27ms/step - loss: 2.4634e-06 - val_loss: 2.4209e-06\n",
            "Epoch 22/200\n",
            "11/11 [==============================] - 0s 27ms/step - loss: 2.1033e-06 - val_loss: 3.2898e-06\n",
            "Epoch 23/200\n",
            "11/11 [==============================] - 0s 25ms/step - loss: 1.8428e-06 - val_loss: 2.1476e-06\n",
            "Epoch 24/200\n",
            "11/11 [==============================] - 0s 10ms/step - loss: 1.6327e-06 - val_loss: 4.6159e-06\n",
            "Epoch 25/200\n",
            "11/11 [==============================] - 0s 10ms/step - loss: 1.3895e-06 - val_loss: 6.1470e-06\n",
            "Epoch 26/200\n",
            "11/11 [==============================] - 0s 10ms/step - loss: 1.5240e-06 - val_loss: 1.6976e-06\n",
            "Epoch 27/200\n",
            "11/11 [==============================] - 0s 12ms/step - loss: 1.2265e-06 - val_loss: 2.2406e-06\n",
            "Epoch 28/200\n",
            "11/11 [==============================] - 0s 10ms/step - loss: 9.7597e-07 - val_loss: 1.1662e-06\n",
            "Epoch 29/200\n",
            "11/11 [==============================] - 0s 12ms/step - loss: 8.3108e-07 - val_loss: 3.2800e-06\n",
            "Epoch 30/200\n",
            "11/11 [==============================] - 0s 10ms/step - loss: 8.2777e-07 - val_loss: 4.6816e-06\n",
            "Epoch 31/200\n",
            "11/11 [==============================] - 0s 9ms/step - loss: 7.2218e-07 - val_loss: 3.2001e-06\n",
            "Epoch 32/200\n",
            "11/11 [==============================] - 0s 10ms/step - loss: 7.1645e-07 - val_loss: 1.6470e-06\n",
            "Epoch 33/200\n",
            "11/11 [==============================] - 0s 10ms/step - loss: 6.2784e-07 - val_loss: 2.8505e-06\n",
            "Epoch 34/200\n",
            "11/11 [==============================] - 0s 10ms/step - loss: 6.1673e-07 - val_loss: 2.2306e-06\n",
            "Epoch 35/200\n",
            "11/11 [==============================] - 0s 11ms/step - loss: 5.3153e-07 - val_loss: 1.3625e-06\n",
            "Epoch 36/200\n",
            "11/11 [==============================] - 0s 10ms/step - loss: 5.2055e-07 - val_loss: 1.4906e-06\n",
            "Epoch 37/200\n",
            "11/11 [==============================] - 0s 10ms/step - loss: 4.8008e-07 - val_loss: 1.9508e-06\n",
            "Epoch 38/200\n",
            "11/11 [==============================] - 0s 12ms/step - loss: 4.7510e-07 - val_loss: 1.8992e-06\n",
            "Epoch 39/200\n",
            "11/11 [==============================] - 0s 10ms/step - loss: 5.0973e-07 - val_loss: 1.5360e-06\n",
            "Epoch 40/200\n",
            "11/11 [==============================] - 0s 10ms/step - loss: 4.7213e-07 - val_loss: 1.2418e-06\n",
            "Epoch 41/200\n",
            "11/11 [==============================] - 0s 10ms/step - loss: 4.8626e-07 - val_loss: 5.9670e-07\n",
            "Epoch 42/200\n",
            "11/11 [==============================] - 0s 10ms/step - loss: 5.0299e-07 - val_loss: 5.6495e-07\n",
            "Epoch 43/200\n",
            "11/11 [==============================] - 0s 10ms/step - loss: 5.4795e-07 - val_loss: 4.1828e-07\n",
            "Epoch 44/200\n",
            "11/11 [==============================] - 0s 10ms/step - loss: 4.1132e-07 - val_loss: 7.6110e-07\n",
            "Epoch 45/200\n",
            "11/11 [==============================] - 0s 11ms/step - loss: 3.1791e-07 - val_loss: 1.4203e-06\n",
            "Epoch 46/200\n",
            "11/11 [==============================] - 0s 11ms/step - loss: 3.3734e-07 - val_loss: 8.9981e-07\n",
            "Epoch 47/200\n",
            "11/11 [==============================] - 0s 10ms/step - loss: 3.8356e-07 - val_loss: 4.6231e-07\n",
            "Epoch 48/200\n",
            "11/11 [==============================] - 0s 9ms/step - loss: 3.7806e-07 - val_loss: 6.3533e-07\n",
            "Epoch 49/200\n",
            "11/11 [==============================] - 0s 9ms/step - loss: 3.1094e-07 - val_loss: 9.0060e-07\n",
            "Epoch 50/200\n",
            "11/11 [==============================] - 0s 10ms/step - loss: 3.0261e-07 - val_loss: 1.3599e-06\n",
            "Epoch 51/200\n",
            "11/11 [==============================] - 0s 11ms/step - loss: 2.7555e-07 - val_loss: 1.3158e-06\n",
            "Epoch 52/200\n",
            "11/11 [==============================] - 0s 11ms/step - loss: 2.8480e-07 - val_loss: 2.0234e-06\n",
            "Epoch 53/200\n",
            "11/11 [==============================] - 0s 10ms/step - loss: 2.7955e-07 - val_loss: 1.5585e-06\n",
            "Epoch 54/200\n",
            "11/11 [==============================] - 0s 10ms/step - loss: 3.1069e-07 - val_loss: 6.9363e-07\n",
            "Epoch 55/200\n",
            "11/11 [==============================] - 0s 12ms/step - loss: 2.7882e-07 - val_loss: 1.2512e-07\n",
            "Epoch 56/200\n",
            "11/11 [==============================] - 0s 10ms/step - loss: 4.0591e-07 - val_loss: 1.0753e-07\n",
            "Epoch 57/200\n",
            "11/11 [==============================] - 0s 10ms/step - loss: 2.8107e-07 - val_loss: 1.4146e-06\n",
            "Epoch 58/200\n",
            "11/11 [==============================] - 0s 10ms/step - loss: 3.0983e-07 - val_loss: 3.0025e-07\n",
            "Epoch 59/200\n",
            "11/11 [==============================] - 0s 10ms/step - loss: 1.6532e-07 - val_loss: 4.2626e-07\n",
            "Epoch 60/200\n",
            "11/11 [==============================] - 0s 11ms/step - loss: 1.5125e-07 - val_loss: 3.9519e-07\n",
            "Epoch 61/200\n",
            "11/11 [==============================] - 0s 11ms/step - loss: 1.4399e-07 - val_loss: 2.7496e-07\n",
            "Epoch 62/200\n",
            "11/11 [==============================] - 0s 10ms/step - loss: 1.3866e-07 - val_loss: 4.4964e-07\n",
            "Epoch 63/200\n",
            "11/11 [==============================] - 0s 14ms/step - loss: 1.3386e-07 - val_loss: 1.8263e-07\n",
            "Epoch 64/200\n",
            "11/11 [==============================] - 0s 10ms/step - loss: 1.6100e-07 - val_loss: 2.6014e-07\n",
            "Epoch 65/200\n",
            "11/11 [==============================] - 0s 11ms/step - loss: 1.5045e-07 - val_loss: 2.6045e-07\n",
            "Epoch 66/200\n",
            "11/11 [==============================] - 0s 12ms/step - loss: 1.3245e-07 - val_loss: 6.5913e-07\n",
            "Epoch 67/200\n",
            "11/11 [==============================] - 0s 10ms/step - loss: 1.3750e-07 - val_loss: 3.1729e-07\n",
            "Epoch 68/200\n",
            "11/11 [==============================] - 0s 10ms/step - loss: 1.2806e-07 - val_loss: 2.0510e-07\n",
            "Epoch 69/200\n",
            "11/11 [==============================] - 0s 10ms/step - loss: 1.3556e-07 - val_loss: 1.2507e-07\n",
            "Epoch 70/200\n",
            "11/11 [==============================] - 0s 10ms/step - loss: 1.5114e-07 - val_loss: 1.4566e-07\n",
            "Epoch 71/200\n",
            "11/11 [==============================] - 0s 11ms/step - loss: 1.2476e-07 - val_loss: 1.8667e-07\n",
            "Epoch 72/200\n",
            "11/11 [==============================] - 0s 10ms/step - loss: 1.4313e-07 - val_loss: 9.5547e-08\n",
            "Epoch 73/200\n",
            "11/11 [==============================] - 0s 11ms/step - loss: 1.5383e-07 - val_loss: 1.4608e-07\n",
            "Epoch 74/200\n",
            "11/11 [==============================] - 0s 11ms/step - loss: 1.2408e-07 - val_loss: 1.1331e-07\n",
            "Epoch 75/200\n",
            "11/11 [==============================] - 0s 10ms/step - loss: 1.0345e-07 - val_loss: 1.0629e-07\n",
            "Epoch 76/200\n",
            "11/11 [==============================] - 0s 11ms/step - loss: 1.0602e-07 - val_loss: 3.1491e-07\n",
            "Epoch 77/200\n",
            "11/11 [==============================] - 0s 10ms/step - loss: 1.1468e-07 - val_loss: 3.0620e-07\n",
            "Epoch 78/200\n",
            "11/11 [==============================] - 0s 11ms/step - loss: 8.4804e-08 - val_loss: 1.1080e-07\n",
            "Epoch 79/200\n",
            "11/11 [==============================] - 0s 10ms/step - loss: 8.1286e-08 - val_loss: 3.1006e-07\n",
            "Epoch 80/200\n",
            "11/11 [==============================] - 0s 10ms/step - loss: 8.5466e-08 - val_loss: 1.2458e-07\n",
            "Epoch 81/200\n",
            "11/11 [==============================] - 0s 11ms/step - loss: 7.6035e-08 - val_loss: 1.0774e-07\n",
            "Epoch 82/200\n",
            "11/11 [==============================] - 0s 10ms/step - loss: 8.1887e-08 - val_loss: 1.9150e-07\n",
            "Epoch 83/200\n",
            "11/11 [==============================] - 0s 10ms/step - loss: 8.9687e-08 - val_loss: 1.0373e-07\n",
            "Epoch 84/200\n",
            "11/11 [==============================] - 0s 11ms/step - loss: 7.5014e-08 - val_loss: 2.1238e-07\n",
            "Epoch 85/200\n",
            "11/11 [==============================] - 0s 10ms/step - loss: 7.5039e-08 - val_loss: 1.1066e-07\n",
            "Epoch 86/200\n",
            "11/11 [==============================] - 0s 10ms/step - loss: 6.2831e-08 - val_loss: 1.3179e-07\n",
            "Epoch 87/200\n",
            "11/11 [==============================] - 0s 10ms/step - loss: 7.1195e-08 - val_loss: 9.1015e-08\n",
            "Epoch 88/200\n",
            "11/11 [==============================] - 0s 10ms/step - loss: 7.5395e-08 - val_loss: 1.0320e-07\n",
            "Epoch 89/200\n",
            "11/11 [==============================] - 0s 10ms/step - loss: 8.2549e-08 - val_loss: 1.4927e-07\n",
            "Epoch 90/200\n",
            "11/11 [==============================] - 0s 10ms/step - loss: 7.5066e-08 - val_loss: 1.2083e-07\n",
            "Epoch 91/200\n",
            "11/11 [==============================] - 0s 10ms/step - loss: 6.3435e-08 - val_loss: 1.1114e-07\n",
            "Epoch 92/200\n",
            "11/11 [==============================] - 0s 10ms/step - loss: 6.2497e-08 - val_loss: 1.1146e-07\n",
            "Epoch 93/200\n",
            "11/11 [==============================] - 0s 11ms/step - loss: 6.2438e-08 - val_loss: 1.3101e-07\n",
            "Epoch 94/200\n",
            "11/11 [==============================] - 0s 10ms/step - loss: 7.7574e-08 - val_loss: 1.3099e-07\n",
            "Epoch 95/200\n",
            "11/11 [==============================] - 0s 10ms/step - loss: 6.5952e-08 - val_loss: 9.8333e-08\n",
            "Epoch 96/200\n",
            "11/11 [==============================] - 0s 10ms/step - loss: 6.8850e-08 - val_loss: 1.3354e-07\n",
            "Epoch 97/200\n",
            "11/11 [==============================] - 0s 10ms/step - loss: 6.8381e-08 - val_loss: 8.6048e-08\n",
            "Epoch 98/200\n",
            "11/11 [==============================] - 0s 11ms/step - loss: 5.0584e-08 - val_loss: 1.2167e-07\n",
            "Epoch 99/200\n",
            "11/11 [==============================] - 0s 9ms/step - loss: 5.6981e-08 - val_loss: 1.3063e-07\n",
            "Epoch 100/200\n",
            "11/11 [==============================] - 0s 10ms/step - loss: 5.2364e-08 - val_loss: 8.3227e-08\n",
            "Epoch 101/200\n",
            "11/11 [==============================] - 0s 10ms/step - loss: 4.5744e-08 - val_loss: 9.1766e-08\n",
            "Epoch 102/200\n",
            "11/11 [==============================] - 0s 10ms/step - loss: 7.0843e-08 - val_loss: 1.6443e-07\n",
            "Epoch 103/200\n",
            "11/11 [==============================] - 0s 10ms/step - loss: 6.5680e-08 - val_loss: 8.6090e-08\n",
            "Epoch 104/200\n",
            "11/11 [==============================] - 0s 11ms/step - loss: 7.3680e-08 - val_loss: 1.1628e-07\n",
            "Epoch 105/200\n",
            "11/11 [==============================] - 0s 10ms/step - loss: 7.1005e-08 - val_loss: 2.8266e-07\n",
            "Epoch 106/200\n",
            "11/11 [==============================] - 0s 10ms/step - loss: 8.5752e-08 - val_loss: 6.7977e-08\n",
            "Epoch 107/200\n",
            "11/11 [==============================] - 0s 12ms/step - loss: 8.4918e-08 - val_loss: 1.2053e-07\n",
            "Epoch 108/200\n",
            "11/11 [==============================] - 0s 10ms/step - loss: 8.1184e-08 - val_loss: 7.1321e-08\n",
            "Epoch 109/200\n",
            "11/11 [==============================] - 0s 10ms/step - loss: 9.7056e-08 - val_loss: 7.1784e-08\n",
            "Epoch 110/200\n",
            "11/11 [==============================] - 0s 11ms/step - loss: 6.4228e-08 - val_loss: 1.0630e-07\n",
            "Epoch 111/200\n",
            "11/11 [==============================] - 0s 9ms/step - loss: 5.2073e-08 - val_loss: 1.1093e-07\n",
            "Epoch 112/200\n",
            "11/11 [==============================] - 0s 10ms/step - loss: 4.9900e-08 - val_loss: 2.1580e-07\n",
            "Epoch 113/200\n",
            "11/11 [==============================] - 0s 12ms/step - loss: 5.8479e-08 - val_loss: 9.5076e-08\n",
            "Epoch 114/200\n",
            "11/11 [==============================] - 0s 10ms/step - loss: 6.5606e-08 - val_loss: 1.3009e-07\n",
            "Epoch 115/200\n",
            "11/11 [==============================] - 0s 11ms/step - loss: 7.0612e-08 - val_loss: 6.8083e-08\n",
            "Epoch 116/200\n",
            "11/11 [==============================] - 0s 10ms/step - loss: 7.9090e-08 - val_loss: 1.1982e-07\n",
            "Epoch 117/200\n",
            "11/11 [==============================] - 0s 10ms/step - loss: 9.2222e-08 - val_loss: 7.0799e-08\n",
            "Epoch 118/200\n",
            "11/11 [==============================] - 0s 11ms/step - loss: 9.7783e-08 - val_loss: 1.8269e-07\n",
            "Epoch 119/200\n",
            "11/11 [==============================] - 0s 11ms/step - loss: 1.0465e-07 - val_loss: 2.2611e-07\n",
            "Epoch 120/200\n",
            "11/11 [==============================] - 0s 10ms/step - loss: 6.4354e-08 - val_loss: 5.5529e-08\n",
            "Epoch 121/200\n",
            "11/11 [==============================] - 0s 11ms/step - loss: 6.2576e-08 - val_loss: 6.1229e-08\n",
            "Epoch 122/200\n",
            "11/11 [==============================] - 0s 10ms/step - loss: 4.0312e-08 - val_loss: 6.8084e-08\n",
            "Epoch 123/200\n",
            "11/11 [==============================] - 0s 13ms/step - loss: 7.4829e-08 - val_loss: 7.2147e-08\n",
            "Epoch 124/200\n",
            "11/11 [==============================] - 0s 10ms/step - loss: 7.3325e-08 - val_loss: 1.1344e-07\n",
            "Epoch 125/200\n",
            "11/11 [==============================] - 0s 10ms/step - loss: 5.9346e-08 - val_loss: 5.8655e-08\n",
            "Epoch 126/200\n",
            "11/11 [==============================] - 0s 10ms/step - loss: 4.6419e-08 - val_loss: 8.7505e-08\n",
            "Epoch 127/200\n",
            "11/11 [==============================] - 0s 11ms/step - loss: 3.0591e-08 - val_loss: 1.7561e-07\n",
            "Epoch 128/200\n",
            "11/11 [==============================] - 0s 10ms/step - loss: 4.5187e-08 - val_loss: 1.1474e-07\n",
            "Epoch 129/200\n",
            "11/11 [==============================] - 0s 10ms/step - loss: 3.6920e-08 - val_loss: 5.8506e-08\n",
            "Epoch 130/200\n",
            "11/11 [==============================] - 0s 10ms/step - loss: 3.7626e-08 - val_loss: 5.6645e-08\n",
            "Epoch 131/200\n",
            "11/11 [==============================] - 0s 11ms/step - loss: 3.5055e-08 - val_loss: 5.9242e-08\n",
            "Epoch 132/200\n",
            "11/11 [==============================] - 0s 10ms/step - loss: 3.5648e-08 - val_loss: 9.0604e-08\n",
            "Epoch 133/200\n",
            "11/11 [==============================] - 0s 10ms/step - loss: 2.9155e-08 - val_loss: 9.2507e-08\n",
            "Epoch 134/200\n",
            "11/11 [==============================] - 0s 10ms/step - loss: 4.5954e-08 - val_loss: 1.5922e-07\n",
            "Epoch 135/200\n",
            "11/11 [==============================] - 0s 11ms/step - loss: 5.3366e-08 - val_loss: 5.3640e-08\n",
            "Epoch 136/200\n",
            "11/11 [==============================] - 0s 11ms/step - loss: 4.7391e-08 - val_loss: 1.8154e-07\n",
            "Epoch 137/200\n",
            "11/11 [==============================] - 0s 11ms/step - loss: 7.6031e-08 - val_loss: 6.3947e-08\n",
            "Epoch 138/200\n",
            "11/11 [==============================] - 0s 11ms/step - loss: 3.6253e-08 - val_loss: 1.0038e-07\n",
            "Epoch 139/200\n",
            "11/11 [==============================] - 0s 10ms/step - loss: 4.5487e-08 - val_loss: 7.6575e-08\n",
            "Epoch 140/200\n",
            "11/11 [==============================] - 0s 11ms/step - loss: 6.3573e-08 - val_loss: 7.2955e-08\n",
            "Epoch 141/200\n",
            "11/11 [==============================] - 0s 10ms/step - loss: 1.2457e-07 - val_loss: 5.7064e-08\n",
            "Epoch 142/200\n",
            "11/11 [==============================] - 0s 11ms/step - loss: 1.5517e-07 - val_loss: 1.4915e-07\n",
            "Epoch 143/200\n",
            "11/11 [==============================] - 0s 11ms/step - loss: 1.0694e-07 - val_loss: 1.3433e-07\n",
            "Epoch 144/200\n",
            "11/11 [==============================] - 0s 10ms/step - loss: 6.8063e-08 - val_loss: 5.4001e-08\n",
            "Epoch 145/200\n",
            "11/11 [==============================] - 0s 10ms/step - loss: 4.7765e-08 - val_loss: 6.0608e-08\n",
            "Epoch 146/200\n",
            "11/11 [==============================] - 0s 11ms/step - loss: 7.3270e-08 - val_loss: 1.5028e-07\n",
            "Epoch 147/200\n",
            "11/11 [==============================] - 0s 10ms/step - loss: 9.6249e-08 - val_loss: 7.4547e-08\n",
            "Epoch 148/200\n",
            "11/11 [==============================] - 0s 13ms/step - loss: 1.1894e-07 - val_loss: 7.2880e-08\n",
            "Epoch 149/200\n",
            "11/11 [==============================] - 0s 11ms/step - loss: 7.0438e-08 - val_loss: 5.5386e-08\n",
            "Epoch 150/200\n",
            "11/11 [==============================] - 0s 11ms/step - loss: 3.4689e-08 - val_loss: 9.0762e-08\n",
            "Epoch 151/200\n",
            "11/11 [==============================] - 0s 10ms/step - loss: 4.5466e-08 - val_loss: 4.7264e-08\n",
            "Epoch 152/200\n",
            "11/11 [==============================] - 0s 11ms/step - loss: 2.4703e-08 - val_loss: 1.2964e-07\n",
            "Epoch 153/200\n",
            "11/11 [==============================] - 0s 10ms/step - loss: 3.1062e-08 - val_loss: 7.4985e-08\n",
            "Epoch 154/200\n",
            "11/11 [==============================] - 0s 11ms/step - loss: 5.9847e-08 - val_loss: 1.6607e-07\n",
            "Epoch 155/200\n",
            "11/11 [==============================] - 0s 10ms/step - loss: 4.7373e-08 - val_loss: 4.8061e-08\n",
            "Epoch 156/200\n",
            "11/11 [==============================] - 0s 11ms/step - loss: 1.9731e-08 - val_loss: 5.3186e-08\n",
            "Epoch 157/200\n",
            "11/11 [==============================] - 0s 10ms/step - loss: 2.8405e-08 - val_loss: 1.2643e-07\n",
            "Epoch 158/200\n",
            "11/11 [==============================] - 0s 10ms/step - loss: 3.5898e-08 - val_loss: 4.9729e-08\n",
            "Epoch 159/200\n",
            "11/11 [==============================] - 0s 11ms/step - loss: 2.6092e-08 - val_loss: 5.1370e-08\n",
            "Epoch 160/200\n",
            "11/11 [==============================] - 0s 10ms/step - loss: 2.4403e-08 - val_loss: 4.6061e-08\n",
            "Epoch 161/200\n",
            "11/11 [==============================] - 0s 11ms/step - loss: 2.5054e-08 - val_loss: 5.8439e-08\n",
            "Epoch 162/200\n",
            "11/11 [==============================] - 0s 11ms/step - loss: 3.0285e-08 - val_loss: 1.7308e-07\n",
            "Epoch 163/200\n",
            "11/11 [==============================] - 0s 10ms/step - loss: 4.8856e-08 - val_loss: 1.3585e-07\n",
            "Epoch 164/200\n",
            "11/11 [==============================] - 0s 10ms/step - loss: 3.9083e-08 - val_loss: 5.2512e-08\n",
            "Epoch 165/200\n",
            "11/11 [==============================] - 0s 11ms/step - loss: 3.6751e-08 - val_loss: 7.2127e-08\n",
            "Epoch 166/200\n",
            "11/11 [==============================] - 0s 11ms/step - loss: 9.3561e-08 - val_loss: 6.7392e-08\n",
            "Epoch 167/200\n",
            "11/11 [==============================] - 0s 10ms/step - loss: 5.5418e-08 - val_loss: 5.8183e-08\n",
            "Epoch 168/200\n",
            "11/11 [==============================] - 0s 10ms/step - loss: 5.4503e-08 - val_loss: 7.7675e-08\n",
            "Epoch 169/200\n",
            "11/11 [==============================] - 0s 12ms/step - loss: 7.7849e-08 - val_loss: 5.2593e-08\n",
            "Epoch 170/200\n",
            "11/11 [==============================] - 0s 11ms/step - loss: 2.8174e-08 - val_loss: 6.0196e-08\n",
            "Epoch 171/200\n",
            "11/11 [==============================] - 0s 10ms/step - loss: 1.0295e-07 - val_loss: 4.8523e-08\n",
            "Epoch 172/200\n",
            "11/11 [==============================] - 0s 11ms/step - loss: 5.4623e-08 - val_loss: 5.6247e-08\n",
            "Epoch 173/200\n",
            "11/11 [==============================] - 0s 11ms/step - loss: 2.1871e-07 - val_loss: 5.8703e-07\n",
            "Epoch 174/200\n",
            "11/11 [==============================] - 0s 11ms/step - loss: 2.9365e-07 - val_loss: 1.2083e-07\n",
            "Epoch 175/200\n",
            "11/11 [==============================] - 0s 10ms/step - loss: 4.5694e-07 - val_loss: 4.1738e-06\n",
            "Epoch 176/200\n",
            "11/11 [==============================] - 0s 12ms/step - loss: 6.9144e-07 - val_loss: 1.4464e-07\n",
            "Epoch 177/200\n",
            "11/11 [==============================] - 0s 10ms/step - loss: 1.6267e-07 - val_loss: 1.4163e-07\n",
            "Epoch 178/200\n",
            "11/11 [==============================] - 0s 10ms/step - loss: 1.2234e-07 - val_loss: 5.5254e-08\n",
            "Epoch 179/200\n",
            "11/11 [==============================] - 0s 10ms/step - loss: 4.2905e-08 - val_loss: 5.8868e-08\n",
            "Epoch 180/200\n",
            "11/11 [==============================] - 0s 11ms/step - loss: 4.1336e-08 - val_loss: 5.9151e-08\n",
            "Epoch 181/200\n",
            "11/11 [==============================] - 0s 11ms/step - loss: 2.9472e-08 - val_loss: 5.1678e-08\n",
            "Epoch 182/200\n",
            "11/11 [==============================] - 0s 10ms/step - loss: 5.8859e-08 - val_loss: 9.9843e-08\n",
            "Epoch 183/200\n",
            "11/11 [==============================] - 0s 10ms/step - loss: 4.3210e-08 - val_loss: 1.9339e-07\n",
            "Epoch 184/200\n",
            "11/11 [==============================] - 0s 10ms/step - loss: 1.1319e-07 - val_loss: 5.0355e-08\n",
            "Epoch 185/200\n",
            "11/11 [==============================] - 0s 11ms/step - loss: 1.6323e-07 - val_loss: 3.8598e-07\n",
            "Epoch 186/200\n",
            "11/11 [==============================] - 0s 11ms/step - loss: 4.3900e-07 - val_loss: 2.1128e-07\n",
            "Epoch 187/200\n",
            "11/11 [==============================] - 0s 10ms/step - loss: 4.6379e-07 - val_loss: 1.2042e-07\n",
            "Epoch 188/200\n",
            "11/11 [==============================] - 0s 12ms/step - loss: 5.9481e-07 - val_loss: 1.1474e-06\n",
            "Epoch 189/200\n",
            "11/11 [==============================] - 0s 11ms/step - loss: 7.1825e-07 - val_loss: 1.1328e-06\n",
            "Epoch 190/200\n",
            "11/11 [==============================] - 0s 10ms/step - loss: 5.5820e-07 - val_loss: 7.6139e-08\n",
            "Epoch 191/200\n",
            "11/11 [==============================] - 0s 11ms/step - loss: 2.7894e-07 - val_loss: 4.0066e-07\n",
            "Epoch 192/200\n",
            "11/11 [==============================] - 0s 10ms/step - loss: 1.2922e-07 - val_loss: 7.2266e-08\n",
            "Epoch 193/200\n",
            "11/11 [==============================] - 0s 10ms/step - loss: 7.1618e-08 - val_loss: 2.3055e-07\n",
            "Epoch 194/200\n",
            "11/11 [==============================] - 0s 11ms/step - loss: 7.4864e-08 - val_loss: 1.1685e-07\n",
            "Epoch 195/200\n",
            "11/11 [==============================] - 0s 23ms/step - loss: 6.2055e-08 - val_loss: 2.1050e-07\n",
            "Epoch 196/200\n",
            "11/11 [==============================] - 0s 26ms/step - loss: 8.5214e-08 - val_loss: 7.5218e-08\n",
            "Epoch 197/200\n",
            "11/11 [==============================] - 0s 28ms/step - loss: 3.7434e-08 - val_loss: 7.0603e-08\n",
            "Epoch 198/200\n",
            "11/11 [==============================] - 0s 32ms/step - loss: 2.2338e-08 - val_loss: 1.5545e-07\n",
            "Epoch 199/200\n",
            "11/11 [==============================] - 0s 18ms/step - loss: 1.0361e-07 - val_loss: 2.0334e-07\n",
            "Epoch 200/200\n",
            "11/11 [==============================] - 0s 19ms/step - loss: 1.7035e-07 - val_loss: 5.9502e-07\n"
          ]
        },
        {
          "output_type": "execute_result",
          "data": {
            "text/plain": [
              "<keras.callbacks.History at 0x7ff30d6cff90>"
            ]
          },
          "metadata": {},
          "execution_count": 18
        }
      ],
      "source": [
        "# Fitting the model\n",
        "\n",
        "model1.fit(X_train,y_train,validation_data=(X_test,y_test),epochs=200,batch_size=64,verbose=1)"
      ]
    },
    {
      "cell_type": "code",
      "execution_count": null,
      "metadata": {
        "id": "4ndlZ9o363z3",
        "colab": {
          "base_uri": "https://localhost:8080/"
        },
        "outputId": "263bfda7-dadb-4816-ecbe-5a1c417544c9"
      },
      "outputs": [
        {
          "output_type": "stream",
          "name": "stdout",
          "text": [
            "3/3 [==============================] - 1s 5ms/step - loss: 0.0000e+00\n"
          ]
        },
        {
          "output_type": "execute_result",
          "data": {
            "text/plain": [
              "0.0"
            ]
          },
          "metadata": {},
          "execution_count": 19
        }
      ],
      "source": [
        "# Evaluate the model\n",
        "\n",
        "model1.evaluate(X_test)"
      ]
    },
    {
      "cell_type": "code",
      "execution_count": null,
      "metadata": {
        "id": "FrN759dX63xX"
      },
      "outputs": [],
      "source": [
        "# Prediction of the model\n",
        "\n",
        "predicted = model1.predict(train)\n",
        "predicted = scaler.inverse_transform(predicted)"
      ]
    },
    {
      "cell_type": "code",
      "execution_count": null,
      "metadata": {
        "id": "Opyd1GTz63ua",
        "colab": {
          "base_uri": "https://localhost:8080/"
        },
        "outputId": "dc0cc6f0-9967-407c-ac85-05ada90354b5"
      },
      "outputs": [
        {
          "output_type": "execute_result",
          "data": {
            "text/plain": [
              "780"
            ]
          },
          "metadata": {},
          "execution_count": 21
        }
      ],
      "source": [
        "len(predicted)"
      ]
    },
    {
      "cell_type": "code",
      "execution_count": null,
      "metadata": {
        "id": "1As00Kig63rZ"
      },
      "outputs": [],
      "source": [
        "test_predicted = []\n",
        "\n",
        "for i in predicted:\n",
        "  test_predicted.append(i[0])"
      ]
    },
    {
      "cell_type": "code",
      "execution_count": null,
      "metadata": {
        "id": "V9yvdV0H63oc",
        "colab": {
          "base_uri": "https://localhost:8080/",
          "height": 455
        },
        "outputId": "31a97602-6188-4d3e-f8da-e72c3db7234f"
      },
      "outputs": [
        {
          "output_type": "execute_result",
          "data": {
            "text/plain": [
              "                  Close\n",
              "Date                   \n",
              "2019-01-28  1218.004517\n",
              "2019-01-29  1199.281982\n",
              "2019-01-30  1184.472412\n",
              "2019-01-31  1215.627075\n",
              "2019-02-01  1238.213013\n",
              "...                 ...\n",
              "2022-03-21  2467.399902\n",
              "2022-03-22  2531.149902\n",
              "2022-03-23  2539.199951\n",
              "2022-03-24  2578.649902\n",
              "2022-03-25  2595.850098\n",
              "\n",
              "[780 rows x 1 columns]"
            ],
            "text/html": [
              "\n",
              "  <div id=\"df-698b381c-720b-4e84-abf9-62b69f92308d\">\n",
              "    <div class=\"colab-df-container\">\n",
              "      <div>\n",
              "<style scoped>\n",
              "    .dataframe tbody tr th:only-of-type {\n",
              "        vertical-align: middle;\n",
              "    }\n",
              "\n",
              "    .dataframe tbody tr th {\n",
              "        vertical-align: top;\n",
              "    }\n",
              "\n",
              "    .dataframe thead th {\n",
              "        text-align: right;\n",
              "    }\n",
              "</style>\n",
              "<table border=\"1\" class=\"dataframe\">\n",
              "  <thead>\n",
              "    <tr style=\"text-align: right;\">\n",
              "      <th></th>\n",
              "      <th>Close</th>\n",
              "    </tr>\n",
              "    <tr>\n",
              "      <th>Date</th>\n",
              "      <th></th>\n",
              "    </tr>\n",
              "  </thead>\n",
              "  <tbody>\n",
              "    <tr>\n",
              "      <th>2019-01-28</th>\n",
              "      <td>1218.004517</td>\n",
              "    </tr>\n",
              "    <tr>\n",
              "      <th>2019-01-29</th>\n",
              "      <td>1199.281982</td>\n",
              "    </tr>\n",
              "    <tr>\n",
              "      <th>2019-01-30</th>\n",
              "      <td>1184.472412</td>\n",
              "    </tr>\n",
              "    <tr>\n",
              "      <th>2019-01-31</th>\n",
              "      <td>1215.627075</td>\n",
              "    </tr>\n",
              "    <tr>\n",
              "      <th>2019-02-01</th>\n",
              "      <td>1238.213013</td>\n",
              "    </tr>\n",
              "    <tr>\n",
              "      <th>...</th>\n",
              "      <td>...</td>\n",
              "    </tr>\n",
              "    <tr>\n",
              "      <th>2022-03-21</th>\n",
              "      <td>2467.399902</td>\n",
              "    </tr>\n",
              "    <tr>\n",
              "      <th>2022-03-22</th>\n",
              "      <td>2531.149902</td>\n",
              "    </tr>\n",
              "    <tr>\n",
              "      <th>2022-03-23</th>\n",
              "      <td>2539.199951</td>\n",
              "    </tr>\n",
              "    <tr>\n",
              "      <th>2022-03-24</th>\n",
              "      <td>2578.649902</td>\n",
              "    </tr>\n",
              "    <tr>\n",
              "      <th>2022-03-25</th>\n",
              "      <td>2595.850098</td>\n",
              "    </tr>\n",
              "  </tbody>\n",
              "</table>\n",
              "<p>780 rows × 1 columns</p>\n",
              "</div>\n",
              "      <button class=\"colab-df-convert\" onclick=\"convertToInteractive('df-698b381c-720b-4e84-abf9-62b69f92308d')\"\n",
              "              title=\"Convert this dataframe to an interactive table.\"\n",
              "              style=\"display:none;\">\n",
              "        \n",
              "  <svg xmlns=\"http://www.w3.org/2000/svg\" height=\"24px\"viewBox=\"0 0 24 24\"\n",
              "       width=\"24px\">\n",
              "    <path d=\"M0 0h24v24H0V0z\" fill=\"none\"/>\n",
              "    <path d=\"M18.56 5.44l.94 2.06.94-2.06 2.06-.94-2.06-.94-.94-2.06-.94 2.06-2.06.94zm-11 1L8.5 8.5l.94-2.06 2.06-.94-2.06-.94L8.5 2.5l-.94 2.06-2.06.94zm10 10l.94 2.06.94-2.06 2.06-.94-2.06-.94-.94-2.06-.94 2.06-2.06.94z\"/><path d=\"M17.41 7.96l-1.37-1.37c-.4-.4-.92-.59-1.43-.59-.52 0-1.04.2-1.43.59L10.3 9.45l-7.72 7.72c-.78.78-.78 2.05 0 2.83L4 21.41c.39.39.9.59 1.41.59.51 0 1.02-.2 1.41-.59l7.78-7.78 2.81-2.81c.8-.78.8-2.07 0-2.86zM5.41 20L4 18.59l7.72-7.72 1.47 1.35L5.41 20z\"/>\n",
              "  </svg>\n",
              "      </button>\n",
              "      \n",
              "  <style>\n",
              "    .colab-df-container {\n",
              "      display:flex;\n",
              "      flex-wrap:wrap;\n",
              "      gap: 12px;\n",
              "    }\n",
              "\n",
              "    .colab-df-convert {\n",
              "      background-color: #E8F0FE;\n",
              "      border: none;\n",
              "      border-radius: 50%;\n",
              "      cursor: pointer;\n",
              "      display: none;\n",
              "      fill: #1967D2;\n",
              "      height: 32px;\n",
              "      padding: 0 0 0 0;\n",
              "      width: 32px;\n",
              "    }\n",
              "\n",
              "    .colab-df-convert:hover {\n",
              "      background-color: #E2EBFA;\n",
              "      box-shadow: 0px 1px 2px rgba(60, 64, 67, 0.3), 0px 1px 3px 1px rgba(60, 64, 67, 0.15);\n",
              "      fill: #174EA6;\n",
              "    }\n",
              "\n",
              "    [theme=dark] .colab-df-convert {\n",
              "      background-color: #3B4455;\n",
              "      fill: #D2E3FC;\n",
              "    }\n",
              "\n",
              "    [theme=dark] .colab-df-convert:hover {\n",
              "      background-color: #434B5C;\n",
              "      box-shadow: 0px 1px 3px 1px rgba(0, 0, 0, 0.15);\n",
              "      filter: drop-shadow(0px 1px 2px rgba(0, 0, 0, 0.3));\n",
              "      fill: #FFFFFF;\n",
              "    }\n",
              "  </style>\n",
              "\n",
              "      <script>\n",
              "        const buttonEl =\n",
              "          document.querySelector('#df-698b381c-720b-4e84-abf9-62b69f92308d button.colab-df-convert');\n",
              "        buttonEl.style.display =\n",
              "          google.colab.kernel.accessAllowed ? 'block' : 'none';\n",
              "\n",
              "        async function convertToInteractive(key) {\n",
              "          const element = document.querySelector('#df-698b381c-720b-4e84-abf9-62b69f92308d');\n",
              "          const dataTable =\n",
              "            await google.colab.kernel.invokeFunction('convertToInteractive',\n",
              "                                                     [key], {});\n",
              "          if (!dataTable) return;\n",
              "\n",
              "          const docLinkHtml = 'Like what you see? Visit the ' +\n",
              "            '<a target=\"_blank\" href=https://colab.research.google.com/notebooks/data_table.ipynb>data table notebook</a>'\n",
              "            + ' to learn more about interactive tables.';\n",
              "          element.innerHTML = '';\n",
              "          dataTable['output_type'] = 'display_data';\n",
              "          await google.colab.output.renderOutput(dataTable, element);\n",
              "          const docLink = document.createElement('div');\n",
              "          docLink.innerHTML = docLinkHtml;\n",
              "          element.appendChild(docLink);\n",
              "        }\n",
              "      </script>\n",
              "    </div>\n",
              "  </div>\n",
              "  "
            ]
          },
          "metadata": {},
          "execution_count": 23
        }
      ],
      "source": [
        "df_predicted = data[0:][['Close']]\n",
        "df_predicted"
      ]
    },
    {
      "cell_type": "code",
      "execution_count": null,
      "metadata": {
        "id": "PKfwcqWS63lf"
      },
      "outputs": [],
      "source": [
        "df_predicted['predections']=test_predicted\n"
      ]
    },
    {
      "cell_type": "code",
      "execution_count": null,
      "metadata": {
        "id": "FaF90zTr63fd",
        "colab": {
          "base_uri": "https://localhost:8080/",
          "height": 455
        },
        "outputId": "7eaf460b-f03c-43a9-bb1d-2c2150d8efa9"
      },
      "outputs": [
        {
          "output_type": "execute_result",
          "data": {
            "text/plain": [
              "                  Close  predections\n",
              "Date                                \n",
              "2019-01-28  1218.004517  1218.207886\n",
              "2019-01-29  1199.281982  1199.545166\n",
              "2019-01-30  1184.472412  1184.842285\n",
              "2019-01-31  1215.627075  1215.831787\n",
              "2019-02-01  1238.213013  1238.477173\n",
              "...                 ...          ...\n",
              "2022-03-21  2467.399902  2469.399414\n",
              "2022-03-22  2531.149902  2532.169678\n",
              "2022-03-23  2539.199951  2540.154297\n",
              "2022-03-24  2578.649902  2579.469727\n",
              "2022-03-25  2595.850098  2596.707764\n",
              "\n",
              "[780 rows x 2 columns]"
            ],
            "text/html": [
              "\n",
              "  <div id=\"df-5784406f-52f5-4500-a7ae-2972abb930f4\">\n",
              "    <div class=\"colab-df-container\">\n",
              "      <div>\n",
              "<style scoped>\n",
              "    .dataframe tbody tr th:only-of-type {\n",
              "        vertical-align: middle;\n",
              "    }\n",
              "\n",
              "    .dataframe tbody tr th {\n",
              "        vertical-align: top;\n",
              "    }\n",
              "\n",
              "    .dataframe thead th {\n",
              "        text-align: right;\n",
              "    }\n",
              "</style>\n",
              "<table border=\"1\" class=\"dataframe\">\n",
              "  <thead>\n",
              "    <tr style=\"text-align: right;\">\n",
              "      <th></th>\n",
              "      <th>Close</th>\n",
              "      <th>predections</th>\n",
              "    </tr>\n",
              "    <tr>\n",
              "      <th>Date</th>\n",
              "      <th></th>\n",
              "      <th></th>\n",
              "    </tr>\n",
              "  </thead>\n",
              "  <tbody>\n",
              "    <tr>\n",
              "      <th>2019-01-28</th>\n",
              "      <td>1218.004517</td>\n",
              "      <td>1218.207886</td>\n",
              "    </tr>\n",
              "    <tr>\n",
              "      <th>2019-01-29</th>\n",
              "      <td>1199.281982</td>\n",
              "      <td>1199.545166</td>\n",
              "    </tr>\n",
              "    <tr>\n",
              "      <th>2019-01-30</th>\n",
              "      <td>1184.472412</td>\n",
              "      <td>1184.842285</td>\n",
              "    </tr>\n",
              "    <tr>\n",
              "      <th>2019-01-31</th>\n",
              "      <td>1215.627075</td>\n",
              "      <td>1215.831787</td>\n",
              "    </tr>\n",
              "    <tr>\n",
              "      <th>2019-02-01</th>\n",
              "      <td>1238.213013</td>\n",
              "      <td>1238.477173</td>\n",
              "    </tr>\n",
              "    <tr>\n",
              "      <th>...</th>\n",
              "      <td>...</td>\n",
              "      <td>...</td>\n",
              "    </tr>\n",
              "    <tr>\n",
              "      <th>2022-03-21</th>\n",
              "      <td>2467.399902</td>\n",
              "      <td>2469.399414</td>\n",
              "    </tr>\n",
              "    <tr>\n",
              "      <th>2022-03-22</th>\n",
              "      <td>2531.149902</td>\n",
              "      <td>2532.169678</td>\n",
              "    </tr>\n",
              "    <tr>\n",
              "      <th>2022-03-23</th>\n",
              "      <td>2539.199951</td>\n",
              "      <td>2540.154297</td>\n",
              "    </tr>\n",
              "    <tr>\n",
              "      <th>2022-03-24</th>\n",
              "      <td>2578.649902</td>\n",
              "      <td>2579.469727</td>\n",
              "    </tr>\n",
              "    <tr>\n",
              "      <th>2022-03-25</th>\n",
              "      <td>2595.850098</td>\n",
              "      <td>2596.707764</td>\n",
              "    </tr>\n",
              "  </tbody>\n",
              "</table>\n",
              "<p>780 rows × 2 columns</p>\n",
              "</div>\n",
              "      <button class=\"colab-df-convert\" onclick=\"convertToInteractive('df-5784406f-52f5-4500-a7ae-2972abb930f4')\"\n",
              "              title=\"Convert this dataframe to an interactive table.\"\n",
              "              style=\"display:none;\">\n",
              "        \n",
              "  <svg xmlns=\"http://www.w3.org/2000/svg\" height=\"24px\"viewBox=\"0 0 24 24\"\n",
              "       width=\"24px\">\n",
              "    <path d=\"M0 0h24v24H0V0z\" fill=\"none\"/>\n",
              "    <path d=\"M18.56 5.44l.94 2.06.94-2.06 2.06-.94-2.06-.94-.94-2.06-.94 2.06-2.06.94zm-11 1L8.5 8.5l.94-2.06 2.06-.94-2.06-.94L8.5 2.5l-.94 2.06-2.06.94zm10 10l.94 2.06.94-2.06 2.06-.94-2.06-.94-.94-2.06-.94 2.06-2.06.94z\"/><path d=\"M17.41 7.96l-1.37-1.37c-.4-.4-.92-.59-1.43-.59-.52 0-1.04.2-1.43.59L10.3 9.45l-7.72 7.72c-.78.78-.78 2.05 0 2.83L4 21.41c.39.39.9.59 1.41.59.51 0 1.02-.2 1.41-.59l7.78-7.78 2.81-2.81c.8-.78.8-2.07 0-2.86zM5.41 20L4 18.59l7.72-7.72 1.47 1.35L5.41 20z\"/>\n",
              "  </svg>\n",
              "      </button>\n",
              "      \n",
              "  <style>\n",
              "    .colab-df-container {\n",
              "      display:flex;\n",
              "      flex-wrap:wrap;\n",
              "      gap: 12px;\n",
              "    }\n",
              "\n",
              "    .colab-df-convert {\n",
              "      background-color: #E8F0FE;\n",
              "      border: none;\n",
              "      border-radius: 50%;\n",
              "      cursor: pointer;\n",
              "      display: none;\n",
              "      fill: #1967D2;\n",
              "      height: 32px;\n",
              "      padding: 0 0 0 0;\n",
              "      width: 32px;\n",
              "    }\n",
              "\n",
              "    .colab-df-convert:hover {\n",
              "      background-color: #E2EBFA;\n",
              "      box-shadow: 0px 1px 2px rgba(60, 64, 67, 0.3), 0px 1px 3px 1px rgba(60, 64, 67, 0.15);\n",
              "      fill: #174EA6;\n",
              "    }\n",
              "\n",
              "    [theme=dark] .colab-df-convert {\n",
              "      background-color: #3B4455;\n",
              "      fill: #D2E3FC;\n",
              "    }\n",
              "\n",
              "    [theme=dark] .colab-df-convert:hover {\n",
              "      background-color: #434B5C;\n",
              "      box-shadow: 0px 1px 3px 1px rgba(0, 0, 0, 0.15);\n",
              "      filter: drop-shadow(0px 1px 2px rgba(0, 0, 0, 0.3));\n",
              "      fill: #FFFFFF;\n",
              "    }\n",
              "  </style>\n",
              "\n",
              "      <script>\n",
              "        const buttonEl =\n",
              "          document.querySelector('#df-5784406f-52f5-4500-a7ae-2972abb930f4 button.colab-df-convert');\n",
              "        buttonEl.style.display =\n",
              "          google.colab.kernel.accessAllowed ? 'block' : 'none';\n",
              "\n",
              "        async function convertToInteractive(key) {\n",
              "          const element = document.querySelector('#df-5784406f-52f5-4500-a7ae-2972abb930f4');\n",
              "          const dataTable =\n",
              "            await google.colab.kernel.invokeFunction('convertToInteractive',\n",
              "                                                     [key], {});\n",
              "          if (!dataTable) return;\n",
              "\n",
              "          const docLinkHtml = 'Like what you see? Visit the ' +\n",
              "            '<a target=\"_blank\" href=https://colab.research.google.com/notebooks/data_table.ipynb>data table notebook</a>'\n",
              "            + ' to learn more about interactive tables.';\n",
              "          element.innerHTML = '';\n",
              "          dataTable['output_type'] = 'display_data';\n",
              "          await google.colab.output.renderOutput(dataTable, element);\n",
              "          const docLink = document.createElement('div');\n",
              "          docLink.innerHTML = docLinkHtml;\n",
              "          element.appendChild(docLink);\n",
              "        }\n",
              "      </script>\n",
              "    </div>\n",
              "  </div>\n",
              "  "
            ]
          },
          "metadata": {},
          "execution_count": 25
        }
      ],
      "source": [
        "df_predicted"
      ]
    },
    {
      "cell_type": "code",
      "execution_count": null,
      "metadata": {
        "id": "v7byoQcs63cw",
        "colab": {
          "base_uri": "https://localhost:8080/",
          "height": 474
        },
        "outputId": "ef84125c-61e3-42c0-88e5-2cff63031599"
      },
      "outputs": [
        {
          "output_type": "display_data",
          "data": {
            "text/plain": [
              "<Figure size 1800x576 with 1 Axes>"
            ],
            "image/png": "[encoded data removed]"
          },
          "metadata": {
            "needs_background": "light"
          }
        }
      ],
      "source": [
        "rcParams['figure.figsize'] = 25,8\n",
        "plt.plot(df_predicted['Close'],label='original Data')\n",
        "plt.plot(df_predicted['predections'],label='Predicted Data')\n",
        "plt.legend(loc='best')\n",
        "plt.grid();"
      ]
    },
    {
      "cell_type": "code",
      "execution_count": null,
      "metadata": {
        "id": "Zex6dIZW7z0A",
        "colab": {
          "base_uri": "https://localhost:8080/"
        },
        "outputId": "95ab5dfd-2ca5-4ab1-ec04-08378a34835f"
      },
      "outputs": [
        {
          "output_type": "execute_result",
          "data": {
            "text/plain": [
              "0.39439502281944755"
            ]
          },
          "metadata": {},
          "execution_count": 68
        }
      ],
      "source": [
        "from sklearn.metrics import mean_squared_error\n",
        "rmse =np.sqrt( mean_squared_error(df_predicted['Close'],df_predicted['predections']))\n",
        "rmse"
      ]
    },
    {
      "cell_type": "code",
      "execution_count": null,
      "metadata": {
        "id": "pGUNtnQR7zs3"
      },
      "outputs": [],
      "source": [
        "def MAPE(y_true, y_pred):\n",
        "    return np.mean((np.abs(y_true-y_pred))/(y_true))*100"
      ]
    },
    {
      "cell_type": "code",
      "execution_count": null,
      "metadata": {
        "id": "qm4_Qcbb7zpM",
        "colab": {
          "base_uri": "https://localhost:8080/"
        },
        "outputId": "1b10a70d-fa4b-46fc-9740-b6e45c7f512e"
      },
      "outputs": [
        {
          "output_type": "stream",
          "name": "stdout",
          "text": [
            "0.018113071248327454\n"
          ]
        }
      ],
      "source": [
        "mape=MAPE(df_predicted['Close'].values,df_predicted['predections'].values)\n",
        "print(mape)"
      ]
    }
  ]
}