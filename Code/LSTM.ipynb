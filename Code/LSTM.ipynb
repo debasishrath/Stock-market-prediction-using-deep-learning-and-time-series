{
  "cells": [
    {
      "cell_type": "markdown",
      "metadata": {
        "id": "KGwroOqOskMu"
      },
      "source": [
        "### Stock Market Prediction And Forecasting Using Stacked LSTM"
      ]
    },
    {
      "cell_type": "code",
      "execution_count": null,
      "metadata": {
        "id": "gH21MQxsskMx"
      },
      "outputs": [],
      "source": [
        "### Keras and Tensorflow >2.0"
      ]
    },
    {
      "cell_type": "code",
      "source": [
        "pip install --upgrade keras-hypetune"
      ],
      "metadata": {
        "colab": {
          "base_uri": "https://localhost:8080/"
        },
        "id": "JOe5FTUVPIUk",
        "outputId": "8eb7f9d9-7376-4bed-b7d6-1c7904ed65c4"
      },
      "execution_count": null,
      "outputs": [
        {
          "output_type": "stream",
          "name": "stdout",
          "text": [
            "Collecting keras-hypetune\n",
            "  Downloading keras_hypetune-0.2.1-py3-none-any.whl (12 kB)\n",
            "Collecting hyperopt==0.2.5\n",
            "  Downloading hyperopt-0.2.5-py2.py3-none-any.whl (965 kB)\n",
            "\u001b[K     |████████████████████████████████| 965 kB 735 kB/s \n",
            "\u001b[?25hRequirement already satisfied: numpy in /usr/local/lib/python3.7/dist-packages (from keras-hypetune) (1.21.5)\n",
            "Requirement already satisfied: scipy in /usr/local/lib/python3.7/dist-packages (from hyperopt==0.2.5->keras-hypetune) (1.4.1)\n",
            "Requirement already satisfied: tqdm in /usr/local/lib/python3.7/dist-packages (from hyperopt==0.2.5->keras-hypetune) (4.64.0)\n",
            "Requirement already satisfied: future in /usr/local/lib/python3.7/dist-packages (from hyperopt==0.2.5->keras-hypetune) (0.16.0)\n",
            "Requirement already satisfied: cloudpickle in /usr/local/lib/python3.7/dist-packages (from hyperopt==0.2.5->keras-hypetune) (1.3.0)\n",
            "Requirement already satisfied: networkx>=2.2 in /usr/local/lib/python3.7/dist-packages (from hyperopt==0.2.5->keras-hypetune) (2.6.3)\n",
            "Requirement already satisfied: six in /usr/local/lib/python3.7/dist-packages (from hyperopt==0.2.5->keras-hypetune) (1.15.0)\n",
            "Installing collected packages: hyperopt, keras-hypetune\n",
            "  Attempting uninstall: hyperopt\n",
            "    Found existing installation: hyperopt 0.1.2\n",
            "    Uninstalling hyperopt-0.1.2:\n",
            "      Successfully uninstalled hyperopt-0.1.2\n",
            "Successfully installed hyperopt-0.2.5 keras-hypetune-0.2.1\n"
          ]
        }
      ]
    },
    {
      "cell_type": "code",
      "execution_count": null,
      "metadata": {
        "id": "ddTJdKbO7BPy",
        "colab": {
          "base_uri": "https://localhost:8080/"
        },
        "outputId": "48ce07bb-2d01-4f87-8b3a-fd5d8ddc8468"
      },
      "outputs": [
        {
          "output_type": "stream",
          "name": "stderr",
          "text": [
            "/usr/local/lib/python3.7/dist-packages/statsmodels/tools/_testing.py:19: FutureWarning: pandas.util.testing is deprecated. Use the functions in the public API at pandas.testing instead.\n",
            "  import pandas.util.testing as tm\n"
          ]
        }
      ],
      "source": [
        "\n",
        "import numpy as np # linear algebra\n",
        "import pandas as pd # data processing, CSV file I/O (e.g. pd.read_csv)\n",
        "\n",
        "import pandas                             as      pd\n",
        "import numpy                              as      np\n",
        "import matplotlib.pyplot                  as      plt\n",
        "import seaborn                            as      sns\n",
        "from   IPython.display                    import  display\n",
        "from   pylab                              import  rcParams \n",
        "from   datetime                           import  datetime, timedelta\n",
        "from statsmodels.tsa.stattools            import  adfuller\n",
        "from statsmodels.tsa.stattools            import  pacf\n",
        "from statsmodels.tsa.stattools            import  acf\n",
        "from statsmodels.graphics.tsaplots        import  plot_pacf\n",
        "from statsmodels.graphics.tsaplots        import  plot_acf\n",
        "from statsmodels.graphics.gofplots        import  qqplot\n",
        "from statsmodels.tsa.seasonal             import  seasonal_decompose\n",
        "from statsmodels.tsa.arima_model          import  ARIMA\n",
        "from statsmodels.tsa.statespace.sarimax   import  SARIMAX\n",
        "from   statsmodels.tsa.api             import ExponentialSmoothing, SimpleExpSmoothing, Holt\n",
        "\n",
        "import numpy                      as np\n",
        "import pandas                     as pd\n",
        "import matplotlib.pyplot          as plt\n",
        "import seaborn as sns\n",
        "import warnings\n",
        "from statsmodels.tsa.seasonal  import seasonal_decompose\n",
        "from   sklearn.metrics                 import  mean_squared_error\n",
        "from   statsmodels.tsa.api             import ExponentialSmoothing, SimpleExpSmoothing, Holt\n",
        "from   IPython.display                 import display\n",
        "from   pylab                           import rcParams\n",
        "from   datetime                        import  datetime,timedelta\n",
        "from math import sqrt\n",
        "import warnings\n",
        "warnings.filterwarnings('ignore')\n",
        "from statsmodels.tsa.stattools         import  adfuller\n",
        "from statsmodels.tsa.stattools         import  pacf\n",
        "from statsmodels.tsa.stattools         import  acf\n",
        "from statsmodels.graphics.tsaplots     import  plot_pacf\n",
        "from statsmodels.graphics.tsaplots     import  plot_acf\n",
        "from   IPython.display                 import  display\n",
        "from   pylab   import  rcParams \n",
        "import warnings\n",
        "import statsmodels.tools.eval_measures as      em\n",
        "from   sklearn.metrics                 import  mean_squared_error\n",
        "from   statsmodels.tsa.api             import ExponentialSmoothing, SimpleExpSmoothing, Holt\n",
        "from   IPython.display                 import display\n",
        "from   pylab                           import rcParams\n",
        "from   datetime                        import  datetime,timedelta\n",
        "from math import sqrt\n",
        "%matplotlib inline\n",
        "from   pylab                           import  rcParams \n",
        "from   datetime                        import  datetime, timedelta\n",
        "from statsmodels.graphics.gofplots     import qqplot\n",
        "from statsmodels.tsa.seasonal          import seasonal_decompose\n",
        "from statsmodels.tsa.arima_model       import  ARMA, ARIMA\n",
        "import warnings\n",
        "import statsmodels.api as sm\n",
        "import statsmodels.tsa.api as smt\n",
        "import statsmodels.formula.api as smf\n",
        "\n",
        "import matplotlib.pyplot as plt\n",
        "%matplotlib inline\n",
        "from   IPython.display                    import  display\n",
        "from   pylab                              import  rcParams \n",
        "from   datetime                           import  datetime, timedelta\n",
        "from statsmodels.tsa.stattools            import  adfuller\n",
        "from statsmodels.tsa.stattools            import  pacf\n",
        "from statsmodels.tsa.stattools            import  acf\n",
        "from statsmodels.graphics.tsaplots        import  plot_pacf\n",
        "from statsmodels.graphics.tsaplots        import  plot_acf\n",
        "from statsmodels.graphics.gofplots        import  qqplot\n",
        "from statsmodels.tsa.seasonal             import  seasonal_decompose\n",
        "from statsmodels.tsa.arima_model          import  ARIMA\n",
        "from statsmodels.tsa.statespace.sarimax   import  SARIMAX\n",
        "from sklearn                              import  metrics\n",
        "from statsmodels.tsa.vector_ar.vecm       import  coint_johansen\n",
        "from statsmodels.tsa.stattools            import  adfuller\n",
        "from statsmodels.tsa.stattools            import  pacf\n",
        "from statsmodels.tsa.stattools            import  acf\n",
        "from statsmodels.graphics.tsaplots        import  plot_pacf\n",
        "from statsmodels.graphics.tsaplots        import  plot_acf\n",
        "from statsmodels.tsa.api                  import  VAR\n",
        "from statsmodels.tsa.statespace.varmax    import  VARMAX\n",
        "\n",
        "## Read Data.\n",
        "\n",
        "import matplotlib as mpl\n",
        "import matplotlib.pyplot as plt\n",
        "import seaborn as sns\n",
        "from datetime import datetime\n",
        "mpl.rcParams['figure.figsize'] = (15, 7)\n",
        "mpl.rcParams['axes.grid'] = False\n",
        "\n",
        "mpl.rcParams['figure.figsize'] = (20, 7)\n",
        "mpl.rcParams['axes.grid'] = False\n",
        "\n",
        "import pandas as pd \n",
        "import matplotlib.pyplot as plt\n",
        "import numpy as np\n",
        "from sklearn.preprocessing import MinMaxScaler\n",
        "from keras.models import Sequential\n",
        "from keras.layers import Dense, Dropout, LSTM\n",
        "from sklearn.metrics import mean_squared_error\n",
        "from sklearn.preprocessing import StandardScaler\n",
        "from sklearn.model_selection import train_test_split\n",
        "from statsmodels.tsa.vector_ar.var_model import VAR\n",
        "\n",
        "import tensorflow as tf\n",
        "from tensorflow.keras.layers import *\n",
        "from tensorflow.keras.models import *\n",
        "from tensorflow.keras.callbacks import *\n",
        "from tensorflow.keras.optimizers import *\n",
        "from kerashypetune import KerasRandomSearch, KerasGridSearch"
      ]
    },
    {
      "cell_type": "code",
      "source": [
        "from google.colab import drive\n",
        "drive.mount('/content/drive')"
      ],
      "metadata": {
        "colab": {
          "base_uri": "https://localhost:8080/"
        },
        "id": "nIzPiC9B7enE",
        "outputId": "69ac9130-f1cb-4141-ac40-829a6d337766"
      },
      "execution_count": null,
      "outputs": [
        {
          "output_type": "stream",
          "name": "stdout",
          "text": [
            "Mounted at /content/drive\n"
          ]
        }
      ]
    },
    {
      "cell_type": "code",
      "source": [
        "data = pd.read_csv('/content/drive/MyDrive/M-tech Thesis/Reliance india.csv')"
      ],
      "metadata": {
        "id": "DVDhkmX97g75"
      },
      "execution_count": null,
      "outputs": []
    },
    {
      "cell_type": "code",
      "source": [
        "data.head()"
      ],
      "metadata": {
        "colab": {
          "base_uri": "https://localhost:8080/",
          "height": 206
        },
        "id": "jxjfljbF7xHw",
        "outputId": "17fb596a-af4f-46e6-a726-c50f2dbb0134"
      },
      "execution_count": null,
      "outputs": [
        {
          "output_type": "execute_result",
          "data": {
            "text/plain": [
              "         Date       Open       High        Low      Close  Adj Close  \\\n",
              "0  01-01-1996  15.859429  15.944529  15.754989  15.917452  10.509537   \n",
              "1  02-01-1996  15.878770  15.956133  15.677626  15.793671  10.427812   \n",
              "2  03-01-1996  16.052837  16.783918  15.878770  15.913584  10.506983   \n",
              "3  04-01-1996  15.762726  15.813012  15.553845  15.766594  10.409933   \n",
              "4  05-01-1996  15.704703  15.704703  15.522900  15.658285  10.338421   \n",
              "\n",
              "        Volume  \n",
              "0   48051995.0  \n",
              "1   77875009.0  \n",
              "2   96602936.0  \n",
              "3  100099436.0  \n",
              "4   76935930.0  "
            ],
            "text/html": [
              "\n",
              "  <div id=\"df-ade52130-0623-40f7-b3ae-ed901981e989\">\n",
              "    <div class=\"colab-df-container\">\n",
              "      <div>\n",
              "<style scoped>\n",
              "    .dataframe tbody tr th:only-of-type {\n",
              "        vertical-align: middle;\n",
              "    }\n",
              "\n",
              "    .dataframe tbody tr th {\n",
              "        vertical-align: top;\n",
              "    }\n",
              "\n",
              "    .dataframe thead th {\n",
              "        text-align: right;\n",
              "    }\n",
              "</style>\n",
              "<table border=\"1\" class=\"dataframe\">\n",
              "  <thead>\n",
              "    <tr style=\"text-align: right;\">\n",
              "      <th></th>\n",
              "      <th>Date</th>\n",
              "      <th>Open</th>\n",
              "      <th>High</th>\n",
              "      <th>Low</th>\n",
              "      <th>Close</th>\n",
              "      <th>Adj Close</th>\n",
              "      <th>Volume</th>\n",
              "    </tr>\n",
              "  </thead>\n",
              "  <tbody>\n",
              "    <tr>\n",
              "      <th>0</th>\n",
              "      <td>01-01-1996</td>\n",
              "      <td>15.859429</td>\n",
              "      <td>15.944529</td>\n",
              "      <td>15.754989</td>\n",
              "      <td>15.917452</td>\n",
              "      <td>10.509537</td>\n",
              "      <td>48051995.0</td>\n",
              "    </tr>\n",
              "    <tr>\n",
              "      <th>1</th>\n",
              "      <td>02-01-1996</td>\n",
              "      <td>15.878770</td>\n",
              "      <td>15.956133</td>\n",
              "      <td>15.677626</td>\n",
              "      <td>15.793671</td>\n",
              "      <td>10.427812</td>\n",
              "      <td>77875009.0</td>\n",
              "    </tr>\n",
              "    <tr>\n",
              "      <th>2</th>\n",
              "      <td>03-01-1996</td>\n",
              "      <td>16.052837</td>\n",
              "      <td>16.783918</td>\n",
              "      <td>15.878770</td>\n",
              "      <td>15.913584</td>\n",
              "      <td>10.506983</td>\n",
              "      <td>96602936.0</td>\n",
              "    </tr>\n",
              "    <tr>\n",
              "      <th>3</th>\n",
              "      <td>04-01-1996</td>\n",
              "      <td>15.762726</td>\n",
              "      <td>15.813012</td>\n",
              "      <td>15.553845</td>\n",
              "      <td>15.766594</td>\n",
              "      <td>10.409933</td>\n",
              "      <td>100099436.0</td>\n",
              "    </tr>\n",
              "    <tr>\n",
              "      <th>4</th>\n",
              "      <td>05-01-1996</td>\n",
              "      <td>15.704703</td>\n",
              "      <td>15.704703</td>\n",
              "      <td>15.522900</td>\n",
              "      <td>15.658285</td>\n",
              "      <td>10.338421</td>\n",
              "      <td>76935930.0</td>\n",
              "    </tr>\n",
              "  </tbody>\n",
              "</table>\n",
              "</div>\n",
              "      <button class=\"colab-df-convert\" onclick=\"convertToInteractive('df-ade52130-0623-40f7-b3ae-ed901981e989')\"\n",
              "              title=\"Convert this dataframe to an interactive table.\"\n",
              "              style=\"display:none;\">\n",
              "        \n",
              "  <svg xmlns=\"http://www.w3.org/2000/svg\" height=\"24px\"viewBox=\"0 0 24 24\"\n",
              "       width=\"24px\">\n",
              "    <path d=\"M0 0h24v24H0V0z\" fill=\"none\"/>\n",
              "    <path d=\"M18.56 5.44l.94 2.06.94-2.06 2.06-.94-2.06-.94-.94-2.06-.94 2.06-2.06.94zm-11 1L8.5 8.5l.94-2.06 2.06-.94-2.06-.94L8.5 2.5l-.94 2.06-2.06.94zm10 10l.94 2.06.94-2.06 2.06-.94-2.06-.94-.94-2.06-.94 2.06-2.06.94z\"/><path d=\"M17.41 7.96l-1.37-1.37c-.4-.4-.92-.59-1.43-.59-.52 0-1.04.2-1.43.59L10.3 9.45l-7.72 7.72c-.78.78-.78 2.05 0 2.83L4 21.41c.39.39.9.59 1.41.59.51 0 1.02-.2 1.41-.59l7.78-7.78 2.81-2.81c.8-.78.8-2.07 0-2.86zM5.41 20L4 18.59l7.72-7.72 1.47 1.35L5.41 20z\"/>\n",
              "  </svg>\n",
              "      </button>\n",
              "      \n",
              "  <style>\n",
              "    .colab-df-container {\n",
              "      display:flex;\n",
              "      flex-wrap:wrap;\n",
              "      gap: 12px;\n",
              "    }\n",
              "\n",
              "    .colab-df-convert {\n",
              "      background-color: #E8F0FE;\n",
              "      border: none;\n",
              "      border-radius: 50%;\n",
              "      cursor: pointer;\n",
              "      display: none;\n",
              "      fill: #1967D2;\n",
              "      height: 32px;\n",
              "      padding: 0 0 0 0;\n",
              "      width: 32px;\n",
              "    }\n",
              "\n",
              "    .colab-df-convert:hover {\n",
              "      background-color: #E2EBFA;\n",
              "      box-shadow: 0px 1px 2px rgba(60, 64, 67, 0.3), 0px 1px 3px 1px rgba(60, 64, 67, 0.15);\n",
              "      fill: #174EA6;\n",
              "    }\n",
              "\n",
              "    [theme=dark] .colab-df-convert {\n",
              "      background-color: #3B4455;\n",
              "      fill: #D2E3FC;\n",
              "    }\n",
              "\n",
              "    [theme=dark] .colab-df-convert:hover {\n",
              "      background-color: #434B5C;\n",
              "      box-shadow: 0px 1px 3px 1px rgba(0, 0, 0, 0.15);\n",
              "      filter: drop-shadow(0px 1px 2px rgba(0, 0, 0, 0.3));\n",
              "      fill: #FFFFFF;\n",
              "    }\n",
              "  </style>\n",
              "\n",
              "      <script>\n",
              "        const buttonEl =\n",
              "          document.querySelector('#df-ade52130-0623-40f7-b3ae-ed901981e989 button.colab-df-convert');\n",
              "        buttonEl.style.display =\n",
              "          google.colab.kernel.accessAllowed ? 'block' : 'none';\n",
              "\n",
              "        async function convertToInteractive(key) {\n",
              "          const element = document.querySelector('#df-ade52130-0623-40f7-b3ae-ed901981e989');\n",
              "          const dataTable =\n",
              "            await google.colab.kernel.invokeFunction('convertToInteractive',\n",
              "                                                     [key], {});\n",
              "          if (!dataTable) return;\n",
              "\n",
              "          const docLinkHtml = 'Like what you see? Visit the ' +\n",
              "            '<a target=\"_blank\" href=https://colab.research.google.com/notebooks/data_table.ipynb>data table notebook</a>'\n",
              "            + ' to learn more about interactive tables.';\n",
              "          element.innerHTML = '';\n",
              "          dataTable['output_type'] = 'display_data';\n",
              "          await google.colab.output.renderOutput(dataTable, element);\n",
              "          const docLink = document.createElement('div');\n",
              "          docLink.innerHTML = docLinkHtml;\n",
              "          element.appendChild(docLink);\n",
              "        }\n",
              "      </script>\n",
              "    </div>\n",
              "  </div>\n",
              "  "
            ]
          },
          "metadata": {},
          "execution_count": 5
        }
      ]
    },
    {
      "cell_type": "code",
      "source": [
        ""
      ],
      "metadata": {
        "id": "PAo8JVi3tHbH"
      },
      "execution_count": null,
      "outputs": []
    },
    {
      "cell_type": "code",
      "source": [
        "data['Date'] = pd.to_datetime(data.Date,format='%d-%m-%Y')\n",
        "data.index = data['Date']\n",
        "data = data.drop('Date',axis=1)"
      ],
      "metadata": {
        "id": "Z3CvOoSr7zUQ"
      },
      "execution_count": null,
      "outputs": []
    },
    {
      "cell_type": "code",
      "source": [
        "data.head()"
      ],
      "metadata": {
        "colab": {
          "base_uri": "https://localhost:8080/",
          "height": 238
        },
        "id": "0eWWQb-O71lR",
        "outputId": "3724a520-abe9-4480-d11f-e5b4ba9ff453"
      },
      "execution_count": null,
      "outputs": [
        {
          "output_type": "execute_result",
          "data": {
            "text/plain": [
              "                 Open       High        Low      Close  Adj Close       Volume\n",
              "Date                                                                          \n",
              "1996-01-01  15.859429  15.944529  15.754989  15.917452  10.509537   48051995.0\n",
              "1996-01-02  15.878770  15.956133  15.677626  15.793671  10.427812   77875009.0\n",
              "1996-01-03  16.052837  16.783918  15.878770  15.913584  10.506983   96602936.0\n",
              "1996-01-04  15.762726  15.813012  15.553845  15.766594  10.409933  100099436.0\n",
              "1996-01-05  15.704703  15.704703  15.522900  15.658285  10.338421   76935930.0"
            ],
            "text/html": [
              "\n",
              "  <div id=\"df-2ec9058d-89a3-44c0-a7b9-23f4a015a9bc\">\n",
              "    <div class=\"colab-df-container\">\n",
              "      <div>\n",
              "<style scoped>\n",
              "    .dataframe tbody tr th:only-of-type {\n",
              "        vertical-align: middle;\n",
              "    }\n",
              "\n",
              "    .dataframe tbody tr th {\n",
              "        vertical-align: top;\n",
              "    }\n",
              "\n",
              "    .dataframe thead th {\n",
              "        text-align: right;\n",
              "    }\n",
              "</style>\n",
              "<table border=\"1\" class=\"dataframe\">\n",
              "  <thead>\n",
              "    <tr style=\"text-align: right;\">\n",
              "      <th></th>\n",
              "      <th>Open</th>\n",
              "      <th>High</th>\n",
              "      <th>Low</th>\n",
              "      <th>Close</th>\n",
              "      <th>Adj Close</th>\n",
              "      <th>Volume</th>\n",
              "    </tr>\n",
              "    <tr>\n",
              "      <th>Date</th>\n",
              "      <th></th>\n",
              "      <th></th>\n",
              "      <th></th>\n",
              "      <th></th>\n",
              "      <th></th>\n",
              "      <th></th>\n",
              "    </tr>\n",
              "  </thead>\n",
              "  <tbody>\n",
              "    <tr>\n",
              "      <th>1996-01-01</th>\n",
              "      <td>15.859429</td>\n",
              "      <td>15.944529</td>\n",
              "      <td>15.754989</td>\n",
              "      <td>15.917452</td>\n",
              "      <td>10.509537</td>\n",
              "      <td>48051995.0</td>\n",
              "    </tr>\n",
              "    <tr>\n",
              "      <th>1996-01-02</th>\n",
              "      <td>15.878770</td>\n",
              "      <td>15.956133</td>\n",
              "      <td>15.677626</td>\n",
              "      <td>15.793671</td>\n",
              "      <td>10.427812</td>\n",
              "      <td>77875009.0</td>\n",
              "    </tr>\n",
              "    <tr>\n",
              "      <th>1996-01-03</th>\n",
              "      <td>16.052837</td>\n",
              "      <td>16.783918</td>\n",
              "      <td>15.878770</td>\n",
              "      <td>15.913584</td>\n",
              "      <td>10.506983</td>\n",
              "      <td>96602936.0</td>\n",
              "    </tr>\n",
              "    <tr>\n",
              "      <th>1996-01-04</th>\n",
              "      <td>15.762726</td>\n",
              "      <td>15.813012</td>\n",
              "      <td>15.553845</td>\n",
              "      <td>15.766594</td>\n",
              "      <td>10.409933</td>\n",
              "      <td>100099436.0</td>\n",
              "    </tr>\n",
              "    <tr>\n",
              "      <th>1996-01-05</th>\n",
              "      <td>15.704703</td>\n",
              "      <td>15.704703</td>\n",
              "      <td>15.522900</td>\n",
              "      <td>15.658285</td>\n",
              "      <td>10.338421</td>\n",
              "      <td>76935930.0</td>\n",
              "    </tr>\n",
              "  </tbody>\n",
              "</table>\n",
              "</div>\n",
              "      <button class=\"colab-df-convert\" onclick=\"convertToInteractive('df-2ec9058d-89a3-44c0-a7b9-23f4a015a9bc')\"\n",
              "              title=\"Convert this dataframe to an interactive table.\"\n",
              "              style=\"display:none;\">\n",
              "        \n",
              "  <svg xmlns=\"http://www.w3.org/2000/svg\" height=\"24px\"viewBox=\"0 0 24 24\"\n",
              "       width=\"24px\">\n",
              "    <path d=\"M0 0h24v24H0V0z\" fill=\"none\"/>\n",
              "    <path d=\"M18.56 5.44l.94 2.06.94-2.06 2.06-.94-2.06-.94-.94-2.06-.94 2.06-2.06.94zm-11 1L8.5 8.5l.94-2.06 2.06-.94-2.06-.94L8.5 2.5l-.94 2.06-2.06.94zm10 10l.94 2.06.94-2.06 2.06-.94-2.06-.94-.94-2.06-.94 2.06-2.06.94z\"/><path d=\"M17.41 7.96l-1.37-1.37c-.4-.4-.92-.59-1.43-.59-.52 0-1.04.2-1.43.59L10.3 9.45l-7.72 7.72c-.78.78-.78 2.05 0 2.83L4 21.41c.39.39.9.59 1.41.59.51 0 1.02-.2 1.41-.59l7.78-7.78 2.81-2.81c.8-.78.8-2.07 0-2.86zM5.41 20L4 18.59l7.72-7.72 1.47 1.35L5.41 20z\"/>\n",
              "  </svg>\n",
              "      </button>\n",
              "      \n",
              "  <style>\n",
              "    .colab-df-container {\n",
              "      display:flex;\n",
              "      flex-wrap:wrap;\n",
              "      gap: 12px;\n",
              "    }\n",
              "\n",
              "    .colab-df-convert {\n",
              "      background-color: #E8F0FE;\n",
              "      border: none;\n",
              "      border-radius: 50%;\n",
              "      cursor: pointer;\n",
              "      display: none;\n",
              "      fill: #1967D2;\n",
              "      height: 32px;\n",
              "      padding: 0 0 0 0;\n",
              "      width: 32px;\n",
              "    }\n",
              "\n",
              "    .colab-df-convert:hover {\n",
              "      background-color: #E2EBFA;\n",
              "      box-shadow: 0px 1px 2px rgba(60, 64, 67, 0.3), 0px 1px 3px 1px rgba(60, 64, 67, 0.15);\n",
              "      fill: #174EA6;\n",
              "    }\n",
              "\n",
              "    [theme=dark] .colab-df-convert {\n",
              "      background-color: #3B4455;\n",
              "      fill: #D2E3FC;\n",
              "    }\n",
              "\n",
              "    [theme=dark] .colab-df-convert:hover {\n",
              "      background-color: #434B5C;\n",
              "      box-shadow: 0px 1px 3px 1px rgba(0, 0, 0, 0.15);\n",
              "      filter: drop-shadow(0px 1px 2px rgba(0, 0, 0, 0.3));\n",
              "      fill: #FFFFFF;\n",
              "    }\n",
              "  </style>\n",
              "\n",
              "      <script>\n",
              "        const buttonEl =\n",
              "          document.querySelector('#df-2ec9058d-89a3-44c0-a7b9-23f4a015a9bc button.colab-df-convert');\n",
              "        buttonEl.style.display =\n",
              "          google.colab.kernel.accessAllowed ? 'block' : 'none';\n",
              "\n",
              "        async function convertToInteractive(key) {\n",
              "          const element = document.querySelector('#df-2ec9058d-89a3-44c0-a7b9-23f4a015a9bc');\n",
              "          const dataTable =\n",
              "            await google.colab.kernel.invokeFunction('convertToInteractive',\n",
              "                                                     [key], {});\n",
              "          if (!dataTable) return;\n",
              "\n",
              "          const docLinkHtml = 'Like what you see? Visit the ' +\n",
              "            '<a target=\"_blank\" href=https://colab.research.google.com/notebooks/data_table.ipynb>data table notebook</a>'\n",
              "            + ' to learn more about interactive tables.';\n",
              "          element.innerHTML = '';\n",
              "          dataTable['output_type'] = 'display_data';\n",
              "          await google.colab.output.renderOutput(dataTable, element);\n",
              "          const docLink = document.createElement('div');\n",
              "          docLink.innerHTML = docLinkHtml;\n",
              "          element.appendChild(docLink);\n",
              "        }\n",
              "      </script>\n",
              "    </div>\n",
              "  </div>\n",
              "  "
            ]
          },
          "metadata": {},
          "execution_count": 7
        }
      ]
    },
    {
      "cell_type": "code",
      "source": [
        "data.isnull().sum()"
      ],
      "metadata": {
        "colab": {
          "base_uri": "https://localhost:8080/"
        },
        "id": "k8-Dh4Zu73KY",
        "outputId": "669ee609-874b-42a5-806c-893a3de23f84"
      },
      "execution_count": null,
      "outputs": [
        {
          "output_type": "execute_result",
          "data": {
            "text/plain": [
              "Open         10\n",
              "High         10\n",
              "Low          10\n",
              "Close        10\n",
              "Adj Close    10\n",
              "Volume       10\n",
              "dtype: int64"
            ]
          },
          "metadata": {},
          "execution_count": 8
        }
      ]
    },
    {
      "cell_type": "code",
      "source": [
        "data['Open'] = data['Open'].fillna(method = 'bfill')\n",
        "data['High'] = data['High'].fillna(method = 'bfill')\n",
        "data['Low'] = data['Low'].fillna(method = 'bfill')\n",
        "data['Close'] = data['Close'].fillna(method = 'bfill')\n",
        "data['Adj Close'] = data['Adj Close'].fillna(method = 'bfill')\n",
        "data['Volume'] = data['Volume'].fillna(method = 'bfill')"
      ],
      "metadata": {
        "id": "VE38g5S075j4"
      },
      "execution_count": null,
      "outputs": []
    },
    {
      "cell_type": "code",
      "source": [
        "data.isnull().sum()"
      ],
      "metadata": {
        "colab": {
          "base_uri": "https://localhost:8080/"
        },
        "id": "x19zOr6z77hg",
        "outputId": "535a55e3-b126-48f5-e7a5-bd476d0dd066"
      },
      "execution_count": null,
      "outputs": [
        {
          "output_type": "execute_result",
          "data": {
            "text/plain": [
              "Open         0\n",
              "High         0\n",
              "Low          0\n",
              "Close        0\n",
              "Adj Close    0\n",
              "Volume       0\n",
              "dtype: int64"
            ]
          },
          "metadata": {},
          "execution_count": 10
        }
      ]
    },
    {
      "cell_type": "code",
      "source": [
        "plt.plot(data['Close'])"
      ],
      "metadata": {
        "colab": {
          "base_uri": "https://localhost:8080/",
          "height": 446
        },
        "id": "3zCpGCy179OA",
        "outputId": "ae16b0a9-ea4e-4670-94e1-e37c0a89b6f6"
      },
      "execution_count": null,
      "outputs": [
        {
          "output_type": "execute_result",
          "data": {
            "text/plain": [
              "[<matplotlib.lines.Line2D at 0x7fa8ee20b6d0>]"
            ]
          },
          "metadata": {},
          "execution_count": 11
        },
        {
          "output_type": "display_data",
          "data": {
            "text/plain": [
              "<Figure size 1440x504 with 1 Axes>"
            ],
            "image/png": "[encoded data removed]"
          },
          "metadata": {
            "needs_background": "light"
          }
        }
      ]
    },
    {
      "cell_type": "code",
      "source": [
        "n_data = data.drop(['Open','High','Low','Adj Close','Volume'],axis=1)"
      ],
      "metadata": {
        "id": "doipGMNN7_Wo"
      },
      "execution_count": null,
      "outputs": []
    },
    {
      "cell_type": "code",
      "source": [
        "n_data.head()"
      ],
      "metadata": {
        "colab": {
          "base_uri": "https://localhost:8080/",
          "height": 238
        },
        "id": "WxI7j_D78Cu4",
        "outputId": "c3e83505-1a27-4ca5-edf3-a63a6f93ac0f"
      },
      "execution_count": null,
      "outputs": [
        {
          "output_type": "execute_result",
          "data": {
            "text/plain": [
              "                Close\n",
              "Date                 \n",
              "1996-01-01  15.917452\n",
              "1996-01-02  15.793671\n",
              "1996-01-03  15.913584\n",
              "1996-01-04  15.766594\n",
              "1996-01-05  15.658285"
            ],
            "text/html": [
              "\n",
              "  <div id=\"df-6eacc31f-eaa5-48a4-924c-78f5d20fe955\">\n",
              "    <div class=\"colab-df-container\">\n",
              "      <div>\n",
              "<style scoped>\n",
              "    .dataframe tbody tr th:only-of-type {\n",
              "        vertical-align: middle;\n",
              "    }\n",
              "\n",
              "    .dataframe tbody tr th {\n",
              "        vertical-align: top;\n",
              "    }\n",
              "\n",
              "    .dataframe thead th {\n",
              "        text-align: right;\n",
              "    }\n",
              "</style>\n",
              "<table border=\"1\" class=\"dataframe\">\n",
              "  <thead>\n",
              "    <tr style=\"text-align: right;\">\n",
              "      <th></th>\n",
              "      <th>Close</th>\n",
              "    </tr>\n",
              "    <tr>\n",
              "      <th>Date</th>\n",
              "      <th></th>\n",
              "    </tr>\n",
              "  </thead>\n",
              "  <tbody>\n",
              "    <tr>\n",
              "      <th>1996-01-01</th>\n",
              "      <td>15.917452</td>\n",
              "    </tr>\n",
              "    <tr>\n",
              "      <th>1996-01-02</th>\n",
              "      <td>15.793671</td>\n",
              "    </tr>\n",
              "    <tr>\n",
              "      <th>1996-01-03</th>\n",
              "      <td>15.913584</td>\n",
              "    </tr>\n",
              "    <tr>\n",
              "      <th>1996-01-04</th>\n",
              "      <td>15.766594</td>\n",
              "    </tr>\n",
              "    <tr>\n",
              "      <th>1996-01-05</th>\n",
              "      <td>15.658285</td>\n",
              "    </tr>\n",
              "  </tbody>\n",
              "</table>\n",
              "</div>\n",
              "      <button class=\"colab-df-convert\" onclick=\"convertToInteractive('df-6eacc31f-eaa5-48a4-924c-78f5d20fe955')\"\n",
              "              title=\"Convert this dataframe to an interactive table.\"\n",
              "              style=\"display:none;\">\n",
              "        \n",
              "  <svg xmlns=\"http://www.w3.org/2000/svg\" height=\"24px\"viewBox=\"0 0 24 24\"\n",
              "       width=\"24px\">\n",
              "    <path d=\"M0 0h24v24H0V0z\" fill=\"none\"/>\n",
              "    <path d=\"M18.56 5.44l.94 2.06.94-2.06 2.06-.94-2.06-.94-.94-2.06-.94 2.06-2.06.94zm-11 1L8.5 8.5l.94-2.06 2.06-.94-2.06-.94L8.5 2.5l-.94 2.06-2.06.94zm10 10l.94 2.06.94-2.06 2.06-.94-2.06-.94-.94-2.06-.94 2.06-2.06.94z\"/><path d=\"M17.41 7.96l-1.37-1.37c-.4-.4-.92-.59-1.43-.59-.52 0-1.04.2-1.43.59L10.3 9.45l-7.72 7.72c-.78.78-.78 2.05 0 2.83L4 21.41c.39.39.9.59 1.41.59.51 0 1.02-.2 1.41-.59l7.78-7.78 2.81-2.81c.8-.78.8-2.07 0-2.86zM5.41 20L4 18.59l7.72-7.72 1.47 1.35L5.41 20z\"/>\n",
              "  </svg>\n",
              "      </button>\n",
              "      \n",
              "  <style>\n",
              "    .colab-df-container {\n",
              "      display:flex;\n",
              "      flex-wrap:wrap;\n",
              "      gap: 12px;\n",
              "    }\n",
              "\n",
              "    .colab-df-convert {\n",
              "      background-color: #E8F0FE;\n",
              "      border: none;\n",
              "      border-radius: 50%;\n",
              "      cursor: pointer;\n",
              "      display: none;\n",
              "      fill: #1967D2;\n",
              "      height: 32px;\n",
              "      padding: 0 0 0 0;\n",
              "      width: 32px;\n",
              "    }\n",
              "\n",
              "    .colab-df-convert:hover {\n",
              "      background-color: #E2EBFA;\n",
              "      box-shadow: 0px 1px 2px rgba(60, 64, 67, 0.3), 0px 1px 3px 1px rgba(60, 64, 67, 0.15);\n",
              "      fill: #174EA6;\n",
              "    }\n",
              "\n",
              "    [theme=dark] .colab-df-convert {\n",
              "      background-color: #3B4455;\n",
              "      fill: #D2E3FC;\n",
              "    }\n",
              "\n",
              "    [theme=dark] .colab-df-convert:hover {\n",
              "      background-color: #434B5C;\n",
              "      box-shadow: 0px 1px 3px 1px rgba(0, 0, 0, 0.15);\n",
              "      filter: drop-shadow(0px 1px 2px rgba(0, 0, 0, 0.3));\n",
              "      fill: #FFFFFF;\n",
              "    }\n",
              "  </style>\n",
              "\n",
              "      <script>\n",
              "        const buttonEl =\n",
              "          document.querySelector('#df-6eacc31f-eaa5-48a4-924c-78f5d20fe955 button.colab-df-convert');\n",
              "        buttonEl.style.display =\n",
              "          google.colab.kernel.accessAllowed ? 'block' : 'none';\n",
              "\n",
              "        async function convertToInteractive(key) {\n",
              "          const element = document.querySelector('#df-6eacc31f-eaa5-48a4-924c-78f5d20fe955');\n",
              "          const dataTable =\n",
              "            await google.colab.kernel.invokeFunction('convertToInteractive',\n",
              "                                                     [key], {});\n",
              "          if (!dataTable) return;\n",
              "\n",
              "          const docLinkHtml = 'Like what you see? Visit the ' +\n",
              "            '<a target=\"_blank\" href=https://colab.research.google.com/notebooks/data_table.ipynb>data table notebook</a>'\n",
              "            + ' to learn more about interactive tables.';\n",
              "          element.innerHTML = '';\n",
              "          dataTable['output_type'] = 'display_data';\n",
              "          await google.colab.output.renderOutput(dataTable, element);\n",
              "          const docLink = document.createElement('div');\n",
              "          docLink.innerHTML = docLinkHtml;\n",
              "          element.appendChild(docLink);\n",
              "        }\n",
              "      </script>\n",
              "    </div>\n",
              "  </div>\n",
              "  "
            ]
          },
          "metadata": {},
          "execution_count": 13
        }
      ]
    },
    {
      "cell_type": "code",
      "execution_count": null,
      "metadata": {
        "id": "ghfhu2XHskM3"
      },
      "outputs": [],
      "source": [
        "from sklearn.preprocessing import MinMaxScaler\n",
        "scaler=MinMaxScaler(feature_range=(0,1))\n",
        "df1=scaler.fit_transform(np.array(n_data).reshape(-1,1))"
      ]
    },
    {
      "cell_type": "code",
      "execution_count": null,
      "metadata": {
        "colab": {
          "base_uri": "https://localhost:8080/"
        },
        "id": "j7ZOeT1rskM3",
        "outputId": "1a80318b-cc1a-41c0-af3f-d1880828a6a8"
      },
      "outputs": [
        {
          "output_type": "stream",
          "name": "stdout",
          "text": [
            "[[0.00148044]\n",
            " [0.00143494]\n",
            " [0.00147902]\n",
            " ...\n",
            " [0.90661625]\n",
            " [0.86986931]\n",
            " [0.86815976]]\n"
          ]
        }
      ],
      "source": [
        "print(df1)"
      ]
    },
    {
      "cell_type": "code",
      "execution_count": null,
      "metadata": {
        "id": "P4TjOoZLskM4"
      },
      "outputs": [],
      "source": [
        "##splitting dataset into train and test split\n",
        "training_size=int(len(df1)*0.90)\n",
        "test_size=len(df1)-training_size\n",
        "train_data,test_data=df1[0:training_size,:],df1[training_size:len(df1),:1]"
      ]
    },
    {
      "cell_type": "code",
      "execution_count": null,
      "metadata": {
        "colab": {
          "base_uri": "https://localhost:8080/"
        },
        "id": "2t4O7hhJskM4",
        "outputId": "7e64d347-c949-4934-9cbd-90a540fcd693"
      },
      "outputs": [
        {
          "output_type": "execute_result",
          "data": {
            "text/plain": [
              "(5912, 657)"
            ]
          },
          "metadata": {},
          "execution_count": 17
        }
      ],
      "source": [
        "training_size,test_size"
      ]
    },
    {
      "cell_type": "code",
      "execution_count": null,
      "metadata": {
        "colab": {
          "base_uri": "https://localhost:8080/"
        },
        "id": "T0UGtXH6skM4",
        "outputId": "f942825c-52fe-4c50-93e1-b7f0b67fe282"
      },
      "outputs": [
        {
          "output_type": "execute_result",
          "data": {
            "text/plain": [
              "array([[0.00148044],\n",
              "       [0.00143494],\n",
              "       [0.00147902],\n",
              "       ...,\n",
              "       [0.4799237 ],\n",
              "       [0.48006938],\n",
              "       [0.49101359]])"
            ]
          },
          "metadata": {},
          "execution_count": 18
        }
      ],
      "source": [
        "train_data"
      ]
    },
    {
      "cell_type": "code",
      "execution_count": null,
      "metadata": {
        "id": "GXHU90oKskM5"
      },
      "outputs": [],
      "source": [
        "import numpy\n",
        "# convert an array of values into a dataset matrix\n",
        "def create_dataset(dataset, time_step=1):\n",
        "\tdataX, dataY = [], []\n",
        "\tfor i in range(len(dataset)-time_step-1):\n",
        "\t\ta = dataset[i:(i+time_step), 0]   ###i=0, 0,1,2,3-----99   100 \n",
        "\t\tdataX.append(a)\n",
        "\t\tdataY.append(dataset[i + time_step, 0])\n",
        "\treturn numpy.array(dataX), numpy.array(dataY)"
      ]
    },
    {
      "cell_type": "code",
      "execution_count": null,
      "metadata": {
        "id": "RAu3mqLHskM5"
      },
      "outputs": [],
      "source": [
        "# reshape into X=t,t+1,t+2,t+3 and Y=t+4\n",
        "time_step = 100\n",
        "X_train, y_train = create_dataset(train_data, time_step)\n",
        "X_test, ytest = create_dataset(test_data, time_step)"
      ]
    },
    {
      "cell_type": "code",
      "execution_count": null,
      "metadata": {
        "colab": {
          "base_uri": "https://localhost:8080/"
        },
        "id": "9srZ8UeJskM5",
        "outputId": "cd8eb022-7d80-4638-ccdf-0fcf2996ba53"
      },
      "outputs": [
        {
          "output_type": "stream",
          "name": "stdout",
          "text": [
            "(5811, 100)\n",
            "(5811,)\n"
          ]
        },
        {
          "output_type": "execute_result",
          "data": {
            "text/plain": [
              "(None, None)"
            ]
          },
          "metadata": {},
          "execution_count": 21
        }
      ],
      "source": [
        "print(X_train.shape), print(y_train.shape)"
      ]
    },
    {
      "cell_type": "code",
      "execution_count": null,
      "metadata": {
        "colab": {
          "base_uri": "https://localhost:8080/"
        },
        "id": "w2kKQtMrskM6",
        "outputId": "19f59e97-94a8-4dc0-cace-976f62f5fc71"
      },
      "outputs": [
        {
          "output_type": "stream",
          "name": "stdout",
          "text": [
            "(556, 100)\n",
            "(556,)\n"
          ]
        },
        {
          "output_type": "execute_result",
          "data": {
            "text/plain": [
              "(None, None)"
            ]
          },
          "metadata": {},
          "execution_count": 22
        }
      ],
      "source": [
        "print(X_test.shape), print(ytest.shape)"
      ]
    },
    {
      "cell_type": "code",
      "execution_count": null,
      "metadata": {
        "id": "3pqWeYujskM6"
      },
      "outputs": [],
      "source": [
        "# reshape input to be [samples, time steps, features] which is required for LSTM\n",
        "X_train =X_train.reshape(X_train.shape[0],X_train.shape[1] , 1)\n",
        "X_test = X_test.reshape(X_test.shape[0],X_test.shape[1] , 1)"
      ]
    },
    {
      "cell_type": "code",
      "execution_count": null,
      "metadata": {
        "id": "G2M_ksRFskM6"
      },
      "outputs": [],
      "source": [
        "### Create the Stacked LSTM model\n",
        "from tensorflow.keras.models import Sequential\n",
        "from tensorflow.keras.layers import Dense\n",
        "from tensorflow.keras.layers import LSTM"
      ]
    },
    {
      "cell_type": "code",
      "execution_count": null,
      "metadata": {
        "id": "mUE-ZCt_skM7"
      },
      "outputs": [],
      "source": [
        "model=Sequential()\n",
        "model.add(LSTM(50,return_sequences=True,input_shape=(100,1)))\n",
        "model.add(LSTM(50,return_sequences=True))\n",
        "model.add(LSTM(50))\n",
        "model.add(Flatten())\n",
        "model.add(Dense(128,activation ='relu'))\n",
        "model.add(Dense(64,activation ='relu'))\n",
        "model.add(Dense(32,activation ='relu'))\n",
        "model.add(Dense(1,activation='linear'))\n",
        "model.compile(loss='mean_squared_error',optimizer='adam')\n"
      ]
    },
    {
      "cell_type": "code",
      "execution_count": null,
      "metadata": {
        "colab": {
          "base_uri": "https://localhost:8080/"
        },
        "id": "hRPn14ElskM7",
        "outputId": "5ac19e19-b64f-42bd-9858-cb87e98790bf"
      },
      "outputs": [
        {
          "output_type": "stream",
          "name": "stdout",
          "text": [
            "Model: \"sequential_1\"\n",
            "_________________________________________________________________\n",
            " Layer (type)                Output Shape              Param #   \n",
            "=================================================================\n",
            " lstm_3 (LSTM)               (None, 100, 50)           10400     \n",
            "                                                                 \n",
            " lstm_4 (LSTM)               (None, 100, 50)           20200     \n",
            "                                                                 \n",
            " lstm_5 (LSTM)               (None, 50)                20200     \n",
            "                                                                 \n",
            " flatten (Flatten)           (None, 50)                0         \n",
            "                                                                 \n",
            " dense_1 (Dense)             (None, 128)               6528      \n",
            "                                                                 \n",
            " dense_2 (Dense)             (None, 64)                8256      \n",
            "                                                                 \n",
            " dense_3 (Dense)             (None, 32)                2080      \n",
            "                                                                 \n",
            " dense_4 (Dense)             (None, 1)                 33        \n",
            "                                                                 \n",
            "=================================================================\n",
            "Total params: 67,697\n",
            "Trainable params: 67,697\n",
            "Non-trainable params: 0\n",
            "_________________________________________________________________\n"
          ]
        }
      ],
      "source": [
        "model.summary()"
      ]
    },
    {
      "cell_type": "code",
      "execution_count": null,
      "metadata": {
        "colab": {
          "base_uri": "https://localhost:8080/"
        },
        "id": "pOpXGTwFskM7",
        "outputId": "28f169a1-17c8-444f-9f3c-19f6bb4472eb"
      },
      "outputs": [
        {
          "output_type": "stream",
          "name": "stdout",
          "text": [
            "Epoch 1/100\n",
            "91/91 [==============================] - 25s 200ms/step - loss: 0.0016 - val_loss: 0.0127\n",
            "Epoch 2/100\n",
            "91/91 [==============================] - 17s 184ms/step - loss: 1.0489e-04 - val_loss: 0.0056\n",
            "Epoch 3/100\n",
            "91/91 [==============================] - 17s 182ms/step - loss: 9.5433e-05 - val_loss: 0.0041\n",
            "Epoch 4/100\n",
            "91/91 [==============================] - 18s 195ms/step - loss: 8.7799e-05 - val_loss: 0.0029\n",
            "Epoch 5/100\n",
            "91/91 [==============================] - 17s 184ms/step - loss: 7.9586e-05 - val_loss: 0.0074\n",
            "Epoch 6/100\n",
            "91/91 [==============================] - 17s 184ms/step - loss: 8.1511e-05 - val_loss: 0.0040\n",
            "Epoch 7/100\n",
            "91/91 [==============================] - 17s 184ms/step - loss: 6.8960e-05 - val_loss: 0.0028\n",
            "Epoch 8/100\n",
            "91/91 [==============================] - 17s 182ms/step - loss: 6.5415e-05 - val_loss: 0.0033\n",
            "Epoch 9/100\n",
            "91/91 [==============================] - 17s 183ms/step - loss: 6.1516e-05 - val_loss: 0.0052\n",
            "Epoch 10/100\n",
            "91/91 [==============================] - 17s 187ms/step - loss: 7.3217e-05 - val_loss: 0.0048\n",
            "Epoch 11/100\n",
            "91/91 [==============================] - 17s 189ms/step - loss: 5.5710e-05 - val_loss: 0.0015\n",
            "Epoch 12/100\n",
            "91/91 [==============================] - 17s 183ms/step - loss: 6.2930e-05 - val_loss: 0.0015\n",
            "Epoch 13/100\n",
            "91/91 [==============================] - 17s 183ms/step - loss: 5.5112e-05 - val_loss: 0.0014\n",
            "Epoch 14/100\n",
            "91/91 [==============================] - 17s 181ms/step - loss: 5.2901e-05 - val_loss: 0.0020\n",
            "Epoch 15/100\n",
            "91/91 [==============================] - 18s 193ms/step - loss: 5.0515e-05 - val_loss: 0.0032\n",
            "Epoch 16/100\n",
            "91/91 [==============================] - 17s 182ms/step - loss: 4.9554e-05 - val_loss: 8.2986e-04\n",
            "Epoch 17/100\n",
            "91/91 [==============================] - 17s 182ms/step - loss: 5.2915e-05 - val_loss: 8.7696e-04\n",
            "Epoch 18/100\n",
            "91/91 [==============================] - 17s 185ms/step - loss: 4.1933e-05 - val_loss: 8.5137e-04\n",
            "Epoch 19/100\n",
            "91/91 [==============================] - 17s 184ms/step - loss: 4.8766e-05 - val_loss: 0.0024\n",
            "Epoch 20/100\n",
            "91/91 [==============================] - 17s 188ms/step - loss: 5.0796e-05 - val_loss: 9.8855e-04\n",
            "Epoch 21/100\n",
            "91/91 [==============================] - 17s 184ms/step - loss: 3.8486e-05 - val_loss: 0.0016\n",
            "Epoch 22/100\n",
            "91/91 [==============================] - 17s 182ms/step - loss: 3.6312e-05 - val_loss: 0.0010\n",
            "Epoch 23/100\n",
            "91/91 [==============================] - 16s 181ms/step - loss: 4.2695e-05 - val_loss: 5.9533e-04\n",
            "Epoch 24/100\n",
            "91/91 [==============================] - 17s 183ms/step - loss: 4.0073e-05 - val_loss: 8.8201e-04\n",
            "Epoch 25/100\n",
            "91/91 [==============================] - 16s 181ms/step - loss: 3.4989e-05 - val_loss: 0.0010\n",
            "Epoch 26/100\n",
            "91/91 [==============================] - 17s 182ms/step - loss: 3.0709e-05 - val_loss: 9.4868e-04\n",
            "Epoch 27/100\n",
            "91/91 [==============================] - 17s 183ms/step - loss: 2.7393e-05 - val_loss: 0.0010\n",
            "Epoch 28/100\n",
            "91/91 [==============================] - 17s 182ms/step - loss: 3.2231e-05 - val_loss: 7.2241e-04\n",
            "Epoch 29/100\n",
            "91/91 [==============================] - 17s 182ms/step - loss: 2.3630e-05 - val_loss: 0.0012\n",
            "Epoch 30/100\n",
            "91/91 [==============================] - 17s 183ms/step - loss: 2.4551e-05 - val_loss: 9.7617e-04\n",
            "Epoch 31/100\n",
            "91/91 [==============================] - 16s 180ms/step - loss: 2.2396e-05 - val_loss: 0.0016\n",
            "Epoch 32/100\n",
            "91/91 [==============================] - 17s 183ms/step - loss: 3.9293e-05 - val_loss: 2.7039e-04\n",
            "Epoch 33/100\n",
            "91/91 [==============================] - 17s 183ms/step - loss: 2.2909e-05 - val_loss: 5.2318e-04\n",
            "Epoch 34/100\n",
            "91/91 [==============================] - 17s 182ms/step - loss: 2.1583e-05 - val_loss: 0.0011\n",
            "Epoch 35/100\n",
            "91/91 [==============================] - 17s 182ms/step - loss: 2.1183e-05 - val_loss: 2.7193e-04\n",
            "Epoch 36/100\n",
            "91/91 [==============================] - 17s 182ms/step - loss: 2.1759e-05 - val_loss: 6.9475e-04\n",
            "Epoch 37/100\n",
            "91/91 [==============================] - 17s 182ms/step - loss: 2.2929e-05 - val_loss: 8.6614e-04\n",
            "Epoch 38/100\n",
            "91/91 [==============================] - 17s 190ms/step - loss: 2.1532e-05 - val_loss: 5.2883e-04\n",
            "Epoch 39/100\n",
            "91/91 [==============================] - 17s 183ms/step - loss: 2.1982e-05 - val_loss: 0.0011\n",
            "Epoch 40/100\n",
            "91/91 [==============================] - 17s 183ms/step - loss: 1.8086e-05 - val_loss: 0.0010\n",
            "Epoch 41/100\n",
            "91/91 [==============================] - 16s 181ms/step - loss: 1.9112e-05 - val_loss: 8.4510e-04\n",
            "Epoch 42/100\n",
            "91/91 [==============================] - 17s 183ms/step - loss: 1.5964e-05 - val_loss: 4.4267e-04\n",
            "Epoch 43/100\n",
            "91/91 [==============================] - 17s 183ms/step - loss: 1.4797e-05 - val_loss: 5.6375e-04\n",
            "Epoch 44/100\n",
            "91/91 [==============================] - 16s 181ms/step - loss: 1.5719e-05 - val_loss: 0.0017\n",
            "Epoch 45/100\n",
            "91/91 [==============================] - 17s 183ms/step - loss: 2.8752e-05 - val_loss: 0.0014\n",
            "Epoch 46/100\n",
            "91/91 [==============================] - 17s 182ms/step - loss: 1.5808e-05 - val_loss: 5.4164e-04\n",
            "Epoch 47/100\n",
            "91/91 [==============================] - 17s 182ms/step - loss: 1.6599e-05 - val_loss: 5.0802e-04\n",
            "Epoch 48/100\n",
            "91/91 [==============================] - 17s 183ms/step - loss: 1.6544e-05 - val_loss: 9.3475e-04\n",
            "Epoch 49/100\n",
            "91/91 [==============================] - 17s 182ms/step - loss: 1.5585e-05 - val_loss: 3.0198e-04\n",
            "Epoch 50/100\n",
            "91/91 [==============================] - 16s 180ms/step - loss: 1.7210e-05 - val_loss: 3.0190e-04\n",
            "Epoch 51/100\n",
            "91/91 [==============================] - 17s 182ms/step - loss: 2.0271e-05 - val_loss: 0.0011\n",
            "Epoch 52/100\n",
            "91/91 [==============================] - 17s 182ms/step - loss: 1.5671e-05 - val_loss: 8.4902e-04\n",
            "Epoch 53/100\n",
            "91/91 [==============================] - 16s 181ms/step - loss: 1.7837e-05 - val_loss: 7.6617e-04\n",
            "Epoch 54/100\n",
            "91/91 [==============================] - 17s 182ms/step - loss: 1.4235e-05 - val_loss: 5.4412e-04\n",
            "Epoch 55/100\n",
            "91/91 [==============================] - 16s 181ms/step - loss: 1.7502e-05 - val_loss: 6.1411e-04\n",
            "Epoch 56/100\n",
            "91/91 [==============================] - 18s 193ms/step - loss: 1.5635e-05 - val_loss: 0.0010\n",
            "Epoch 57/100\n",
            "91/91 [==============================] - 17s 186ms/step - loss: 1.6883e-05 - val_loss: 7.9034e-04\n",
            "Epoch 58/100\n",
            "91/91 [==============================] - 17s 186ms/step - loss: 1.6190e-05 - val_loss: 3.0623e-04\n",
            "Epoch 59/100\n",
            "91/91 [==============================] - 18s 194ms/step - loss: 1.8175e-05 - val_loss: 6.1771e-04\n",
            "Epoch 60/100\n",
            "91/91 [==============================] - 17s 191ms/step - loss: 1.6178e-05 - val_loss: 0.0015\n",
            "Epoch 61/100\n",
            "91/91 [==============================] - 17s 182ms/step - loss: 1.6021e-05 - val_loss: 4.4752e-04\n",
            "Epoch 62/100\n",
            "91/91 [==============================] - 17s 183ms/step - loss: 2.0307e-05 - val_loss: 3.3333e-04\n",
            "Epoch 63/100\n",
            "91/91 [==============================] - 17s 183ms/step - loss: 1.3053e-05 - val_loss: 7.1677e-04\n",
            "Epoch 64/100\n",
            "91/91 [==============================] - 17s 183ms/step - loss: 1.6194e-05 - val_loss: 7.0456e-04\n",
            "Epoch 65/100\n",
            "91/91 [==============================] - 17s 182ms/step - loss: 1.2882e-05 - val_loss: 7.5361e-04\n",
            "Epoch 66/100\n",
            "91/91 [==============================] - 17s 184ms/step - loss: 2.3451e-05 - val_loss: 5.9094e-04\n",
            "Epoch 67/100\n",
            "91/91 [==============================] - 17s 189ms/step - loss: 1.7058e-05 - val_loss: 8.6197e-04\n",
            "Epoch 68/100\n",
            "91/91 [==============================] - 17s 188ms/step - loss: 1.3977e-05 - val_loss: 6.8278e-04\n",
            "Epoch 69/100\n",
            "91/91 [==============================] - 17s 183ms/step - loss: 1.6123e-05 - val_loss: 0.0011\n",
            "Epoch 70/100\n",
            "91/91 [==============================] - 17s 182ms/step - loss: 1.2835e-05 - val_loss: 3.5441e-04\n",
            "Epoch 71/100\n",
            "91/91 [==============================] - 16s 181ms/step - loss: 1.3633e-05 - val_loss: 4.9184e-04\n",
            "Epoch 72/100\n",
            "91/91 [==============================] - 17s 181ms/step - loss: 1.4332e-05 - val_loss: 7.6386e-04\n",
            "Epoch 73/100\n",
            "91/91 [==============================] - 17s 183ms/step - loss: 1.7877e-05 - val_loss: 4.3475e-04\n",
            "Epoch 74/100\n",
            "91/91 [==============================] - 17s 188ms/step - loss: 1.6273e-05 - val_loss: 4.3827e-04\n",
            "Epoch 75/100\n",
            "91/91 [==============================] - 17s 181ms/step - loss: 1.4689e-05 - val_loss: 3.5600e-04\n",
            "Epoch 76/100\n",
            "91/91 [==============================] - 17s 184ms/step - loss: 1.6271e-05 - val_loss: 7.2273e-04\n",
            "Epoch 77/100\n",
            "91/91 [==============================] - 17s 182ms/step - loss: 1.3987e-05 - val_loss: 5.1833e-04\n",
            "Epoch 78/100\n",
            "91/91 [==============================] - 17s 183ms/step - loss: 1.6718e-05 - val_loss: 6.1512e-04\n",
            "Epoch 79/100\n",
            "91/91 [==============================] - 16s 181ms/step - loss: 1.4627e-05 - val_loss: 4.8952e-04\n",
            "Epoch 80/100\n",
            "91/91 [==============================] - 16s 181ms/step - loss: 1.4421e-05 - val_loss: 3.3100e-04\n",
            "Epoch 81/100\n",
            "91/91 [==============================] - 17s 187ms/step - loss: 1.3512e-05 - val_loss: 5.3513e-04\n",
            "Epoch 82/100\n",
            "91/91 [==============================] - 16s 181ms/step - loss: 1.5143e-05 - val_loss: 8.7103e-04\n",
            "Epoch 83/100\n",
            "91/91 [==============================] - 16s 181ms/step - loss: 1.6494e-05 - val_loss: 3.3919e-04\n",
            "Epoch 84/100\n",
            "91/91 [==============================] - 17s 188ms/step - loss: 1.7673e-05 - val_loss: 5.4185e-04\n",
            "Epoch 85/100\n",
            "91/91 [==============================] - 17s 184ms/step - loss: 2.3773e-05 - val_loss: 4.3498e-04\n",
            "Epoch 86/100\n",
            "91/91 [==============================] - 17s 182ms/step - loss: 1.2939e-05 - val_loss: 3.5203e-04\n",
            "Epoch 87/100\n",
            "91/91 [==============================] - 17s 192ms/step - loss: 1.5359e-05 - val_loss: 6.0376e-04\n",
            "Epoch 88/100\n",
            "91/91 [==============================] - 17s 181ms/step - loss: 1.5682e-05 - val_loss: 3.2100e-04\n",
            "Epoch 89/100\n",
            "91/91 [==============================] - 17s 184ms/step - loss: 1.5319e-05 - val_loss: 6.1436e-04\n",
            "Epoch 90/100\n",
            "91/91 [==============================] - 16s 181ms/step - loss: 1.3959e-05 - val_loss: 4.5411e-04\n",
            "Epoch 91/100\n",
            "91/91 [==============================] - 17s 181ms/step - loss: 1.3607e-05 - val_loss: 0.0011\n",
            "Epoch 92/100\n",
            "91/91 [==============================] - 17s 186ms/step - loss: 1.2578e-05 - val_loss: 9.5671e-04\n",
            "Epoch 93/100\n",
            "91/91 [==============================] - 16s 180ms/step - loss: 1.3628e-05 - val_loss: 8.1649e-04\n",
            "Epoch 94/100\n",
            "91/91 [==============================] - 17s 182ms/step - loss: 1.3744e-05 - val_loss: 5.4270e-04\n",
            "Epoch 95/100\n",
            "91/91 [==============================] - 17s 188ms/step - loss: 1.2903e-05 - val_loss: 8.0349e-04\n",
            "Epoch 96/100\n",
            "91/91 [==============================] - 16s 181ms/step - loss: 1.2854e-05 - val_loss: 5.6687e-04\n",
            "Epoch 97/100\n",
            "91/91 [==============================] - 17s 184ms/step - loss: 1.3914e-05 - val_loss: 6.9534e-04\n",
            "Epoch 98/100\n",
            "91/91 [==============================] - 17s 182ms/step - loss: 1.4764e-05 - val_loss: 7.1216e-04\n",
            "Epoch 99/100\n",
            "91/91 [==============================] - 17s 181ms/step - loss: 1.7059e-05 - val_loss: 5.6684e-04\n",
            "Epoch 100/100\n",
            "91/91 [==============================] - 17s 183ms/step - loss: 1.5227e-05 - val_loss: 4.4986e-04\n"
          ]
        },
        {
          "output_type": "execute_result",
          "data": {
            "text/plain": [
              "<keras.callbacks.History at 0x7fa8e53cf250>"
            ]
          },
          "metadata": {},
          "execution_count": 57
        }
      ],
      "source": [
        "model.fit(X_train,y_train,validation_data=(X_test,ytest),epochs=100,batch_size=64,verbose=1)"
      ]
    },
    {
      "cell_type": "code",
      "execution_count": null,
      "metadata": {
        "id": "EaFZMUawskM7"
      },
      "outputs": [],
      "source": [
        "import tensorflow as tf"
      ]
    },
    {
      "cell_type": "code",
      "execution_count": null,
      "metadata": {
        "colab": {
          "base_uri": "https://localhost:8080/",
          "height": 35
        },
        "id": "lHEBVAgmskM8",
        "outputId": "e999b9c3-75e9-494c-b050-926e16588504"
      },
      "outputs": [
        {
          "output_type": "execute_result",
          "data": {
            "text/plain": [
              "'2.8.0'"
            ],
            "application/vnd.google.colaboratory.intrinsic+json": {
              "type": "string"
            }
          },
          "metadata": {},
          "execution_count": 59
        }
      ],
      "source": [
        "tf.__version__"
      ]
    },
    {
      "cell_type": "code",
      "execution_count": null,
      "metadata": {
        "id": "wkQo0sk2skM8"
      },
      "outputs": [],
      "source": [
        "### Lets Do the prediction and check performance metrics\n",
        "train_predict=model.predict(X_train)\n",
        "test_predict=model.predict(X_test)"
      ]
    },
    {
      "cell_type": "code",
      "execution_count": null,
      "metadata": {
        "id": "5tjG29HWskM8"
      },
      "outputs": [],
      "source": [
        "##Transformback to original form\n",
        "train_predict=scaler.inverse_transform(train_predict)\n",
        "test_predict=scaler.inverse_transform(test_predict)"
      ]
    },
    {
      "cell_type": "code",
      "execution_count": null,
      "metadata": {
        "colab": {
          "base_uri": "https://localhost:8080/",
          "height": 428
        },
        "id": "iUqAWrLNskM9",
        "outputId": "da3d4b77-738b-4182-97a9-374aa99f3908"
      },
      "outputs": [
        {
          "output_type": "display_data",
          "data": {
            "text/plain": [
              "<Figure size 1440x504 with 1 Axes>"
            ],
            "image/png": "[encoded data removed]"
          },
          "metadata": {
            "needs_background": "light"
          }
        }
      ],
      "source": [
        "### Plotting \n",
        "# shift train predictions for plotting\n",
        "look_back=100\n",
        "trainPredictPlot = numpy.empty_like(df1)\n",
        "trainPredictPlot[:, :] = np.nan\n",
        "trainPredictPlot[look_back:len(train_predict)+look_back, :] = train_predict\n",
        "# shift test predictions for plotting\n",
        "testPredictPlot = numpy.empty_like(df1)\n",
        "testPredictPlot[:, :] = numpy.nan\n",
        "testPredictPlot[len(train_predict)+(look_back*2)+1:len(df1)-1, :] = test_predict\n",
        "# plot baseline and predictions\n",
        "plt.plot(scaler.inverse_transform(df1))\n",
        "plt.plot(trainPredictPlot)\n",
        "plt.plot(testPredictPlot)\n",
        "plt.show()"
      ]
    },
    {
      "cell_type": "code",
      "execution_count": null,
      "metadata": {
        "colab": {
          "base_uri": "https://localhost:8080/"
        },
        "id": "kTnHW_jTskM9",
        "outputId": "70e09947-711d-4d9d-de35-26dfbf9669bf"
      },
      "outputs": [
        {
          "output_type": "execute_result",
          "data": {
            "text/plain": [
              "657"
            ]
          },
          "metadata": {},
          "execution_count": 65
        }
      ],
      "source": [
        "len(test_data)"
      ]
    },
    {
      "cell_type": "code",
      "execution_count": null,
      "metadata": {
        "colab": {
          "base_uri": "https://localhost:8080/"
        },
        "id": "KGqzD4sVskM9",
        "outputId": "a4767fab-5971-4e72-9d03-dd0012d2f93c"
      },
      "outputs": [
        {
          "output_type": "execute_result",
          "data": {
            "text/plain": [
              "(1, 100)"
            ]
          },
          "metadata": {},
          "execution_count": 66
        }
      ],
      "source": [
        "x_input=test_data[557:].reshape(1,-1)\n",
        "x_input.shape\n"
      ]
    },
    {
      "cell_type": "code",
      "execution_count": null,
      "metadata": {
        "id": "f7kkfY_8skM9"
      },
      "outputs": [],
      "source": [
        ""
      ]
    },
    {
      "cell_type": "code",
      "execution_count": null,
      "metadata": {
        "id": "abgk00nyskM-"
      },
      "outputs": [],
      "source": [
        ""
      ]
    },
    {
      "cell_type": "code",
      "execution_count": null,
      "metadata": {
        "id": "sfmDA-_PskM-"
      },
      "outputs": [],
      "source": [
        "temp_input=list(x_input)\n",
        "temp_input=temp_input[0].tolist()"
      ]
    },
    {
      "cell_type": "code",
      "execution_count": null,
      "metadata": {
        "colab": {
          "base_uri": "https://localhost:8080/"
        },
        "id": "0LnnqVUPskM-",
        "outputId": "539b3d4d-bd52-4c86-9ce2-0633e6d8de64"
      },
      "outputs": [
        {
          "output_type": "execute_result",
          "data": {
            "text/plain": [
              "[0.8391703210845801,\n",
              " 0.8737664618238782,\n",
              " 0.8874064073619768,\n",
              " 0.8930314192771365,\n",
              " 0.8895204095094663,\n",
              " 0.8874064073619768,\n",
              " 0.8675347691606016,\n",
              " 0.8663950102337447,\n",
              " 0.8700164238554805,\n",
              " 0.8883622499402651,\n",
              " 0.8745201675610014,\n",
              " 0.8759172652560562,\n",
              " 0.8797224150766128,\n",
              " 0.8892078688142356,\n",
              " 0.9110463940992202,\n",
              " 0.9083993137729909,\n",
              " 0.9237488076265009,\n",
              " 0.9324254437748418,\n",
              " 0.9249988803325495,\n",
              " 0.9218370323950505,\n",
              " 0.9234730682159588,\n",
              " 0.935403375363772,\n",
              " 0.9549073610177579,\n",
              " 0.9367637618490123,\n",
              " 0.9413777292588509,\n",
              " 0.9777202195982488,\n",
              " 0.9708818461868552,\n",
              " 0.97645183632473,\n",
              " 0.9864335669564044,\n",
              " 0.9884372553247022,\n",
              " 0.9910844257258055,\n",
              " 0.9999999999999999,\n",
              " 0.9884372553247022,\n",
              " 0.9597971579130126,\n",
              " 0.9615986193652714,\n",
              " 0.9521867681970255,\n",
              " 0.9739701816298512,\n",
              " 0.9615986193652714,\n",
              " 0.951010298060354,\n",
              " 0.9280871257006714,\n",
              " 0.9286570051640999,\n",
              " 0.9150538609106897,\n",
              " 0.9087302551105657,\n",
              " 0.9143369564582551,\n",
              " 0.915476625310238,\n",
              " 0.9227377631211798,\n",
              " 0.933105546942588,\n",
              " 0.9348151853328733,\n",
              " 0.9489882090497119,\n",
              " 0.9433631070596784,\n",
              " 0.9213406654261251,\n",
              " 0.9015242291517827,\n",
              " 0.9049434158574795,\n",
              " 0.864667061275989,\n",
              " 0.8727922186032457,\n",
              " 0.8601265162857795,\n",
              " 0.9121677523837328,\n",
              " 0.8826269242459139,\n",
              " 0.8932520468355197,\n",
              " 0.8799797538448105,\n",
              " 0.902627186793951,\n",
              " 0.9084545157000237,\n",
              " 0.8810275996348201,\n",
              " 0.8642442968764408,\n",
              " 0.8713216084136879,\n",
              " 0.8846490132565559,\n",
              " 0.8987484344040174,\n",
              " 0.8996675657724911,\n",
              " 0.8815422771712158,\n",
              " 0.8706965270232266,\n",
              " 0.8681413598338447,\n",
              " 0.8794282750237263,\n",
              " 0.8561007389068397,\n",
              " 0.832901917211489,\n",
              " 0.8453653025380422,\n",
              " 0.8655310807923039,\n",
              " 0.8652185400970732,\n",
              " 0.8679943348448385,\n",
              " 0.8670568028340205,\n",
              " 0.8774061860130843,\n",
              " 0.8789135974873307,\n",
              " 0.8629575129605777,\n",
              " 0.8662846964545531,\n",
              " 0.8794099644562561,\n",
              " 0.8993551151521344,\n",
              " 0.9035831194471132,\n",
              " 0.8840607331507832,\n",
              " 0.8912299578248777,\n",
              " 0.8919652629196566,\n",
              " 0.8984175831413165,\n",
              " 0.9225172256376706,\n",
              " 0.9277378737956262,\n",
              " 0.9290981702059924,\n",
              " 0.9339695664589028,\n",
              " 0.9227745644058685,\n",
              " 0.9227010519113653,\n",
              " 0.9064691378991961,\n",
              " 0.9066162529630764,\n",
              " 0.8698693087916003,\n",
              " 0.8681597604761889]"
            ]
          },
          "metadata": {},
          "execution_count": 68
        }
      ],
      "source": [
        "temp_input"
      ]
    },
    {
      "cell_type": "code",
      "execution_count": null,
      "metadata": {
        "colab": {
          "base_uri": "https://localhost:8080/"
        },
        "id": "NXcAicwvskM-",
        "outputId": "29a6bac4-f3f6-46b0-a4c2-7b32b10c09dd"
      },
      "outputs": [
        {
          "output_type": "stream",
          "name": "stdout",
          "text": [
            "[0.85199994]\n",
            "101\n",
            "1 day input [0.87376646 0.88740641 0.89303142 0.88952041 0.88740641 0.86753477\n",
            " 0.86639501 0.87001642 0.88836225 0.87452017 0.87591727 0.87972242\n",
            " 0.88920787 0.91104639 0.90839931 0.92374881 0.93242544 0.92499888\n",
            " 0.92183703 0.92347307 0.93540338 0.95490736 0.93676376 0.94137773\n",
            " 0.97772022 0.97088185 0.97645184 0.98643357 0.98843726 0.99108443\n",
            " 1.         0.98843726 0.95979716 0.96159862 0.95218677 0.97397018\n",
            " 0.96159862 0.9510103  0.92808713 0.92865701 0.91505386 0.90873026\n",
            " 0.91433696 0.91547663 0.92273776 0.93310555 0.93481519 0.94898821\n",
            " 0.94336311 0.92134067 0.90152423 0.90494342 0.86466706 0.87279222\n",
            " 0.86012652 0.91216775 0.88262692 0.89325205 0.87997975 0.90262719\n",
            " 0.90845452 0.8810276  0.8642443  0.87132161 0.88464901 0.89874843\n",
            " 0.89966757 0.88154228 0.87069653 0.86814136 0.87942828 0.85610074\n",
            " 0.83290192 0.8453653  0.86553108 0.86521854 0.86799433 0.8670568\n",
            " 0.87740619 0.8789136  0.86295751 0.8662847  0.87940996 0.89935512\n",
            " 0.90358312 0.88406073 0.89122996 0.89196526 0.89841758 0.92251723\n",
            " 0.92773787 0.92909817 0.93396957 0.92277456 0.92270105 0.90646914\n",
            " 0.90661625 0.86986931 0.86815976 0.85199994]\n",
            "1 day output [[0.8244327]]\n",
            "2 day input [0.88740641 0.89303142 0.88952041 0.88740641 0.86753477 0.86639501\n",
            " 0.87001642 0.88836225 0.87452017 0.87591727 0.87972242 0.88920787\n",
            " 0.91104639 0.90839931 0.92374881 0.93242544 0.92499888 0.92183703\n",
            " 0.92347307 0.93540338 0.95490736 0.93676376 0.94137773 0.97772022\n",
            " 0.97088185 0.97645184 0.98643357 0.98843726 0.99108443 1.\n",
            " 0.98843726 0.95979716 0.96159862 0.95218677 0.97397018 0.96159862\n",
            " 0.9510103  0.92808713 0.92865701 0.91505386 0.90873026 0.91433696\n",
            " 0.91547663 0.92273776 0.93310555 0.93481519 0.94898821 0.94336311\n",
            " 0.92134067 0.90152423 0.90494342 0.86466706 0.87279222 0.86012652\n",
            " 0.91216775 0.88262692 0.89325205 0.87997975 0.90262719 0.90845452\n",
            " 0.8810276  0.8642443  0.87132161 0.88464901 0.89874843 0.89966757\n",
            " 0.88154228 0.87069653 0.86814136 0.87942828 0.85610074 0.83290192\n",
            " 0.8453653  0.86553108 0.86521854 0.86799433 0.8670568  0.87740619\n",
            " 0.8789136  0.86295751 0.8662847  0.87940996 0.89935512 0.90358312\n",
            " 0.88406073 0.89122996 0.89196526 0.89841758 0.92251723 0.92773787\n",
            " 0.92909817 0.93396957 0.92277456 0.92270105 0.90646914 0.90661625\n",
            " 0.86986931 0.86815976 0.85199994 0.82443267]\n",
            "2 day output [[0.7993618]]\n",
            "3 day input [0.89303142 0.88952041 0.88740641 0.86753477 0.86639501 0.87001642\n",
            " 0.88836225 0.87452017 0.87591727 0.87972242 0.88920787 0.91104639\n",
            " 0.90839931 0.92374881 0.93242544 0.92499888 0.92183703 0.92347307\n",
            " 0.93540338 0.95490736 0.93676376 0.94137773 0.97772022 0.97088185\n",
            " 0.97645184 0.98643357 0.98843726 0.99108443 1.         0.98843726\n",
            " 0.95979716 0.96159862 0.95218677 0.97397018 0.96159862 0.9510103\n",
            " 0.92808713 0.92865701 0.91505386 0.90873026 0.91433696 0.91547663\n",
            " 0.92273776 0.93310555 0.93481519 0.94898821 0.94336311 0.92134067\n",
            " 0.90152423 0.90494342 0.86466706 0.87279222 0.86012652 0.91216775\n",
            " 0.88262692 0.89325205 0.87997975 0.90262719 0.90845452 0.8810276\n",
            " 0.8642443  0.87132161 0.88464901 0.89874843 0.89966757 0.88154228\n",
            " 0.87069653 0.86814136 0.87942828 0.85610074 0.83290192 0.8453653\n",
            " 0.86553108 0.86521854 0.86799433 0.8670568  0.87740619 0.8789136\n",
            " 0.86295751 0.8662847  0.87940996 0.89935512 0.90358312 0.88406073\n",
            " 0.89122996 0.89196526 0.89841758 0.92251723 0.92773787 0.92909817\n",
            " 0.93396957 0.92277456 0.92270105 0.90646914 0.90661625 0.86986931\n",
            " 0.86815976 0.85199994 0.82443267 0.79936182]\n",
            "3 day output [[0.77849275]]\n",
            "4 day input [0.88952041 0.88740641 0.86753477 0.86639501 0.87001642 0.88836225\n",
            " 0.87452017 0.87591727 0.87972242 0.88920787 0.91104639 0.90839931\n",
            " 0.92374881 0.93242544 0.92499888 0.92183703 0.92347307 0.93540338\n",
            " 0.95490736 0.93676376 0.94137773 0.97772022 0.97088185 0.97645184\n",
            " 0.98643357 0.98843726 0.99108443 1.         0.98843726 0.95979716\n",
            " 0.96159862 0.95218677 0.97397018 0.96159862 0.9510103  0.92808713\n",
            " 0.92865701 0.91505386 0.90873026 0.91433696 0.91547663 0.92273776\n",
            " 0.93310555 0.93481519 0.94898821 0.94336311 0.92134067 0.90152423\n",
            " 0.90494342 0.86466706 0.87279222 0.86012652 0.91216775 0.88262692\n",
            " 0.89325205 0.87997975 0.90262719 0.90845452 0.8810276  0.8642443\n",
            " 0.87132161 0.88464901 0.89874843 0.89966757 0.88154228 0.87069653\n",
            " 0.86814136 0.87942828 0.85610074 0.83290192 0.8453653  0.86553108\n",
            " 0.86521854 0.86799433 0.8670568  0.87740619 0.8789136  0.86295751\n",
            " 0.8662847  0.87940996 0.89935512 0.90358312 0.88406073 0.89122996\n",
            " 0.89196526 0.89841758 0.92251723 0.92773787 0.92909817 0.93396957\n",
            " 0.92277456 0.92270105 0.90646914 0.90661625 0.86986931 0.86815976\n",
            " 0.85199994 0.82443267 0.79936182 0.77849275]\n",
            "4 day output [[0.76176697]]\n",
            "5 day input [0.88740641 0.86753477 0.86639501 0.87001642 0.88836225 0.87452017\n",
            " 0.87591727 0.87972242 0.88920787 0.91104639 0.90839931 0.92374881\n",
            " 0.93242544 0.92499888 0.92183703 0.92347307 0.93540338 0.95490736\n",
            " 0.93676376 0.94137773 0.97772022 0.97088185 0.97645184 0.98643357\n",
            " 0.98843726 0.99108443 1.         0.98843726 0.95979716 0.96159862\n",
            " 0.95218677 0.97397018 0.96159862 0.9510103  0.92808713 0.92865701\n",
            " 0.91505386 0.90873026 0.91433696 0.91547663 0.92273776 0.93310555\n",
            " 0.93481519 0.94898821 0.94336311 0.92134067 0.90152423 0.90494342\n",
            " 0.86466706 0.87279222 0.86012652 0.91216775 0.88262692 0.89325205\n",
            " 0.87997975 0.90262719 0.90845452 0.8810276  0.8642443  0.87132161\n",
            " 0.88464901 0.89874843 0.89966757 0.88154228 0.87069653 0.86814136\n",
            " 0.87942828 0.85610074 0.83290192 0.8453653  0.86553108 0.86521854\n",
            " 0.86799433 0.8670568  0.87740619 0.8789136  0.86295751 0.8662847\n",
            " 0.87940996 0.89935512 0.90358312 0.88406073 0.89122996 0.89196526\n",
            " 0.89841758 0.92251723 0.92773787 0.92909817 0.93396957 0.92277456\n",
            " 0.92270105 0.90646914 0.90661625 0.86986931 0.86815976 0.85199994\n",
            " 0.82443267 0.79936182 0.77849275 0.76176697]\n",
            "5 day output [[0.74811846]]\n",
            "6 day input [0.86753477 0.86639501 0.87001642 0.88836225 0.87452017 0.87591727\n",
            " 0.87972242 0.88920787 0.91104639 0.90839931 0.92374881 0.93242544\n",
            " 0.92499888 0.92183703 0.92347307 0.93540338 0.95490736 0.93676376\n",
            " 0.94137773 0.97772022 0.97088185 0.97645184 0.98643357 0.98843726\n",
            " 0.99108443 1.         0.98843726 0.95979716 0.96159862 0.95218677\n",
            " 0.97397018 0.96159862 0.9510103  0.92808713 0.92865701 0.91505386\n",
            " 0.90873026 0.91433696 0.91547663 0.92273776 0.93310555 0.93481519\n",
            " 0.94898821 0.94336311 0.92134067 0.90152423 0.90494342 0.86466706\n",
            " 0.87279222 0.86012652 0.91216775 0.88262692 0.89325205 0.87997975\n",
            " 0.90262719 0.90845452 0.8810276  0.8642443  0.87132161 0.88464901\n",
            " 0.89874843 0.89966757 0.88154228 0.87069653 0.86814136 0.87942828\n",
            " 0.85610074 0.83290192 0.8453653  0.86553108 0.86521854 0.86799433\n",
            " 0.8670568  0.87740619 0.8789136  0.86295751 0.8662847  0.87940996\n",
            " 0.89935512 0.90358312 0.88406073 0.89122996 0.89196526 0.89841758\n",
            " 0.92251723 0.92773787 0.92909817 0.93396957 0.92277456 0.92270105\n",
            " 0.90646914 0.90661625 0.86986931 0.86815976 0.85199994 0.82443267\n",
            " 0.79936182 0.77849275 0.76176697 0.74811846]\n",
            "6 day output [[0.73636204]]\n",
            "7 day input [0.86639501 0.87001642 0.88836225 0.87452017 0.87591727 0.87972242\n",
            " 0.88920787 0.91104639 0.90839931 0.92374881 0.93242544 0.92499888\n",
            " 0.92183703 0.92347307 0.93540338 0.95490736 0.93676376 0.94137773\n",
            " 0.97772022 0.97088185 0.97645184 0.98643357 0.98843726 0.99108443\n",
            " 1.         0.98843726 0.95979716 0.96159862 0.95218677 0.97397018\n",
            " 0.96159862 0.9510103  0.92808713 0.92865701 0.91505386 0.90873026\n",
            " 0.91433696 0.91547663 0.92273776 0.93310555 0.93481519 0.94898821\n",
            " 0.94336311 0.92134067 0.90152423 0.90494342 0.86466706 0.87279222\n",
            " 0.86012652 0.91216775 0.88262692 0.89325205 0.87997975 0.90262719\n",
            " 0.90845452 0.8810276  0.8642443  0.87132161 0.88464901 0.89874843\n",
            " 0.89966757 0.88154228 0.87069653 0.86814136 0.87942828 0.85610074\n",
            " 0.83290192 0.8453653  0.86553108 0.86521854 0.86799433 0.8670568\n",
            " 0.87740619 0.8789136  0.86295751 0.8662847  0.87940996 0.89935512\n",
            " 0.90358312 0.88406073 0.89122996 0.89196526 0.89841758 0.92251723\n",
            " 0.92773787 0.92909817 0.93396957 0.92277456 0.92270105 0.90646914\n",
            " 0.90661625 0.86986931 0.86815976 0.85199994 0.82443267 0.79936182\n",
            " 0.77849275 0.76176697 0.74811846 0.73636204]\n",
            "7 day output [[0.72563565]]\n",
            "8 day input [0.87001642 0.88836225 0.87452017 0.87591727 0.87972242 0.88920787\n",
            " 0.91104639 0.90839931 0.92374881 0.93242544 0.92499888 0.92183703\n",
            " 0.92347307 0.93540338 0.95490736 0.93676376 0.94137773 0.97772022\n",
            " 0.97088185 0.97645184 0.98643357 0.98843726 0.99108443 1.\n",
            " 0.98843726 0.95979716 0.96159862 0.95218677 0.97397018 0.96159862\n",
            " 0.9510103  0.92808713 0.92865701 0.91505386 0.90873026 0.91433696\n",
            " 0.91547663 0.92273776 0.93310555 0.93481519 0.94898821 0.94336311\n",
            " 0.92134067 0.90152423 0.90494342 0.86466706 0.87279222 0.86012652\n",
            " 0.91216775 0.88262692 0.89325205 0.87997975 0.90262719 0.90845452\n",
            " 0.8810276  0.8642443  0.87132161 0.88464901 0.89874843 0.89966757\n",
            " 0.88154228 0.87069653 0.86814136 0.87942828 0.85610074 0.83290192\n",
            " 0.8453653  0.86553108 0.86521854 0.86799433 0.8670568  0.87740619\n",
            " 0.8789136  0.86295751 0.8662847  0.87940996 0.89935512 0.90358312\n",
            " 0.88406073 0.89122996 0.89196526 0.89841758 0.92251723 0.92773787\n",
            " 0.92909817 0.93396957 0.92277456 0.92270105 0.90646914 0.90661625\n",
            " 0.86986931 0.86815976 0.85199994 0.82443267 0.79936182 0.77849275\n",
            " 0.76176697 0.74811846 0.73636204 0.72563565]\n",
            "8 day output [[0.71552294]]\n",
            "9 day input [0.88836225 0.87452017 0.87591727 0.87972242 0.88920787 0.91104639\n",
            " 0.90839931 0.92374881 0.93242544 0.92499888 0.92183703 0.92347307\n",
            " 0.93540338 0.95490736 0.93676376 0.94137773 0.97772022 0.97088185\n",
            " 0.97645184 0.98643357 0.98843726 0.99108443 1.         0.98843726\n",
            " 0.95979716 0.96159862 0.95218677 0.97397018 0.96159862 0.9510103\n",
            " 0.92808713 0.92865701 0.91505386 0.90873026 0.91433696 0.91547663\n",
            " 0.92273776 0.93310555 0.93481519 0.94898821 0.94336311 0.92134067\n",
            " 0.90152423 0.90494342 0.86466706 0.87279222 0.86012652 0.91216775\n",
            " 0.88262692 0.89325205 0.87997975 0.90262719 0.90845452 0.8810276\n",
            " 0.8642443  0.87132161 0.88464901 0.89874843 0.89966757 0.88154228\n",
            " 0.87069653 0.86814136 0.87942828 0.85610074 0.83290192 0.8453653\n",
            " 0.86553108 0.86521854 0.86799433 0.8670568  0.87740619 0.8789136\n",
            " 0.86295751 0.8662847  0.87940996 0.89935512 0.90358312 0.88406073\n",
            " 0.89122996 0.89196526 0.89841758 0.92251723 0.92773787 0.92909817\n",
            " 0.93396957 0.92277456 0.92270105 0.90646914 0.90661625 0.86986931\n",
            " 0.86815976 0.85199994 0.82443267 0.79936182 0.77849275 0.76176697\n",
            " 0.74811846 0.73636204 0.72563565 0.71552294]\n",
            "9 day output [[0.7059517]]\n",
            "10 day input [0.87452017 0.87591727 0.87972242 0.88920787 0.91104639 0.90839931\n",
            " 0.92374881 0.93242544 0.92499888 0.92183703 0.92347307 0.93540338\n",
            " 0.95490736 0.93676376 0.94137773 0.97772022 0.97088185 0.97645184\n",
            " 0.98643357 0.98843726 0.99108443 1.         0.98843726 0.95979716\n",
            " 0.96159862 0.95218677 0.97397018 0.96159862 0.9510103  0.92808713\n",
            " 0.92865701 0.91505386 0.90873026 0.91433696 0.91547663 0.92273776\n",
            " 0.93310555 0.93481519 0.94898821 0.94336311 0.92134067 0.90152423\n",
            " 0.90494342 0.86466706 0.87279222 0.86012652 0.91216775 0.88262692\n",
            " 0.89325205 0.87997975 0.90262719 0.90845452 0.8810276  0.8642443\n",
            " 0.87132161 0.88464901 0.89874843 0.89966757 0.88154228 0.87069653\n",
            " 0.86814136 0.87942828 0.85610074 0.83290192 0.8453653  0.86553108\n",
            " 0.86521854 0.86799433 0.8670568  0.87740619 0.8789136  0.86295751\n",
            " 0.8662847  0.87940996 0.89935512 0.90358312 0.88406073 0.89122996\n",
            " 0.89196526 0.89841758 0.92251723 0.92773787 0.92909817 0.93396957\n",
            " 0.92277456 0.92270105 0.90646914 0.90661625 0.86986931 0.86815976\n",
            " 0.85199994 0.82443267 0.79936182 0.77849275 0.76176697 0.74811846\n",
            " 0.73636204 0.72563565 0.71552294 0.70595169]\n",
            "10 day output [[0.69702196]]\n",
            "11 day input [0.87591727 0.87972242 0.88920787 0.91104639 0.90839931 0.92374881\n",
            " 0.93242544 0.92499888 0.92183703 0.92347307 0.93540338 0.95490736\n",
            " 0.93676376 0.94137773 0.97772022 0.97088185 0.97645184 0.98643357\n",
            " 0.98843726 0.99108443 1.         0.98843726 0.95979716 0.96159862\n",
            " 0.95218677 0.97397018 0.96159862 0.9510103  0.92808713 0.92865701\n",
            " 0.91505386 0.90873026 0.91433696 0.91547663 0.92273776 0.93310555\n",
            " 0.93481519 0.94898821 0.94336311 0.92134067 0.90152423 0.90494342\n",
            " 0.86466706 0.87279222 0.86012652 0.91216775 0.88262692 0.89325205\n",
            " 0.87997975 0.90262719 0.90845452 0.8810276  0.8642443  0.87132161\n",
            " 0.88464901 0.89874843 0.89966757 0.88154228 0.87069653 0.86814136\n",
            " 0.87942828 0.85610074 0.83290192 0.8453653  0.86553108 0.86521854\n",
            " 0.86799433 0.8670568  0.87740619 0.8789136  0.86295751 0.8662847\n",
            " 0.87940996 0.89935512 0.90358312 0.88406073 0.89122996 0.89196526\n",
            " 0.89841758 0.92251723 0.92773787 0.92909817 0.93396957 0.92277456\n",
            " 0.92270105 0.90646914 0.90661625 0.86986931 0.86815976 0.85199994\n",
            " 0.82443267 0.79936182 0.77849275 0.76176697 0.74811846 0.73636204\n",
            " 0.72563565 0.71552294 0.70595169 0.69702196]\n",
            "11 day output [[0.68885946]]\n",
            "12 day input [0.87972242 0.88920787 0.91104639 0.90839931 0.92374881 0.93242544\n",
            " 0.92499888 0.92183703 0.92347307 0.93540338 0.95490736 0.93676376\n",
            " 0.94137773 0.97772022 0.97088185 0.97645184 0.98643357 0.98843726\n",
            " 0.99108443 1.         0.98843726 0.95979716 0.96159862 0.95218677\n",
            " 0.97397018 0.96159862 0.9510103  0.92808713 0.92865701 0.91505386\n",
            " 0.90873026 0.91433696 0.91547663 0.92273776 0.93310555 0.93481519\n",
            " 0.94898821 0.94336311 0.92134067 0.90152423 0.90494342 0.86466706\n",
            " 0.87279222 0.86012652 0.91216775 0.88262692 0.89325205 0.87997975\n",
            " 0.90262719 0.90845452 0.8810276  0.8642443  0.87132161 0.88464901\n",
            " 0.89874843 0.89966757 0.88154228 0.87069653 0.86814136 0.87942828\n",
            " 0.85610074 0.83290192 0.8453653  0.86553108 0.86521854 0.86799433\n",
            " 0.8670568  0.87740619 0.8789136  0.86295751 0.8662847  0.87940996\n",
            " 0.89935512 0.90358312 0.88406073 0.89122996 0.89196526 0.89841758\n",
            " 0.92251723 0.92773787 0.92909817 0.93396957 0.92277456 0.92270105\n",
            " 0.90646914 0.90661625 0.86986931 0.86815976 0.85199994 0.82443267\n",
            " 0.79936182 0.77849275 0.76176697 0.74811846 0.73636204 0.72563565\n",
            " 0.71552294 0.70595169 0.69702196 0.68885946]\n",
            "12 day output [[0.68154085]]\n",
            "13 day input [0.88920787 0.91104639 0.90839931 0.92374881 0.93242544 0.92499888\n",
            " 0.92183703 0.92347307 0.93540338 0.95490736 0.93676376 0.94137773\n",
            " 0.97772022 0.97088185 0.97645184 0.98643357 0.98843726 0.99108443\n",
            " 1.         0.98843726 0.95979716 0.96159862 0.95218677 0.97397018\n",
            " 0.96159862 0.9510103  0.92808713 0.92865701 0.91505386 0.90873026\n",
            " 0.91433696 0.91547663 0.92273776 0.93310555 0.93481519 0.94898821\n",
            " 0.94336311 0.92134067 0.90152423 0.90494342 0.86466706 0.87279222\n",
            " 0.86012652 0.91216775 0.88262692 0.89325205 0.87997975 0.90262719\n",
            " 0.90845452 0.8810276  0.8642443  0.87132161 0.88464901 0.89874843\n",
            " 0.89966757 0.88154228 0.87069653 0.86814136 0.87942828 0.85610074\n",
            " 0.83290192 0.8453653  0.86553108 0.86521854 0.86799433 0.8670568\n",
            " 0.87740619 0.8789136  0.86295751 0.8662847  0.87940996 0.89935512\n",
            " 0.90358312 0.88406073 0.89122996 0.89196526 0.89841758 0.92251723\n",
            " 0.92773787 0.92909817 0.93396957 0.92277456 0.92270105 0.90646914\n",
            " 0.90661625 0.86986931 0.86815976 0.85199994 0.82443267 0.79936182\n",
            " 0.77849275 0.76176697 0.74811846 0.73636204 0.72563565 0.71552294\n",
            " 0.70595169 0.69702196 0.68885946 0.68154085]\n",
            "13 day output [[0.67506105]]\n",
            "14 day input [0.91104639 0.90839931 0.92374881 0.93242544 0.92499888 0.92183703\n",
            " 0.92347307 0.93540338 0.95490736 0.93676376 0.94137773 0.97772022\n",
            " 0.97088185 0.97645184 0.98643357 0.98843726 0.99108443 1.\n",
            " 0.98843726 0.95979716 0.96159862 0.95218677 0.97397018 0.96159862\n",
            " 0.9510103  0.92808713 0.92865701 0.91505386 0.90873026 0.91433696\n",
            " 0.91547663 0.92273776 0.93310555 0.93481519 0.94898821 0.94336311\n",
            " 0.92134067 0.90152423 0.90494342 0.86466706 0.87279222 0.86012652\n",
            " 0.91216775 0.88262692 0.89325205 0.87997975 0.90262719 0.90845452\n",
            " 0.8810276  0.8642443  0.87132161 0.88464901 0.89874843 0.89966757\n",
            " 0.88154228 0.87069653 0.86814136 0.87942828 0.85610074 0.83290192\n",
            " 0.8453653  0.86553108 0.86521854 0.86799433 0.8670568  0.87740619\n",
            " 0.8789136  0.86295751 0.8662847  0.87940996 0.89935512 0.90358312\n",
            " 0.88406073 0.89122996 0.89196526 0.89841758 0.92251723 0.92773787\n",
            " 0.92909817 0.93396957 0.92277456 0.92270105 0.90646914 0.90661625\n",
            " 0.86986931 0.86815976 0.85199994 0.82443267 0.79936182 0.77849275\n",
            " 0.76176697 0.74811846 0.73636204 0.72563565 0.71552294 0.70595169\n",
            " 0.69702196 0.68885946 0.68154085 0.67506105]\n",
            "14 day output [[0.6693442]]\n",
            "15 day input [0.90839931 0.92374881 0.93242544 0.92499888 0.92183703 0.92347307\n",
            " 0.93540338 0.95490736 0.93676376 0.94137773 0.97772022 0.97088185\n",
            " 0.97645184 0.98643357 0.98843726 0.99108443 1.         0.98843726\n",
            " 0.95979716 0.96159862 0.95218677 0.97397018 0.96159862 0.9510103\n",
            " 0.92808713 0.92865701 0.91505386 0.90873026 0.91433696 0.91547663\n",
            " 0.92273776 0.93310555 0.93481519 0.94898821 0.94336311 0.92134067\n",
            " 0.90152423 0.90494342 0.86466706 0.87279222 0.86012652 0.91216775\n",
            " 0.88262692 0.89325205 0.87997975 0.90262719 0.90845452 0.8810276\n",
            " 0.8642443  0.87132161 0.88464901 0.89874843 0.89966757 0.88154228\n",
            " 0.87069653 0.86814136 0.87942828 0.85610074 0.83290192 0.8453653\n",
            " 0.86553108 0.86521854 0.86799433 0.8670568  0.87740619 0.8789136\n",
            " 0.86295751 0.8662847  0.87940996 0.89935512 0.90358312 0.88406073\n",
            " 0.89122996 0.89196526 0.89841758 0.92251723 0.92773787 0.92909817\n",
            " 0.93396957 0.92277456 0.92270105 0.90646914 0.90661625 0.86986931\n",
            " 0.86815976 0.85199994 0.82443267 0.79936182 0.77849275 0.76176697\n",
            " 0.74811846 0.73636204 0.72563565 0.71552294 0.70595169 0.69702196\n",
            " 0.68885946 0.68154085 0.67506105 0.66934419]\n",
            "15 day output [[0.66427416]]\n",
            "16 day input [0.92374881 0.93242544 0.92499888 0.92183703 0.92347307 0.93540338\n",
            " 0.95490736 0.93676376 0.94137773 0.97772022 0.97088185 0.97645184\n",
            " 0.98643357 0.98843726 0.99108443 1.         0.98843726 0.95979716\n",
            " 0.96159862 0.95218677 0.97397018 0.96159862 0.9510103  0.92808713\n",
            " 0.92865701 0.91505386 0.90873026 0.91433696 0.91547663 0.92273776\n",
            " 0.93310555 0.93481519 0.94898821 0.94336311 0.92134067 0.90152423\n",
            " 0.90494342 0.86466706 0.87279222 0.86012652 0.91216775 0.88262692\n",
            " 0.89325205 0.87997975 0.90262719 0.90845452 0.8810276  0.8642443\n",
            " 0.87132161 0.88464901 0.89874843 0.89966757 0.88154228 0.87069653\n",
            " 0.86814136 0.87942828 0.85610074 0.83290192 0.8453653  0.86553108\n",
            " 0.86521854 0.86799433 0.8670568  0.87740619 0.8789136  0.86295751\n",
            " 0.8662847  0.87940996 0.89935512 0.90358312 0.88406073 0.89122996\n",
            " 0.89196526 0.89841758 0.92251723 0.92773787 0.92909817 0.93396957\n",
            " 0.92277456 0.92270105 0.90646914 0.90661625 0.86986931 0.86815976\n",
            " 0.85199994 0.82443267 0.79936182 0.77849275 0.76176697 0.74811846\n",
            " 0.73636204 0.72563565 0.71552294 0.70595169 0.69702196 0.68885946\n",
            " 0.68154085 0.67506105 0.66934419 0.66427416]\n",
            "16 day output [[0.6597245]]\n",
            "17 day input [0.93242544 0.92499888 0.92183703 0.92347307 0.93540338 0.95490736\n",
            " 0.93676376 0.94137773 0.97772022 0.97088185 0.97645184 0.98643357\n",
            " 0.98843726 0.99108443 1.         0.98843726 0.95979716 0.96159862\n",
            " 0.95218677 0.97397018 0.96159862 0.9510103  0.92808713 0.92865701\n",
            " 0.91505386 0.90873026 0.91433696 0.91547663 0.92273776 0.93310555\n",
            " 0.93481519 0.94898821 0.94336311 0.92134067 0.90152423 0.90494342\n",
            " 0.86466706 0.87279222 0.86012652 0.91216775 0.88262692 0.89325205\n",
            " 0.87997975 0.90262719 0.90845452 0.8810276  0.8642443  0.87132161\n",
            " 0.88464901 0.89874843 0.89966757 0.88154228 0.87069653 0.86814136\n",
            " 0.87942828 0.85610074 0.83290192 0.8453653  0.86553108 0.86521854\n",
            " 0.86799433 0.8670568  0.87740619 0.8789136  0.86295751 0.8662847\n",
            " 0.87940996 0.89935512 0.90358312 0.88406073 0.89122996 0.89196526\n",
            " 0.89841758 0.92251723 0.92773787 0.92909817 0.93396957 0.92277456\n",
            " 0.92270105 0.90646914 0.90661625 0.86986931 0.86815976 0.85199994\n",
            " 0.82443267 0.79936182 0.77849275 0.76176697 0.74811846 0.73636204\n",
            " 0.72563565 0.71552294 0.70595169 0.69702196 0.68885946 0.68154085\n",
            " 0.67506105 0.66934419 0.66427416 0.65972447]\n",
            "17 day output [[0.65558046]]\n",
            "18 day input [0.92499888 0.92183703 0.92347307 0.93540338 0.95490736 0.93676376\n",
            " 0.94137773 0.97772022 0.97088185 0.97645184 0.98643357 0.98843726\n",
            " 0.99108443 1.         0.98843726 0.95979716 0.96159862 0.95218677\n",
            " 0.97397018 0.96159862 0.9510103  0.92808713 0.92865701 0.91505386\n",
            " 0.90873026 0.91433696 0.91547663 0.92273776 0.93310555 0.93481519\n",
            " 0.94898821 0.94336311 0.92134067 0.90152423 0.90494342 0.86466706\n",
            " 0.87279222 0.86012652 0.91216775 0.88262692 0.89325205 0.87997975\n",
            " 0.90262719 0.90845452 0.8810276  0.8642443  0.87132161 0.88464901\n",
            " 0.89874843 0.89966757 0.88154228 0.87069653 0.86814136 0.87942828\n",
            " 0.85610074 0.83290192 0.8453653  0.86553108 0.86521854 0.86799433\n",
            " 0.8670568  0.87740619 0.8789136  0.86295751 0.8662847  0.87940996\n",
            " 0.89935512 0.90358312 0.88406073 0.89122996 0.89196526 0.89841758\n",
            " 0.92251723 0.92773787 0.92909817 0.93396957 0.92277456 0.92270105\n",
            " 0.90646914 0.90661625 0.86986931 0.86815976 0.85199994 0.82443267\n",
            " 0.79936182 0.77849275 0.76176697 0.74811846 0.73636204 0.72563565\n",
            " 0.71552294 0.70595169 0.69702196 0.68885946 0.68154085 0.67506105\n",
            " 0.66934419 0.66427416 0.65972447 0.65558046]\n",
            "18 day output [[0.65175027]]\n",
            "19 day input [0.92183703 0.92347307 0.93540338 0.95490736 0.93676376 0.94137773\n",
            " 0.97772022 0.97088185 0.97645184 0.98643357 0.98843726 0.99108443\n",
            " 1.         0.98843726 0.95979716 0.96159862 0.95218677 0.97397018\n",
            " 0.96159862 0.9510103  0.92808713 0.92865701 0.91505386 0.90873026\n",
            " 0.91433696 0.91547663 0.92273776 0.93310555 0.93481519 0.94898821\n",
            " 0.94336311 0.92134067 0.90152423 0.90494342 0.86466706 0.87279222\n",
            " 0.86012652 0.91216775 0.88262692 0.89325205 0.87997975 0.90262719\n",
            " 0.90845452 0.8810276  0.8642443  0.87132161 0.88464901 0.89874843\n",
            " 0.89966757 0.88154228 0.87069653 0.86814136 0.87942828 0.85610074\n",
            " 0.83290192 0.8453653  0.86553108 0.86521854 0.86799433 0.8670568\n",
            " 0.87740619 0.8789136  0.86295751 0.8662847  0.87940996 0.89935512\n",
            " 0.90358312 0.88406073 0.89122996 0.89196526 0.89841758 0.92251723\n",
            " 0.92773787 0.92909817 0.93396957 0.92277456 0.92270105 0.90646914\n",
            " 0.90661625 0.86986931 0.86815976 0.85199994 0.82443267 0.79936182\n",
            " 0.77849275 0.76176697 0.74811846 0.73636204 0.72563565 0.71552294\n",
            " 0.70595169 0.69702196 0.68885946 0.68154085 0.67506105 0.66934419\n",
            " 0.66427416 0.65972447 0.65558046 0.65175027]\n",
            "19 day output [[0.6481674]]\n",
            "20 day input [0.92347307 0.93540338 0.95490736 0.93676376 0.94137773 0.97772022\n",
            " 0.97088185 0.97645184 0.98643357 0.98843726 0.99108443 1.\n",
            " 0.98843726 0.95979716 0.96159862 0.95218677 0.97397018 0.96159862\n",
            " 0.9510103  0.92808713 0.92865701 0.91505386 0.90873026 0.91433696\n",
            " 0.91547663 0.92273776 0.93310555 0.93481519 0.94898821 0.94336311\n",
            " 0.92134067 0.90152423 0.90494342 0.86466706 0.87279222 0.86012652\n",
            " 0.91216775 0.88262692 0.89325205 0.87997975 0.90262719 0.90845452\n",
            " 0.8810276  0.8642443  0.87132161 0.88464901 0.89874843 0.89966757\n",
            " 0.88154228 0.87069653 0.86814136 0.87942828 0.85610074 0.83290192\n",
            " 0.8453653  0.86553108 0.86521854 0.86799433 0.8670568  0.87740619\n",
            " 0.8789136  0.86295751 0.8662847  0.87940996 0.89935512 0.90358312\n",
            " 0.88406073 0.89122996 0.89196526 0.89841758 0.92251723 0.92773787\n",
            " 0.92909817 0.93396957 0.92277456 0.92270105 0.90646914 0.90661625\n",
            " 0.86986931 0.86815976 0.85199994 0.82443267 0.79936182 0.77849275\n",
            " 0.76176697 0.74811846 0.73636204 0.72563565 0.71552294 0.70595169\n",
            " 0.69702196 0.68885946 0.68154085 0.67506105 0.66934419 0.66427416\n",
            " 0.65972447 0.65558046 0.65175027 0.64816737]\n",
            "20 day output [[0.644785]]\n",
            "21 day input [0.93540338 0.95490736 0.93676376 0.94137773 0.97772022 0.97088185\n",
            " 0.97645184 0.98643357 0.98843726 0.99108443 1.         0.98843726\n",
            " 0.95979716 0.96159862 0.95218677 0.97397018 0.96159862 0.9510103\n",
            " 0.92808713 0.92865701 0.91505386 0.90873026 0.91433696 0.91547663\n",
            " 0.92273776 0.93310555 0.93481519 0.94898821 0.94336311 0.92134067\n",
            " 0.90152423 0.90494342 0.86466706 0.87279222 0.86012652 0.91216775\n",
            " 0.88262692 0.89325205 0.87997975 0.90262719 0.90845452 0.8810276\n",
            " 0.8642443  0.87132161 0.88464901 0.89874843 0.89966757 0.88154228\n",
            " 0.87069653 0.86814136 0.87942828 0.85610074 0.83290192 0.8453653\n",
            " 0.86553108 0.86521854 0.86799433 0.8670568  0.87740619 0.8789136\n",
            " 0.86295751 0.8662847  0.87940996 0.89935512 0.90358312 0.88406073\n",
            " 0.89122996 0.89196526 0.89841758 0.92251723 0.92773787 0.92909817\n",
            " 0.93396957 0.92277456 0.92270105 0.90646914 0.90661625 0.86986931\n",
            " 0.86815976 0.85199994 0.82443267 0.79936182 0.77849275 0.76176697\n",
            " 0.74811846 0.73636204 0.72563565 0.71552294 0.70595169 0.69702196\n",
            " 0.68885946 0.68154085 0.67506105 0.66934419 0.66427416 0.65972447\n",
            " 0.65558046 0.65175027 0.64816737 0.64478499]\n",
            "21 day output [[0.64156973]]\n",
            "22 day input [0.95490736 0.93676376 0.94137773 0.97772022 0.97088185 0.97645184\n",
            " 0.98643357 0.98843726 0.99108443 1.         0.98843726 0.95979716\n",
            " 0.96159862 0.95218677 0.97397018 0.96159862 0.9510103  0.92808713\n",
            " 0.92865701 0.91505386 0.90873026 0.91433696 0.91547663 0.92273776\n",
            " 0.93310555 0.93481519 0.94898821 0.94336311 0.92134067 0.90152423\n",
            " 0.90494342 0.86466706 0.87279222 0.86012652 0.91216775 0.88262692\n",
            " 0.89325205 0.87997975 0.90262719 0.90845452 0.8810276  0.8642443\n",
            " 0.87132161 0.88464901 0.89874843 0.89966757 0.88154228 0.87069653\n",
            " 0.86814136 0.87942828 0.85610074 0.83290192 0.8453653  0.86553108\n",
            " 0.86521854 0.86799433 0.8670568  0.87740619 0.8789136  0.86295751\n",
            " 0.8662847  0.87940996 0.89935512 0.90358312 0.88406073 0.89122996\n",
            " 0.89196526 0.89841758 0.92251723 0.92773787 0.92909817 0.93396957\n",
            " 0.92277456 0.92270105 0.90646914 0.90661625 0.86986931 0.86815976\n",
            " 0.85199994 0.82443267 0.79936182 0.77849275 0.76176697 0.74811846\n",
            " 0.73636204 0.72563565 0.71552294 0.70595169 0.69702196 0.68885946\n",
            " 0.68154085 0.67506105 0.66934419 0.66427416 0.65972447 0.65558046\n",
            " 0.65175027 0.64816737 0.64478499 0.64156973]\n",
            "22 day output [[0.6384968]]\n",
            "23 day input [0.93676376 0.94137773 0.97772022 0.97088185 0.97645184 0.98643357\n",
            " 0.98843726 0.99108443 1.         0.98843726 0.95979716 0.96159862\n",
            " 0.95218677 0.97397018 0.96159862 0.9510103  0.92808713 0.92865701\n",
            " 0.91505386 0.90873026 0.91433696 0.91547663 0.92273776 0.93310555\n",
            " 0.93481519 0.94898821 0.94336311 0.92134067 0.90152423 0.90494342\n",
            " 0.86466706 0.87279222 0.86012652 0.91216775 0.88262692 0.89325205\n",
            " 0.87997975 0.90262719 0.90845452 0.8810276  0.8642443  0.87132161\n",
            " 0.88464901 0.89874843 0.89966757 0.88154228 0.87069653 0.86814136\n",
            " 0.87942828 0.85610074 0.83290192 0.8453653  0.86553108 0.86521854\n",
            " 0.86799433 0.8670568  0.87740619 0.8789136  0.86295751 0.8662847\n",
            " 0.87940996 0.89935512 0.90358312 0.88406073 0.89122996 0.89196526\n",
            " 0.89841758 0.92251723 0.92773787 0.92909817 0.93396957 0.92277456\n",
            " 0.92270105 0.90646914 0.90661625 0.86986931 0.86815976 0.85199994\n",
            " 0.82443267 0.79936182 0.77849275 0.76176697 0.74811846 0.73636204\n",
            " 0.72563565 0.71552294 0.70595169 0.69702196 0.68885946 0.68154085\n",
            " 0.67506105 0.66934419 0.66427416 0.65972447 0.65558046 0.65175027\n",
            " 0.64816737 0.64478499 0.64156973 0.63849682]\n",
            "23 day output [[0.63554585]]\n",
            "24 day input [0.94137773 0.97772022 0.97088185 0.97645184 0.98643357 0.98843726\n",
            " 0.99108443 1.         0.98843726 0.95979716 0.96159862 0.95218677\n",
            " 0.97397018 0.96159862 0.9510103  0.92808713 0.92865701 0.91505386\n",
            " 0.90873026 0.91433696 0.91547663 0.92273776 0.93310555 0.93481519\n",
            " 0.94898821 0.94336311 0.92134067 0.90152423 0.90494342 0.86466706\n",
            " 0.87279222 0.86012652 0.91216775 0.88262692 0.89325205 0.87997975\n",
            " 0.90262719 0.90845452 0.8810276  0.8642443  0.87132161 0.88464901\n",
            " 0.89874843 0.89966757 0.88154228 0.87069653 0.86814136 0.87942828\n",
            " 0.85610074 0.83290192 0.8453653  0.86553108 0.86521854 0.86799433\n",
            " 0.8670568  0.87740619 0.8789136  0.86295751 0.8662847  0.87940996\n",
            " 0.89935512 0.90358312 0.88406073 0.89122996 0.89196526 0.89841758\n",
            " 0.92251723 0.92773787 0.92909817 0.93396957 0.92277456 0.92270105\n",
            " 0.90646914 0.90661625 0.86986931 0.86815976 0.85199994 0.82443267\n",
            " 0.79936182 0.77849275 0.76176697 0.74811846 0.73636204 0.72563565\n",
            " 0.71552294 0.70595169 0.69702196 0.68885946 0.68154085 0.67506105\n",
            " 0.66934419 0.66427416 0.65972447 0.65558046 0.65175027 0.64816737\n",
            " 0.64478499 0.64156973 0.63849682 0.63554585]\n",
            "24 day output [[0.63270015]]\n",
            "25 day input [0.97772022 0.97088185 0.97645184 0.98643357 0.98843726 0.99108443\n",
            " 1.         0.98843726 0.95979716 0.96159862 0.95218677 0.97397018\n",
            " 0.96159862 0.9510103  0.92808713 0.92865701 0.91505386 0.90873026\n",
            " 0.91433696 0.91547663 0.92273776 0.93310555 0.93481519 0.94898821\n",
            " 0.94336311 0.92134067 0.90152423 0.90494342 0.86466706 0.87279222\n",
            " 0.86012652 0.91216775 0.88262692 0.89325205 0.87997975 0.90262719\n",
            " 0.90845452 0.8810276  0.8642443  0.87132161 0.88464901 0.89874843\n",
            " 0.89966757 0.88154228 0.87069653 0.86814136 0.87942828 0.85610074\n",
            " 0.83290192 0.8453653  0.86553108 0.86521854 0.86799433 0.8670568\n",
            " 0.87740619 0.8789136  0.86295751 0.8662847  0.87940996 0.89935512\n",
            " 0.90358312 0.88406073 0.89122996 0.89196526 0.89841758 0.92251723\n",
            " 0.92773787 0.92909817 0.93396957 0.92277456 0.92270105 0.90646914\n",
            " 0.90661625 0.86986931 0.86815976 0.85199994 0.82443267 0.79936182\n",
            " 0.77849275 0.76176697 0.74811846 0.73636204 0.72563565 0.71552294\n",
            " 0.70595169 0.69702196 0.68885946 0.68154085 0.67506105 0.66934419\n",
            " 0.66427416 0.65972447 0.65558046 0.65175027 0.64816737 0.64478499\n",
            " 0.64156973 0.63849682 0.63554585 0.63270015]\n",
            "25 day output [[0.62994516]]\n",
            "26 day input [0.97088185 0.97645184 0.98643357 0.98843726 0.99108443 1.\n",
            " 0.98843726 0.95979716 0.96159862 0.95218677 0.97397018 0.96159862\n",
            " 0.9510103  0.92808713 0.92865701 0.91505386 0.90873026 0.91433696\n",
            " 0.91547663 0.92273776 0.93310555 0.93481519 0.94898821 0.94336311\n",
            " 0.92134067 0.90152423 0.90494342 0.86466706 0.87279222 0.86012652\n",
            " 0.91216775 0.88262692 0.89325205 0.87997975 0.90262719 0.90845452\n",
            " 0.8810276  0.8642443  0.87132161 0.88464901 0.89874843 0.89966757\n",
            " 0.88154228 0.87069653 0.86814136 0.87942828 0.85610074 0.83290192\n",
            " 0.8453653  0.86553108 0.86521854 0.86799433 0.8670568  0.87740619\n",
            " 0.8789136  0.86295751 0.8662847  0.87940996 0.89935512 0.90358312\n",
            " 0.88406073 0.89122996 0.89196526 0.89841758 0.92251723 0.92773787\n",
            " 0.92909817 0.93396957 0.92277456 0.92270105 0.90646914 0.90661625\n",
            " 0.86986931 0.86815976 0.85199994 0.82443267 0.79936182 0.77849275\n",
            " 0.76176697 0.74811846 0.73636204 0.72563565 0.71552294 0.70595169\n",
            " 0.69702196 0.68885946 0.68154085 0.67506105 0.66934419 0.66427416\n",
            " 0.65972447 0.65558046 0.65175027 0.64816737 0.64478499 0.64156973\n",
            " 0.63849682 0.63554585 0.63270015 0.62994516]\n",
            "26 day output [[0.6272697]]\n",
            "27 day input [0.97645184 0.98643357 0.98843726 0.99108443 1.         0.98843726\n",
            " 0.95979716 0.96159862 0.95218677 0.97397018 0.96159862 0.9510103\n",
            " 0.92808713 0.92865701 0.91505386 0.90873026 0.91433696 0.91547663\n",
            " 0.92273776 0.93310555 0.93481519 0.94898821 0.94336311 0.92134067\n",
            " 0.90152423 0.90494342 0.86466706 0.87279222 0.86012652 0.91216775\n",
            " 0.88262692 0.89325205 0.87997975 0.90262719 0.90845452 0.8810276\n",
            " 0.8642443  0.87132161 0.88464901 0.89874843 0.89966757 0.88154228\n",
            " 0.87069653 0.86814136 0.87942828 0.85610074 0.83290192 0.8453653\n",
            " 0.86553108 0.86521854 0.86799433 0.8670568  0.87740619 0.8789136\n",
            " 0.86295751 0.8662847  0.87940996 0.89935512 0.90358312 0.88406073\n",
            " 0.89122996 0.89196526 0.89841758 0.92251723 0.92773787 0.92909817\n",
            " 0.93396957 0.92277456 0.92270105 0.90646914 0.90661625 0.86986931\n",
            " 0.86815976 0.85199994 0.82443267 0.79936182 0.77849275 0.76176697\n",
            " 0.74811846 0.73636204 0.72563565 0.71552294 0.70595169 0.69702196\n",
            " 0.68885946 0.68154085 0.67506105 0.66934419 0.66427416 0.65972447\n",
            " 0.65558046 0.65175027 0.64816737 0.64478499 0.64156973 0.63849682\n",
            " 0.63554585 0.63270015 0.62994516 0.62726969]\n",
            "27 day output [[0.62466496]]\n",
            "28 day input [0.98643357 0.98843726 0.99108443 1.         0.98843726 0.95979716\n",
            " 0.96159862 0.95218677 0.97397018 0.96159862 0.9510103  0.92808713\n",
            " 0.92865701 0.91505386 0.90873026 0.91433696 0.91547663 0.92273776\n",
            " 0.93310555 0.93481519 0.94898821 0.94336311 0.92134067 0.90152423\n",
            " 0.90494342 0.86466706 0.87279222 0.86012652 0.91216775 0.88262692\n",
            " 0.89325205 0.87997975 0.90262719 0.90845452 0.8810276  0.8642443\n",
            " 0.87132161 0.88464901 0.89874843 0.89966757 0.88154228 0.87069653\n",
            " 0.86814136 0.87942828 0.85610074 0.83290192 0.8453653  0.86553108\n",
            " 0.86521854 0.86799433 0.8670568  0.87740619 0.8789136  0.86295751\n",
            " 0.8662847  0.87940996 0.89935512 0.90358312 0.88406073 0.89122996\n",
            " 0.89196526 0.89841758 0.92251723 0.92773787 0.92909817 0.93396957\n",
            " 0.92277456 0.92270105 0.90646914 0.90661625 0.86986931 0.86815976\n",
            " 0.85199994 0.82443267 0.79936182 0.77849275 0.76176697 0.74811846\n",
            " 0.73636204 0.72563565 0.71552294 0.70595169 0.69702196 0.68885946\n",
            " 0.68154085 0.67506105 0.66934419 0.66427416 0.65972447 0.65558046\n",
            " 0.65175027 0.64816737 0.64478499 0.64156973 0.63849682 0.63554585\n",
            " 0.63270015 0.62994516 0.62726969 0.62466496]\n",
            "28 day output [[0.6221245]]\n",
            "29 day input [0.98843726 0.99108443 1.         0.98843726 0.95979716 0.96159862\n",
            " 0.95218677 0.97397018 0.96159862 0.9510103  0.92808713 0.92865701\n",
            " 0.91505386 0.90873026 0.91433696 0.91547663 0.92273776 0.93310555\n",
            " 0.93481519 0.94898821 0.94336311 0.92134067 0.90152423 0.90494342\n",
            " 0.86466706 0.87279222 0.86012652 0.91216775 0.88262692 0.89325205\n",
            " 0.87997975 0.90262719 0.90845452 0.8810276  0.8642443  0.87132161\n",
            " 0.88464901 0.89874843 0.89966757 0.88154228 0.87069653 0.86814136\n",
            " 0.87942828 0.85610074 0.83290192 0.8453653  0.86553108 0.86521854\n",
            " 0.86799433 0.8670568  0.87740619 0.8789136  0.86295751 0.8662847\n",
            " 0.87940996 0.89935512 0.90358312 0.88406073 0.89122996 0.89196526\n",
            " 0.89841758 0.92251723 0.92773787 0.92909817 0.93396957 0.92277456\n",
            " 0.92270105 0.90646914 0.90661625 0.86986931 0.86815976 0.85199994\n",
            " 0.82443267 0.79936182 0.77849275 0.76176697 0.74811846 0.73636204\n",
            " 0.72563565 0.71552294 0.70595169 0.69702196 0.68885946 0.68154085\n",
            " 0.67506105 0.66934419 0.66427416 0.65972447 0.65558046 0.65175027\n",
            " 0.64816737 0.64478499 0.64156973 0.63849682 0.63554585 0.63270015\n",
            " 0.62994516 0.62726969 0.62466496 0.62212449]\n",
            "29 day output [[0.6196447]]\n",
            "[[0.8519999384880066], [0.8244326710700989], [0.7993618249893188], [0.7784927487373352], [0.7617669701576233], [0.7481184601783752], [0.7363620400428772], [0.7256356477737427], [0.7155229449272156], [0.7059516906738281], [0.6970219612121582], [0.6888594627380371], [0.681540846824646], [0.675061047077179], [0.6693441867828369], [0.6642741560935974], [0.6597244739532471], [0.655580461025238], [0.6517502665519714], [0.6481673717498779], [0.6447849869728088], [0.6415697336196899], [0.6384968161582947], [0.6355458498001099], [0.6327001452445984], [0.6299451589584351], [0.6272696852684021], [0.6246649622917175], [0.6221244931221008], [0.6196447014808655]]\n"
          ]
        }
      ],
      "source": [
        "# demonstrate prediction for next 10 days\n",
        "from numpy import array\n",
        "\n",
        "lst_output=[]\n",
        "n_steps=100\n",
        "i=0\n",
        "while(i<30):\n",
        "    \n",
        "    if(len(temp_input)>100):\n",
        "        #print(temp_input)\n",
        "        x_input=np.array(temp_input[1:])\n",
        "        print(\"{} day input {}\".format(i,x_input))\n",
        "        x_input=x_input.reshape(1,-1)\n",
        "        x_input = x_input.reshape((1, n_steps, 1))\n",
        "        #print(x_input)\n",
        "        yhat = model.predict(x_input, verbose=0)\n",
        "        print(\"{} day output {}\".format(i,yhat))\n",
        "        temp_input.extend(yhat[0].tolist())\n",
        "        temp_input=temp_input[1:]\n",
        "        #print(temp_input)\n",
        "        lst_output.extend(yhat.tolist())\n",
        "        i=i+1\n",
        "    else:\n",
        "        x_input = x_input.reshape((1, n_steps,1))\n",
        "        yhat = model.predict(x_input, verbose=0)\n",
        "        print(yhat[0])\n",
        "        temp_input.extend(yhat[0].tolist())\n",
        "        print(len(temp_input))\n",
        "        lst_output.extend(yhat.tolist())\n",
        "        i=i+1\n",
        "    \n",
        "\n",
        "print(lst_output)"
      ]
    },
    {
      "cell_type": "code",
      "execution_count": null,
      "metadata": {
        "id": "rveVoNbcskM-"
      },
      "outputs": [],
      "source": [
        "day_new=np.arange(1,101)\n",
        "day_pred=np.arange(101,131)"
      ]
    },
    {
      "cell_type": "code",
      "execution_count": null,
      "metadata": {
        "id": "17KpXXUzskM-"
      },
      "outputs": [],
      "source": [
        "import matplotlib.pyplot as plt"
      ]
    },
    {
      "cell_type": "code",
      "execution_count": null,
      "metadata": {
        "colab": {
          "base_uri": "https://localhost:8080/"
        },
        "id": "vh2u8FBEskM_",
        "outputId": "85821154-38a2-4770-cb97-f9d7d78ee1d6"
      },
      "outputs": [
        {
          "output_type": "execute_result",
          "data": {
            "text/plain": [
              "6569"
            ]
          },
          "metadata": {},
          "execution_count": 72
        }
      ],
      "source": [
        "len(df1)"
      ]
    },
    {
      "cell_type": "code",
      "execution_count": null,
      "metadata": {
        "id": "RJ_7A7qFskM_"
      },
      "outputs": [],
      "source": [
        ""
      ]
    },
    {
      "cell_type": "code",
      "execution_count": null,
      "metadata": {
        "colab": {
          "base_uri": "https://localhost:8080/",
          "height": 446
        },
        "id": "rFltyIxZskM_",
        "outputId": "2e60c02a-3058-45aa-c17c-e80e8ca2746b"
      },
      "outputs": [
        {
          "output_type": "execute_result",
          "data": {
            "text/plain": [
              "[<matplotlib.lines.Line2D at 0x7fa8e6857a10>]"
            ]
          },
          "metadata": {},
          "execution_count": 73
        },
        {
          "output_type": "display_data",
          "data": {
            "text/plain": [
              "<Figure size 1440x504 with 1 Axes>"
            ],
            "image/png": "[encoded data removed]"
          },
          "metadata": {
            "needs_background": "light"
          }
        }
      ],
      "source": [
        "plt.plot(day_new,scaler.inverse_transform(df1[6469:]))\n",
        "plt.plot(day_pred,scaler.inverse_transform(lst_output))"
      ]
    },
    {
      "cell_type": "code",
      "execution_count": null,
      "metadata": {
        "colab": {
          "base_uri": "https://localhost:8080/",
          "height": 446
        },
        "id": "C3yksXOJskM_",
        "outputId": "ea8b380c-779c-4059-b467-596fceeb44b8"
      },
      "outputs": [
        {
          "output_type": "execute_result",
          "data": {
            "text/plain": [
              "[<matplotlib.lines.Line2D at 0x7fa8e67c20d0>]"
            ]
          },
          "metadata": {},
          "execution_count": 74
        },
        {
          "output_type": "display_data",
          "data": {
            "text/plain": [
              "<Figure size 1440x504 with 1 Axes>"
            ],
            "image/png": "[encoded data removed]"
          },
          "metadata": {
            "needs_background": "light"
          }
        }
      ],
      "source": [
        "df3=df1.tolist()\n",
        "df3.extend(lst_output)\n",
        "plt.plot(df3[6500:])"
      ]
    },
    {
      "cell_type": "code",
      "execution_count": null,
      "metadata": {
        "id": "SqV3c_sMskM_"
      },
      "outputs": [],
      "source": [
        "df3=scaler.inverse_transform(df3).tolist()"
      ]
    },
    {
      "cell_type": "code",
      "execution_count": null,
      "metadata": {
        "colab": {
          "base_uri": "https://localhost:8080/",
          "height": 446
        },
        "id": "Qj5h2TLpskNA",
        "outputId": "ea0741f4-e1db-425e-a655-803cc1975725"
      },
      "outputs": [
        {
          "output_type": "execute_result",
          "data": {
            "text/plain": [
              "[<matplotlib.lines.Line2D at 0x7fa8e1d81690>]"
            ]
          },
          "metadata": {},
          "execution_count": 76
        },
        {
          "output_type": "display_data",
          "data": {
            "text/plain": [
              "<Figure size 1440x504 with 1 Axes>"
            ],
            "image/png": "[encoded data removed]"
          },
          "metadata": {
            "needs_background": "light"
          }
        }
      ],
      "source": [
        "plt.plot(df3)"
      ]
    },
    {
      "cell_type": "code",
      "execution_count": null,
      "metadata": {
        "id": "0Kue_EFmskNA"
      },
      "outputs": [],
      "source": [
        ""
      ]
    }
  ],
  "metadata": {
    "kernelspec": {
      "display_name": "Python 3",
      "language": "python",
      "name": "python3"
    },
    "language_info": {
      "codemirror_mode": {
        "name": "ipython",
        "version": 3
      },
      "file_extension": ".py",
      "mimetype": "text/x-python",
      "name": "python",
      "nbconvert_exporter": "python",
      "pygments_lexer": "ipython3",
      "version": "3.7.6"
    },
    "colab": {
      "name": "LSTM",
      "provenance": [],
      "collapsed_sections": []
    }
  },
  "nbformat": 4,
  "nbformat_minor": 0
}